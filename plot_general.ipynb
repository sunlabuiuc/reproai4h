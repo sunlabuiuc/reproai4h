{
 "cells": [
  {
   "cell_type": "markdown",
   "metadata": {},
   "source": [
    "### Comparing Final Filtered df with originally scraped."
   ]
  },
  {
   "cell_type": "code",
   "execution_count": 1,
   "metadata": {},
   "outputs": [
    {
     "name": "stdout",
     "output_type": "stream",
     "text": [
      "Index(['year', 'paper_id', 'title', 'cleaned_title', 'authors', 'abstract',\n",
      "       'citation_count', 'code', 'ai', 'venue', 'processed_emails',\n",
      "       'mimic_count', 'eicu_count', 'uk_biobank_count', 'chest_x-ray14_count',\n",
      "       'adni_count', 'physionet_count', 'oasis_count', 'tcga_count',\n",
      "       'gdc_count', 'seer_count', 'tuh_eeg_corpus_count',\n",
      "       'tuh_abnormal_eeg_corpus_count', 'tuh_eeg_artifact_corpus_count',\n",
      "       'tuh_eeg_epilepsy_corpus_count', 'tuh_eeg_events_corpus_count',\n",
      "       'tuh_eeg_seizure_corpus_count', 'tuh_eeg_slowing_corpus_count', 'topic',\n",
      "       'affiliation', 'affiliation_class', 'paper_with_code_data_count'],\n",
      "      dtype='object')\n"
     ]
    },
    {
     "data": {
      "text/html": [
       "<div>\n",
       "<style scoped>\n",
       "    .dataframe tbody tr th:only-of-type {\n",
       "        vertical-align: middle;\n",
       "    }\n",
       "\n",
       "    .dataframe tbody tr th {\n",
       "        vertical-align: top;\n",
       "    }\n",
       "\n",
       "    .dataframe thead th {\n",
       "        text-align: right;\n",
       "    }\n",
       "</style>\n",
       "<table border=\"1\" class=\"dataframe\">\n",
       "  <thead>\n",
       "    <tr style=\"text-align: right;\">\n",
       "      <th></th>\n",
       "      <th>year</th>\n",
       "      <th>paper_id</th>\n",
       "      <th>title</th>\n",
       "      <th>cleaned_title</th>\n",
       "      <th>authors</th>\n",
       "      <th>abstract</th>\n",
       "      <th>citation_count</th>\n",
       "      <th>code</th>\n",
       "      <th>ai</th>\n",
       "      <th>venue</th>\n",
       "      <th>...</th>\n",
       "      <th>tuh_abnormal_eeg_corpus_count</th>\n",
       "      <th>tuh_eeg_artifact_corpus_count</th>\n",
       "      <th>tuh_eeg_epilepsy_corpus_count</th>\n",
       "      <th>tuh_eeg_events_corpus_count</th>\n",
       "      <th>tuh_eeg_seizure_corpus_count</th>\n",
       "      <th>tuh_eeg_slowing_corpus_count</th>\n",
       "      <th>topic</th>\n",
       "      <th>affiliation</th>\n",
       "      <th>affiliation_class</th>\n",
       "      <th>paper_with_code_data_count</th>\n",
       "    </tr>\n",
       "  </thead>\n",
       "  <tbody>\n",
       "    <tr>\n",
       "      <th>0</th>\n",
       "      <td>2018</td>\n",
       "      <td>26262333</td>\n",
       "      <td>A Frequency-based Strategy of Obtaining Senten...</td>\n",
       "      <td>NaN</td>\n",
       "      <td>['Dingcheng Li', 'Majid Rastegar Mojarad', 'Ya...</td>\n",
       "      <td>In clinical NLP, one major barrier to adopting...</td>\n",
       "      <td>0</td>\n",
       "      <td>0</td>\n",
       "      <td>2</td>\n",
       "      <td>pubmed</td>\n",
       "      <td>...</td>\n",
       "      <td>0</td>\n",
       "      <td>0</td>\n",
       "      <td>0</td>\n",
       "      <td>0</td>\n",
       "      <td>0</td>\n",
       "      <td>0</td>\n",
       "      <td>E.H.R</td>\n",
       "      <td>Mayo Clinic, Rochester, MN, USA.||Mayo Clinic,...</td>\n",
       "      <td>academic</td>\n",
       "      <td>0</td>\n",
       "    </tr>\n",
       "  </tbody>\n",
       "</table>\n",
       "<p>1 rows × 32 columns</p>\n",
       "</div>"
      ],
      "text/plain": [
       "   year  paper_id                                              title  \\\n",
       "0  2018  26262333  A Frequency-based Strategy of Obtaining Senten...   \n",
       "\n",
       "  cleaned_title                                            authors  \\\n",
       "0           NaN  ['Dingcheng Li', 'Majid Rastegar Mojarad', 'Ya...   \n",
       "\n",
       "                                            abstract  citation_count  code  \\\n",
       "0  In clinical NLP, one major barrier to adopting...               0     0   \n",
       "\n",
       "   ai   venue  ... tuh_abnormal_eeg_corpus_count  \\\n",
       "0   2  pubmed  ...                             0   \n",
       "\n",
       "   tuh_eeg_artifact_corpus_count  tuh_eeg_epilepsy_corpus_count  \\\n",
       "0                              0                              0   \n",
       "\n",
       "   tuh_eeg_events_corpus_count  tuh_eeg_seizure_corpus_count  \\\n",
       "0                            0                             0   \n",
       "\n",
       "   tuh_eeg_slowing_corpus_count  topic  \\\n",
       "0                             0  E.H.R   \n",
       "\n",
       "                                         affiliation  affiliation_class  \\\n",
       "0  Mayo Clinic, Rochester, MN, USA.||Mayo Clinic,...           academic   \n",
       "\n",
       "   paper_with_code_data_count  \n",
       "0                           0  \n",
       "\n",
       "[1 rows x 32 columns]"
      ]
     },
     "execution_count": 1,
     "metadata": {},
     "output_type": "execute_result"
    }
   ],
   "source": [
    "import os\n",
    "import pandas as pd\n",
    "\n",
    "file = \"data/processed_final.csv\"\n",
    "main_df = pd.read_csv(file)\n",
    "print(main_df.columns)\n",
    "main_df.head(1)\n",
    "\n"
   ]
  },
  {
   "cell_type": "markdown",
   "metadata": {},
   "source": [
    "#### convert to excel"
   ]
  },
  {
   "cell_type": "code",
   "execution_count": 2,
   "metadata": {},
   "outputs": [],
   "source": [
    "# import pandas as pd\n",
    "# import re\n",
    "\n",
    "# def clean_column_names(df):\n",
    "#     # Function to clean a single string\n",
    "#     def clean_string(s):\n",
    "#         # Remove control characters and other non-printable characters\n",
    "#         s = ''.join(char for char in s if ord(char) >= 32)\n",
    "#         # Replace spaces and other problematic characters with underscores\n",
    "#         s = re.sub(r'[^\\w\\s-]', '_', s)\n",
    "#         # Replace multiple underscores with a single underscore\n",
    "#         s = re.sub(r'_+', '_', s)\n",
    "#         # Remove leading/trailing underscores\n",
    "#         return s.strip('_')\n",
    "\n",
    "#     # Clean column names\n",
    "#     df.columns = [clean_string(col) for col in df.columns]\n",
    "    \n",
    "#     # Clean data in all string columns\n",
    "#     for col in df.select_dtypes(include=['object']):\n",
    "#         df[col] = df[col].astype(str).apply(clean_string)\n",
    "    \n",
    "#     return df\n",
    "\n",
    "\n",
    "# # Clean the DataFrame\n",
    "# main_df = clean_column_names(main_df)\n",
    "\n",
    "# # Save to Excel\n",
    "# # df.to_excel('your_file.xlsx', index=False, engine='openpyxl')\n",
    "\n",
    "# # Save the DataFrame as an Excel file\n",
    "# main_df.to_excel('AI4H_Reproducibility_Data.xls', index=False, engine='openpyxl')"
   ]
  },
  {
   "cell_type": "markdown",
   "metadata": {},
   "source": [
    "# Validation Dataset"
   ]
  },
  {
   "cell_type": "code",
   "execution_count": 3,
   "metadata": {},
   "outputs": [
    {
     "name": "stdout",
     "output_type": "stream",
     "text": [
      "Sample of 30 papers with code, dataset information, and topic has been saved to 'sampled_papers_with_code_and_dataset.csv'\n"
     ]
    }
   ],
   "source": [
    "import pandas as pd\n",
    "import numpy as np\n",
    "\n",
    "# Load the main dataframe\n",
    "# Assuming the main dataframe is stored in a CSV file named 'main_df.csv'\n",
    "# main_df = pd.read_csv('main_df.csv')\n",
    "\n",
    "# Randomly sample 30 papers\n",
    "sampled_df = main_df.sample(n=30, random_state=42)  # Set random_state for reproducibility\n",
    "\n",
    "# Use 'cleaned_title' if it's not NaN, otherwise use 'title'\n",
    "sampled_df['final_title'] = np.where(sampled_df['cleaned_title'].notna(), \n",
    "                                     sampled_df['cleaned_title'], \n",
    "                                     sampled_df['title'])\n",
    "\n",
    "# Determine if they have code or not\n",
    "sampled_df['Has Code'] = sampled_df['code'] > 0\n",
    "\n",
    "# Determine if they have used a public dataset\n",
    "# This assumes that the dataset columns follow the pattern *_count, but excludes citation_count\n",
    "dataset_columns = [col for col in sampled_df.columns if col.endswith('_count') and col != 'citation_count']\n",
    "\n",
    "def has_public_dataset(row):\n",
    "    used_datasets = []\n",
    "    for col in dataset_columns:\n",
    "        if row[col] > 0:\n",
    "            dataset_name = col.replace('_count', '').replace('_', ' ').title()\n",
    "            used_datasets.append(dataset_name)\n",
    "    return ', '.join(used_datasets) if used_datasets else 'No Public Dataset'\n",
    "\n",
    "sampled_df['Has Public Dataset'] = sampled_df.apply(has_public_dataset, axis=1)\n",
    "\n",
    "# Select the relevant columns, now including 'topic'\n",
    "result_df = sampled_df[['final_title', 'year', 'venue', 'topic', 'Has Code', 'Has Public Dataset']]\n",
    "\n",
    "# Rename 'final_title' back to 'title' for consistency\n",
    "result_df = result_df.rename(columns={'final_title': 'title'})\n",
    "\n",
    "# Save the result to a new CSV file\n",
    "result_df.to_csv('sampled_papers_with_code_and_dataset.csv', index=False)\n",
    "\n",
    "print(\"Sample of 30 papers with code, dataset information, and topic has been saved to 'sampled_papers_with_code_and_dataset.csv'\")"
   ]
  },
  {
   "cell_type": "code",
   "execution_count": 4,
   "metadata": {},
   "outputs": [
    {
     "name": "stdout",
     "output_type": "stream",
     "text": [
      "Overall percentage of MLHC papers that do not share code: 58.14%\n",
      "Total number of MLHC papers: 258\n",
      "Total number of PubMed papers: 2082\n",
      "Total number of non-PubMed papers: 528\n",
      "Overall percentage of MLHC papers that do not share code: 58.14%\n",
      "Total number of MLHC papers: 258\n",
      "Total number of PubMed papers: 2082\n",
      "Total number of non-PubMed papers: 528\n",
      "\n",
      "Breakdown of non-PubMed papers by venue:\n",
      "  MLHC: 258\n",
      "  CHIL: 147\n",
      "  ML4H: 123\n",
      "2610\n"
     ]
    }
   ],
   "source": [
    "def calculate_paper_stats(topic_df):\n",
    "    \"\"\"\n",
    "    Calculates various statistics about papers in the dataset:\n",
    "    - Overall percentage of MLHC papers that do not share code\n",
    "    - Total number of MLHC papers\n",
    "    - Total number of PubMed papers\n",
    "    - Total number of non-PubMed papers\n",
    "\n",
    "    Parameters:\n",
    "    topic_df (pandas.DataFrame): The input dataframe containing 'venue' and 'code' columns.\n",
    "\n",
    "    Returns:\n",
    "    dict: A dictionary containing the calculated statistics.\n",
    "    \"\"\"\n",
    "    # Filter for MLHC papers\n",
    "    mlhc_papers = topic_df[topic_df['venue'] == 'MLHC']\n",
    "    \n",
    "    # Count total MLHC papers\n",
    "    total_mlhc_papers = len(mlhc_papers)\n",
    "    \n",
    "    # Count MLHC papers with no code shared (assuming 'code' column is 0 for no code)\n",
    "    no_code_papers = len(mlhc_papers[mlhc_papers['code'] == 0])\n",
    "    \n",
    "    # Calculate overall percentage for MLHC papers not sharing code\n",
    "    if total_mlhc_papers > 0:\n",
    "        percentage_no_code = (no_code_papers / total_mlhc_papers) * 100\n",
    "    else:\n",
    "        percentage_no_code = 0  # Avoid division by zero if there are no MLHC papers\n",
    "\n",
    "    # Count PubMed papers\n",
    "    pubmed_papers = len(topic_df[topic_df['venue'] == 'pubmed'])\n",
    "    \n",
    "    # Count non-PubMed papers\n",
    "    non_pubmed_papers = len(topic_df[topic_df['venue'] != 'pubmed'])\n",
    "    \n",
    "    # Prepare results\n",
    "    results = {\n",
    "        \"mlhc_no_code_percentage\": percentage_no_code,\n",
    "        \"total_mlhc_papers\": total_mlhc_papers,\n",
    "        \"total_pubmed_papers\": pubmed_papers,\n",
    "        \"total_non_pubmed_papers\": non_pubmed_papers\n",
    "    }\n",
    "    \n",
    "    return results\n",
    "\n",
    "# Usage example:\n",
    "stats = calculate_paper_stats(main_df)\n",
    "\n",
    "print(f\"Overall percentage of MLHC papers that do not share code: {stats['mlhc_no_code_percentage']:.2f}%\")\n",
    "print(f\"Total number of MLHC papers: {stats['total_mlhc_papers']}\")\n",
    "print(f\"Total number of PubMed papers: {stats['total_pubmed_papers']}\")\n",
    "print(f\"Total number of non-PubMed papers: {stats['total_non_pubmed_papers']}\")\n",
    "def calculate_detailed_paper_stats(topic_df):\n",
    "    \"\"\"\n",
    "    Calculates detailed statistics about papers in the dataset.\n",
    "\n",
    "    Parameters:\n",
    "    topic_df (pandas.DataFrame): The input dataframe containing 'venue' and 'code' columns.\n",
    "\n",
    "    Returns:\n",
    "    dict: A dictionary containing the calculated statistics.\n",
    "    \"\"\"\n",
    "    results = calculate_paper_stats(topic_df)  # Get the basic stats\n",
    "    \n",
    "    # Get counts for each non-PubMed venue\n",
    "    venue_counts = topic_df[topic_df['venue'] != 'pubmed']['venue'].value_counts().to_dict()\n",
    "    \n",
    "    results[\"non_pubmed_breakdown\"] = venue_counts\n",
    "    \n",
    "    return results\n",
    "\n",
    "# Usage example:\n",
    "detailed_stats = calculate_detailed_paper_stats(main_df)\n",
    "\n",
    "print(f\"Overall percentage of MLHC papers that do not share code: {detailed_stats['mlhc_no_code_percentage']:.2f}%\")\n",
    "print(f\"Total number of MLHC papers: {detailed_stats['total_mlhc_papers']}\")\n",
    "print(f\"Total number of PubMed papers: {detailed_stats['total_pubmed_papers']}\")\n",
    "print(f\"Total number of non-PubMed papers: {detailed_stats['total_non_pubmed_papers']}\")\n",
    "print(\"\\nBreakdown of non-PubMed papers by venue:\")\n",
    "for venue, count in detailed_stats['non_pubmed_breakdown'].items():\n",
    "    print(f\"  {venue}: {count}\")\n",
    "print(len(main_df))"
   ]
  },
  {
   "cell_type": "markdown",
   "metadata": {},
   "source": [
    "#### Total Papers Across Time of Finally Processed Dataframe"
   ]
  },
  {
   "cell_type": "code",
   "execution_count": 6,
   "metadata": {},
   "outputs": [
    {
     "name": "stdout",
     "output_type": "stream",
     "text": [
      "['rgb(252,141,98)', 'rgb(141,160,203)', 'rgb(231,138,195)', 'rgb(166,216,84)', 'rgb(255,217,47)', 'rgb(229,196,148)', 'rgb(179,179,179)']\n"
     ]
    },
    {
     "data": {
      "application/vnd.plotly.v1+json": {
       "config": {
        "plotlyServerURL": "https://plot.ly"
       },
       "data": [
        {
         "alignmentgroup": "True",
         "hovertemplate": "Venue=PubMed<br>year=%{x}<br>Number of Papers=%{y}<extra></extra>",
         "legendgroup": "PubMed",
         "marker": {
          "color": "rgb(103,122,165)",
          "pattern": {
           "shape": ""
          }
         },
         "name": "PubMed",
         "offsetgroup": "PubMed",
         "orientation": "v",
         "showlegend": true,
         "textposition": "auto",
         "type": "bar",
         "x": [
          2018,
          2019,
          2020,
          2021,
          2022,
          2023,
          2024
         ],
         "xaxis": "x",
         "y": [
          88,
          158,
          287,
          426,
          453,
          474,
          196
         ],
         "yaxis": "y"
        },
        {
         "alignmentgroup": "True",
         "hovertemplate": "Venue=CHIL<br>year=%{x}<br>Number of Papers=%{y}<extra></extra>",
         "legendgroup": "CHIL",
         "marker": {
          "color": "rgb(141,160,203)",
          "pattern": {
           "shape": ""
          }
         },
         "name": "CHIL",
         "offsetgroup": "CHIL",
         "orientation": "v",
         "showlegend": true,
         "textposition": "auto",
         "type": "bar",
         "x": [
          2018,
          2019,
          2020,
          2021,
          2022,
          2023,
          2024
         ],
         "xaxis": "x",
         "y": [
          0,
          0,
          23,
          26,
          23,
          36,
          39
         ],
         "yaxis": "y"
        },
        {
         "alignmentgroup": "True",
         "hovertemplate": "Venue=ML4H<br>year=%{x}<br>Number of Papers=%{y}<extra></extra>",
         "legendgroup": "ML4H",
         "marker": {
          "color": "rgb(255,179,150)",
          "pattern": {
           "shape": ""
          }
         },
         "name": "ML4H",
         "offsetgroup": "ML4H",
         "orientation": "v",
         "showlegend": true,
         "textposition": "auto",
         "type": "bar",
         "x": [
          2018,
          2019,
          2020,
          2021,
          2022,
          2023,
          2024
         ],
         "xaxis": "x",
         "y": [
          0,
          17,
          24,
          18,
          27,
          37,
          0
         ],
         "yaxis": "y"
        },
        {
         "alignmentgroup": "True",
         "hovertemplate": "Venue=MLHC<br>year=%{x}<br>Number of Papers=%{y}<extra></extra>",
         "legendgroup": "MLHC",
         "marker": {
          "color": "rgb(252,141,98)",
          "pattern": {
           "shape": ""
          }
         },
         "name": "MLHC",
         "offsetgroup": "MLHC",
         "orientation": "v",
         "showlegend": true,
         "textposition": "auto",
         "type": "bar",
         "x": [
          2018,
          2019,
          2020,
          2021,
          2022,
          2023,
          2024
         ],
         "xaxis": "x",
         "y": [
          25,
          39,
          48,
          30,
          52,
          64,
          0
         ],
         "yaxis": "y"
        }
       ],
       "layout": {
        "annotations": [
         {
          "font": {
           "size": 20
          },
          "showarrow": false,
          "text": "113",
          "x": 2018,
          "y": 113,
          "yshift": 10
         },
         {
          "font": {
           "size": 20
          },
          "showarrow": false,
          "text": "214",
          "x": 2019,
          "y": 214,
          "yshift": 10
         },
         {
          "font": {
           "size": 20
          },
          "showarrow": false,
          "text": "382",
          "x": 2020,
          "y": 382,
          "yshift": 10
         },
         {
          "font": {
           "size": 20
          },
          "showarrow": false,
          "text": "500",
          "x": 2021,
          "y": 500,
          "yshift": 10
         },
         {
          "font": {
           "size": 20
          },
          "showarrow": false,
          "text": "555",
          "x": 2022,
          "y": 555,
          "yshift": 10
         },
         {
          "font": {
           "size": 20
          },
          "showarrow": false,
          "text": "611",
          "x": 2023,
          "y": 611,
          "yshift": 10
         },
         {
          "font": {
           "size": 20
          },
          "showarrow": false,
          "text": "235",
          "x": 2024,
          "y": 235,
          "yshift": 10
         }
        ],
        "barmode": "stack",
        "font": {
         "size": 20
        },
        "height": 600,
        "hovermode": "x unified",
        "legend": {
         "font": {
          "size": 24
         },
         "orientation": "h",
         "title": {
          "text": ""
         },
         "tracegroupgap": 0,
         "x": 0.5,
         "xanchor": "center",
         "y": 1.02,
         "yanchor": "bottom"
        },
        "margin": {
         "t": 60
        },
        "template": {
         "data": {
          "bar": [
           {
            "error_x": {
             "color": "#2a3f5f"
            },
            "error_y": {
             "color": "#2a3f5f"
            },
            "marker": {
             "line": {
              "color": "#E5ECF6",
              "width": 0.5
             },
             "pattern": {
              "fillmode": "overlay",
              "size": 10,
              "solidity": 0.2
             }
            },
            "type": "bar"
           }
          ],
          "barpolar": [
           {
            "marker": {
             "line": {
              "color": "#E5ECF6",
              "width": 0.5
             },
             "pattern": {
              "fillmode": "overlay",
              "size": 10,
              "solidity": 0.2
             }
            },
            "type": "barpolar"
           }
          ],
          "carpet": [
           {
            "aaxis": {
             "endlinecolor": "#2a3f5f",
             "gridcolor": "white",
             "linecolor": "white",
             "minorgridcolor": "white",
             "startlinecolor": "#2a3f5f"
            },
            "baxis": {
             "endlinecolor": "#2a3f5f",
             "gridcolor": "white",
             "linecolor": "white",
             "minorgridcolor": "white",
             "startlinecolor": "#2a3f5f"
            },
            "type": "carpet"
           }
          ],
          "choropleth": [
           {
            "colorbar": {
             "outlinewidth": 0,
             "ticks": ""
            },
            "type": "choropleth"
           }
          ],
          "contour": [
           {
            "colorbar": {
             "outlinewidth": 0,
             "ticks": ""
            },
            "colorscale": [
             [
              0,
              "#0d0887"
             ],
             [
              0.1111111111111111,
              "#46039f"
             ],
             [
              0.2222222222222222,
              "#7201a8"
             ],
             [
              0.3333333333333333,
              "#9c179e"
             ],
             [
              0.4444444444444444,
              "#bd3786"
             ],
             [
              0.5555555555555556,
              "#d8576b"
             ],
             [
              0.6666666666666666,
              "#ed7953"
             ],
             [
              0.7777777777777778,
              "#fb9f3a"
             ],
             [
              0.8888888888888888,
              "#fdca26"
             ],
             [
              1,
              "#f0f921"
             ]
            ],
            "type": "contour"
           }
          ],
          "contourcarpet": [
           {
            "colorbar": {
             "outlinewidth": 0,
             "ticks": ""
            },
            "type": "contourcarpet"
           }
          ],
          "heatmap": [
           {
            "colorbar": {
             "outlinewidth": 0,
             "ticks": ""
            },
            "colorscale": [
             [
              0,
              "#0d0887"
             ],
             [
              0.1111111111111111,
              "#46039f"
             ],
             [
              0.2222222222222222,
              "#7201a8"
             ],
             [
              0.3333333333333333,
              "#9c179e"
             ],
             [
              0.4444444444444444,
              "#bd3786"
             ],
             [
              0.5555555555555556,
              "#d8576b"
             ],
             [
              0.6666666666666666,
              "#ed7953"
             ],
             [
              0.7777777777777778,
              "#fb9f3a"
             ],
             [
              0.8888888888888888,
              "#fdca26"
             ],
             [
              1,
              "#f0f921"
             ]
            ],
            "type": "heatmap"
           }
          ],
          "heatmapgl": [
           {
            "colorbar": {
             "outlinewidth": 0,
             "ticks": ""
            },
            "colorscale": [
             [
              0,
              "#0d0887"
             ],
             [
              0.1111111111111111,
              "#46039f"
             ],
             [
              0.2222222222222222,
              "#7201a8"
             ],
             [
              0.3333333333333333,
              "#9c179e"
             ],
             [
              0.4444444444444444,
              "#bd3786"
             ],
             [
              0.5555555555555556,
              "#d8576b"
             ],
             [
              0.6666666666666666,
              "#ed7953"
             ],
             [
              0.7777777777777778,
              "#fb9f3a"
             ],
             [
              0.8888888888888888,
              "#fdca26"
             ],
             [
              1,
              "#f0f921"
             ]
            ],
            "type": "heatmapgl"
           }
          ],
          "histogram": [
           {
            "marker": {
             "pattern": {
              "fillmode": "overlay",
              "size": 10,
              "solidity": 0.2
             }
            },
            "type": "histogram"
           }
          ],
          "histogram2d": [
           {
            "colorbar": {
             "outlinewidth": 0,
             "ticks": ""
            },
            "colorscale": [
             [
              0,
              "#0d0887"
             ],
             [
              0.1111111111111111,
              "#46039f"
             ],
             [
              0.2222222222222222,
              "#7201a8"
             ],
             [
              0.3333333333333333,
              "#9c179e"
             ],
             [
              0.4444444444444444,
              "#bd3786"
             ],
             [
              0.5555555555555556,
              "#d8576b"
             ],
             [
              0.6666666666666666,
              "#ed7953"
             ],
             [
              0.7777777777777778,
              "#fb9f3a"
             ],
             [
              0.8888888888888888,
              "#fdca26"
             ],
             [
              1,
              "#f0f921"
             ]
            ],
            "type": "histogram2d"
           }
          ],
          "histogram2dcontour": [
           {
            "colorbar": {
             "outlinewidth": 0,
             "ticks": ""
            },
            "colorscale": [
             [
              0,
              "#0d0887"
             ],
             [
              0.1111111111111111,
              "#46039f"
             ],
             [
              0.2222222222222222,
              "#7201a8"
             ],
             [
              0.3333333333333333,
              "#9c179e"
             ],
             [
              0.4444444444444444,
              "#bd3786"
             ],
             [
              0.5555555555555556,
              "#d8576b"
             ],
             [
              0.6666666666666666,
              "#ed7953"
             ],
             [
              0.7777777777777778,
              "#fb9f3a"
             ],
             [
              0.8888888888888888,
              "#fdca26"
             ],
             [
              1,
              "#f0f921"
             ]
            ],
            "type": "histogram2dcontour"
           }
          ],
          "mesh3d": [
           {
            "colorbar": {
             "outlinewidth": 0,
             "ticks": ""
            },
            "type": "mesh3d"
           }
          ],
          "parcoords": [
           {
            "line": {
             "colorbar": {
              "outlinewidth": 0,
              "ticks": ""
             }
            },
            "type": "parcoords"
           }
          ],
          "pie": [
           {
            "automargin": true,
            "type": "pie"
           }
          ],
          "scatter": [
           {
            "fillpattern": {
             "fillmode": "overlay",
             "size": 10,
             "solidity": 0.2
            },
            "type": "scatter"
           }
          ],
          "scatter3d": [
           {
            "line": {
             "colorbar": {
              "outlinewidth": 0,
              "ticks": ""
             }
            },
            "marker": {
             "colorbar": {
              "outlinewidth": 0,
              "ticks": ""
             }
            },
            "type": "scatter3d"
           }
          ],
          "scattercarpet": [
           {
            "marker": {
             "colorbar": {
              "outlinewidth": 0,
              "ticks": ""
             }
            },
            "type": "scattercarpet"
           }
          ],
          "scattergeo": [
           {
            "marker": {
             "colorbar": {
              "outlinewidth": 0,
              "ticks": ""
             }
            },
            "type": "scattergeo"
           }
          ],
          "scattergl": [
           {
            "marker": {
             "colorbar": {
              "outlinewidth": 0,
              "ticks": ""
             }
            },
            "type": "scattergl"
           }
          ],
          "scattermapbox": [
           {
            "marker": {
             "colorbar": {
              "outlinewidth": 0,
              "ticks": ""
             }
            },
            "type": "scattermapbox"
           }
          ],
          "scatterpolar": [
           {
            "marker": {
             "colorbar": {
              "outlinewidth": 0,
              "ticks": ""
             }
            },
            "type": "scatterpolar"
           }
          ],
          "scatterpolargl": [
           {
            "marker": {
             "colorbar": {
              "outlinewidth": 0,
              "ticks": ""
             }
            },
            "type": "scatterpolargl"
           }
          ],
          "scatterternary": [
           {
            "marker": {
             "colorbar": {
              "outlinewidth": 0,
              "ticks": ""
             }
            },
            "type": "scatterternary"
           }
          ],
          "surface": [
           {
            "colorbar": {
             "outlinewidth": 0,
             "ticks": ""
            },
            "colorscale": [
             [
              0,
              "#0d0887"
             ],
             [
              0.1111111111111111,
              "#46039f"
             ],
             [
              0.2222222222222222,
              "#7201a8"
             ],
             [
              0.3333333333333333,
              "#9c179e"
             ],
             [
              0.4444444444444444,
              "#bd3786"
             ],
             [
              0.5555555555555556,
              "#d8576b"
             ],
             [
              0.6666666666666666,
              "#ed7953"
             ],
             [
              0.7777777777777778,
              "#fb9f3a"
             ],
             [
              0.8888888888888888,
              "#fdca26"
             ],
             [
              1,
              "#f0f921"
             ]
            ],
            "type": "surface"
           }
          ],
          "table": [
           {
            "cells": {
             "fill": {
              "color": "#EBF0F8"
             },
             "line": {
              "color": "white"
             }
            },
            "header": {
             "fill": {
              "color": "#C8D4E3"
             },
             "line": {
              "color": "white"
             }
            },
            "type": "table"
           }
          ]
         },
         "layout": {
          "annotationdefaults": {
           "arrowcolor": "#2a3f5f",
           "arrowhead": 0,
           "arrowwidth": 1
          },
          "autotypenumbers": "strict",
          "coloraxis": {
           "colorbar": {
            "outlinewidth": 0,
            "ticks": ""
           }
          },
          "colorscale": {
           "diverging": [
            [
             0,
             "#8e0152"
            ],
            [
             0.1,
             "#c51b7d"
            ],
            [
             0.2,
             "#de77ae"
            ],
            [
             0.3,
             "#f1b6da"
            ],
            [
             0.4,
             "#fde0ef"
            ],
            [
             0.5,
             "#f7f7f7"
            ],
            [
             0.6,
             "#e6f5d0"
            ],
            [
             0.7,
             "#b8e186"
            ],
            [
             0.8,
             "#7fbc41"
            ],
            [
             0.9,
             "#4d9221"
            ],
            [
             1,
             "#276419"
            ]
           ],
           "sequential": [
            [
             0,
             "#0d0887"
            ],
            [
             0.1111111111111111,
             "#46039f"
            ],
            [
             0.2222222222222222,
             "#7201a8"
            ],
            [
             0.3333333333333333,
             "#9c179e"
            ],
            [
             0.4444444444444444,
             "#bd3786"
            ],
            [
             0.5555555555555556,
             "#d8576b"
            ],
            [
             0.6666666666666666,
             "#ed7953"
            ],
            [
             0.7777777777777778,
             "#fb9f3a"
            ],
            [
             0.8888888888888888,
             "#fdca26"
            ],
            [
             1,
             "#f0f921"
            ]
           ],
           "sequentialminus": [
            [
             0,
             "#0d0887"
            ],
            [
             0.1111111111111111,
             "#46039f"
            ],
            [
             0.2222222222222222,
             "#7201a8"
            ],
            [
             0.3333333333333333,
             "#9c179e"
            ],
            [
             0.4444444444444444,
             "#bd3786"
            ],
            [
             0.5555555555555556,
             "#d8576b"
            ],
            [
             0.6666666666666666,
             "#ed7953"
            ],
            [
             0.7777777777777778,
             "#fb9f3a"
            ],
            [
             0.8888888888888888,
             "#fdca26"
            ],
            [
             1,
             "#f0f921"
            ]
           ]
          },
          "colorway": [
           "#636efa",
           "#EF553B",
           "#00cc96",
           "#ab63fa",
           "#FFA15A",
           "#19d3f3",
           "#FF6692",
           "#B6E880",
           "#FF97FF",
           "#FECB52"
          ],
          "font": {
           "color": "#2a3f5f"
          },
          "geo": {
           "bgcolor": "white",
           "lakecolor": "white",
           "landcolor": "#E5ECF6",
           "showlakes": true,
           "showland": true,
           "subunitcolor": "white"
          },
          "hoverlabel": {
           "align": "left"
          },
          "hovermode": "closest",
          "mapbox": {
           "style": "light"
          },
          "paper_bgcolor": "white",
          "plot_bgcolor": "#E5ECF6",
          "polar": {
           "angularaxis": {
            "gridcolor": "white",
            "linecolor": "white",
            "ticks": ""
           },
           "bgcolor": "#E5ECF6",
           "radialaxis": {
            "gridcolor": "white",
            "linecolor": "white",
            "ticks": ""
           }
          },
          "scene": {
           "xaxis": {
            "backgroundcolor": "#E5ECF6",
            "gridcolor": "white",
            "gridwidth": 2,
            "linecolor": "white",
            "showbackground": true,
            "ticks": "",
            "zerolinecolor": "white"
           },
           "yaxis": {
            "backgroundcolor": "#E5ECF6",
            "gridcolor": "white",
            "gridwidth": 2,
            "linecolor": "white",
            "showbackground": true,
            "ticks": "",
            "zerolinecolor": "white"
           },
           "zaxis": {
            "backgroundcolor": "#E5ECF6",
            "gridcolor": "white",
            "gridwidth": 2,
            "linecolor": "white",
            "showbackground": true,
            "ticks": "",
            "zerolinecolor": "white"
           }
          },
          "shapedefaults": {
           "line": {
            "color": "#2a3f5f"
           }
          },
          "ternary": {
           "aaxis": {
            "gridcolor": "white",
            "linecolor": "white",
            "ticks": ""
           },
           "baxis": {
            "gridcolor": "white",
            "linecolor": "white",
            "ticks": ""
           },
           "bgcolor": "#E5ECF6",
           "caxis": {
            "gridcolor": "white",
            "linecolor": "white",
            "ticks": ""
           }
          },
          "title": {
           "x": 0.05
          },
          "xaxis": {
           "automargin": true,
           "gridcolor": "white",
           "linecolor": "white",
           "ticks": "",
           "title": {
            "standoff": 15
           },
           "zerolinecolor": "white",
           "zerolinewidth": 2
          },
          "yaxis": {
           "automargin": true,
           "gridcolor": "white",
           "linecolor": "white",
           "ticks": "",
           "title": {
            "standoff": 15
           },
           "zerolinecolor": "white",
           "zerolinewidth": 2
          }
         }
        },
        "width": 800,
        "xaxis": {
         "anchor": "y",
         "domain": [
          0,
          1
         ],
         "title": {
          "font": {
           "size": 24
          },
          "text": "Year"
         }
        },
        "yaxis": {
         "anchor": "x",
         "domain": [
          0,
          1
         ],
         "title": {
          "font": {
           "size": 24
          },
          "text": "Number of Papers"
         }
        }
       }
      },
      "text/html": [
       "<div>                            <div id=\"5913e763-3380-449d-9ecd-b0baebfa25b4\" class=\"plotly-graph-div\" style=\"height:600px; width:800px;\"></div>            <script type=\"text/javascript\">                require([\"plotly\"], function(Plotly) {                    window.PLOTLYENV=window.PLOTLYENV || {};                                    if (document.getElementById(\"5913e763-3380-449d-9ecd-b0baebfa25b4\")) {                    Plotly.newPlot(                        \"5913e763-3380-449d-9ecd-b0baebfa25b4\",                        [{\"alignmentgroup\":\"True\",\"hovertemplate\":\"Venue=PubMed\\u003cbr\\u003eyear=%{x}\\u003cbr\\u003eNumber of Papers=%{y}\\u003cextra\\u003e\\u003c\\u002fextra\\u003e\",\"legendgroup\":\"PubMed\",\"marker\":{\"color\":\"rgb(103,122,165)\",\"pattern\":{\"shape\":\"\"}},\"name\":\"PubMed\",\"offsetgroup\":\"PubMed\",\"orientation\":\"v\",\"showlegend\":true,\"textposition\":\"auto\",\"x\":[2018,2019,2020,2021,2022,2023,2024],\"xaxis\":\"x\",\"y\":[88,158,287,426,453,474,196],\"yaxis\":\"y\",\"type\":\"bar\"},{\"alignmentgroup\":\"True\",\"hovertemplate\":\"Venue=CHIL\\u003cbr\\u003eyear=%{x}\\u003cbr\\u003eNumber of Papers=%{y}\\u003cextra\\u003e\\u003c\\u002fextra\\u003e\",\"legendgroup\":\"CHIL\",\"marker\":{\"color\":\"rgb(141,160,203)\",\"pattern\":{\"shape\":\"\"}},\"name\":\"CHIL\",\"offsetgroup\":\"CHIL\",\"orientation\":\"v\",\"showlegend\":true,\"textposition\":\"auto\",\"x\":[2018,2019,2020,2021,2022,2023,2024],\"xaxis\":\"x\",\"y\":[0,0,23,26,23,36,39],\"yaxis\":\"y\",\"type\":\"bar\"},{\"alignmentgroup\":\"True\",\"hovertemplate\":\"Venue=ML4H\\u003cbr\\u003eyear=%{x}\\u003cbr\\u003eNumber of Papers=%{y}\\u003cextra\\u003e\\u003c\\u002fextra\\u003e\",\"legendgroup\":\"ML4H\",\"marker\":{\"color\":\"rgb(255,179,150)\",\"pattern\":{\"shape\":\"\"}},\"name\":\"ML4H\",\"offsetgroup\":\"ML4H\",\"orientation\":\"v\",\"showlegend\":true,\"textposition\":\"auto\",\"x\":[2018,2019,2020,2021,2022,2023,2024],\"xaxis\":\"x\",\"y\":[0,17,24,18,27,37,0],\"yaxis\":\"y\",\"type\":\"bar\"},{\"alignmentgroup\":\"True\",\"hovertemplate\":\"Venue=MLHC\\u003cbr\\u003eyear=%{x}\\u003cbr\\u003eNumber of Papers=%{y}\\u003cextra\\u003e\\u003c\\u002fextra\\u003e\",\"legendgroup\":\"MLHC\",\"marker\":{\"color\":\"rgb(252,141,98)\",\"pattern\":{\"shape\":\"\"}},\"name\":\"MLHC\",\"offsetgroup\":\"MLHC\",\"orientation\":\"v\",\"showlegend\":true,\"textposition\":\"auto\",\"x\":[2018,2019,2020,2021,2022,2023,2024],\"xaxis\":\"x\",\"y\":[25,39,48,30,52,64,0],\"yaxis\":\"y\",\"type\":\"bar\"}],                        {\"template\":{\"data\":{\"histogram2dcontour\":[{\"type\":\"histogram2dcontour\",\"colorbar\":{\"outlinewidth\":0,\"ticks\":\"\"},\"colorscale\":[[0.0,\"#0d0887\"],[0.1111111111111111,\"#46039f\"],[0.2222222222222222,\"#7201a8\"],[0.3333333333333333,\"#9c179e\"],[0.4444444444444444,\"#bd3786\"],[0.5555555555555556,\"#d8576b\"],[0.6666666666666666,\"#ed7953\"],[0.7777777777777778,\"#fb9f3a\"],[0.8888888888888888,\"#fdca26\"],[1.0,\"#f0f921\"]]}],\"choropleth\":[{\"type\":\"choropleth\",\"colorbar\":{\"outlinewidth\":0,\"ticks\":\"\"}}],\"histogram2d\":[{\"type\":\"histogram2d\",\"colorbar\":{\"outlinewidth\":0,\"ticks\":\"\"},\"colorscale\":[[0.0,\"#0d0887\"],[0.1111111111111111,\"#46039f\"],[0.2222222222222222,\"#7201a8\"],[0.3333333333333333,\"#9c179e\"],[0.4444444444444444,\"#bd3786\"],[0.5555555555555556,\"#d8576b\"],[0.6666666666666666,\"#ed7953\"],[0.7777777777777778,\"#fb9f3a\"],[0.8888888888888888,\"#fdca26\"],[1.0,\"#f0f921\"]]}],\"heatmap\":[{\"type\":\"heatmap\",\"colorbar\":{\"outlinewidth\":0,\"ticks\":\"\"},\"colorscale\":[[0.0,\"#0d0887\"],[0.1111111111111111,\"#46039f\"],[0.2222222222222222,\"#7201a8\"],[0.3333333333333333,\"#9c179e\"],[0.4444444444444444,\"#bd3786\"],[0.5555555555555556,\"#d8576b\"],[0.6666666666666666,\"#ed7953\"],[0.7777777777777778,\"#fb9f3a\"],[0.8888888888888888,\"#fdca26\"],[1.0,\"#f0f921\"]]}],\"heatmapgl\":[{\"type\":\"heatmapgl\",\"colorbar\":{\"outlinewidth\":0,\"ticks\":\"\"},\"colorscale\":[[0.0,\"#0d0887\"],[0.1111111111111111,\"#46039f\"],[0.2222222222222222,\"#7201a8\"],[0.3333333333333333,\"#9c179e\"],[0.4444444444444444,\"#bd3786\"],[0.5555555555555556,\"#d8576b\"],[0.6666666666666666,\"#ed7953\"],[0.7777777777777778,\"#fb9f3a\"],[0.8888888888888888,\"#fdca26\"],[1.0,\"#f0f921\"]]}],\"contourcarpet\":[{\"type\":\"contourcarpet\",\"colorbar\":{\"outlinewidth\":0,\"ticks\":\"\"}}],\"contour\":[{\"type\":\"contour\",\"colorbar\":{\"outlinewidth\":0,\"ticks\":\"\"},\"colorscale\":[[0.0,\"#0d0887\"],[0.1111111111111111,\"#46039f\"],[0.2222222222222222,\"#7201a8\"],[0.3333333333333333,\"#9c179e\"],[0.4444444444444444,\"#bd3786\"],[0.5555555555555556,\"#d8576b\"],[0.6666666666666666,\"#ed7953\"],[0.7777777777777778,\"#fb9f3a\"],[0.8888888888888888,\"#fdca26\"],[1.0,\"#f0f921\"]]}],\"surface\":[{\"type\":\"surface\",\"colorbar\":{\"outlinewidth\":0,\"ticks\":\"\"},\"colorscale\":[[0.0,\"#0d0887\"],[0.1111111111111111,\"#46039f\"],[0.2222222222222222,\"#7201a8\"],[0.3333333333333333,\"#9c179e\"],[0.4444444444444444,\"#bd3786\"],[0.5555555555555556,\"#d8576b\"],[0.6666666666666666,\"#ed7953\"],[0.7777777777777778,\"#fb9f3a\"],[0.8888888888888888,\"#fdca26\"],[1.0,\"#f0f921\"]]}],\"mesh3d\":[{\"type\":\"mesh3d\",\"colorbar\":{\"outlinewidth\":0,\"ticks\":\"\"}}],\"scatter\":[{\"fillpattern\":{\"fillmode\":\"overlay\",\"size\":10,\"solidity\":0.2},\"type\":\"scatter\"}],\"parcoords\":[{\"type\":\"parcoords\",\"line\":{\"colorbar\":{\"outlinewidth\":0,\"ticks\":\"\"}}}],\"scatterpolargl\":[{\"type\":\"scatterpolargl\",\"marker\":{\"colorbar\":{\"outlinewidth\":0,\"ticks\":\"\"}}}],\"bar\":[{\"error_x\":{\"color\":\"#2a3f5f\"},\"error_y\":{\"color\":\"#2a3f5f\"},\"marker\":{\"line\":{\"color\":\"#E5ECF6\",\"width\":0.5},\"pattern\":{\"fillmode\":\"overlay\",\"size\":10,\"solidity\":0.2}},\"type\":\"bar\"}],\"scattergeo\":[{\"type\":\"scattergeo\",\"marker\":{\"colorbar\":{\"outlinewidth\":0,\"ticks\":\"\"}}}],\"scatterpolar\":[{\"type\":\"scatterpolar\",\"marker\":{\"colorbar\":{\"outlinewidth\":0,\"ticks\":\"\"}}}],\"histogram\":[{\"marker\":{\"pattern\":{\"fillmode\":\"overlay\",\"size\":10,\"solidity\":0.2}},\"type\":\"histogram\"}],\"scattergl\":[{\"type\":\"scattergl\",\"marker\":{\"colorbar\":{\"outlinewidth\":0,\"ticks\":\"\"}}}],\"scatter3d\":[{\"type\":\"scatter3d\",\"line\":{\"colorbar\":{\"outlinewidth\":0,\"ticks\":\"\"}},\"marker\":{\"colorbar\":{\"outlinewidth\":0,\"ticks\":\"\"}}}],\"scattermapbox\":[{\"type\":\"scattermapbox\",\"marker\":{\"colorbar\":{\"outlinewidth\":0,\"ticks\":\"\"}}}],\"scatterternary\":[{\"type\":\"scatterternary\",\"marker\":{\"colorbar\":{\"outlinewidth\":0,\"ticks\":\"\"}}}],\"scattercarpet\":[{\"type\":\"scattercarpet\",\"marker\":{\"colorbar\":{\"outlinewidth\":0,\"ticks\":\"\"}}}],\"carpet\":[{\"aaxis\":{\"endlinecolor\":\"#2a3f5f\",\"gridcolor\":\"white\",\"linecolor\":\"white\",\"minorgridcolor\":\"white\",\"startlinecolor\":\"#2a3f5f\"},\"baxis\":{\"endlinecolor\":\"#2a3f5f\",\"gridcolor\":\"white\",\"linecolor\":\"white\",\"minorgridcolor\":\"white\",\"startlinecolor\":\"#2a3f5f\"},\"type\":\"carpet\"}],\"table\":[{\"cells\":{\"fill\":{\"color\":\"#EBF0F8\"},\"line\":{\"color\":\"white\"}},\"header\":{\"fill\":{\"color\":\"#C8D4E3\"},\"line\":{\"color\":\"white\"}},\"type\":\"table\"}],\"barpolar\":[{\"marker\":{\"line\":{\"color\":\"#E5ECF6\",\"width\":0.5},\"pattern\":{\"fillmode\":\"overlay\",\"size\":10,\"solidity\":0.2}},\"type\":\"barpolar\"}],\"pie\":[{\"automargin\":true,\"type\":\"pie\"}]},\"layout\":{\"autotypenumbers\":\"strict\",\"colorway\":[\"#636efa\",\"#EF553B\",\"#00cc96\",\"#ab63fa\",\"#FFA15A\",\"#19d3f3\",\"#FF6692\",\"#B6E880\",\"#FF97FF\",\"#FECB52\"],\"font\":{\"color\":\"#2a3f5f\"},\"hovermode\":\"closest\",\"hoverlabel\":{\"align\":\"left\"},\"paper_bgcolor\":\"white\",\"plot_bgcolor\":\"#E5ECF6\",\"polar\":{\"bgcolor\":\"#E5ECF6\",\"angularaxis\":{\"gridcolor\":\"white\",\"linecolor\":\"white\",\"ticks\":\"\"},\"radialaxis\":{\"gridcolor\":\"white\",\"linecolor\":\"white\",\"ticks\":\"\"}},\"ternary\":{\"bgcolor\":\"#E5ECF6\",\"aaxis\":{\"gridcolor\":\"white\",\"linecolor\":\"white\",\"ticks\":\"\"},\"baxis\":{\"gridcolor\":\"white\",\"linecolor\":\"white\",\"ticks\":\"\"},\"caxis\":{\"gridcolor\":\"white\",\"linecolor\":\"white\",\"ticks\":\"\"}},\"coloraxis\":{\"colorbar\":{\"outlinewidth\":0,\"ticks\":\"\"}},\"colorscale\":{\"sequential\":[[0.0,\"#0d0887\"],[0.1111111111111111,\"#46039f\"],[0.2222222222222222,\"#7201a8\"],[0.3333333333333333,\"#9c179e\"],[0.4444444444444444,\"#bd3786\"],[0.5555555555555556,\"#d8576b\"],[0.6666666666666666,\"#ed7953\"],[0.7777777777777778,\"#fb9f3a\"],[0.8888888888888888,\"#fdca26\"],[1.0,\"#f0f921\"]],\"sequentialminus\":[[0.0,\"#0d0887\"],[0.1111111111111111,\"#46039f\"],[0.2222222222222222,\"#7201a8\"],[0.3333333333333333,\"#9c179e\"],[0.4444444444444444,\"#bd3786\"],[0.5555555555555556,\"#d8576b\"],[0.6666666666666666,\"#ed7953\"],[0.7777777777777778,\"#fb9f3a\"],[0.8888888888888888,\"#fdca26\"],[1.0,\"#f0f921\"]],\"diverging\":[[0,\"#8e0152\"],[0.1,\"#c51b7d\"],[0.2,\"#de77ae\"],[0.3,\"#f1b6da\"],[0.4,\"#fde0ef\"],[0.5,\"#f7f7f7\"],[0.6,\"#e6f5d0\"],[0.7,\"#b8e186\"],[0.8,\"#7fbc41\"],[0.9,\"#4d9221\"],[1,\"#276419\"]]},\"xaxis\":{\"gridcolor\":\"white\",\"linecolor\":\"white\",\"ticks\":\"\",\"title\":{\"standoff\":15},\"zerolinecolor\":\"white\",\"automargin\":true,\"zerolinewidth\":2},\"yaxis\":{\"gridcolor\":\"white\",\"linecolor\":\"white\",\"ticks\":\"\",\"title\":{\"standoff\":15},\"zerolinecolor\":\"white\",\"automargin\":true,\"zerolinewidth\":2},\"scene\":{\"xaxis\":{\"backgroundcolor\":\"#E5ECF6\",\"gridcolor\":\"white\",\"linecolor\":\"white\",\"showbackground\":true,\"ticks\":\"\",\"zerolinecolor\":\"white\",\"gridwidth\":2},\"yaxis\":{\"backgroundcolor\":\"#E5ECF6\",\"gridcolor\":\"white\",\"linecolor\":\"white\",\"showbackground\":true,\"ticks\":\"\",\"zerolinecolor\":\"white\",\"gridwidth\":2},\"zaxis\":{\"backgroundcolor\":\"#E5ECF6\",\"gridcolor\":\"white\",\"linecolor\":\"white\",\"showbackground\":true,\"ticks\":\"\",\"zerolinecolor\":\"white\",\"gridwidth\":2}},\"shapedefaults\":{\"line\":{\"color\":\"#2a3f5f\"}},\"annotationdefaults\":{\"arrowcolor\":\"#2a3f5f\",\"arrowhead\":0,\"arrowwidth\":1},\"geo\":{\"bgcolor\":\"white\",\"landcolor\":\"#E5ECF6\",\"subunitcolor\":\"white\",\"showland\":true,\"showlakes\":true,\"lakecolor\":\"white\"},\"title\":{\"x\":0.05},\"mapbox\":{\"style\":\"light\"}}},\"xaxis\":{\"anchor\":\"y\",\"domain\":[0.0,1.0],\"title\":{\"text\":\"Year\",\"font\":{\"size\":24}}},\"yaxis\":{\"anchor\":\"x\",\"domain\":[0.0,1.0],\"title\":{\"text\":\"Number of Papers\",\"font\":{\"size\":24}}},\"legend\":{\"title\":{\"text\":\"\"},\"tracegroupgap\":0,\"font\":{\"size\":24},\"orientation\":\"h\",\"yanchor\":\"bottom\",\"y\":1.02,\"xanchor\":\"center\",\"x\":0.5},\"margin\":{\"t\":60},\"barmode\":\"stack\",\"annotations\":[{\"font\":{\"size\":20},\"showarrow\":false,\"text\":\"113\",\"x\":2018,\"y\":113,\"yshift\":10},{\"font\":{\"size\":20},\"showarrow\":false,\"text\":\"214\",\"x\":2019,\"y\":214,\"yshift\":10},{\"font\":{\"size\":20},\"showarrow\":false,\"text\":\"382\",\"x\":2020,\"y\":382,\"yshift\":10},{\"font\":{\"size\":20},\"showarrow\":false,\"text\":\"500\",\"x\":2021,\"y\":500,\"yshift\":10},{\"font\":{\"size\":20},\"showarrow\":false,\"text\":\"555\",\"x\":2022,\"y\":555,\"yshift\":10},{\"font\":{\"size\":20},\"showarrow\":false,\"text\":\"611\",\"x\":2023,\"y\":611,\"yshift\":10},{\"font\":{\"size\":20},\"showarrow\":false,\"text\":\"235\",\"x\":2024,\"y\":235,\"yshift\":10}],\"font\":{\"size\":20},\"width\":800,\"height\":600,\"hovermode\":\"x unified\"},                        {\"responsive\": true}                    ).then(function(){\n",
       "                            \n",
       "var gd = document.getElementById('5913e763-3380-449d-9ecd-b0baebfa25b4');\n",
       "var x = new MutationObserver(function (mutations, observer) {{\n",
       "        var display = window.getComputedStyle(gd).display;\n",
       "        if (!display || display === 'none') {{\n",
       "            console.log([gd, 'removed!']);\n",
       "            Plotly.purge(gd);\n",
       "            observer.disconnect();\n",
       "        }}\n",
       "}});\n",
       "\n",
       "// Listen for the removal of the full notebook cells\n",
       "var notebookContainer = gd.closest('#notebook-container');\n",
       "if (notebookContainer) {{\n",
       "    x.observe(notebookContainer, {childList: true});\n",
       "}}\n",
       "\n",
       "// Listen for the clearing of the current output cell\n",
       "var outputEl = gd.closest('.output');\n",
       "if (outputEl) {{\n",
       "    x.observe(outputEl, {childList: true});\n",
       "}}\n",
       "\n",
       "                        })                };                });            </script>        </div>"
      ]
     },
     "metadata": {},
     "output_type": "display_data"
    }
   ],
   "source": [
    "import pandas as pd\n",
    "import plotly.express as px\n",
    "\n",
    "def plot_papers_per_year_plotly(df, width=800, height=600, save_path=None,\n",
    "                                legend_font_size=24, axis_title_font_size=24,\n",
    "                                axis_tick_font_size=20, total_annotation_font_size=20,\n",
    "                                save_scale=3):\n",
    "    # Ensure 'year' is of type int\n",
    "    df['year'] = df['year'].astype(int)\n",
    "    \n",
    "    # Create a mapping for venue names\n",
    "    venue_mapping = {'pubmed': 'PubMed', 'CHIL': 'CHIL', 'ML4H': 'ML4H', 'MLHC': 'MLHC'}\n",
    "    df['venue_display'] = df['venue'].map(venue_mapping)\n",
    "    \n",
    "    # Group by year and venue, count the papers\n",
    "    df_grouped = df.groupby(['year', 'venue_display']).size().unstack(fill_value=0).reset_index()\n",
    "    \n",
    "    # Ensure all venues are present, fill with 0 if missing\n",
    "    all_venues = ['PubMed', 'CHIL', 'ML4H', 'MLHC']\n",
    "    for venue in all_venues:\n",
    "        if venue not in df_grouped.columns:\n",
    "            df_grouped[venue] = 0\n",
    "    \n",
    "    # Calculate total papers per year\n",
    "    df_grouped['Total'] = df_grouped[all_venues].sum(axis=1)\n",
    "    \n",
    "    # Get the Set2 color palette\n",
    "    set2_colors = px.colors.qualitative.Set2[1:]\n",
    "    print(set2_colors)\n",
    "    color_palette = [\n",
    "    'rgb(252,141,98)',   # Orange\n",
    "    'rgb(255,179,150)',  # Lighter Orange (new color)\n",
    "    'rgb(141,160,203)',  # Grayish-blue\n",
    "    'rgb(103,122,165)',  # Darker Grayish-Blue\n",
    "    # 'rgb(28,144,153)'    # Deeper Teal (accent color)\n",
    "]\n",
    "    \n",
    "    color_palette = color_palette[::-1]\n",
    "    set2_colors = color_palette\n",
    "    # set2_colors = px.colors.qualitative.Pastel[:len(all_venues)]\n",
    "    # set2_colors = ['#3594cc', '#ea801c', '#8cc5e3', '#f0b077']\n",
    "    # set2_colors = ['#d31f11', '#62c8d3', '#f47a00', '#007191']\n",
    "    # ggplot2_colors = ['#F8766D', '#7CAE00', '#00BFC4', '#C77CFF', '#00A9FF', '#FF61CC']\n",
    "    # set2_colors = ggplot2_colors[:len(all_venues)]\n",
    "    # set2_colors = px.colors.sequential.Blues[:len(all_venues)]\n",
    "    # Create the stacked bar chart with Set2 colors\n",
    "    fig = px.bar(df_grouped, x='year', y=all_venues,\n",
    "                 labels={'value': 'Number of Papers', 'variable': 'Venue'},\n",
    "                 color_discrete_sequence=set2_colors)\n",
    "    \n",
    "    # Add total numbers on top of each bar\n",
    "    for year in df_grouped['year']:\n",
    "        total = df_grouped.loc[df_grouped['year'] == year, 'Total'].values[0]\n",
    "        fig.add_annotation(x=year, y=total,\n",
    "                           text=str(total),\n",
    "                           showarrow=False,\n",
    "                           yshift=10,\n",
    "                           font=dict(size=total_annotation_font_size))\n",
    "    \n",
    "    # Update layout for better readability and customization\n",
    "    fig.update_layout(\n",
    "        width=width,\n",
    "        height=height,\n",
    "        xaxis_title='Year',\n",
    "        yaxis_title='Number of Papers',\n",
    "        legend_title='',\n",
    "        legend=dict(\n",
    "            orientation=\"h\",\n",
    "            yanchor=\"bottom\",\n",
    "            y=1.02,\n",
    "            xanchor=\"center\",\n",
    "            x=0.5,\n",
    "            font=dict(size=legend_font_size)\n",
    "        ),\n",
    "        barmode='stack',\n",
    "        hovermode='x unified',\n",
    "        font=dict(size=axis_tick_font_size),\n",
    "        xaxis=dict(title=dict(font=dict(size=axis_title_font_size))),\n",
    "        yaxis=dict(title=dict(font=dict(size=axis_title_font_size)))\n",
    "    )\n",
    "    \n",
    "    # Show the figure\n",
    "    fig.show()\n",
    "    \n",
    "    # Save the figure if a save path is provided\n",
    "    if save_path:\n",
    "        fig.write_image(save_path, scale=save_scale)\n",
    "\n",
    "# Plot the data\n",
    "plot_papers_per_year_plotly(\n",
    "    main_df,\n",
    "    width=800,\n",
    "    height=600,\n",
    "    save_path=\"figures/papers_per_year_high_res.png\"\n",
    ")"
   ]
  },
  {
   "cell_type": "markdown",
   "metadata": {},
   "source": [
    "#### Citation Counts over time"
   ]
  },
  {
   "cell_type": "code",
   "execution_count": 5,
   "metadata": {},
   "outputs": [
    {
     "data": {
      "application/vnd.plotly.v1+json": {
       "config": {
        "plotlyServerURL": "https://plot.ly"
       },
       "data": [
        {
         "line": {
          "color": "#EF553B",
          "width": 4
         },
         "mode": "lines",
         "name": "Overall Average",
         "type": "scatter",
         "x": [
          2018,
          2019,
          2020,
          2021,
          2022,
          2023,
          2024
         ],
         "y": [
          48.24778761061947,
          34.308411214953274,
          26.028795811518325,
          16.11,
          10.504504504504505,
          5.695581014729951,
          2.4680851063829787
         ]
        }
       ],
       "layout": {
        "font": {
         "size": 20
        },
        "height": 600,
        "hovermode": "x unified",
        "legend": {
         "font": {
          "size": 20
         },
         "orientation": "h",
         "title": {
          "text": "Venue"
         },
         "x": 0.5,
         "xanchor": "center",
         "y": 1.02,
         "yanchor": "bottom"
        },
        "template": {
         "data": {
          "bar": [
           {
            "error_x": {
             "color": "#2a3f5f"
            },
            "error_y": {
             "color": "#2a3f5f"
            },
            "marker": {
             "line": {
              "color": "#E5ECF6",
              "width": 0.5
             },
             "pattern": {
              "fillmode": "overlay",
              "size": 10,
              "solidity": 0.2
             }
            },
            "type": "bar"
           }
          ],
          "barpolar": [
           {
            "marker": {
             "line": {
              "color": "#E5ECF6",
              "width": 0.5
             },
             "pattern": {
              "fillmode": "overlay",
              "size": 10,
              "solidity": 0.2
             }
            },
            "type": "barpolar"
           }
          ],
          "carpet": [
           {
            "aaxis": {
             "endlinecolor": "#2a3f5f",
             "gridcolor": "white",
             "linecolor": "white",
             "minorgridcolor": "white",
             "startlinecolor": "#2a3f5f"
            },
            "baxis": {
             "endlinecolor": "#2a3f5f",
             "gridcolor": "white",
             "linecolor": "white",
             "minorgridcolor": "white",
             "startlinecolor": "#2a3f5f"
            },
            "type": "carpet"
           }
          ],
          "choropleth": [
           {
            "colorbar": {
             "outlinewidth": 0,
             "ticks": ""
            },
            "type": "choropleth"
           }
          ],
          "contour": [
           {
            "colorbar": {
             "outlinewidth": 0,
             "ticks": ""
            },
            "colorscale": [
             [
              0,
              "#0d0887"
             ],
             [
              0.1111111111111111,
              "#46039f"
             ],
             [
              0.2222222222222222,
              "#7201a8"
             ],
             [
              0.3333333333333333,
              "#9c179e"
             ],
             [
              0.4444444444444444,
              "#bd3786"
             ],
             [
              0.5555555555555556,
              "#d8576b"
             ],
             [
              0.6666666666666666,
              "#ed7953"
             ],
             [
              0.7777777777777778,
              "#fb9f3a"
             ],
             [
              0.8888888888888888,
              "#fdca26"
             ],
             [
              1,
              "#f0f921"
             ]
            ],
            "type": "contour"
           }
          ],
          "contourcarpet": [
           {
            "colorbar": {
             "outlinewidth": 0,
             "ticks": ""
            },
            "type": "contourcarpet"
           }
          ],
          "heatmap": [
           {
            "colorbar": {
             "outlinewidth": 0,
             "ticks": ""
            },
            "colorscale": [
             [
              0,
              "#0d0887"
             ],
             [
              0.1111111111111111,
              "#46039f"
             ],
             [
              0.2222222222222222,
              "#7201a8"
             ],
             [
              0.3333333333333333,
              "#9c179e"
             ],
             [
              0.4444444444444444,
              "#bd3786"
             ],
             [
              0.5555555555555556,
              "#d8576b"
             ],
             [
              0.6666666666666666,
              "#ed7953"
             ],
             [
              0.7777777777777778,
              "#fb9f3a"
             ],
             [
              0.8888888888888888,
              "#fdca26"
             ],
             [
              1,
              "#f0f921"
             ]
            ],
            "type": "heatmap"
           }
          ],
          "heatmapgl": [
           {
            "colorbar": {
             "outlinewidth": 0,
             "ticks": ""
            },
            "colorscale": [
             [
              0,
              "#0d0887"
             ],
             [
              0.1111111111111111,
              "#46039f"
             ],
             [
              0.2222222222222222,
              "#7201a8"
             ],
             [
              0.3333333333333333,
              "#9c179e"
             ],
             [
              0.4444444444444444,
              "#bd3786"
             ],
             [
              0.5555555555555556,
              "#d8576b"
             ],
             [
              0.6666666666666666,
              "#ed7953"
             ],
             [
              0.7777777777777778,
              "#fb9f3a"
             ],
             [
              0.8888888888888888,
              "#fdca26"
             ],
             [
              1,
              "#f0f921"
             ]
            ],
            "type": "heatmapgl"
           }
          ],
          "histogram": [
           {
            "marker": {
             "pattern": {
              "fillmode": "overlay",
              "size": 10,
              "solidity": 0.2
             }
            },
            "type": "histogram"
           }
          ],
          "histogram2d": [
           {
            "colorbar": {
             "outlinewidth": 0,
             "ticks": ""
            },
            "colorscale": [
             [
              0,
              "#0d0887"
             ],
             [
              0.1111111111111111,
              "#46039f"
             ],
             [
              0.2222222222222222,
              "#7201a8"
             ],
             [
              0.3333333333333333,
              "#9c179e"
             ],
             [
              0.4444444444444444,
              "#bd3786"
             ],
             [
              0.5555555555555556,
              "#d8576b"
             ],
             [
              0.6666666666666666,
              "#ed7953"
             ],
             [
              0.7777777777777778,
              "#fb9f3a"
             ],
             [
              0.8888888888888888,
              "#fdca26"
             ],
             [
              1,
              "#f0f921"
             ]
            ],
            "type": "histogram2d"
           }
          ],
          "histogram2dcontour": [
           {
            "colorbar": {
             "outlinewidth": 0,
             "ticks": ""
            },
            "colorscale": [
             [
              0,
              "#0d0887"
             ],
             [
              0.1111111111111111,
              "#46039f"
             ],
             [
              0.2222222222222222,
              "#7201a8"
             ],
             [
              0.3333333333333333,
              "#9c179e"
             ],
             [
              0.4444444444444444,
              "#bd3786"
             ],
             [
              0.5555555555555556,
              "#d8576b"
             ],
             [
              0.6666666666666666,
              "#ed7953"
             ],
             [
              0.7777777777777778,
              "#fb9f3a"
             ],
             [
              0.8888888888888888,
              "#fdca26"
             ],
             [
              1,
              "#f0f921"
             ]
            ],
            "type": "histogram2dcontour"
           }
          ],
          "mesh3d": [
           {
            "colorbar": {
             "outlinewidth": 0,
             "ticks": ""
            },
            "type": "mesh3d"
           }
          ],
          "parcoords": [
           {
            "line": {
             "colorbar": {
              "outlinewidth": 0,
              "ticks": ""
             }
            },
            "type": "parcoords"
           }
          ],
          "pie": [
           {
            "automargin": true,
            "type": "pie"
           }
          ],
          "scatter": [
           {
            "fillpattern": {
             "fillmode": "overlay",
             "size": 10,
             "solidity": 0.2
            },
            "type": "scatter"
           }
          ],
          "scatter3d": [
           {
            "line": {
             "colorbar": {
              "outlinewidth": 0,
              "ticks": ""
             }
            },
            "marker": {
             "colorbar": {
              "outlinewidth": 0,
              "ticks": ""
             }
            },
            "type": "scatter3d"
           }
          ],
          "scattercarpet": [
           {
            "marker": {
             "colorbar": {
              "outlinewidth": 0,
              "ticks": ""
             }
            },
            "type": "scattercarpet"
           }
          ],
          "scattergeo": [
           {
            "marker": {
             "colorbar": {
              "outlinewidth": 0,
              "ticks": ""
             }
            },
            "type": "scattergeo"
           }
          ],
          "scattergl": [
           {
            "marker": {
             "colorbar": {
              "outlinewidth": 0,
              "ticks": ""
             }
            },
            "type": "scattergl"
           }
          ],
          "scattermapbox": [
           {
            "marker": {
             "colorbar": {
              "outlinewidth": 0,
              "ticks": ""
             }
            },
            "type": "scattermapbox"
           }
          ],
          "scatterpolar": [
           {
            "marker": {
             "colorbar": {
              "outlinewidth": 0,
              "ticks": ""
             }
            },
            "type": "scatterpolar"
           }
          ],
          "scatterpolargl": [
           {
            "marker": {
             "colorbar": {
              "outlinewidth": 0,
              "ticks": ""
             }
            },
            "type": "scatterpolargl"
           }
          ],
          "scatterternary": [
           {
            "marker": {
             "colorbar": {
              "outlinewidth": 0,
              "ticks": ""
             }
            },
            "type": "scatterternary"
           }
          ],
          "surface": [
           {
            "colorbar": {
             "outlinewidth": 0,
             "ticks": ""
            },
            "colorscale": [
             [
              0,
              "#0d0887"
             ],
             [
              0.1111111111111111,
              "#46039f"
             ],
             [
              0.2222222222222222,
              "#7201a8"
             ],
             [
              0.3333333333333333,
              "#9c179e"
             ],
             [
              0.4444444444444444,
              "#bd3786"
             ],
             [
              0.5555555555555556,
              "#d8576b"
             ],
             [
              0.6666666666666666,
              "#ed7953"
             ],
             [
              0.7777777777777778,
              "#fb9f3a"
             ],
             [
              0.8888888888888888,
              "#fdca26"
             ],
             [
              1,
              "#f0f921"
             ]
            ],
            "type": "surface"
           }
          ],
          "table": [
           {
            "cells": {
             "fill": {
              "color": "#EBF0F8"
             },
             "line": {
              "color": "white"
             }
            },
            "header": {
             "fill": {
              "color": "#C8D4E3"
             },
             "line": {
              "color": "white"
             }
            },
            "type": "table"
           }
          ]
         },
         "layout": {
          "annotationdefaults": {
           "arrowcolor": "#2a3f5f",
           "arrowhead": 0,
           "arrowwidth": 1
          },
          "autotypenumbers": "strict",
          "coloraxis": {
           "colorbar": {
            "outlinewidth": 0,
            "ticks": ""
           }
          },
          "colorscale": {
           "diverging": [
            [
             0,
             "#8e0152"
            ],
            [
             0.1,
             "#c51b7d"
            ],
            [
             0.2,
             "#de77ae"
            ],
            [
             0.3,
             "#f1b6da"
            ],
            [
             0.4,
             "#fde0ef"
            ],
            [
             0.5,
             "#f7f7f7"
            ],
            [
             0.6,
             "#e6f5d0"
            ],
            [
             0.7,
             "#b8e186"
            ],
            [
             0.8,
             "#7fbc41"
            ],
            [
             0.9,
             "#4d9221"
            ],
            [
             1,
             "#276419"
            ]
           ],
           "sequential": [
            [
             0,
             "#0d0887"
            ],
            [
             0.1111111111111111,
             "#46039f"
            ],
            [
             0.2222222222222222,
             "#7201a8"
            ],
            [
             0.3333333333333333,
             "#9c179e"
            ],
            [
             0.4444444444444444,
             "#bd3786"
            ],
            [
             0.5555555555555556,
             "#d8576b"
            ],
            [
             0.6666666666666666,
             "#ed7953"
            ],
            [
             0.7777777777777778,
             "#fb9f3a"
            ],
            [
             0.8888888888888888,
             "#fdca26"
            ],
            [
             1,
             "#f0f921"
            ]
           ],
           "sequentialminus": [
            [
             0,
             "#0d0887"
            ],
            [
             0.1111111111111111,
             "#46039f"
            ],
            [
             0.2222222222222222,
             "#7201a8"
            ],
            [
             0.3333333333333333,
             "#9c179e"
            ],
            [
             0.4444444444444444,
             "#bd3786"
            ],
            [
             0.5555555555555556,
             "#d8576b"
            ],
            [
             0.6666666666666666,
             "#ed7953"
            ],
            [
             0.7777777777777778,
             "#fb9f3a"
            ],
            [
             0.8888888888888888,
             "#fdca26"
            ],
            [
             1,
             "#f0f921"
            ]
           ]
          },
          "colorway": [
           "#636efa",
           "#EF553B",
           "#00cc96",
           "#ab63fa",
           "#FFA15A",
           "#19d3f3",
           "#FF6692",
           "#B6E880",
           "#FF97FF",
           "#FECB52"
          ],
          "font": {
           "color": "#2a3f5f"
          },
          "geo": {
           "bgcolor": "white",
           "lakecolor": "white",
           "landcolor": "#E5ECF6",
           "showlakes": true,
           "showland": true,
           "subunitcolor": "white"
          },
          "hoverlabel": {
           "align": "left"
          },
          "hovermode": "closest",
          "mapbox": {
           "style": "light"
          },
          "paper_bgcolor": "white",
          "plot_bgcolor": "#E5ECF6",
          "polar": {
           "angularaxis": {
            "gridcolor": "white",
            "linecolor": "white",
            "ticks": ""
           },
           "bgcolor": "#E5ECF6",
           "radialaxis": {
            "gridcolor": "white",
            "linecolor": "white",
            "ticks": ""
           }
          },
          "scene": {
           "xaxis": {
            "backgroundcolor": "#E5ECF6",
            "gridcolor": "white",
            "gridwidth": 2,
            "linecolor": "white",
            "showbackground": true,
            "ticks": "",
            "zerolinecolor": "white"
           },
           "yaxis": {
            "backgroundcolor": "#E5ECF6",
            "gridcolor": "white",
            "gridwidth": 2,
            "linecolor": "white",
            "showbackground": true,
            "ticks": "",
            "zerolinecolor": "white"
           },
           "zaxis": {
            "backgroundcolor": "#E5ECF6",
            "gridcolor": "white",
            "gridwidth": 2,
            "linecolor": "white",
            "showbackground": true,
            "ticks": "",
            "zerolinecolor": "white"
           }
          },
          "shapedefaults": {
           "line": {
            "color": "#2a3f5f"
           }
          },
          "ternary": {
           "aaxis": {
            "gridcolor": "white",
            "linecolor": "white",
            "ticks": ""
           },
           "baxis": {
            "gridcolor": "white",
            "linecolor": "white",
            "ticks": ""
           },
           "bgcolor": "#E5ECF6",
           "caxis": {
            "gridcolor": "white",
            "linecolor": "white",
            "ticks": ""
           }
          },
          "title": {
           "x": 0.05
          },
          "xaxis": {
           "automargin": true,
           "gridcolor": "white",
           "linecolor": "white",
           "ticks": "",
           "title": {
            "standoff": 15
           },
           "zerolinecolor": "white",
           "zerolinewidth": 2
          },
          "yaxis": {
           "automargin": true,
           "gridcolor": "white",
           "linecolor": "white",
           "ticks": "",
           "title": {
            "standoff": 15
           },
           "zerolinecolor": "white",
           "zerolinewidth": 2
          }
         }
        },
        "width": 800,
        "xaxis": {
         "tickfont": {
          "size": 20
         },
         "title": {
          "font": {
           "size": 24
          },
          "text": "Year"
         }
        },
        "yaxis": {
         "tickfont": {
          "size": 20
         },
         "title": {
          "font": {
           "size": 24
          },
          "text": "Average Citations per Paper"
         }
        }
       }
      },
      "text/html": [
       "<div>                            <div id=\"d36e0b18-2840-48e6-9ff5-24bceebd989e\" class=\"plotly-graph-div\" style=\"height:600px; width:800px;\"></div>            <script type=\"text/javascript\">                require([\"plotly\"], function(Plotly) {                    window.PLOTLYENV=window.PLOTLYENV || {};                                    if (document.getElementById(\"d36e0b18-2840-48e6-9ff5-24bceebd989e\")) {                    Plotly.newPlot(                        \"d36e0b18-2840-48e6-9ff5-24bceebd989e\",                        [{\"line\":{\"color\":\"#EF553B\",\"width\":4},\"mode\":\"lines\",\"name\":\"Overall Average\",\"x\":[2018,2019,2020,2021,2022,2023,2024],\"y\":[48.24778761061947,34.308411214953274,26.028795811518325,16.11,10.504504504504505,5.695581014729951,2.4680851063829787],\"type\":\"scatter\"}],                        {\"template\":{\"data\":{\"histogram2dcontour\":[{\"type\":\"histogram2dcontour\",\"colorbar\":{\"outlinewidth\":0,\"ticks\":\"\"},\"colorscale\":[[0.0,\"#0d0887\"],[0.1111111111111111,\"#46039f\"],[0.2222222222222222,\"#7201a8\"],[0.3333333333333333,\"#9c179e\"],[0.4444444444444444,\"#bd3786\"],[0.5555555555555556,\"#d8576b\"],[0.6666666666666666,\"#ed7953\"],[0.7777777777777778,\"#fb9f3a\"],[0.8888888888888888,\"#fdca26\"],[1.0,\"#f0f921\"]]}],\"choropleth\":[{\"type\":\"choropleth\",\"colorbar\":{\"outlinewidth\":0,\"ticks\":\"\"}}],\"histogram2d\":[{\"type\":\"histogram2d\",\"colorbar\":{\"outlinewidth\":0,\"ticks\":\"\"},\"colorscale\":[[0.0,\"#0d0887\"],[0.1111111111111111,\"#46039f\"],[0.2222222222222222,\"#7201a8\"],[0.3333333333333333,\"#9c179e\"],[0.4444444444444444,\"#bd3786\"],[0.5555555555555556,\"#d8576b\"],[0.6666666666666666,\"#ed7953\"],[0.7777777777777778,\"#fb9f3a\"],[0.8888888888888888,\"#fdca26\"],[1.0,\"#f0f921\"]]}],\"heatmap\":[{\"type\":\"heatmap\",\"colorbar\":{\"outlinewidth\":0,\"ticks\":\"\"},\"colorscale\":[[0.0,\"#0d0887\"],[0.1111111111111111,\"#46039f\"],[0.2222222222222222,\"#7201a8\"],[0.3333333333333333,\"#9c179e\"],[0.4444444444444444,\"#bd3786\"],[0.5555555555555556,\"#d8576b\"],[0.6666666666666666,\"#ed7953\"],[0.7777777777777778,\"#fb9f3a\"],[0.8888888888888888,\"#fdca26\"],[1.0,\"#f0f921\"]]}],\"heatmapgl\":[{\"type\":\"heatmapgl\",\"colorbar\":{\"outlinewidth\":0,\"ticks\":\"\"},\"colorscale\":[[0.0,\"#0d0887\"],[0.1111111111111111,\"#46039f\"],[0.2222222222222222,\"#7201a8\"],[0.3333333333333333,\"#9c179e\"],[0.4444444444444444,\"#bd3786\"],[0.5555555555555556,\"#d8576b\"],[0.6666666666666666,\"#ed7953\"],[0.7777777777777778,\"#fb9f3a\"],[0.8888888888888888,\"#fdca26\"],[1.0,\"#f0f921\"]]}],\"contourcarpet\":[{\"type\":\"contourcarpet\",\"colorbar\":{\"outlinewidth\":0,\"ticks\":\"\"}}],\"contour\":[{\"type\":\"contour\",\"colorbar\":{\"outlinewidth\":0,\"ticks\":\"\"},\"colorscale\":[[0.0,\"#0d0887\"],[0.1111111111111111,\"#46039f\"],[0.2222222222222222,\"#7201a8\"],[0.3333333333333333,\"#9c179e\"],[0.4444444444444444,\"#bd3786\"],[0.5555555555555556,\"#d8576b\"],[0.6666666666666666,\"#ed7953\"],[0.7777777777777778,\"#fb9f3a\"],[0.8888888888888888,\"#fdca26\"],[1.0,\"#f0f921\"]]}],\"surface\":[{\"type\":\"surface\",\"colorbar\":{\"outlinewidth\":0,\"ticks\":\"\"},\"colorscale\":[[0.0,\"#0d0887\"],[0.1111111111111111,\"#46039f\"],[0.2222222222222222,\"#7201a8\"],[0.3333333333333333,\"#9c179e\"],[0.4444444444444444,\"#bd3786\"],[0.5555555555555556,\"#d8576b\"],[0.6666666666666666,\"#ed7953\"],[0.7777777777777778,\"#fb9f3a\"],[0.8888888888888888,\"#fdca26\"],[1.0,\"#f0f921\"]]}],\"mesh3d\":[{\"type\":\"mesh3d\",\"colorbar\":{\"outlinewidth\":0,\"ticks\":\"\"}}],\"scatter\":[{\"fillpattern\":{\"fillmode\":\"overlay\",\"size\":10,\"solidity\":0.2},\"type\":\"scatter\"}],\"parcoords\":[{\"type\":\"parcoords\",\"line\":{\"colorbar\":{\"outlinewidth\":0,\"ticks\":\"\"}}}],\"scatterpolargl\":[{\"type\":\"scatterpolargl\",\"marker\":{\"colorbar\":{\"outlinewidth\":0,\"ticks\":\"\"}}}],\"bar\":[{\"error_x\":{\"color\":\"#2a3f5f\"},\"error_y\":{\"color\":\"#2a3f5f\"},\"marker\":{\"line\":{\"color\":\"#E5ECF6\",\"width\":0.5},\"pattern\":{\"fillmode\":\"overlay\",\"size\":10,\"solidity\":0.2}},\"type\":\"bar\"}],\"scattergeo\":[{\"type\":\"scattergeo\",\"marker\":{\"colorbar\":{\"outlinewidth\":0,\"ticks\":\"\"}}}],\"scatterpolar\":[{\"type\":\"scatterpolar\",\"marker\":{\"colorbar\":{\"outlinewidth\":0,\"ticks\":\"\"}}}],\"histogram\":[{\"marker\":{\"pattern\":{\"fillmode\":\"overlay\",\"size\":10,\"solidity\":0.2}},\"type\":\"histogram\"}],\"scattergl\":[{\"type\":\"scattergl\",\"marker\":{\"colorbar\":{\"outlinewidth\":0,\"ticks\":\"\"}}}],\"scatter3d\":[{\"type\":\"scatter3d\",\"line\":{\"colorbar\":{\"outlinewidth\":0,\"ticks\":\"\"}},\"marker\":{\"colorbar\":{\"outlinewidth\":0,\"ticks\":\"\"}}}],\"scattermapbox\":[{\"type\":\"scattermapbox\",\"marker\":{\"colorbar\":{\"outlinewidth\":0,\"ticks\":\"\"}}}],\"scatterternary\":[{\"type\":\"scatterternary\",\"marker\":{\"colorbar\":{\"outlinewidth\":0,\"ticks\":\"\"}}}],\"scattercarpet\":[{\"type\":\"scattercarpet\",\"marker\":{\"colorbar\":{\"outlinewidth\":0,\"ticks\":\"\"}}}],\"carpet\":[{\"aaxis\":{\"endlinecolor\":\"#2a3f5f\",\"gridcolor\":\"white\",\"linecolor\":\"white\",\"minorgridcolor\":\"white\",\"startlinecolor\":\"#2a3f5f\"},\"baxis\":{\"endlinecolor\":\"#2a3f5f\",\"gridcolor\":\"white\",\"linecolor\":\"white\",\"minorgridcolor\":\"white\",\"startlinecolor\":\"#2a3f5f\"},\"type\":\"carpet\"}],\"table\":[{\"cells\":{\"fill\":{\"color\":\"#EBF0F8\"},\"line\":{\"color\":\"white\"}},\"header\":{\"fill\":{\"color\":\"#C8D4E3\"},\"line\":{\"color\":\"white\"}},\"type\":\"table\"}],\"barpolar\":[{\"marker\":{\"line\":{\"color\":\"#E5ECF6\",\"width\":0.5},\"pattern\":{\"fillmode\":\"overlay\",\"size\":10,\"solidity\":0.2}},\"type\":\"barpolar\"}],\"pie\":[{\"automargin\":true,\"type\":\"pie\"}]},\"layout\":{\"autotypenumbers\":\"strict\",\"colorway\":[\"#636efa\",\"#EF553B\",\"#00cc96\",\"#ab63fa\",\"#FFA15A\",\"#19d3f3\",\"#FF6692\",\"#B6E880\",\"#FF97FF\",\"#FECB52\"],\"font\":{\"color\":\"#2a3f5f\"},\"hovermode\":\"closest\",\"hoverlabel\":{\"align\":\"left\"},\"paper_bgcolor\":\"white\",\"plot_bgcolor\":\"#E5ECF6\",\"polar\":{\"bgcolor\":\"#E5ECF6\",\"angularaxis\":{\"gridcolor\":\"white\",\"linecolor\":\"white\",\"ticks\":\"\"},\"radialaxis\":{\"gridcolor\":\"white\",\"linecolor\":\"white\",\"ticks\":\"\"}},\"ternary\":{\"bgcolor\":\"#E5ECF6\",\"aaxis\":{\"gridcolor\":\"white\",\"linecolor\":\"white\",\"ticks\":\"\"},\"baxis\":{\"gridcolor\":\"white\",\"linecolor\":\"white\",\"ticks\":\"\"},\"caxis\":{\"gridcolor\":\"white\",\"linecolor\":\"white\",\"ticks\":\"\"}},\"coloraxis\":{\"colorbar\":{\"outlinewidth\":0,\"ticks\":\"\"}},\"colorscale\":{\"sequential\":[[0.0,\"#0d0887\"],[0.1111111111111111,\"#46039f\"],[0.2222222222222222,\"#7201a8\"],[0.3333333333333333,\"#9c179e\"],[0.4444444444444444,\"#bd3786\"],[0.5555555555555556,\"#d8576b\"],[0.6666666666666666,\"#ed7953\"],[0.7777777777777778,\"#fb9f3a\"],[0.8888888888888888,\"#fdca26\"],[1.0,\"#f0f921\"]],\"sequentialminus\":[[0.0,\"#0d0887\"],[0.1111111111111111,\"#46039f\"],[0.2222222222222222,\"#7201a8\"],[0.3333333333333333,\"#9c179e\"],[0.4444444444444444,\"#bd3786\"],[0.5555555555555556,\"#d8576b\"],[0.6666666666666666,\"#ed7953\"],[0.7777777777777778,\"#fb9f3a\"],[0.8888888888888888,\"#fdca26\"],[1.0,\"#f0f921\"]],\"diverging\":[[0,\"#8e0152\"],[0.1,\"#c51b7d\"],[0.2,\"#de77ae\"],[0.3,\"#f1b6da\"],[0.4,\"#fde0ef\"],[0.5,\"#f7f7f7\"],[0.6,\"#e6f5d0\"],[0.7,\"#b8e186\"],[0.8,\"#7fbc41\"],[0.9,\"#4d9221\"],[1,\"#276419\"]]},\"xaxis\":{\"gridcolor\":\"white\",\"linecolor\":\"white\",\"ticks\":\"\",\"title\":{\"standoff\":15},\"zerolinecolor\":\"white\",\"automargin\":true,\"zerolinewidth\":2},\"yaxis\":{\"gridcolor\":\"white\",\"linecolor\":\"white\",\"ticks\":\"\",\"title\":{\"standoff\":15},\"zerolinecolor\":\"white\",\"automargin\":true,\"zerolinewidth\":2},\"scene\":{\"xaxis\":{\"backgroundcolor\":\"#E5ECF6\",\"gridcolor\":\"white\",\"linecolor\":\"white\",\"showbackground\":true,\"ticks\":\"\",\"zerolinecolor\":\"white\",\"gridwidth\":2},\"yaxis\":{\"backgroundcolor\":\"#E5ECF6\",\"gridcolor\":\"white\",\"linecolor\":\"white\",\"showbackground\":true,\"ticks\":\"\",\"zerolinecolor\":\"white\",\"gridwidth\":2},\"zaxis\":{\"backgroundcolor\":\"#E5ECF6\",\"gridcolor\":\"white\",\"linecolor\":\"white\",\"showbackground\":true,\"ticks\":\"\",\"zerolinecolor\":\"white\",\"gridwidth\":2}},\"shapedefaults\":{\"line\":{\"color\":\"#2a3f5f\"}},\"annotationdefaults\":{\"arrowcolor\":\"#2a3f5f\",\"arrowhead\":0,\"arrowwidth\":1},\"geo\":{\"bgcolor\":\"white\",\"landcolor\":\"#E5ECF6\",\"subunitcolor\":\"white\",\"showland\":true,\"showlakes\":true,\"lakecolor\":\"white\"},\"title\":{\"x\":0.05},\"mapbox\":{\"style\":\"light\"}}},\"legend\":{\"font\":{\"size\":20},\"title\":{\"text\":\"Venue\"},\"orientation\":\"h\",\"yanchor\":\"bottom\",\"y\":1.02,\"xanchor\":\"center\",\"x\":0.5},\"font\":{\"size\":20},\"xaxis\":{\"title\":{\"text\":\"Year\",\"font\":{\"size\":24}},\"tickfont\":{\"size\":20}},\"yaxis\":{\"title\":{\"text\":\"Average Citations per Paper\",\"font\":{\"size\":24}},\"tickfont\":{\"size\":20}},\"width\":800,\"height\":600,\"hovermode\":\"x unified\"},                        {\"responsive\": true}                    ).then(function(){\n",
       "                            \n",
       "var gd = document.getElementById('d36e0b18-2840-48e6-9ff5-24bceebd989e');\n",
       "var x = new MutationObserver(function (mutations, observer) {{\n",
       "        var display = window.getComputedStyle(gd).display;\n",
       "        if (!display || display === 'none') {{\n",
       "            console.log([gd, 'removed!']);\n",
       "            Plotly.purge(gd);\n",
       "            observer.disconnect();\n",
       "        }}\n",
       "}});\n",
       "\n",
       "// Listen for the removal of the full notebook cells\n",
       "var notebookContainer = gd.closest('#notebook-container');\n",
       "if (notebookContainer) {{\n",
       "    x.observe(notebookContainer, {childList: true});\n",
       "}}\n",
       "\n",
       "// Listen for the clearing of the current output cell\n",
       "var outputEl = gd.closest('.output');\n",
       "if (outputEl) {{\n",
       "    x.observe(outputEl, {childList: true});\n",
       "}}\n",
       "\n",
       "                        })                };                });            </script>        </div>"
      ]
     },
     "metadata": {},
     "output_type": "display_data"
    }
   ],
   "source": [
    "import pandas as pd\n",
    "import plotly.graph_objects as go\n",
    "import plotly.express as px\n",
    "\n",
    "def plot_avg_citations_per_year_plotly(df, width=800, height=600, save_path=None,\n",
    "                                       legend_font_size=12, axis_title_font_size=14, \n",
    "                                       axis_tick_font_size=10, line_thickness=2,\n",
    "                                       only_overall_average=False, save_scale=3):\n",
    "    # Ensure 'year' is of type int\n",
    "    df['year'] = df['year'].astype(int)\n",
    "    \n",
    "    # Create a mapping for venue names\n",
    "    venue_mapping = {'pubmed': 'PubMed', 'CHIL': 'CHIL', 'ML4H': 'ML4H', 'MLHC': 'MLHC'}\n",
    "    df['venue_display'] = df['venue'].map(venue_mapping)\n",
    "    \n",
    "    # Calculate overall average citations per paper per year\n",
    "    overall_avg = df.groupby('year').apply(lambda x: x['citation_count'].sum() / len(x)).reset_index()\n",
    "    overall_avg.columns = ['year', 'Overall Average']\n",
    "    \n",
    "    if not only_overall_average:\n",
    "        # Group by year and venue, calculate average citations per paper\n",
    "        df_grouped = df.groupby(['year', 'venue_display']).agg({\n",
    "            'citation_count': ['sum', 'count']\n",
    "        }).reset_index()\n",
    "        \n",
    "        # Flatten the column multi-index\n",
    "        df_grouped.columns = ['_'.join(col).strip() for col in df_grouped.columns.values]\n",
    "        \n",
    "        # Rename columns for clarity\n",
    "        df_grouped = df_grouped.rename(columns={\n",
    "            'year_': 'year',\n",
    "            'venue_display_': 'venue_display',\n",
    "            'citation_count_sum': 'total_citations',\n",
    "            'citation_count_count': 'paper_count'\n",
    "        })\n",
    "        \n",
    "        # Calculate average citations\n",
    "        df_grouped['avg_citations'] = df_grouped['total_citations'] / df_grouped['paper_count']\n",
    "        \n",
    "        # Pivot the data\n",
    "        df_pivoted = df_grouped.pivot(index='year', columns='venue_display', values='avg_citations').reset_index()\n",
    "        \n",
    "        # Ensure all venues are present, fill with 0 if missing\n",
    "        all_venues = ['PubMed', 'CHIL', 'ML4H', 'MLHC']\n",
    "        for venue in all_venues:\n",
    "            if venue not in df_pivoted.columns:\n",
    "                df_pivoted[venue] = 0\n",
    "        \n",
    "        # Merge overall average with pivoted data\n",
    "        df_final = pd.merge(df_pivoted, overall_avg, on='year', how='outer')\n",
    "    else:\n",
    "        df_final = overall_avg\n",
    "    \n",
    "    # Create the line plot\n",
    "    fig = go.Figure()\n",
    "    \n",
    "    # Get the Plotly Express orange color\n",
    "    px_colors = px.colors.qualitative.Plotly\n",
    "    orange_color = px_colors[1]  # The second color in the Plotly default color sequence is orange\n",
    "    \n",
    "    if only_overall_average:\n",
    "        fig.add_trace(go.Scatter(x=df_final['year'], y=df_final['Overall Average'], \n",
    "                                 mode='lines', name='Overall Average', \n",
    "                                 line=dict(width=line_thickness, color=orange_color)))\n",
    "    else:\n",
    "        for venue in all_venues + ['Overall Average']:\n",
    "            if venue == 'Overall Average':\n",
    "                color = orange_color\n",
    "            else:\n",
    "                color = None  # Let Plotly choose colors for other venues\n",
    "            fig.add_trace(go.Scatter(x=df_final['year'], y=df_final[venue], \n",
    "                                     mode='lines', name=venue, \n",
    "                                     line=dict(width=line_thickness, color=color)))\n",
    "\n",
    "    # Update layout for better readability and customization\n",
    "    fig.update_layout(\n",
    "        width=width,\n",
    "        height=height,\n",
    "        xaxis_title='Year',\n",
    "        yaxis_title='Average Citations per Paper',\n",
    "        legend_title='Venue',\n",
    "        legend=dict(\n",
    "            orientation=\"h\",\n",
    "            yanchor=\"bottom\",\n",
    "            y=1.02,\n",
    "            xanchor=\"center\",\n",
    "            x=0.5,\n",
    "            font=dict(size=legend_font_size)\n",
    "        ),\n",
    "        hovermode='x unified',\n",
    "        font=dict(size=axis_tick_font_size),\n",
    "        xaxis=dict(\n",
    "            title=dict(font=dict(size=axis_title_font_size)),\n",
    "            tickfont=dict(size=axis_tick_font_size)\n",
    "        ),\n",
    "        yaxis=dict(\n",
    "            title=dict(font=dict(size=axis_title_font_size)),\n",
    "            tickfont=dict(size=axis_tick_font_size)\n",
    "        )\n",
    "    )\n",
    "\n",
    "    # Show the figure\n",
    "    fig.show()\n",
    "\n",
    "    # Save the figure if a save path is provided\n",
    "    if save_path:\n",
    "        fig.write_image(save_path, scale=save_scale)\n",
    "\n",
    "# Example usage\n",
    "# Assuming main_df is your DataFrame\n",
    "plot_avg_citations_per_year_plotly(\n",
    "    main_df, \n",
    "    width=800, \n",
    "    height=600, \n",
    "    save_path=\"figures/general/avg_citations_per_year_high_res.png\",\n",
    "    legend_font_size=20,\n",
    "    axis_title_font_size=24,\n",
    "    axis_tick_font_size=20,\n",
    "    line_thickness=4,\n",
    "    only_overall_average=True\n",
    ")"
   ]
  },
  {
   "cell_type": "code",
   "execution_count": 6,
   "metadata": {},
   "outputs": [
    {
     "data": {
      "application/vnd.plotly.v1+json": {
       "config": {
        "plotlyServerURL": "https://plot.ly"
       },
       "data": [
        {
         "alignmentgroup": "True",
         "boxpoints": "outliers",
         "hovertemplate": "Year=%{x}<br>Citations=%{y}<extra></extra>",
         "jitter": 0.3,
         "legendgroup": "",
         "marker": {
          "color": "rgb(141,160,203)",
          "size": 2
         },
         "name": "",
         "notched": false,
         "offsetgroup": "",
         "orientation": "v",
         "pointpos": -1.8,
         "showlegend": false,
         "type": "box",
         "x": [
          2018,
          2018,
          2018,
          2018,
          2018,
          2018,
          2018,
          2018,
          2018,
          2018,
          2018,
          2018,
          2018,
          2018,
          2018,
          2018,
          2018,
          2018,
          2018,
          2018,
          2018,
          2018,
          2018,
          2018,
          2018,
          2018,
          2018,
          2018,
          2018,
          2018,
          2018,
          2018,
          2018,
          2018,
          2018,
          2018,
          2018,
          2018,
          2018,
          2018,
          2018,
          2018,
          2018,
          2018,
          2018,
          2018,
          2018,
          2018,
          2018,
          2018,
          2018,
          2018,
          2018,
          2018,
          2018,
          2018,
          2018,
          2018,
          2018,
          2018,
          2018,
          2018,
          2018,
          2018,
          2018,
          2018,
          2018,
          2018,
          2018,
          2018,
          2018,
          2018,
          2018,
          2018,
          2018,
          2018,
          2018,
          2018,
          2018,
          2018,
          2018,
          2018,
          2018,
          2018,
          2018,
          2018,
          2018,
          2018,
          2019,
          2019,
          2019,
          2019,
          2019,
          2019,
          2019,
          2019,
          2019,
          2019,
          2019,
          2019,
          2019,
          2019,
          2019,
          2019,
          2019,
          2019,
          2019,
          2019,
          2019,
          2019,
          2019,
          2019,
          2019,
          2019,
          2019,
          2019,
          2019,
          2019,
          2019,
          2019,
          2019,
          2019,
          2019,
          2019,
          2019,
          2019,
          2019,
          2019,
          2019,
          2019,
          2019,
          2019,
          2019,
          2019,
          2019,
          2019,
          2019,
          2019,
          2019,
          2019,
          2019,
          2019,
          2019,
          2019,
          2019,
          2019,
          2019,
          2019,
          2019,
          2019,
          2019,
          2019,
          2019,
          2019,
          2019,
          2019,
          2019,
          2019,
          2019,
          2019,
          2019,
          2019,
          2019,
          2019,
          2019,
          2019,
          2019,
          2019,
          2019,
          2019,
          2019,
          2019,
          2019,
          2019,
          2019,
          2019,
          2019,
          2019,
          2019,
          2019,
          2019,
          2019,
          2019,
          2019,
          2019,
          2019,
          2019,
          2019,
          2019,
          2019,
          2019,
          2019,
          2019,
          2019,
          2019,
          2019,
          2019,
          2019,
          2019,
          2019,
          2019,
          2019,
          2019,
          2019,
          2019,
          2019,
          2019,
          2019,
          2019,
          2019,
          2019,
          2019,
          2019,
          2019,
          2019,
          2019,
          2019,
          2019,
          2019,
          2019,
          2019,
          2019,
          2019,
          2019,
          2019,
          2019,
          2019,
          2019,
          2019,
          2019,
          2019,
          2019,
          2019,
          2019,
          2019,
          2019,
          2019,
          2019,
          2019,
          2019,
          2019,
          2019,
          2019,
          2019,
          2019,
          2019,
          2020,
          2020,
          2020,
          2020,
          2020,
          2020,
          2020,
          2020,
          2020,
          2020,
          2020,
          2020,
          2020,
          2020,
          2020,
          2020,
          2020,
          2020,
          2020,
          2020,
          2020,
          2020,
          2020,
          2020,
          2020,
          2020,
          2020,
          2020,
          2020,
          2020,
          2020,
          2020,
          2020,
          2020,
          2020,
          2020,
          2020,
          2020,
          2020,
          2020,
          2020,
          2020,
          2020,
          2020,
          2020,
          2020,
          2020,
          2020,
          2020,
          2020,
          2020,
          2020,
          2020,
          2020,
          2020,
          2020,
          2020,
          2020,
          2020,
          2020,
          2020,
          2020,
          2020,
          2020,
          2020,
          2020,
          2020,
          2020,
          2020,
          2020,
          2020,
          2020,
          2020,
          2020,
          2020,
          2020,
          2020,
          2020,
          2020,
          2020,
          2020,
          2020,
          2020,
          2020,
          2020,
          2020,
          2020,
          2020,
          2020,
          2020,
          2020,
          2020,
          2020,
          2020,
          2020,
          2020,
          2020,
          2020,
          2020,
          2020,
          2020,
          2020,
          2020,
          2020,
          2020,
          2020,
          2020,
          2020,
          2020,
          2020,
          2020,
          2020,
          2020,
          2020,
          2020,
          2020,
          2020,
          2020,
          2020,
          2020,
          2020,
          2020,
          2020,
          2020,
          2020,
          2020,
          2020,
          2020,
          2020,
          2020,
          2020,
          2020,
          2020,
          2020,
          2020,
          2020,
          2020,
          2020,
          2020,
          2020,
          2020,
          2020,
          2020,
          2020,
          2020,
          2020,
          2020,
          2020,
          2020,
          2020,
          2020,
          2020,
          2020,
          2020,
          2020,
          2020,
          2020,
          2020,
          2020,
          2020,
          2020,
          2020,
          2020,
          2020,
          2020,
          2020,
          2020,
          2020,
          2020,
          2020,
          2020,
          2020,
          2020,
          2020,
          2020,
          2020,
          2020,
          2020,
          2020,
          2020,
          2020,
          2020,
          2020,
          2020,
          2020,
          2020,
          2020,
          2020,
          2020,
          2020,
          2020,
          2020,
          2020,
          2020,
          2020,
          2020,
          2020,
          2020,
          2020,
          2020,
          2020,
          2020,
          2020,
          2020,
          2020,
          2020,
          2020,
          2020,
          2020,
          2020,
          2020,
          2020,
          2020,
          2020,
          2020,
          2020,
          2020,
          2020,
          2020,
          2020,
          2020,
          2020,
          2020,
          2020,
          2020,
          2020,
          2020,
          2020,
          2020,
          2020,
          2020,
          2020,
          2020,
          2020,
          2020,
          2020,
          2020,
          2020,
          2020,
          2020,
          2020,
          2020,
          2020,
          2020,
          2020,
          2020,
          2020,
          2020,
          2020,
          2020,
          2020,
          2020,
          2020,
          2020,
          2020,
          2020,
          2020,
          2020,
          2020,
          2020,
          2020,
          2020,
          2020,
          2020,
          2020,
          2020,
          2020,
          2020,
          2020,
          2020,
          2020,
          2020,
          2020,
          2020,
          2020,
          2020,
          2020,
          2020,
          2020,
          2020,
          2020,
          2020,
          2020,
          2020,
          2020,
          2020,
          2020,
          2021,
          2021,
          2021,
          2021,
          2021,
          2021,
          2021,
          2021,
          2021,
          2021,
          2021,
          2021,
          2021,
          2021,
          2021,
          2021,
          2021,
          2021,
          2021,
          2021,
          2021,
          2021,
          2021,
          2021,
          2021,
          2021,
          2021,
          2021,
          2021,
          2021,
          2021,
          2021,
          2021,
          2021,
          2021,
          2021,
          2021,
          2021,
          2021,
          2021,
          2021,
          2021,
          2021,
          2021,
          2021,
          2021,
          2021,
          2021,
          2021,
          2021,
          2021,
          2021,
          2021,
          2021,
          2021,
          2021,
          2021,
          2021,
          2021,
          2021,
          2021,
          2021,
          2021,
          2021,
          2021,
          2021,
          2021,
          2021,
          2021,
          2021,
          2021,
          2021,
          2021,
          2021,
          2021,
          2021,
          2021,
          2021,
          2021,
          2021,
          2021,
          2021,
          2021,
          2021,
          2021,
          2021,
          2021,
          2021,
          2021,
          2021,
          2021,
          2021,
          2021,
          2021,
          2021,
          2021,
          2021,
          2021,
          2021,
          2021,
          2021,
          2021,
          2021,
          2021,
          2021,
          2021,
          2021,
          2021,
          2021,
          2021,
          2021,
          2021,
          2021,
          2021,
          2021,
          2021,
          2021,
          2021,
          2021,
          2021,
          2021,
          2021,
          2021,
          2021,
          2021,
          2021,
          2021,
          2021,
          2021,
          2021,
          2021,
          2021,
          2021,
          2021,
          2021,
          2021,
          2021,
          2021,
          2021,
          2021,
          2021,
          2021,
          2021,
          2021,
          2021,
          2021,
          2021,
          2021,
          2021,
          2021,
          2021,
          2021,
          2021,
          2021,
          2021,
          2021,
          2021,
          2021,
          2021,
          2021,
          2021,
          2021,
          2021,
          2021,
          2021,
          2021,
          2021,
          2021,
          2021,
          2021,
          2021,
          2021,
          2021,
          2021,
          2021,
          2021,
          2021,
          2021,
          2021,
          2021,
          2021,
          2021,
          2021,
          2021,
          2021,
          2021,
          2021,
          2021,
          2021,
          2021,
          2021,
          2021,
          2021,
          2021,
          2021,
          2021,
          2021,
          2021,
          2021,
          2021,
          2021,
          2021,
          2021,
          2021,
          2021,
          2021,
          2021,
          2021,
          2021,
          2021,
          2021,
          2021,
          2021,
          2021,
          2021,
          2021,
          2021,
          2021,
          2021,
          2021,
          2021,
          2021,
          2021,
          2021,
          2021,
          2021,
          2021,
          2021,
          2021,
          2021,
          2021,
          2021,
          2021,
          2021,
          2021,
          2021,
          2021,
          2021,
          2021,
          2021,
          2021,
          2021,
          2021,
          2021,
          2021,
          2021,
          2021,
          2021,
          2021,
          2021,
          2021,
          2021,
          2021,
          2021,
          2021,
          2021,
          2021,
          2021,
          2021,
          2021,
          2021,
          2021,
          2021,
          2021,
          2021,
          2021,
          2021,
          2021,
          2021,
          2021,
          2021,
          2021,
          2021,
          2021,
          2021,
          2021,
          2021,
          2021,
          2021,
          2021,
          2021,
          2021,
          2021,
          2021,
          2021,
          2021,
          2021,
          2021,
          2021,
          2021,
          2021,
          2021,
          2021,
          2021,
          2021,
          2021,
          2021,
          2021,
          2021,
          2021,
          2021,
          2021,
          2021,
          2021,
          2021,
          2021,
          2021,
          2021,
          2021,
          2021,
          2021,
          2021,
          2021,
          2021,
          2021,
          2021,
          2021,
          2021,
          2021,
          2021,
          2021,
          2021,
          2021,
          2021,
          2021,
          2021,
          2021,
          2021,
          2021,
          2021,
          2021,
          2021,
          2021,
          2021,
          2021,
          2021,
          2021,
          2021,
          2021,
          2021,
          2021,
          2021,
          2021,
          2021,
          2021,
          2021,
          2021,
          2021,
          2021,
          2021,
          2021,
          2021,
          2021,
          2021,
          2021,
          2021,
          2021,
          2021,
          2021,
          2021,
          2021,
          2021,
          2021,
          2021,
          2021,
          2021,
          2021,
          2021,
          2021,
          2021,
          2021,
          2021,
          2021,
          2021,
          2021,
          2021,
          2021,
          2021,
          2021,
          2021,
          2021,
          2021,
          2021,
          2021,
          2021,
          2021,
          2021,
          2021,
          2021,
          2021,
          2021,
          2021,
          2021,
          2021,
          2021,
          2021,
          2021,
          2021,
          2021,
          2021,
          2021,
          2021,
          2021,
          2021,
          2021,
          2021,
          2021,
          2021,
          2021,
          2021,
          2021,
          2021,
          2021,
          2021,
          2021,
          2021,
          2021,
          2021,
          2021,
          2021,
          2021,
          2021,
          2021,
          2021,
          2021,
          2021,
          2022,
          2022,
          2022,
          2022,
          2022,
          2022,
          2022,
          2022,
          2022,
          2022,
          2022,
          2022,
          2022,
          2022,
          2022,
          2022,
          2022,
          2022,
          2022,
          2022,
          2022,
          2022,
          2022,
          2022,
          2022,
          2022,
          2022,
          2022,
          2022,
          2022,
          2022,
          2022,
          2022,
          2022,
          2022,
          2022,
          2022,
          2022,
          2022,
          2022,
          2022,
          2022,
          2022,
          2022,
          2022,
          2022,
          2022,
          2022,
          2022,
          2022,
          2022,
          2022,
          2022,
          2022,
          2022,
          2022,
          2022,
          2022,
          2022,
          2022,
          2022,
          2022,
          2022,
          2022,
          2022,
          2022,
          2022,
          2022,
          2022,
          2022,
          2022,
          2022,
          2022,
          2022,
          2022,
          2022,
          2022,
          2022,
          2022,
          2022,
          2022,
          2022,
          2022,
          2022,
          2022,
          2022,
          2022,
          2022,
          2022,
          2022,
          2022,
          2022,
          2022,
          2022,
          2022,
          2022,
          2022,
          2022,
          2022,
          2022,
          2022,
          2022,
          2022,
          2022,
          2022,
          2022,
          2022,
          2022,
          2022,
          2022,
          2022,
          2022,
          2022,
          2022,
          2022,
          2022,
          2022,
          2022,
          2022,
          2022,
          2022,
          2022,
          2022,
          2022,
          2022,
          2022,
          2022,
          2022,
          2022,
          2022,
          2022,
          2022,
          2022,
          2022,
          2022,
          2022,
          2022,
          2022,
          2022,
          2022,
          2022,
          2022,
          2022,
          2022,
          2022,
          2022,
          2022,
          2022,
          2022,
          2022,
          2022,
          2022,
          2022,
          2022,
          2022,
          2022,
          2022,
          2022,
          2022,
          2022,
          2022,
          2022,
          2022,
          2022,
          2022,
          2022,
          2022,
          2022,
          2022,
          2022,
          2022,
          2022,
          2022,
          2022,
          2022,
          2022,
          2022,
          2022,
          2022,
          2022,
          2022,
          2022,
          2022,
          2022,
          2022,
          2022,
          2022,
          2022,
          2022,
          2022,
          2022,
          2022,
          2022,
          2022,
          2022,
          2022,
          2022,
          2022,
          2022,
          2022,
          2022,
          2022,
          2022,
          2022,
          2022,
          2022,
          2022,
          2022,
          2022,
          2022,
          2022,
          2022,
          2022,
          2022,
          2022,
          2022,
          2022,
          2022,
          2022,
          2022,
          2022,
          2022,
          2022,
          2022,
          2022,
          2022,
          2022,
          2022,
          2022,
          2022,
          2022,
          2022,
          2022,
          2022,
          2022,
          2022,
          2022,
          2022,
          2022,
          2022,
          2022,
          2022,
          2022,
          2022,
          2022,
          2022,
          2022,
          2022,
          2022,
          2022,
          2022,
          2022,
          2022,
          2022,
          2022,
          2022,
          2022,
          2022,
          2022,
          2022,
          2022,
          2022,
          2022,
          2022,
          2022,
          2022,
          2022,
          2022,
          2022,
          2022,
          2022,
          2022,
          2022,
          2022,
          2022,
          2022,
          2022,
          2022,
          2022,
          2022,
          2022,
          2022,
          2022,
          2022,
          2022,
          2022,
          2022,
          2022,
          2022,
          2022,
          2022,
          2022,
          2022,
          2022,
          2022,
          2022,
          2022,
          2022,
          2022,
          2022,
          2022,
          2022,
          2022,
          2022,
          2022,
          2022,
          2022,
          2022,
          2022,
          2022,
          2022,
          2022,
          2022,
          2022,
          2022,
          2022,
          2022,
          2022,
          2022,
          2022,
          2022,
          2022,
          2022,
          2022,
          2022,
          2022,
          2022,
          2022,
          2022,
          2022,
          2022,
          2022,
          2022,
          2022,
          2022,
          2022,
          2022,
          2022,
          2022,
          2022,
          2022,
          2022,
          2022,
          2022,
          2022,
          2022,
          2022,
          2022,
          2022,
          2022,
          2022,
          2022,
          2022,
          2022,
          2022,
          2022,
          2022,
          2022,
          2022,
          2022,
          2022,
          2022,
          2022,
          2022,
          2022,
          2022,
          2022,
          2022,
          2022,
          2022,
          2022,
          2022,
          2022,
          2022,
          2022,
          2022,
          2022,
          2022,
          2022,
          2022,
          2022,
          2022,
          2022,
          2022,
          2022,
          2022,
          2022,
          2022,
          2022,
          2022,
          2022,
          2022,
          2022,
          2022,
          2022,
          2022,
          2022,
          2022,
          2022,
          2022,
          2022,
          2022,
          2022,
          2022,
          2022,
          2022,
          2022,
          2022,
          2022,
          2022,
          2022,
          2022,
          2022,
          2022,
          2022,
          2022,
          2022,
          2022,
          2022,
          2022,
          2022,
          2022,
          2022,
          2022,
          2022,
          2022,
          2022,
          2022,
          2022,
          2022,
          2022,
          2022,
          2022,
          2022,
          2022,
          2022,
          2022,
          2022,
          2022,
          2022,
          2022,
          2022,
          2022,
          2022,
          2022,
          2022,
          2022,
          2022,
          2022,
          2022,
          2022,
          2022,
          2022,
          2023,
          2023,
          2023,
          2023,
          2023,
          2023,
          2023,
          2023,
          2023,
          2023,
          2023,
          2023,
          2023,
          2023,
          2023,
          2023,
          2023,
          2023,
          2023,
          2023,
          2023,
          2023,
          2023,
          2023,
          2023,
          2023,
          2023,
          2023,
          2023,
          2023,
          2023,
          2023,
          2023,
          2023,
          2023,
          2023,
          2023,
          2023,
          2023,
          2023,
          2023,
          2023,
          2023,
          2023,
          2023,
          2023,
          2023,
          2023,
          2023,
          2023,
          2023,
          2023,
          2023,
          2023,
          2023,
          2023,
          2023,
          2023,
          2023,
          2023,
          2023,
          2023,
          2023,
          2023,
          2023,
          2023,
          2023,
          2023,
          2023,
          2023,
          2023,
          2023,
          2023,
          2023,
          2023,
          2023,
          2023,
          2023,
          2023,
          2023,
          2023,
          2023,
          2023,
          2023,
          2023,
          2023,
          2023,
          2023,
          2023,
          2023,
          2023,
          2023,
          2023,
          2023,
          2023,
          2023,
          2023,
          2023,
          2023,
          2023,
          2023,
          2023,
          2023,
          2023,
          2023,
          2023,
          2023,
          2023,
          2023,
          2023,
          2023,
          2023,
          2023,
          2023,
          2023,
          2023,
          2023,
          2023,
          2023,
          2023,
          2023,
          2023,
          2023,
          2023,
          2023,
          2023,
          2023,
          2023,
          2023,
          2023,
          2023,
          2023,
          2023,
          2023,
          2023,
          2023,
          2023,
          2023,
          2023,
          2023,
          2023,
          2023,
          2023,
          2023,
          2023,
          2023,
          2023,
          2023,
          2023,
          2023,
          2023,
          2023,
          2023,
          2023,
          2023,
          2023,
          2023,
          2023,
          2023,
          2023,
          2023,
          2023,
          2023,
          2023,
          2023,
          2023,
          2023,
          2023,
          2023,
          2023,
          2023,
          2023,
          2023,
          2023,
          2023,
          2023,
          2023,
          2023,
          2023,
          2023,
          2023,
          2023,
          2023,
          2023,
          2023,
          2023,
          2023,
          2023,
          2023,
          2023,
          2023,
          2023,
          2023,
          2023,
          2023,
          2023,
          2023,
          2023,
          2023,
          2023,
          2023,
          2023,
          2023,
          2023,
          2023,
          2023,
          2023,
          2023,
          2023,
          2023,
          2023,
          2023,
          2023,
          2023,
          2023,
          2023,
          2023,
          2023,
          2023,
          2023,
          2023,
          2023,
          2023,
          2023,
          2023,
          2023,
          2023,
          2023,
          2023,
          2023,
          2023,
          2023,
          2023,
          2023,
          2023,
          2023,
          2023,
          2023,
          2023,
          2023,
          2023,
          2023,
          2023,
          2023,
          2023,
          2023,
          2023,
          2023,
          2023,
          2023,
          2023,
          2023,
          2023,
          2023,
          2023,
          2023,
          2023,
          2023,
          2023,
          2023,
          2023,
          2023,
          2023,
          2023,
          2023,
          2023,
          2023,
          2023,
          2023,
          2023,
          2023,
          2023,
          2023,
          2023,
          2023,
          2023,
          2023,
          2023,
          2023,
          2023,
          2023,
          2023,
          2023,
          2023,
          2023,
          2023,
          2023,
          2023,
          2023,
          2023,
          2023,
          2023,
          2023,
          2023,
          2023,
          2023,
          2023,
          2023,
          2023,
          2023,
          2023,
          2023,
          2023,
          2023,
          2023,
          2023,
          2023,
          2023,
          2023,
          2023,
          2023,
          2023,
          2023,
          2023,
          2023,
          2023,
          2023,
          2023,
          2023,
          2023,
          2023,
          2023,
          2023,
          2023,
          2023,
          2023,
          2023,
          2023,
          2023,
          2023,
          2023,
          2023,
          2023,
          2023,
          2023,
          2023,
          2023,
          2023,
          2023,
          2023,
          2023,
          2023,
          2023,
          2023,
          2023,
          2023,
          2023,
          2023,
          2023,
          2023,
          2023,
          2023,
          2023,
          2023,
          2023,
          2023,
          2023,
          2023,
          2023,
          2023,
          2023,
          2023,
          2023,
          2023,
          2023,
          2023,
          2023,
          2023,
          2023,
          2023,
          2023,
          2023,
          2023,
          2023,
          2023,
          2023,
          2023,
          2023,
          2023,
          2023,
          2023,
          2023,
          2023,
          2023,
          2023,
          2023,
          2023,
          2023,
          2023,
          2023,
          2023,
          2023,
          2023,
          2023,
          2023,
          2023,
          2023,
          2023,
          2023,
          2023,
          2023,
          2023,
          2023,
          2023,
          2023,
          2023,
          2023,
          2023,
          2023,
          2023,
          2023,
          2023,
          2023,
          2023,
          2023,
          2023,
          2023,
          2023,
          2023,
          2023,
          2023,
          2023,
          2023,
          2023,
          2023,
          2023,
          2023,
          2023,
          2023,
          2023,
          2023,
          2023,
          2023,
          2023,
          2023,
          2023,
          2023,
          2023,
          2023,
          2023,
          2023,
          2023,
          2023,
          2023,
          2023,
          2023,
          2023,
          2023,
          2023,
          2023,
          2023,
          2023,
          2023,
          2023,
          2023,
          2023,
          2023,
          2023,
          2023,
          2023,
          2023,
          2023,
          2023,
          2023,
          2023,
          2023,
          2023,
          2023,
          2023,
          2023,
          2023,
          2023,
          2023,
          2023,
          2024,
          2024,
          2024,
          2024,
          2024,
          2024,
          2024,
          2024,
          2024,
          2024,
          2024,
          2024,
          2024,
          2024,
          2024,
          2024,
          2024,
          2024,
          2024,
          2024,
          2024,
          2024,
          2024,
          2024,
          2024,
          2024,
          2024,
          2024,
          2024,
          2024,
          2024,
          2024,
          2024,
          2024,
          2024,
          2024,
          2024,
          2024,
          2024,
          2024,
          2024,
          2024,
          2024,
          2024,
          2024,
          2024,
          2024,
          2024,
          2024,
          2024,
          2024,
          2024,
          2024,
          2024,
          2024,
          2024,
          2024,
          2024,
          2024,
          2024,
          2024,
          2024,
          2024,
          2024,
          2024,
          2024,
          2024,
          2024,
          2024,
          2024,
          2024,
          2024,
          2024,
          2024,
          2024,
          2024,
          2024,
          2024,
          2024,
          2024,
          2024,
          2024,
          2024,
          2024,
          2024,
          2024,
          2024,
          2024,
          2024,
          2024,
          2024,
          2024,
          2024,
          2024,
          2024,
          2024,
          2024,
          2024,
          2024,
          2024,
          2024,
          2024,
          2024,
          2024,
          2024,
          2024,
          2024,
          2024,
          2024,
          2024,
          2024,
          2024,
          2024,
          2024,
          2024,
          2024,
          2024,
          2024,
          2024,
          2024,
          2024,
          2024,
          2024,
          2024,
          2024,
          2024,
          2024,
          2024,
          2024,
          2024,
          2024,
          2024,
          2024,
          2024,
          2024,
          2024,
          2024,
          2024,
          2024,
          2024,
          2024,
          2024,
          2024,
          2024,
          2024,
          2024,
          2024,
          2024,
          2024,
          2024,
          2024,
          2024,
          2024,
          2024,
          2024,
          2024,
          2024,
          2024,
          2024,
          2024,
          2024,
          2024,
          2024,
          2024,
          2024,
          2024,
          2024,
          2024,
          2024,
          2024,
          2024,
          2024,
          2024,
          2024,
          2024,
          2024,
          2024,
          2024,
          2024,
          2024,
          2024,
          2024,
          2024,
          2024,
          2024,
          2024,
          2024,
          2024,
          2024,
          2024,
          2024,
          2024,
          2024,
          2024,
          2024,
          2024,
          2020,
          2020,
          2020,
          2020,
          2020,
          2020,
          2020,
          2020,
          2020,
          2020,
          2020,
          2020,
          2020,
          2020,
          2020,
          2020,
          2020,
          2020,
          2020,
          2020,
          2020,
          2020,
          2020,
          2021,
          2021,
          2021,
          2021,
          2021,
          2021,
          2021,
          2021,
          2021,
          2021,
          2021,
          2021,
          2021,
          2021,
          2021,
          2021,
          2021,
          2021,
          2021,
          2021,
          2021,
          2021,
          2021,
          2021,
          2021,
          2021,
          2022,
          2022,
          2022,
          2022,
          2022,
          2022,
          2022,
          2022,
          2022,
          2022,
          2022,
          2022,
          2022,
          2022,
          2022,
          2022,
          2022,
          2022,
          2022,
          2022,
          2022,
          2022,
          2022,
          2023,
          2023,
          2023,
          2023,
          2023,
          2023,
          2023,
          2023,
          2023,
          2023,
          2023,
          2023,
          2023,
          2023,
          2023,
          2023,
          2023,
          2023,
          2023,
          2023,
          2023,
          2023,
          2023,
          2023,
          2023,
          2023,
          2023,
          2023,
          2023,
          2023,
          2023,
          2023,
          2023,
          2023,
          2023,
          2023,
          2024,
          2024,
          2024,
          2024,
          2024,
          2024,
          2024,
          2024,
          2024,
          2024,
          2024,
          2024,
          2024,
          2024,
          2024,
          2024,
          2024,
          2024,
          2024,
          2024,
          2024,
          2024,
          2024,
          2024,
          2024,
          2024,
          2024,
          2024,
          2024,
          2024,
          2024,
          2024,
          2024,
          2024,
          2024,
          2024,
          2024,
          2024,
          2024,
          2019,
          2019,
          2019,
          2019,
          2019,
          2019,
          2019,
          2019,
          2019,
          2019,
          2019,
          2019,
          2019,
          2019,
          2019,
          2019,
          2019,
          2020,
          2020,
          2020,
          2020,
          2020,
          2020,
          2020,
          2020,
          2020,
          2020,
          2020,
          2020,
          2020,
          2020,
          2020,
          2020,
          2020,
          2020,
          2020,
          2020,
          2020,
          2020,
          2020,
          2020,
          2021,
          2021,
          2021,
          2021,
          2021,
          2021,
          2021,
          2021,
          2021,
          2021,
          2021,
          2021,
          2021,
          2021,
          2021,
          2021,
          2021,
          2021,
          2022,
          2022,
          2022,
          2022,
          2022,
          2022,
          2022,
          2022,
          2022,
          2022,
          2022,
          2022,
          2022,
          2022,
          2022,
          2022,
          2022,
          2022,
          2022,
          2022,
          2022,
          2022,
          2022,
          2022,
          2022,
          2022,
          2022,
          2023,
          2023,
          2023,
          2023,
          2023,
          2023,
          2023,
          2023,
          2023,
          2023,
          2023,
          2023,
          2023,
          2023,
          2023,
          2023,
          2023,
          2023,
          2023,
          2023,
          2023,
          2023,
          2023,
          2023,
          2023,
          2023,
          2023,
          2023,
          2023,
          2023,
          2023,
          2023,
          2023,
          2023,
          2023,
          2023,
          2023,
          2018,
          2018,
          2018,
          2018,
          2018,
          2018,
          2018,
          2018,
          2018,
          2018,
          2018,
          2018,
          2018,
          2018,
          2018,
          2018,
          2018,
          2018,
          2018,
          2018,
          2018,
          2018,
          2018,
          2018,
          2018,
          2019,
          2019,
          2019,
          2019,
          2019,
          2019,
          2019,
          2019,
          2019,
          2019,
          2019,
          2019,
          2019,
          2019,
          2019,
          2019,
          2019,
          2019,
          2019,
          2019,
          2019,
          2019,
          2019,
          2019,
          2019,
          2019,
          2019,
          2019,
          2019,
          2019,
          2019,
          2019,
          2019,
          2019,
          2019,
          2019,
          2019,
          2019,
          2019,
          2020,
          2020,
          2020,
          2020,
          2020,
          2020,
          2020,
          2020,
          2020,
          2020,
          2020,
          2020,
          2020,
          2020,
          2020,
          2020,
          2020,
          2020,
          2020,
          2020,
          2020,
          2020,
          2020,
          2020,
          2020,
          2020,
          2020,
          2020,
          2020,
          2020,
          2020,
          2020,
          2020,
          2020,
          2020,
          2020,
          2020,
          2020,
          2020,
          2020,
          2020,
          2020,
          2020,
          2020,
          2020,
          2020,
          2020,
          2020,
          2021,
          2021,
          2021,
          2021,
          2021,
          2021,
          2021,
          2021,
          2021,
          2021,
          2021,
          2021,
          2021,
          2021,
          2021,
          2021,
          2021,
          2021,
          2021,
          2021,
          2021,
          2021,
          2021,
          2021,
          2021,
          2021,
          2021,
          2021,
          2021,
          2021,
          2022,
          2022,
          2022,
          2022,
          2022,
          2022,
          2022,
          2022,
          2022,
          2022,
          2022,
          2022,
          2022,
          2022,
          2022,
          2022,
          2022,
          2022,
          2022,
          2022,
          2022,
          2022,
          2022,
          2022,
          2022,
          2022,
          2022,
          2022,
          2022,
          2022,
          2022,
          2022,
          2022,
          2022,
          2022,
          2022,
          2022,
          2022,
          2022,
          2022,
          2022,
          2022,
          2022,
          2022,
          2022,
          2022,
          2022,
          2022,
          2022,
          2022,
          2022,
          2022,
          2023,
          2023,
          2023,
          2023,
          2023,
          2023,
          2023,
          2023,
          2023,
          2023,
          2023,
          2023,
          2023,
          2023,
          2023,
          2023,
          2023,
          2023,
          2023,
          2023,
          2023,
          2023,
          2023,
          2023,
          2023,
          2023,
          2023,
          2023,
          2023,
          2023,
          2023,
          2023,
          2023,
          2023,
          2023,
          2023,
          2023,
          2023,
          2023,
          2023,
          2023,
          2023,
          2023,
          2023,
          2023,
          2023,
          2023,
          2023,
          2023,
          2023,
          2023,
          2023,
          2023,
          2023,
          2023,
          2023,
          2023,
          2023,
          2023,
          2023,
          2023,
          2023,
          2023,
          2023
         ],
         "x0": " ",
         "xaxis": "x",
         "y": [
          0,
          100,
          57,
          17,
          8,
          3,
          24,
          7,
          6,
          13,
          1,
          32,
          21,
          84,
          100,
          7,
          23,
          7,
          14,
          5,
          8,
          3,
          35,
          1,
          28,
          100,
          65,
          23,
          15,
          16,
          2,
          13,
          7,
          100,
          70,
          9,
          37,
          22,
          6,
          23,
          45,
          20,
          57,
          72,
          4,
          96,
          50,
          100,
          21,
          100,
          16,
          56,
          54,
          55,
          17,
          4,
          45,
          2,
          7,
          7,
          100,
          11,
          15,
          33,
          76,
          28,
          32,
          34,
          16,
          100,
          15,
          7,
          9,
          3,
          100,
          9,
          14,
          10,
          36,
          21,
          5,
          10,
          10,
          63,
          79,
          29,
          14,
          7,
          56,
          3,
          5,
          7,
          89,
          23,
          17,
          70,
          33,
          31,
          8,
          5,
          13,
          16,
          15,
          11,
          13,
          15,
          3,
          28,
          13,
          23,
          30,
          9,
          47,
          12,
          30,
          20,
          2,
          12,
          15,
          14,
          19,
          7,
          12,
          100,
          5,
          25,
          3,
          18,
          46,
          13,
          10,
          43,
          6,
          2,
          45,
          17,
          2,
          10,
          4,
          4,
          9,
          22,
          20,
          100,
          12,
          36,
          100,
          5,
          39,
          5,
          100,
          18,
          6,
          26,
          10,
          44,
          18,
          65,
          2,
          29,
          73,
          16,
          20,
          2,
          34,
          9,
          31,
          15,
          8,
          20,
          53,
          100,
          12,
          15,
          8,
          82,
          21,
          31,
          12,
          32,
          10,
          14,
          3,
          15,
          4,
          10,
          31,
          13,
          18,
          8,
          100,
          24,
          1,
          21,
          9,
          3,
          34,
          21,
          0,
          42,
          4,
          45,
          7,
          46,
          15,
          10,
          27,
          100,
          16,
          5,
          6,
          3,
          44,
          6,
          100,
          21,
          20,
          15,
          64,
          33,
          100,
          8,
          10,
          7,
          0,
          27,
          0,
          100,
          26,
          16,
          17,
          10,
          14,
          10,
          25,
          80,
          83,
          23,
          70,
          100,
          40,
          14,
          33,
          100,
          2,
          1,
          6,
          0,
          68,
          16,
          66,
          6,
          67,
          2,
          37,
          31,
          28,
          37,
          20,
          26,
          30,
          9,
          18,
          5,
          3,
          19,
          100,
          17,
          9,
          17,
          23,
          8,
          7,
          23,
          4,
          43,
          10,
          20,
          1,
          53,
          4,
          15,
          28,
          15,
          8,
          3,
          82,
          8,
          18,
          7,
          14,
          15,
          19,
          31,
          100,
          23,
          4,
          16,
          20,
          8,
          12,
          92,
          8,
          25,
          16,
          12,
          11,
          18,
          6,
          44,
          22,
          7,
          2,
          17,
          21,
          50,
          9,
          12,
          100,
          19,
          5,
          8,
          51,
          41,
          20,
          100,
          13,
          34,
          45,
          100,
          4,
          4,
          24,
          5,
          14,
          29,
          30,
          31,
          35,
          48,
          15,
          7,
          11,
          97,
          18,
          100,
          14,
          52,
          12,
          36,
          82,
          16,
          11,
          42,
          16,
          70,
          17,
          56,
          11,
          23,
          100,
          25,
          8,
          10,
          59,
          52,
          19,
          19,
          23,
          56,
          100,
          29,
          100,
          5,
          12,
          3,
          7,
          11,
          11,
          12,
          6,
          5,
          32,
          4,
          19,
          0,
          20,
          19,
          15,
          1,
          35,
          72,
          48,
          8,
          15,
          4,
          11,
          30,
          10,
          14,
          58,
          2,
          8,
          28,
          7,
          37,
          1,
          43,
          8,
          1,
          4,
          66,
          4,
          29,
          84,
          20,
          13,
          26,
          10,
          5,
          23,
          45,
          85,
          14,
          16,
          4,
          14,
          25,
          3,
          1,
          91,
          46,
          5,
          5,
          44,
          10,
          31,
          13,
          9,
          9,
          19,
          33,
          35,
          23,
          10,
          7,
          5,
          12,
          45,
          1,
          17,
          20,
          5,
          14,
          47,
          2,
          24,
          13,
          25,
          7,
          10,
          2,
          4,
          7,
          12,
          59,
          69,
          10,
          14,
          39,
          3,
          11,
          19,
          31,
          11,
          12,
          1,
          8,
          10,
          100,
          0,
          0,
          40,
          11,
          31,
          8,
          21,
          21,
          3,
          14,
          20,
          16,
          13,
          4,
          14,
          9,
          100,
          4,
          9,
          51,
          100,
          11,
          35,
          3,
          36,
          4,
          0,
          6,
          24,
          4,
          0,
          2,
          0,
          24,
          21,
          5,
          15,
          44,
          12,
          100,
          4,
          18,
          19,
          14,
          100,
          41,
          1,
          68,
          9,
          18,
          1,
          12,
          52,
          7,
          21,
          2,
          12,
          1,
          2,
          77,
          6,
          26,
          38,
          24,
          10,
          5,
          13,
          8,
          3,
          53,
          39,
          13,
          19,
          62,
          8,
          5,
          1,
          6,
          2,
          7,
          2,
          1,
          15,
          14,
          6,
          8,
          18,
          46,
          11,
          39,
          35,
          20,
          33,
          3,
          17,
          54,
          1,
          7,
          100,
          11,
          6,
          14,
          18,
          9,
          7,
          12,
          15,
          7,
          0,
          50,
          62,
          3,
          16,
          3,
          21,
          5,
          5,
          12,
          14,
          4,
          12,
          30,
          1,
          14,
          14,
          17,
          4,
          3,
          19,
          10,
          7,
          4,
          9,
          32,
          1,
          4,
          6,
          5,
          18,
          5,
          17,
          11,
          28,
          30,
          16,
          18,
          9,
          6,
          4,
          15,
          10,
          23,
          9,
          5,
          9,
          30,
          100,
          1,
          5,
          3,
          14,
          5,
          1,
          23,
          5,
          14,
          1,
          18,
          17,
          6,
          14,
          2,
          22,
          8,
          4,
          5,
          8,
          36,
          41,
          3,
          11,
          100,
          6,
          21,
          16,
          18,
          10,
          10,
          3,
          3,
          15,
          25,
          3,
          0,
          7,
          31,
          4,
          5,
          13,
          8,
          10,
          8,
          30,
          29,
          6,
          3,
          10,
          8,
          12,
          13,
          16,
          100,
          18,
          4,
          7,
          16,
          6,
          70,
          19,
          20,
          33,
          6,
          4,
          44,
          32,
          25,
          6,
          2,
          5,
          1,
          10,
          11,
          2,
          1,
          20,
          4,
          34,
          4,
          44,
          6,
          4,
          31,
          2,
          1,
          29,
          5,
          9,
          7,
          21,
          15,
          0,
          2,
          13,
          3,
          10,
          4,
          15,
          10,
          68,
          6,
          37,
          15,
          22,
          6,
          1,
          7,
          2,
          6,
          12,
          1,
          16,
          13,
          14,
          10,
          15,
          29,
          0,
          23,
          11,
          5,
          5,
          9,
          12,
          5,
          3,
          3,
          8,
          12,
          8,
          2,
          7,
          0,
          19,
          38,
          2,
          15,
          2,
          4,
          9,
          18,
          4,
          74,
          14,
          1,
          15,
          52,
          22,
          13,
          1,
          20,
          22,
          3,
          8,
          13,
          4,
          3,
          21,
          20,
          6,
          67,
          10,
          52,
          2,
          44,
          3,
          9,
          12,
          2,
          11,
          6,
          82,
          2,
          1,
          8,
          7,
          9,
          11,
          13,
          17,
          30,
          7,
          1,
          1,
          1,
          29,
          2,
          17,
          7,
          10,
          16,
          13,
          9,
          10,
          28,
          33,
          4,
          9,
          0,
          5,
          5,
          4,
          2,
          6,
          11,
          16,
          7,
          15,
          21,
          12,
          10,
          16,
          5,
          10,
          31,
          18,
          9,
          13,
          7,
          26,
          0,
          12,
          11,
          14,
          23,
          6,
          16,
          1,
          56,
          22,
          3,
          6,
          27,
          7,
          53,
          22,
          72,
          3,
          2,
          12,
          37,
          1,
          18,
          24,
          1,
          14,
          15,
          2,
          22,
          4,
          7,
          4,
          9,
          2,
          1,
          35,
          23,
          16,
          6,
          6,
          1,
          14,
          60,
          11,
          1,
          24,
          21,
          28,
          19,
          30,
          6,
          19,
          2,
          8,
          6,
          7,
          9,
          2,
          8,
          2,
          1,
          100,
          11,
          0,
          15,
          4,
          23,
          26,
          10,
          11,
          41,
          0,
          5,
          6,
          7,
          5,
          1,
          13,
          60,
          0,
          3,
          14,
          25,
          3,
          3,
          10,
          29,
          1,
          9,
          11,
          12,
          14,
          8,
          2,
          2,
          13,
          12,
          12,
          7,
          3,
          6,
          34,
          0,
          3,
          12,
          8,
          3,
          7,
          46,
          3,
          1,
          5,
          100,
          15,
          4,
          34,
          0,
          40,
          0,
          2,
          4,
          3,
          13,
          3,
          16,
          5,
          12,
          0,
          1,
          7,
          1,
          22,
          23,
          5,
          1,
          5,
          0,
          12,
          2,
          5,
          3,
          3,
          2,
          3,
          0,
          5,
          0,
          1,
          3,
          5,
          7,
          5,
          11,
          6,
          3,
          1,
          0,
          2,
          8,
          0,
          24,
          3,
          2,
          4,
          27,
          6,
          97,
          5,
          6,
          2,
          4,
          1,
          2,
          2,
          8,
          6,
          2,
          1,
          3,
          6,
          1,
          8,
          6,
          13,
          6,
          7,
          2,
          23,
          7,
          11,
          1,
          20,
          19,
          25,
          6,
          1,
          4,
          1,
          19,
          12,
          1,
          2,
          1,
          3,
          20,
          10,
          3,
          7,
          9,
          8,
          5,
          8,
          2,
          1,
          5,
          6,
          6,
          0,
          3,
          16,
          2,
          0,
          4,
          7,
          0,
          20,
          5,
          5,
          5,
          4,
          6,
          4,
          7,
          13,
          10,
          4,
          5,
          12,
          4,
          4,
          2,
          10,
          2,
          2,
          4,
          14,
          44,
          4,
          1,
          2,
          4,
          43,
          3,
          2,
          0,
          5,
          7,
          1,
          0,
          8,
          8,
          19,
          5,
          1,
          12,
          0,
          42,
          6,
          0,
          89,
          6,
          1,
          12,
          2,
          7,
          5,
          21,
          12,
          4,
          54,
          8,
          1,
          2,
          4,
          2,
          13,
          3,
          13,
          8,
          10,
          2,
          0,
          2,
          7,
          2,
          6,
          41,
          56,
          5,
          29,
          10,
          7,
          3,
          8,
          4,
          5,
          12,
          15,
          0,
          2,
          3,
          12,
          14,
          3,
          2,
          5,
          1,
          2,
          2,
          4,
          1,
          5,
          4,
          2,
          13,
          7,
          2,
          4,
          16,
          8,
          2,
          3,
          2,
          6,
          3,
          11,
          50,
          0,
          0,
          7,
          3,
          1,
          3,
          3,
          2,
          4,
          6,
          1,
          9,
          1,
          12,
          5,
          22,
          1,
          8,
          8,
          4,
          8,
          5,
          6,
          2,
          2,
          0,
          8,
          0,
          4,
          5,
          16,
          15,
          3,
          13,
          5,
          5,
          18,
          3,
          10,
          3,
          12,
          4,
          2,
          8,
          8,
          29,
          22,
          0,
          1,
          6,
          33,
          8,
          17,
          5,
          11,
          8,
          1,
          21,
          80,
          5,
          4,
          6,
          6,
          7,
          3,
          2,
          3,
          1,
          4,
          11,
          9,
          4,
          29,
          71,
          8,
          100,
          3,
          1,
          1,
          3,
          4,
          8,
          5,
          16,
          1,
          0,
          12,
          13,
          10,
          29,
          4,
          26,
          1,
          2,
          12,
          5,
          0,
          6,
          6,
          2,
          5,
          7,
          27,
          6,
          6,
          5,
          0,
          1,
          4,
          3,
          1,
          7,
          67,
          0,
          19,
          0,
          86,
          2,
          2,
          4,
          5,
          1,
          6,
          26,
          10,
          7,
          1,
          3,
          11,
          0,
          1,
          10,
          20,
          3,
          6,
          1,
          54,
          6,
          2,
          1,
          17,
          9,
          7,
          2,
          6,
          3,
          3,
          2,
          7,
          1,
          5,
          3,
          2,
          3,
          8,
          2,
          14,
          6,
          6,
          46,
          12,
          0,
          2,
          8,
          3,
          7,
          1,
          10,
          9,
          1,
          5,
          11,
          4,
          5,
          4,
          5,
          2,
          1,
          1,
          6,
          6,
          0,
          3,
          4,
          23,
          12,
          3,
          4,
          7,
          27,
          6,
          1,
          1,
          4,
          1,
          4,
          4,
          5,
          26,
          1,
          11,
          3,
          14,
          0,
          14,
          9,
          11,
          5,
          6,
          21,
          24,
          4,
          4,
          6,
          3,
          3,
          0,
          3,
          2,
          5,
          2,
          1,
          97,
          2,
          4,
          13,
          1,
          4,
          2,
          1,
          0,
          2,
          19,
          0,
          3,
          0,
          3,
          0,
          2,
          0,
          1,
          1,
          0,
          1,
          2,
          2,
          4,
          2,
          3,
          7,
          0,
          4,
          0,
          2,
          0,
          2,
          3,
          2,
          7,
          0,
          5,
          0,
          0,
          2,
          1,
          1,
          1,
          1,
          2,
          4,
          7,
          5,
          16,
          2,
          3,
          1,
          0,
          5,
          1,
          0,
          6,
          0,
          3,
          0,
          4,
          6,
          5,
          2,
          2,
          1,
          1,
          2,
          5,
          0,
          1,
          0,
          0,
          11,
          0,
          0,
          1,
          0,
          6,
          1,
          7,
          2,
          4,
          2,
          3,
          1,
          0,
          0,
          4,
          4,
          1,
          0,
          1,
          4,
          5,
          5,
          1,
          2,
          2,
          2,
          0,
          1,
          4,
          3,
          4,
          0,
          1,
          0,
          1,
          1,
          0,
          1,
          2,
          0,
          1,
          3,
          0,
          4,
          0,
          1,
          0,
          1,
          14,
          0,
          4,
          9,
          4,
          2,
          1,
          3,
          4,
          3,
          0,
          0,
          0,
          0,
          0,
          3,
          0,
          0,
          7,
          13,
          0,
          0,
          2,
          1,
          3,
          1,
          3,
          1,
          1,
          4,
          1,
          3,
          3,
          1,
          0,
          5,
          0,
          0,
          1,
          0,
          2,
          3,
          3,
          2,
          1,
          0,
          2,
          0,
          4,
          0,
          1,
          3,
          0,
          0,
          0,
          0,
          3,
          2,
          11,
          4,
          2,
          0,
          2,
          4,
          1,
          0,
          2,
          0,
          4,
          2,
          0,
          12,
          2,
          1,
          3,
          1,
          1,
          5,
          4,
          0,
          1,
          1,
          3,
          8,
          0,
          5,
          0,
          0,
          15,
          0,
          0,
          0,
          6,
          4,
          2,
          24,
          0,
          0,
          0,
          4,
          4,
          0,
          1,
          0,
          3,
          0,
          2,
          1,
          23,
          0,
          21,
          0,
          3,
          11,
          0,
          0,
          4,
          73,
          2,
          4,
          0,
          10,
          1,
          5,
          1,
          69,
          2,
          0,
          3,
          0,
          0,
          3,
          2,
          0,
          0,
          1,
          4,
          2,
          0,
          1,
          0,
          8,
          2,
          0,
          6,
          2,
          0,
          2,
          5,
          0,
          0,
          2,
          0,
          4,
          8,
          2,
          2,
          1,
          6,
          26,
          100,
          1,
          11,
          1,
          0,
          4,
          0,
          0,
          1,
          0,
          7,
          6,
          0,
          8,
          2,
          0,
          4,
          0,
          10,
          1,
          1,
          1,
          1,
          3,
          0,
          1,
          4,
          1,
          1,
          1,
          1,
          3,
          4,
          7,
          6,
          5,
          0,
          0,
          3,
          0,
          1,
          2,
          2,
          2,
          2,
          1,
          3,
          100,
          1,
          1,
          0,
          1,
          2,
          4,
          2,
          0,
          5,
          0,
          5,
          0,
          2,
          4,
          1,
          0,
          1,
          0,
          4,
          0,
          5,
          26,
          1,
          0,
          1,
          0,
          0,
          3,
          7,
          1,
          0,
          2,
          3,
          5,
          1,
          3,
          1,
          0,
          2,
          0,
          0,
          3,
          9,
          5,
          4,
          1,
          5,
          1,
          3,
          1,
          2,
          14,
          6,
          0,
          3,
          1,
          2,
          0,
          2,
          1,
          0,
          0,
          1,
          0,
          4,
          0,
          2,
          1,
          0,
          2,
          35,
          2,
          2,
          0,
          0,
          4,
          8,
          0,
          2,
          1,
          0,
          2,
          0,
          1,
          5,
          1,
          4,
          2,
          3,
          4,
          8,
          1,
          1,
          1,
          50,
          2,
          2,
          1,
          5,
          21,
          4,
          1,
          0,
          5,
          4,
          10,
          2,
          4,
          6,
          0,
          1,
          1,
          0,
          15,
          7,
          2,
          4,
          0,
          0,
          11,
          2,
          1,
          1,
          2,
          5,
          16,
          4,
          0,
          1,
          3,
          3,
          1,
          3,
          6,
          7,
          0,
          0,
          1,
          1,
          0,
          0,
          0,
          0,
          0,
          0,
          0,
          1,
          0,
          0,
          0,
          0,
          1,
          1,
          0,
          0,
          2,
          0,
          0,
          0,
          0,
          0,
          1,
          0,
          0,
          2,
          0,
          0,
          12,
          1,
          0,
          0,
          0,
          2,
          2,
          0,
          0,
          0,
          0,
          10,
          0,
          0,
          1,
          0,
          0,
          0,
          0,
          0,
          0,
          0,
          0,
          0,
          0,
          0,
          1,
          0,
          2,
          1,
          14,
          2,
          0,
          2,
          0,
          0,
          0,
          0,
          0,
          1,
          0,
          0,
          0,
          0,
          0,
          0,
          6,
          0,
          0,
          1,
          1,
          0,
          0,
          1,
          0,
          1,
          0,
          0,
          0,
          2,
          0,
          0,
          0,
          0,
          0,
          0,
          0,
          0,
          4,
          0,
          1,
          0,
          0,
          0,
          0,
          0,
          1,
          0,
          0,
          0,
          0,
          0,
          0,
          1,
          0,
          0,
          0,
          1,
          0,
          0,
          0,
          0,
          0,
          0,
          0,
          0,
          0,
          0,
          0,
          1,
          0,
          0,
          0,
          0,
          0,
          2,
          0,
          0,
          0,
          0,
          0,
          0,
          1,
          0,
          0,
          0,
          0,
          0,
          0,
          0,
          1,
          1,
          1,
          0,
          1,
          0,
          0,
          1,
          0,
          0,
          1,
          0,
          1,
          0,
          1,
          1,
          0,
          4,
          1,
          0,
          0,
          0,
          0,
          0,
          0,
          0,
          0,
          0,
          0,
          0,
          0,
          0,
          0,
          0,
          1,
          1,
          0,
          1,
          0,
          0,
          5,
          0,
          0,
          0,
          0,
          1,
          100,
          36,
          6,
          9,
          22,
          1,
          14,
          37,
          8,
          23,
          100,
          25,
          11,
          9,
          5,
          7,
          30,
          28,
          12,
          30,
          100,
          100,
          30,
          1,
          1,
          24,
          34,
          47,
          17,
          27,
          4,
          33,
          25,
          27,
          100,
          8,
          9,
          9,
          45,
          17,
          10,
          20,
          14,
          40,
          51,
          13,
          19,
          3,
          9,
          1,
          0,
          2,
          8,
          7,
          3,
          11,
          5,
          6,
          5,
          14,
          51,
          4,
          100,
          14,
          17,
          10,
          25,
          4,
          6,
          4,
          9,
          1,
          2,
          1,
          11,
          4,
          6,
          11,
          0,
          5,
          1,
          8,
          19,
          2,
          12,
          4,
          4,
          4,
          1,
          0,
          0,
          0,
          3,
          5,
          5,
          1,
          8,
          2,
          1,
          3,
          3,
          5,
          2,
          13,
          1,
          2,
          100,
          0,
          2,
          0,
          0,
          0,
          2,
          0,
          1,
          0,
          0,
          0,
          0,
          0,
          0,
          1,
          0,
          2,
          1,
          0,
          2,
          3,
          1,
          2,
          0,
          0,
          0,
          100,
          0,
          8,
          0,
          29,
          0,
          4,
          1,
          0,
          0,
          0,
          1,
          0,
          2,
          67,
          20,
          31,
          15,
          2,
          12,
          5,
          9,
          43,
          18,
          100,
          44,
          14,
          23,
          11,
          15,
          12,
          14,
          1,
          7,
          34,
          4,
          31,
          3,
          3,
          5,
          0,
          3,
          100,
          7,
          19,
          38,
          29,
          10,
          53,
          17,
          51,
          2,
          0,
          10,
          6,
          3,
          4,
          38,
          7,
          1,
          4,
          16,
          16,
          41,
          2,
          27,
          15,
          59,
          5,
          42,
          37,
          26,
          7,
          1,
          10,
          1,
          1,
          8,
          2,
          0,
          9,
          2,
          26,
          1,
          1,
          4,
          5,
          10,
          1,
          8,
          4,
          0,
          39,
          6,
          0,
          1,
          1,
          1,
          1,
          1,
          1,
          1,
          2,
          60,
          2,
          0,
          0,
          1,
          0,
          0,
          3,
          1,
          6,
          1,
          4,
          0,
          0,
          0,
          0,
          100,
          0,
          4,
          2,
          0,
          0,
          0,
          0,
          2,
          3,
          2,
          0,
          0,
          0,
          1,
          4,
          4,
          14,
          11,
          2,
          0,
          84,
          7,
          3,
          10,
          57,
          13,
          11,
          8,
          33,
          92,
          0,
          50,
          2,
          45,
          46,
          16,
          54,
          22,
          40,
          65,
          32,
          51,
          12,
          0,
          5,
          4,
          12,
          4,
          54,
          11,
          100,
          3,
          100,
          100,
          15,
          4,
          17,
          4,
          53,
          100,
          100,
          2,
          10,
          14,
          6,
          19,
          18,
          41,
          25,
          14,
          5,
          4,
          11,
          9,
          1,
          1,
          18,
          0,
          0,
          0,
          14,
          3,
          19,
          3,
          22,
          15,
          2,
          3,
          3,
          5,
          8,
          18,
          3,
          0,
          4,
          4,
          9,
          20,
          28,
          5,
          20,
          39,
          15,
          29,
          9,
          19,
          12,
          7,
          24,
          16,
          40,
          14,
          11,
          10,
          3,
          35,
          6,
          9,
          33,
          34,
          17,
          0,
          3,
          22,
          2,
          0,
          0,
          25,
          60,
          30,
          9,
          6,
          2,
          2,
          1,
          6,
          34,
          28,
          7,
          7,
          6,
          100,
          4,
          14,
          22,
          1,
          19,
          0,
          12,
          8,
          1,
          21,
          3,
          49,
          6,
          2,
          73,
          1,
          100,
          0,
          3,
          4,
          2,
          2,
          5,
          12,
          6,
          4,
          1,
          6,
          4,
          3,
          10,
          2,
          0,
          2,
          2,
          16,
          16,
          3,
          1,
          17,
          11,
          7,
          2,
          6,
          10,
          7,
          6,
          0,
          9,
          1,
          9,
          1,
          5,
          0,
          2,
          34,
          3,
          0,
          0,
          9,
          1,
          0,
          32,
          13,
          16,
          1,
          0,
          94,
          2,
          0,
          0,
          0,
          1,
          0,
          37,
          7,
          3,
          2,
          1,
          1,
          0,
          0,
          12,
          0,
          4,
          1,
          1,
          0,
          6,
          2,
          3,
          2,
          0,
          0,
          3,
          18,
          1,
          2,
          1,
          3,
          0,
          2,
          1,
          0,
          4,
          6,
          2,
          0,
          5,
          21,
          8,
          1,
          0,
          0,
          3,
          0,
          100,
          0,
          23,
          10,
          4,
          30,
          52,
          51,
          100,
          0,
          6,
          7,
          24,
          13,
          22,
          9
         ],
         "y0": " ",
         "yaxis": "y"
        }
       ],
       "layout": {
        "boxmode": "group",
        "font": {
         "size": 20
        },
        "height": 400,
        "legend": {
         "tracegroupgap": 0
        },
        "margin": {
         "t": 60
        },
        "plot_bgcolor": "white",
        "showlegend": false,
        "template": {
         "data": {
          "bar": [
           {
            "error_x": {
             "color": "#2a3f5f"
            },
            "error_y": {
             "color": "#2a3f5f"
            },
            "marker": {
             "line": {
              "color": "#E5ECF6",
              "width": 0.5
             },
             "pattern": {
              "fillmode": "overlay",
              "size": 10,
              "solidity": 0.2
             }
            },
            "type": "bar"
           }
          ],
          "barpolar": [
           {
            "marker": {
             "line": {
              "color": "#E5ECF6",
              "width": 0.5
             },
             "pattern": {
              "fillmode": "overlay",
              "size": 10,
              "solidity": 0.2
             }
            },
            "type": "barpolar"
           }
          ],
          "carpet": [
           {
            "aaxis": {
             "endlinecolor": "#2a3f5f",
             "gridcolor": "white",
             "linecolor": "white",
             "minorgridcolor": "white",
             "startlinecolor": "#2a3f5f"
            },
            "baxis": {
             "endlinecolor": "#2a3f5f",
             "gridcolor": "white",
             "linecolor": "white",
             "minorgridcolor": "white",
             "startlinecolor": "#2a3f5f"
            },
            "type": "carpet"
           }
          ],
          "choropleth": [
           {
            "colorbar": {
             "outlinewidth": 0,
             "ticks": ""
            },
            "type": "choropleth"
           }
          ],
          "contour": [
           {
            "colorbar": {
             "outlinewidth": 0,
             "ticks": ""
            },
            "colorscale": [
             [
              0,
              "#0d0887"
             ],
             [
              0.1111111111111111,
              "#46039f"
             ],
             [
              0.2222222222222222,
              "#7201a8"
             ],
             [
              0.3333333333333333,
              "#9c179e"
             ],
             [
              0.4444444444444444,
              "#bd3786"
             ],
             [
              0.5555555555555556,
              "#d8576b"
             ],
             [
              0.6666666666666666,
              "#ed7953"
             ],
             [
              0.7777777777777778,
              "#fb9f3a"
             ],
             [
              0.8888888888888888,
              "#fdca26"
             ],
             [
              1,
              "#f0f921"
             ]
            ],
            "type": "contour"
           }
          ],
          "contourcarpet": [
           {
            "colorbar": {
             "outlinewidth": 0,
             "ticks": ""
            },
            "type": "contourcarpet"
           }
          ],
          "heatmap": [
           {
            "colorbar": {
             "outlinewidth": 0,
             "ticks": ""
            },
            "colorscale": [
             [
              0,
              "#0d0887"
             ],
             [
              0.1111111111111111,
              "#46039f"
             ],
             [
              0.2222222222222222,
              "#7201a8"
             ],
             [
              0.3333333333333333,
              "#9c179e"
             ],
             [
              0.4444444444444444,
              "#bd3786"
             ],
             [
              0.5555555555555556,
              "#d8576b"
             ],
             [
              0.6666666666666666,
              "#ed7953"
             ],
             [
              0.7777777777777778,
              "#fb9f3a"
             ],
             [
              0.8888888888888888,
              "#fdca26"
             ],
             [
              1,
              "#f0f921"
             ]
            ],
            "type": "heatmap"
           }
          ],
          "heatmapgl": [
           {
            "colorbar": {
             "outlinewidth": 0,
             "ticks": ""
            },
            "colorscale": [
             [
              0,
              "#0d0887"
             ],
             [
              0.1111111111111111,
              "#46039f"
             ],
             [
              0.2222222222222222,
              "#7201a8"
             ],
             [
              0.3333333333333333,
              "#9c179e"
             ],
             [
              0.4444444444444444,
              "#bd3786"
             ],
             [
              0.5555555555555556,
              "#d8576b"
             ],
             [
              0.6666666666666666,
              "#ed7953"
             ],
             [
              0.7777777777777778,
              "#fb9f3a"
             ],
             [
              0.8888888888888888,
              "#fdca26"
             ],
             [
              1,
              "#f0f921"
             ]
            ],
            "type": "heatmapgl"
           }
          ],
          "histogram": [
           {
            "marker": {
             "pattern": {
              "fillmode": "overlay",
              "size": 10,
              "solidity": 0.2
             }
            },
            "type": "histogram"
           }
          ],
          "histogram2d": [
           {
            "colorbar": {
             "outlinewidth": 0,
             "ticks": ""
            },
            "colorscale": [
             [
              0,
              "#0d0887"
             ],
             [
              0.1111111111111111,
              "#46039f"
             ],
             [
              0.2222222222222222,
              "#7201a8"
             ],
             [
              0.3333333333333333,
              "#9c179e"
             ],
             [
              0.4444444444444444,
              "#bd3786"
             ],
             [
              0.5555555555555556,
              "#d8576b"
             ],
             [
              0.6666666666666666,
              "#ed7953"
             ],
             [
              0.7777777777777778,
              "#fb9f3a"
             ],
             [
              0.8888888888888888,
              "#fdca26"
             ],
             [
              1,
              "#f0f921"
             ]
            ],
            "type": "histogram2d"
           }
          ],
          "histogram2dcontour": [
           {
            "colorbar": {
             "outlinewidth": 0,
             "ticks": ""
            },
            "colorscale": [
             [
              0,
              "#0d0887"
             ],
             [
              0.1111111111111111,
              "#46039f"
             ],
             [
              0.2222222222222222,
              "#7201a8"
             ],
             [
              0.3333333333333333,
              "#9c179e"
             ],
             [
              0.4444444444444444,
              "#bd3786"
             ],
             [
              0.5555555555555556,
              "#d8576b"
             ],
             [
              0.6666666666666666,
              "#ed7953"
             ],
             [
              0.7777777777777778,
              "#fb9f3a"
             ],
             [
              0.8888888888888888,
              "#fdca26"
             ],
             [
              1,
              "#f0f921"
             ]
            ],
            "type": "histogram2dcontour"
           }
          ],
          "mesh3d": [
           {
            "colorbar": {
             "outlinewidth": 0,
             "ticks": ""
            },
            "type": "mesh3d"
           }
          ],
          "parcoords": [
           {
            "line": {
             "colorbar": {
              "outlinewidth": 0,
              "ticks": ""
             }
            },
            "type": "parcoords"
           }
          ],
          "pie": [
           {
            "automargin": true,
            "type": "pie"
           }
          ],
          "scatter": [
           {
            "fillpattern": {
             "fillmode": "overlay",
             "size": 10,
             "solidity": 0.2
            },
            "type": "scatter"
           }
          ],
          "scatter3d": [
           {
            "line": {
             "colorbar": {
              "outlinewidth": 0,
              "ticks": ""
             }
            },
            "marker": {
             "colorbar": {
              "outlinewidth": 0,
              "ticks": ""
             }
            },
            "type": "scatter3d"
           }
          ],
          "scattercarpet": [
           {
            "marker": {
             "colorbar": {
              "outlinewidth": 0,
              "ticks": ""
             }
            },
            "type": "scattercarpet"
           }
          ],
          "scattergeo": [
           {
            "marker": {
             "colorbar": {
              "outlinewidth": 0,
              "ticks": ""
             }
            },
            "type": "scattergeo"
           }
          ],
          "scattergl": [
           {
            "marker": {
             "colorbar": {
              "outlinewidth": 0,
              "ticks": ""
             }
            },
            "type": "scattergl"
           }
          ],
          "scattermapbox": [
           {
            "marker": {
             "colorbar": {
              "outlinewidth": 0,
              "ticks": ""
             }
            },
            "type": "scattermapbox"
           }
          ],
          "scatterpolar": [
           {
            "marker": {
             "colorbar": {
              "outlinewidth": 0,
              "ticks": ""
             }
            },
            "type": "scatterpolar"
           }
          ],
          "scatterpolargl": [
           {
            "marker": {
             "colorbar": {
              "outlinewidth": 0,
              "ticks": ""
             }
            },
            "type": "scatterpolargl"
           }
          ],
          "scatterternary": [
           {
            "marker": {
             "colorbar": {
              "outlinewidth": 0,
              "ticks": ""
             }
            },
            "type": "scatterternary"
           }
          ],
          "surface": [
           {
            "colorbar": {
             "outlinewidth": 0,
             "ticks": ""
            },
            "colorscale": [
             [
              0,
              "#0d0887"
             ],
             [
              0.1111111111111111,
              "#46039f"
             ],
             [
              0.2222222222222222,
              "#7201a8"
             ],
             [
              0.3333333333333333,
              "#9c179e"
             ],
             [
              0.4444444444444444,
              "#bd3786"
             ],
             [
              0.5555555555555556,
              "#d8576b"
             ],
             [
              0.6666666666666666,
              "#ed7953"
             ],
             [
              0.7777777777777778,
              "#fb9f3a"
             ],
             [
              0.8888888888888888,
              "#fdca26"
             ],
             [
              1,
              "#f0f921"
             ]
            ],
            "type": "surface"
           }
          ],
          "table": [
           {
            "cells": {
             "fill": {
              "color": "#EBF0F8"
             },
             "line": {
              "color": "white"
             }
            },
            "header": {
             "fill": {
              "color": "#C8D4E3"
             },
             "line": {
              "color": "white"
             }
            },
            "type": "table"
           }
          ]
         },
         "layout": {
          "annotationdefaults": {
           "arrowcolor": "#2a3f5f",
           "arrowhead": 0,
           "arrowwidth": 1
          },
          "autotypenumbers": "strict",
          "coloraxis": {
           "colorbar": {
            "outlinewidth": 0,
            "ticks": ""
           }
          },
          "colorscale": {
           "diverging": [
            [
             0,
             "#8e0152"
            ],
            [
             0.1,
             "#c51b7d"
            ],
            [
             0.2,
             "#de77ae"
            ],
            [
             0.3,
             "#f1b6da"
            ],
            [
             0.4,
             "#fde0ef"
            ],
            [
             0.5,
             "#f7f7f7"
            ],
            [
             0.6,
             "#e6f5d0"
            ],
            [
             0.7,
             "#b8e186"
            ],
            [
             0.8,
             "#7fbc41"
            ],
            [
             0.9,
             "#4d9221"
            ],
            [
             1,
             "#276419"
            ]
           ],
           "sequential": [
            [
             0,
             "#0d0887"
            ],
            [
             0.1111111111111111,
             "#46039f"
            ],
            [
             0.2222222222222222,
             "#7201a8"
            ],
            [
             0.3333333333333333,
             "#9c179e"
            ],
            [
             0.4444444444444444,
             "#bd3786"
            ],
            [
             0.5555555555555556,
             "#d8576b"
            ],
            [
             0.6666666666666666,
             "#ed7953"
            ],
            [
             0.7777777777777778,
             "#fb9f3a"
            ],
            [
             0.8888888888888888,
             "#fdca26"
            ],
            [
             1,
             "#f0f921"
            ]
           ],
           "sequentialminus": [
            [
             0,
             "#0d0887"
            ],
            [
             0.1111111111111111,
             "#46039f"
            ],
            [
             0.2222222222222222,
             "#7201a8"
            ],
            [
             0.3333333333333333,
             "#9c179e"
            ],
            [
             0.4444444444444444,
             "#bd3786"
            ],
            [
             0.5555555555555556,
             "#d8576b"
            ],
            [
             0.6666666666666666,
             "#ed7953"
            ],
            [
             0.7777777777777778,
             "#fb9f3a"
            ],
            [
             0.8888888888888888,
             "#fdca26"
            ],
            [
             1,
             "#f0f921"
            ]
           ]
          },
          "colorway": [
           "#636efa",
           "#EF553B",
           "#00cc96",
           "#ab63fa",
           "#FFA15A",
           "#19d3f3",
           "#FF6692",
           "#B6E880",
           "#FF97FF",
           "#FECB52"
          ],
          "font": {
           "color": "#2a3f5f"
          },
          "geo": {
           "bgcolor": "white",
           "lakecolor": "white",
           "landcolor": "#E5ECF6",
           "showlakes": true,
           "showland": true,
           "subunitcolor": "white"
          },
          "hoverlabel": {
           "align": "left"
          },
          "hovermode": "closest",
          "mapbox": {
           "style": "light"
          },
          "paper_bgcolor": "white",
          "plot_bgcolor": "#E5ECF6",
          "polar": {
           "angularaxis": {
            "gridcolor": "white",
            "linecolor": "white",
            "ticks": ""
           },
           "bgcolor": "#E5ECF6",
           "radialaxis": {
            "gridcolor": "white",
            "linecolor": "white",
            "ticks": ""
           }
          },
          "scene": {
           "xaxis": {
            "backgroundcolor": "#E5ECF6",
            "gridcolor": "white",
            "gridwidth": 2,
            "linecolor": "white",
            "showbackground": true,
            "ticks": "",
            "zerolinecolor": "white"
           },
           "yaxis": {
            "backgroundcolor": "#E5ECF6",
            "gridcolor": "white",
            "gridwidth": 2,
            "linecolor": "white",
            "showbackground": true,
            "ticks": "",
            "zerolinecolor": "white"
           },
           "zaxis": {
            "backgroundcolor": "#E5ECF6",
            "gridcolor": "white",
            "gridwidth": 2,
            "linecolor": "white",
            "showbackground": true,
            "ticks": "",
            "zerolinecolor": "white"
           }
          },
          "shapedefaults": {
           "line": {
            "color": "#2a3f5f"
           }
          },
          "ternary": {
           "aaxis": {
            "gridcolor": "white",
            "linecolor": "white",
            "ticks": ""
           },
           "baxis": {
            "gridcolor": "white",
            "linecolor": "white",
            "ticks": ""
           },
           "bgcolor": "#E5ECF6",
           "caxis": {
            "gridcolor": "white",
            "linecolor": "white",
            "ticks": ""
           }
          },
          "title": {
           "x": 0.05
          },
          "xaxis": {
           "automargin": true,
           "gridcolor": "white",
           "linecolor": "white",
           "ticks": "",
           "title": {
            "standoff": 15
           },
           "zerolinecolor": "white",
           "zerolinewidth": 2
          },
          "yaxis": {
           "automargin": true,
           "gridcolor": "white",
           "linecolor": "white",
           "ticks": "",
           "title": {
            "standoff": 15
           },
           "zerolinecolor": "white",
           "zerolinewidth": 2
          }
         }
        },
        "width": 800,
        "xaxis": {
         "anchor": "y",
         "domain": [
          0,
          1
         ],
         "tickfont": {
          "size": 20
         },
         "title": {
          "font": {
           "size": 24
          },
          "text": "Year"
         }
        },
        "yaxis": {
         "anchor": "x",
         "domain": [
          0,
          1
         ],
         "range": [
          0,
          100
         ],
         "tickfont": {
          "size": 20
         },
         "title": {
          "font": {
           "size": 24
          },
          "text": "Citations"
         },
         "zeroline": true,
         "zerolinecolor": "lightgray",
         "zerolinewidth": 2
        }
       }
      },
      "text/html": [
       "<div>                            <div id=\"b075f96d-c73a-488d-aa2f-533c9896f91d\" class=\"plotly-graph-div\" style=\"height:400px; width:800px;\"></div>            <script type=\"text/javascript\">                require([\"plotly\"], function(Plotly) {                    window.PLOTLYENV=window.PLOTLYENV || {};                                    if (document.getElementById(\"b075f96d-c73a-488d-aa2f-533c9896f91d\")) {                    Plotly.newPlot(                        \"b075f96d-c73a-488d-aa2f-533c9896f91d\",                        [{\"alignmentgroup\":\"True\",\"hovertemplate\":\"Year=%{x}\\u003cbr\\u003eCitations=%{y}\\u003cextra\\u003e\\u003c\\u002fextra\\u003e\",\"legendgroup\":\"\",\"marker\":{\"color\":\"rgb(141,160,203)\",\"size\":2},\"name\":\"\",\"notched\":false,\"offsetgroup\":\"\",\"orientation\":\"v\",\"showlegend\":false,\"x\":[2018,2018,2018,2018,2018,2018,2018,2018,2018,2018,2018,2018,2018,2018,2018,2018,2018,2018,2018,2018,2018,2018,2018,2018,2018,2018,2018,2018,2018,2018,2018,2018,2018,2018,2018,2018,2018,2018,2018,2018,2018,2018,2018,2018,2018,2018,2018,2018,2018,2018,2018,2018,2018,2018,2018,2018,2018,2018,2018,2018,2018,2018,2018,2018,2018,2018,2018,2018,2018,2018,2018,2018,2018,2018,2018,2018,2018,2018,2018,2018,2018,2018,2018,2018,2018,2018,2018,2018,2019,2019,2019,2019,2019,2019,2019,2019,2019,2019,2019,2019,2019,2019,2019,2019,2019,2019,2019,2019,2019,2019,2019,2019,2019,2019,2019,2019,2019,2019,2019,2019,2019,2019,2019,2019,2019,2019,2019,2019,2019,2019,2019,2019,2019,2019,2019,2019,2019,2019,2019,2019,2019,2019,2019,2019,2019,2019,2019,2019,2019,2019,2019,2019,2019,2019,2019,2019,2019,2019,2019,2019,2019,2019,2019,2019,2019,2019,2019,2019,2019,2019,2019,2019,2019,2019,2019,2019,2019,2019,2019,2019,2019,2019,2019,2019,2019,2019,2019,2019,2019,2019,2019,2019,2019,2019,2019,2019,2019,2019,2019,2019,2019,2019,2019,2019,2019,2019,2019,2019,2019,2019,2019,2019,2019,2019,2019,2019,2019,2019,2019,2019,2019,2019,2019,2019,2019,2019,2019,2019,2019,2019,2019,2019,2019,2019,2019,2019,2019,2019,2019,2019,2019,2019,2019,2019,2019,2019,2020,2020,2020,2020,2020,2020,2020,2020,2020,2020,2020,2020,2020,2020,2020,2020,2020,2020,2020,2020,2020,2020,2020,2020,2020,2020,2020,2020,2020,2020,2020,2020,2020,2020,2020,2020,2020,2020,2020,2020,2020,2020,2020,2020,2020,2020,2020,2020,2020,2020,2020,2020,2020,2020,2020,2020,2020,2020,2020,2020,2020,2020,2020,2020,2020,2020,2020,2020,2020,2020,2020,2020,2020,2020,2020,2020,2020,2020,2020,2020,2020,2020,2020,2020,2020,2020,2020,2020,2020,2020,2020,2020,2020,2020,2020,2020,2020,2020,2020,2020,2020,2020,2020,2020,2020,2020,2020,2020,2020,2020,2020,2020,2020,2020,2020,2020,2020,2020,2020,2020,2020,2020,2020,2020,2020,2020,2020,2020,2020,2020,2020,2020,2020,2020,2020,2020,2020,2020,2020,2020,2020,2020,2020,2020,2020,2020,2020,2020,2020,2020,2020,2020,2020,2020,2020,2020,2020,2020,2020,2020,2020,2020,2020,2020,2020,2020,2020,2020,2020,2020,2020,2020,2020,2020,2020,2020,2020,2020,2020,2020,2020,2020,2020,2020,2020,2020,2020,2020,2020,2020,2020,2020,2020,2020,2020,2020,2020,2020,2020,2020,2020,2020,2020,2020,2020,2020,2020,2020,2020,2020,2020,2020,2020,2020,2020,2020,2020,2020,2020,2020,2020,2020,2020,2020,2020,2020,2020,2020,2020,2020,2020,2020,2020,2020,2020,2020,2020,2020,2020,2020,2020,2020,2020,2020,2020,2020,2020,2020,2020,2020,2020,2020,2020,2020,2020,2020,2020,2020,2020,2020,2020,2020,2020,2020,2020,2020,2020,2020,2020,2020,2020,2020,2020,2020,2020,2020,2020,2020,2020,2020,2020,2020,2020,2020,2020,2020,2020,2021,2021,2021,2021,2021,2021,2021,2021,2021,2021,2021,2021,2021,2021,2021,2021,2021,2021,2021,2021,2021,2021,2021,2021,2021,2021,2021,2021,2021,2021,2021,2021,2021,2021,2021,2021,2021,2021,2021,2021,2021,2021,2021,2021,2021,2021,2021,2021,2021,2021,2021,2021,2021,2021,2021,2021,2021,2021,2021,2021,2021,2021,2021,2021,2021,2021,2021,2021,2021,2021,2021,2021,2021,2021,2021,2021,2021,2021,2021,2021,2021,2021,2021,2021,2021,2021,2021,2021,2021,2021,2021,2021,2021,2021,2021,2021,2021,2021,2021,2021,2021,2021,2021,2021,2021,2021,2021,2021,2021,2021,2021,2021,2021,2021,2021,2021,2021,2021,2021,2021,2021,2021,2021,2021,2021,2021,2021,2021,2021,2021,2021,2021,2021,2021,2021,2021,2021,2021,2021,2021,2021,2021,2021,2021,2021,2021,2021,2021,2021,2021,2021,2021,2021,2021,2021,2021,2021,2021,2021,2021,2021,2021,2021,2021,2021,2021,2021,2021,2021,2021,2021,2021,2021,2021,2021,2021,2021,2021,2021,2021,2021,2021,2021,2021,2021,2021,2021,2021,2021,2021,2021,2021,2021,2021,2021,2021,2021,2021,2021,2021,2021,2021,2021,2021,2021,2021,2021,2021,2021,2021,2021,2021,2021,2021,2021,2021,2021,2021,2021,2021,2021,2021,2021,2021,2021,2021,2021,2021,2021,2021,2021,2021,2021,2021,2021,2021,2021,2021,2021,2021,2021,2021,2021,2021,2021,2021,2021,2021,2021,2021,2021,2021,2021,2021,2021,2021,2021,2021,2021,2021,2021,2021,2021,2021,2021,2021,2021,2021,2021,2021,2021,2021,2021,2021,2021,2021,2021,2021,2021,2021,2021,2021,2021,2021,2021,2021,2021,2021,2021,2021,2021,2021,2021,2021,2021,2021,2021,2021,2021,2021,2021,2021,2021,2021,2021,2021,2021,2021,2021,2021,2021,2021,2021,2021,2021,2021,2021,2021,2021,2021,2021,2021,2021,2021,2021,2021,2021,2021,2021,2021,2021,2021,2021,2021,2021,2021,2021,2021,2021,2021,2021,2021,2021,2021,2021,2021,2021,2021,2021,2021,2021,2021,2021,2021,2021,2021,2021,2021,2021,2021,2021,2021,2021,2021,2021,2021,2021,2021,2021,2021,2021,2021,2021,2021,2021,2021,2021,2021,2021,2021,2021,2021,2021,2021,2021,2021,2021,2021,2021,2021,2021,2021,2021,2021,2021,2021,2021,2021,2021,2021,2021,2021,2021,2021,2021,2021,2021,2021,2021,2021,2021,2021,2021,2021,2021,2021,2021,2021,2021,2021,2021,2021,2021,2021,2021,2021,2022,2022,2022,2022,2022,2022,2022,2022,2022,2022,2022,2022,2022,2022,2022,2022,2022,2022,2022,2022,2022,2022,2022,2022,2022,2022,2022,2022,2022,2022,2022,2022,2022,2022,2022,2022,2022,2022,2022,2022,2022,2022,2022,2022,2022,2022,2022,2022,2022,2022,2022,2022,2022,2022,2022,2022,2022,2022,2022,2022,2022,2022,2022,2022,2022,2022,2022,2022,2022,2022,2022,2022,2022,2022,2022,2022,2022,2022,2022,2022,2022,2022,2022,2022,2022,2022,2022,2022,2022,2022,2022,2022,2022,2022,2022,2022,2022,2022,2022,2022,2022,2022,2022,2022,2022,2022,2022,2022,2022,2022,2022,2022,2022,2022,2022,2022,2022,2022,2022,2022,2022,2022,2022,2022,2022,2022,2022,2022,2022,2022,2022,2022,2022,2022,2022,2022,2022,2022,2022,2022,2022,2022,2022,2022,2022,2022,2022,2022,2022,2022,2022,2022,2022,2022,2022,2022,2022,2022,2022,2022,2022,2022,2022,2022,2022,2022,2022,2022,2022,2022,2022,2022,2022,2022,2022,2022,2022,2022,2022,2022,2022,2022,2022,2022,2022,2022,2022,2022,2022,2022,2022,2022,2022,2022,2022,2022,2022,2022,2022,2022,2022,2022,2022,2022,2022,2022,2022,2022,2022,2022,2022,2022,2022,2022,2022,2022,2022,2022,2022,2022,2022,2022,2022,2022,2022,2022,2022,2022,2022,2022,2022,2022,2022,2022,2022,2022,2022,2022,2022,2022,2022,2022,2022,2022,2022,2022,2022,2022,2022,2022,2022,2022,2022,2022,2022,2022,2022,2022,2022,2022,2022,2022,2022,2022,2022,2022,2022,2022,2022,2022,2022,2022,2022,2022,2022,2022,2022,2022,2022,2022,2022,2022,2022,2022,2022,2022,2022,2022,2022,2022,2022,2022,2022,2022,2022,2022,2022,2022,2022,2022,2022,2022,2022,2022,2022,2022,2022,2022,2022,2022,2022,2022,2022,2022,2022,2022,2022,2022,2022,2022,2022,2022,2022,2022,2022,2022,2022,2022,2022,2022,2022,2022,2022,2022,2022,2022,2022,2022,2022,2022,2022,2022,2022,2022,2022,2022,2022,2022,2022,2022,2022,2022,2022,2022,2022,2022,2022,2022,2022,2022,2022,2022,2022,2022,2022,2022,2022,2022,2022,2022,2022,2022,2022,2022,2022,2022,2022,2022,2022,2022,2022,2022,2022,2022,2022,2022,2022,2022,2022,2022,2022,2022,2022,2022,2022,2022,2022,2022,2022,2022,2022,2022,2022,2022,2022,2022,2022,2022,2022,2022,2022,2022,2022,2022,2022,2022,2022,2022,2022,2022,2022,2022,2022,2022,2022,2022,2022,2022,2022,2022,2022,2022,2022,2022,2022,2022,2022,2022,2022,2022,2022,2022,2022,2022,2022,2022,2022,2022,2022,2022,2022,2022,2022,2023,2023,2023,2023,2023,2023,2023,2023,2023,2023,2023,2023,2023,2023,2023,2023,2023,2023,2023,2023,2023,2023,2023,2023,2023,2023,2023,2023,2023,2023,2023,2023,2023,2023,2023,2023,2023,2023,2023,2023,2023,2023,2023,2023,2023,2023,2023,2023,2023,2023,2023,2023,2023,2023,2023,2023,2023,2023,2023,2023,2023,2023,2023,2023,2023,2023,2023,2023,2023,2023,2023,2023,2023,2023,2023,2023,2023,2023,2023,2023,2023,2023,2023,2023,2023,2023,2023,2023,2023,2023,2023,2023,2023,2023,2023,2023,2023,2023,2023,2023,2023,2023,2023,2023,2023,2023,2023,2023,2023,2023,2023,2023,2023,2023,2023,2023,2023,2023,2023,2023,2023,2023,2023,2023,2023,2023,2023,2023,2023,2023,2023,2023,2023,2023,2023,2023,2023,2023,2023,2023,2023,2023,2023,2023,2023,2023,2023,2023,2023,2023,2023,2023,2023,2023,2023,2023,2023,2023,2023,2023,2023,2023,2023,2023,2023,2023,2023,2023,2023,2023,2023,2023,2023,2023,2023,2023,2023,2023,2023,2023,2023,2023,2023,2023,2023,2023,2023,2023,2023,2023,2023,2023,2023,2023,2023,2023,2023,2023,2023,2023,2023,2023,2023,2023,2023,2023,2023,2023,2023,2023,2023,2023,2023,2023,2023,2023,2023,2023,2023,2023,2023,2023,2023,2023,2023,2023,2023,2023,2023,2023,2023,2023,2023,2023,2023,2023,2023,2023,2023,2023,2023,2023,2023,2023,2023,2023,2023,2023,2023,2023,2023,2023,2023,2023,2023,2023,2023,2023,2023,2023,2023,2023,2023,2023,2023,2023,2023,2023,2023,2023,2023,2023,2023,2023,2023,2023,2023,2023,2023,2023,2023,2023,2023,2023,2023,2023,2023,2023,2023,2023,2023,2023,2023,2023,2023,2023,2023,2023,2023,2023,2023,2023,2023,2023,2023,2023,2023,2023,2023,2023,2023,2023,2023,2023,2023,2023,2023,2023,2023,2023,2023,2023,2023,2023,2023,2023,2023,2023,2023,2023,2023,2023,2023,2023,2023,2023,2023,2023,2023,2023,2023,2023,2023,2023,2023,2023,2023,2023,2023,2023,2023,2023,2023,2023,2023,2023,2023,2023,2023,2023,2023,2023,2023,2023,2023,2023,2023,2023,2023,2023,2023,2023,2023,2023,2023,2023,2023,2023,2023,2023,2023,2023,2023,2023,2023,2023,2023,2023,2023,2023,2023,2023,2023,2023,2023,2023,2023,2023,2023,2023,2023,2023,2023,2023,2023,2023,2023,2023,2023,2023,2023,2023,2023,2023,2023,2023,2023,2023,2023,2023,2023,2023,2023,2023,2023,2023,2023,2023,2023,2023,2023,2023,2023,2023,2023,2023,2023,2023,2023,2023,2023,2023,2023,2023,2023,2023,2023,2023,2023,2023,2023,2023,2023,2023,2023,2023,2023,2023,2023,2023,2023,2023,2023,2023,2023,2023,2023,2023,2023,2023,2023,2023,2023,2023,2024,2024,2024,2024,2024,2024,2024,2024,2024,2024,2024,2024,2024,2024,2024,2024,2024,2024,2024,2024,2024,2024,2024,2024,2024,2024,2024,2024,2024,2024,2024,2024,2024,2024,2024,2024,2024,2024,2024,2024,2024,2024,2024,2024,2024,2024,2024,2024,2024,2024,2024,2024,2024,2024,2024,2024,2024,2024,2024,2024,2024,2024,2024,2024,2024,2024,2024,2024,2024,2024,2024,2024,2024,2024,2024,2024,2024,2024,2024,2024,2024,2024,2024,2024,2024,2024,2024,2024,2024,2024,2024,2024,2024,2024,2024,2024,2024,2024,2024,2024,2024,2024,2024,2024,2024,2024,2024,2024,2024,2024,2024,2024,2024,2024,2024,2024,2024,2024,2024,2024,2024,2024,2024,2024,2024,2024,2024,2024,2024,2024,2024,2024,2024,2024,2024,2024,2024,2024,2024,2024,2024,2024,2024,2024,2024,2024,2024,2024,2024,2024,2024,2024,2024,2024,2024,2024,2024,2024,2024,2024,2024,2024,2024,2024,2024,2024,2024,2024,2024,2024,2024,2024,2024,2024,2024,2024,2024,2024,2024,2024,2024,2024,2024,2024,2024,2024,2024,2024,2024,2024,2024,2024,2024,2024,2024,2024,2020,2020,2020,2020,2020,2020,2020,2020,2020,2020,2020,2020,2020,2020,2020,2020,2020,2020,2020,2020,2020,2020,2020,2021,2021,2021,2021,2021,2021,2021,2021,2021,2021,2021,2021,2021,2021,2021,2021,2021,2021,2021,2021,2021,2021,2021,2021,2021,2021,2022,2022,2022,2022,2022,2022,2022,2022,2022,2022,2022,2022,2022,2022,2022,2022,2022,2022,2022,2022,2022,2022,2022,2023,2023,2023,2023,2023,2023,2023,2023,2023,2023,2023,2023,2023,2023,2023,2023,2023,2023,2023,2023,2023,2023,2023,2023,2023,2023,2023,2023,2023,2023,2023,2023,2023,2023,2023,2023,2024,2024,2024,2024,2024,2024,2024,2024,2024,2024,2024,2024,2024,2024,2024,2024,2024,2024,2024,2024,2024,2024,2024,2024,2024,2024,2024,2024,2024,2024,2024,2024,2024,2024,2024,2024,2024,2024,2024,2019,2019,2019,2019,2019,2019,2019,2019,2019,2019,2019,2019,2019,2019,2019,2019,2019,2020,2020,2020,2020,2020,2020,2020,2020,2020,2020,2020,2020,2020,2020,2020,2020,2020,2020,2020,2020,2020,2020,2020,2020,2021,2021,2021,2021,2021,2021,2021,2021,2021,2021,2021,2021,2021,2021,2021,2021,2021,2021,2022,2022,2022,2022,2022,2022,2022,2022,2022,2022,2022,2022,2022,2022,2022,2022,2022,2022,2022,2022,2022,2022,2022,2022,2022,2022,2022,2023,2023,2023,2023,2023,2023,2023,2023,2023,2023,2023,2023,2023,2023,2023,2023,2023,2023,2023,2023,2023,2023,2023,2023,2023,2023,2023,2023,2023,2023,2023,2023,2023,2023,2023,2023,2023,2018,2018,2018,2018,2018,2018,2018,2018,2018,2018,2018,2018,2018,2018,2018,2018,2018,2018,2018,2018,2018,2018,2018,2018,2018,2019,2019,2019,2019,2019,2019,2019,2019,2019,2019,2019,2019,2019,2019,2019,2019,2019,2019,2019,2019,2019,2019,2019,2019,2019,2019,2019,2019,2019,2019,2019,2019,2019,2019,2019,2019,2019,2019,2019,2020,2020,2020,2020,2020,2020,2020,2020,2020,2020,2020,2020,2020,2020,2020,2020,2020,2020,2020,2020,2020,2020,2020,2020,2020,2020,2020,2020,2020,2020,2020,2020,2020,2020,2020,2020,2020,2020,2020,2020,2020,2020,2020,2020,2020,2020,2020,2020,2021,2021,2021,2021,2021,2021,2021,2021,2021,2021,2021,2021,2021,2021,2021,2021,2021,2021,2021,2021,2021,2021,2021,2021,2021,2021,2021,2021,2021,2021,2022,2022,2022,2022,2022,2022,2022,2022,2022,2022,2022,2022,2022,2022,2022,2022,2022,2022,2022,2022,2022,2022,2022,2022,2022,2022,2022,2022,2022,2022,2022,2022,2022,2022,2022,2022,2022,2022,2022,2022,2022,2022,2022,2022,2022,2022,2022,2022,2022,2022,2022,2022,2023,2023,2023,2023,2023,2023,2023,2023,2023,2023,2023,2023,2023,2023,2023,2023,2023,2023,2023,2023,2023,2023,2023,2023,2023,2023,2023,2023,2023,2023,2023,2023,2023,2023,2023,2023,2023,2023,2023,2023,2023,2023,2023,2023,2023,2023,2023,2023,2023,2023,2023,2023,2023,2023,2023,2023,2023,2023,2023,2023,2023,2023,2023,2023],\"x0\":\" \",\"xaxis\":\"x\",\"y\":[0,100,57,17,8,3,24,7,6,13,1,32,21,84,100,7,23,7,14,5,8,3,35,1,28,100,65,23,15,16,2,13,7,100,70,9,37,22,6,23,45,20,57,72,4,96,50,100,21,100,16,56,54,55,17,4,45,2,7,7,100,11,15,33,76,28,32,34,16,100,15,7,9,3,100,9,14,10,36,21,5,10,10,63,79,29,14,7,56,3,5,7,89,23,17,70,33,31,8,5,13,16,15,11,13,15,3,28,13,23,30,9,47,12,30,20,2,12,15,14,19,7,12,100,5,25,3,18,46,13,10,43,6,2,45,17,2,10,4,4,9,22,20,100,12,36,100,5,39,5,100,18,6,26,10,44,18,65,2,29,73,16,20,2,34,9,31,15,8,20,53,100,12,15,8,82,21,31,12,32,10,14,3,15,4,10,31,13,18,8,100,24,1,21,9,3,34,21,0,42,4,45,7,46,15,10,27,100,16,5,6,3,44,6,100,21,20,15,64,33,100,8,10,7,0,27,0,100,26,16,17,10,14,10,25,80,83,23,70,100,40,14,33,100,2,1,6,0,68,16,66,6,67,2,37,31,28,37,20,26,30,9,18,5,3,19,100,17,9,17,23,8,7,23,4,43,10,20,1,53,4,15,28,15,8,3,82,8,18,7,14,15,19,31,100,23,4,16,20,8,12,92,8,25,16,12,11,18,6,44,22,7,2,17,21,50,9,12,100,19,5,8,51,41,20,100,13,34,45,100,4,4,24,5,14,29,30,31,35,48,15,7,11,97,18,100,14,52,12,36,82,16,11,42,16,70,17,56,11,23,100,25,8,10,59,52,19,19,23,56,100,29,100,5,12,3,7,11,11,12,6,5,32,4,19,0,20,19,15,1,35,72,48,8,15,4,11,30,10,14,58,2,8,28,7,37,1,43,8,1,4,66,4,29,84,20,13,26,10,5,23,45,85,14,16,4,14,25,3,1,91,46,5,5,44,10,31,13,9,9,19,33,35,23,10,7,5,12,45,1,17,20,5,14,47,2,24,13,25,7,10,2,4,7,12,59,69,10,14,39,3,11,19,31,11,12,1,8,10,100,0,0,40,11,31,8,21,21,3,14,20,16,13,4,14,9,100,4,9,51,100,11,35,3,36,4,0,6,24,4,0,2,0,24,21,5,15,44,12,100,4,18,19,14,100,41,1,68,9,18,1,12,52,7,21,2,12,1,2,77,6,26,38,24,10,5,13,8,3,53,39,13,19,62,8,5,1,6,2,7,2,1,15,14,6,8,18,46,11,39,35,20,33,3,17,54,1,7,100,11,6,14,18,9,7,12,15,7,0,50,62,3,16,3,21,5,5,12,14,4,12,30,1,14,14,17,4,3,19,10,7,4,9,32,1,4,6,5,18,5,17,11,28,30,16,18,9,6,4,15,10,23,9,5,9,30,100,1,5,3,14,5,1,23,5,14,1,18,17,6,14,2,22,8,4,5,8,36,41,3,11,100,6,21,16,18,10,10,3,3,15,25,3,0,7,31,4,5,13,8,10,8,30,29,6,3,10,8,12,13,16,100,18,4,7,16,6,70,19,20,33,6,4,44,32,25,6,2,5,1,10,11,2,1,20,4,34,4,44,6,4,31,2,1,29,5,9,7,21,15,0,2,13,3,10,4,15,10,68,6,37,15,22,6,1,7,2,6,12,1,16,13,14,10,15,29,0,23,11,5,5,9,12,5,3,3,8,12,8,2,7,0,19,38,2,15,2,4,9,18,4,74,14,1,15,52,22,13,1,20,22,3,8,13,4,3,21,20,6,67,10,52,2,44,3,9,12,2,11,6,82,2,1,8,7,9,11,13,17,30,7,1,1,1,29,2,17,7,10,16,13,9,10,28,33,4,9,0,5,5,4,2,6,11,16,7,15,21,12,10,16,5,10,31,18,9,13,7,26,0,12,11,14,23,6,16,1,56,22,3,6,27,7,53,22,72,3,2,12,37,1,18,24,1,14,15,2,22,4,7,4,9,2,1,35,23,16,6,6,1,14,60,11,1,24,21,28,19,30,6,19,2,8,6,7,9,2,8,2,1,100,11,0,15,4,23,26,10,11,41,0,5,6,7,5,1,13,60,0,3,14,25,3,3,10,29,1,9,11,12,14,8,2,2,13,12,12,7,3,6,34,0,3,12,8,3,7,46,3,1,5,100,15,4,34,0,40,0,2,4,3,13,3,16,5,12,0,1,7,1,22,23,5,1,5,0,12,2,5,3,3,2,3,0,5,0,1,3,5,7,5,11,6,3,1,0,2,8,0,24,3,2,4,27,6,97,5,6,2,4,1,2,2,8,6,2,1,3,6,1,8,6,13,6,7,2,23,7,11,1,20,19,25,6,1,4,1,19,12,1,2,1,3,20,10,3,7,9,8,5,8,2,1,5,6,6,0,3,16,2,0,4,7,0,20,5,5,5,4,6,4,7,13,10,4,5,12,4,4,2,10,2,2,4,14,44,4,1,2,4,43,3,2,0,5,7,1,0,8,8,19,5,1,12,0,42,6,0,89,6,1,12,2,7,5,21,12,4,54,8,1,2,4,2,13,3,13,8,10,2,0,2,7,2,6,41,56,5,29,10,7,3,8,4,5,12,15,0,2,3,12,14,3,2,5,1,2,2,4,1,5,4,2,13,7,2,4,16,8,2,3,2,6,3,11,50,0,0,7,3,1,3,3,2,4,6,1,9,1,12,5,22,1,8,8,4,8,5,6,2,2,0,8,0,4,5,16,15,3,13,5,5,18,3,10,3,12,4,2,8,8,29,22,0,1,6,33,8,17,5,11,8,1,21,80,5,4,6,6,7,3,2,3,1,4,11,9,4,29,71,8,100,3,1,1,3,4,8,5,16,1,0,12,13,10,29,4,26,1,2,12,5,0,6,6,2,5,7,27,6,6,5,0,1,4,3,1,7,67,0,19,0,86,2,2,4,5,1,6,26,10,7,1,3,11,0,1,10,20,3,6,1,54,6,2,1,17,9,7,2,6,3,3,2,7,1,5,3,2,3,8,2,14,6,6,46,12,0,2,8,3,7,1,10,9,1,5,11,4,5,4,5,2,1,1,6,6,0,3,4,23,12,3,4,7,27,6,1,1,4,1,4,4,5,26,1,11,3,14,0,14,9,11,5,6,21,24,4,4,6,3,3,0,3,2,5,2,1,97,2,4,13,1,4,2,1,0,2,19,0,3,0,3,0,2,0,1,1,0,1,2,2,4,2,3,7,0,4,0,2,0,2,3,2,7,0,5,0,0,2,1,1,1,1,2,4,7,5,16,2,3,1,0,5,1,0,6,0,3,0,4,6,5,2,2,1,1,2,5,0,1,0,0,11,0,0,1,0,6,1,7,2,4,2,3,1,0,0,4,4,1,0,1,4,5,5,1,2,2,2,0,1,4,3,4,0,1,0,1,1,0,1,2,0,1,3,0,4,0,1,0,1,14,0,4,9,4,2,1,3,4,3,0,0,0,0,0,3,0,0,7,13,0,0,2,1,3,1,3,1,1,4,1,3,3,1,0,5,0,0,1,0,2,3,3,2,1,0,2,0,4,0,1,3,0,0,0,0,3,2,11,4,2,0,2,4,1,0,2,0,4,2,0,12,2,1,3,1,1,5,4,0,1,1,3,8,0,5,0,0,15,0,0,0,6,4,2,24,0,0,0,4,4,0,1,0,3,0,2,1,23,0,21,0,3,11,0,0,4,73,2,4,0,10,1,5,1,69,2,0,3,0,0,3,2,0,0,1,4,2,0,1,0,8,2,0,6,2,0,2,5,0,0,2,0,4,8,2,2,1,6,26,100,1,11,1,0,4,0,0,1,0,7,6,0,8,2,0,4,0,10,1,1,1,1,3,0,1,4,1,1,1,1,3,4,7,6,5,0,0,3,0,1,2,2,2,2,1,3,100,1,1,0,1,2,4,2,0,5,0,5,0,2,4,1,0,1,0,4,0,5,26,1,0,1,0,0,3,7,1,0,2,3,5,1,3,1,0,2,0,0,3,9,5,4,1,5,1,3,1,2,14,6,0,3,1,2,0,2,1,0,0,1,0,4,0,2,1,0,2,35,2,2,0,0,4,8,0,2,1,0,2,0,1,5,1,4,2,3,4,8,1,1,1,50,2,2,1,5,21,4,1,0,5,4,10,2,4,6,0,1,1,0,15,7,2,4,0,0,11,2,1,1,2,5,16,4,0,1,3,3,1,3,6,7,0,0,1,1,0,0,0,0,0,0,0,1,0,0,0,0,1,1,0,0,2,0,0,0,0,0,1,0,0,2,0,0,12,1,0,0,0,2,2,0,0,0,0,10,0,0,1,0,0,0,0,0,0,0,0,0,0,0,1,0,2,1,14,2,0,2,0,0,0,0,0,1,0,0,0,0,0,0,6,0,0,1,1,0,0,1,0,1,0,0,0,2,0,0,0,0,0,0,0,0,4,0,1,0,0,0,0,0,1,0,0,0,0,0,0,1,0,0,0,1,0,0,0,0,0,0,0,0,0,0,0,1,0,0,0,0,0,2,0,0,0,0,0,0,1,0,0,0,0,0,0,0,1,1,1,0,1,0,0,1,0,0,1,0,1,0,1,1,0,4,1,0,0,0,0,0,0,0,0,0,0,0,0,0,0,0,1,1,0,1,0,0,5,0,0,0,0,1,100,36,6,9,22,1,14,37,8,23,100,25,11,9,5,7,30,28,12,30,100,100,30,1,1,24,34,47,17,27,4,33,25,27,100,8,9,9,45,17,10,20,14,40,51,13,19,3,9,1,0,2,8,7,3,11,5,6,5,14,51,4,100,14,17,10,25,4,6,4,9,1,2,1,11,4,6,11,0,5,1,8,19,2,12,4,4,4,1,0,0,0,3,5,5,1,8,2,1,3,3,5,2,13,1,2,100,0,2,0,0,0,2,0,1,0,0,0,0,0,0,1,0,2,1,0,2,3,1,2,0,0,0,100,0,8,0,29,0,4,1,0,0,0,1,0,2,67,20,31,15,2,12,5,9,43,18,100,44,14,23,11,15,12,14,1,7,34,4,31,3,3,5,0,3,100,7,19,38,29,10,53,17,51,2,0,10,6,3,4,38,7,1,4,16,16,41,2,27,15,59,5,42,37,26,7,1,10,1,1,8,2,0,9,2,26,1,1,4,5,10,1,8,4,0,39,6,0,1,1,1,1,1,1,1,2,60,2,0,0,1,0,0,3,1,6,1,4,0,0,0,0,100,0,4,2,0,0,0,0,2,3,2,0,0,0,1,4,4,14,11,2,0,84,7,3,10,57,13,11,8,33,92,0,50,2,45,46,16,54,22,40,65,32,51,12,0,5,4,12,4,54,11,100,3,100,100,15,4,17,4,53,100,100,2,10,14,6,19,18,41,25,14,5,4,11,9,1,1,18,0,0,0,14,3,19,3,22,15,2,3,3,5,8,18,3,0,4,4,9,20,28,5,20,39,15,29,9,19,12,7,24,16,40,14,11,10,3,35,6,9,33,34,17,0,3,22,2,0,0,25,60,30,9,6,2,2,1,6,34,28,7,7,6,100,4,14,22,1,19,0,12,8,1,21,3,49,6,2,73,1,100,0,3,4,2,2,5,12,6,4,1,6,4,3,10,2,0,2,2,16,16,3,1,17,11,7,2,6,10,7,6,0,9,1,9,1,5,0,2,34,3,0,0,9,1,0,32,13,16,1,0,94,2,0,0,0,1,0,37,7,3,2,1,1,0,0,12,0,4,1,1,0,6,2,3,2,0,0,3,18,1,2,1,3,0,2,1,0,4,6,2,0,5,21,8,1,0,0,3,0,100,0,23,10,4,30,52,51,100,0,6,7,24,13,22,9],\"y0\":\" \",\"yaxis\":\"y\",\"type\":\"box\",\"boxpoints\":\"outliers\",\"jitter\":0.3,\"pointpos\":-1.8}],                        {\"template\":{\"data\":{\"histogram2dcontour\":[{\"type\":\"histogram2dcontour\",\"colorbar\":{\"outlinewidth\":0,\"ticks\":\"\"},\"colorscale\":[[0.0,\"#0d0887\"],[0.1111111111111111,\"#46039f\"],[0.2222222222222222,\"#7201a8\"],[0.3333333333333333,\"#9c179e\"],[0.4444444444444444,\"#bd3786\"],[0.5555555555555556,\"#d8576b\"],[0.6666666666666666,\"#ed7953\"],[0.7777777777777778,\"#fb9f3a\"],[0.8888888888888888,\"#fdca26\"],[1.0,\"#f0f921\"]]}],\"choropleth\":[{\"type\":\"choropleth\",\"colorbar\":{\"outlinewidth\":0,\"ticks\":\"\"}}],\"histogram2d\":[{\"type\":\"histogram2d\",\"colorbar\":{\"outlinewidth\":0,\"ticks\":\"\"},\"colorscale\":[[0.0,\"#0d0887\"],[0.1111111111111111,\"#46039f\"],[0.2222222222222222,\"#7201a8\"],[0.3333333333333333,\"#9c179e\"],[0.4444444444444444,\"#bd3786\"],[0.5555555555555556,\"#d8576b\"],[0.6666666666666666,\"#ed7953\"],[0.7777777777777778,\"#fb9f3a\"],[0.8888888888888888,\"#fdca26\"],[1.0,\"#f0f921\"]]}],\"heatmap\":[{\"type\":\"heatmap\",\"colorbar\":{\"outlinewidth\":0,\"ticks\":\"\"},\"colorscale\":[[0.0,\"#0d0887\"],[0.1111111111111111,\"#46039f\"],[0.2222222222222222,\"#7201a8\"],[0.3333333333333333,\"#9c179e\"],[0.4444444444444444,\"#bd3786\"],[0.5555555555555556,\"#d8576b\"],[0.6666666666666666,\"#ed7953\"],[0.7777777777777778,\"#fb9f3a\"],[0.8888888888888888,\"#fdca26\"],[1.0,\"#f0f921\"]]}],\"heatmapgl\":[{\"type\":\"heatmapgl\",\"colorbar\":{\"outlinewidth\":0,\"ticks\":\"\"},\"colorscale\":[[0.0,\"#0d0887\"],[0.1111111111111111,\"#46039f\"],[0.2222222222222222,\"#7201a8\"],[0.3333333333333333,\"#9c179e\"],[0.4444444444444444,\"#bd3786\"],[0.5555555555555556,\"#d8576b\"],[0.6666666666666666,\"#ed7953\"],[0.7777777777777778,\"#fb9f3a\"],[0.8888888888888888,\"#fdca26\"],[1.0,\"#f0f921\"]]}],\"contourcarpet\":[{\"type\":\"contourcarpet\",\"colorbar\":{\"outlinewidth\":0,\"ticks\":\"\"}}],\"contour\":[{\"type\":\"contour\",\"colorbar\":{\"outlinewidth\":0,\"ticks\":\"\"},\"colorscale\":[[0.0,\"#0d0887\"],[0.1111111111111111,\"#46039f\"],[0.2222222222222222,\"#7201a8\"],[0.3333333333333333,\"#9c179e\"],[0.4444444444444444,\"#bd3786\"],[0.5555555555555556,\"#d8576b\"],[0.6666666666666666,\"#ed7953\"],[0.7777777777777778,\"#fb9f3a\"],[0.8888888888888888,\"#fdca26\"],[1.0,\"#f0f921\"]]}],\"surface\":[{\"type\":\"surface\",\"colorbar\":{\"outlinewidth\":0,\"ticks\":\"\"},\"colorscale\":[[0.0,\"#0d0887\"],[0.1111111111111111,\"#46039f\"],[0.2222222222222222,\"#7201a8\"],[0.3333333333333333,\"#9c179e\"],[0.4444444444444444,\"#bd3786\"],[0.5555555555555556,\"#d8576b\"],[0.6666666666666666,\"#ed7953\"],[0.7777777777777778,\"#fb9f3a\"],[0.8888888888888888,\"#fdca26\"],[1.0,\"#f0f921\"]]}],\"mesh3d\":[{\"type\":\"mesh3d\",\"colorbar\":{\"outlinewidth\":0,\"ticks\":\"\"}}],\"scatter\":[{\"fillpattern\":{\"fillmode\":\"overlay\",\"size\":10,\"solidity\":0.2},\"type\":\"scatter\"}],\"parcoords\":[{\"type\":\"parcoords\",\"line\":{\"colorbar\":{\"outlinewidth\":0,\"ticks\":\"\"}}}],\"scatterpolargl\":[{\"type\":\"scatterpolargl\",\"marker\":{\"colorbar\":{\"outlinewidth\":0,\"ticks\":\"\"}}}],\"bar\":[{\"error_x\":{\"color\":\"#2a3f5f\"},\"error_y\":{\"color\":\"#2a3f5f\"},\"marker\":{\"line\":{\"color\":\"#E5ECF6\",\"width\":0.5},\"pattern\":{\"fillmode\":\"overlay\",\"size\":10,\"solidity\":0.2}},\"type\":\"bar\"}],\"scattergeo\":[{\"type\":\"scattergeo\",\"marker\":{\"colorbar\":{\"outlinewidth\":0,\"ticks\":\"\"}}}],\"scatterpolar\":[{\"type\":\"scatterpolar\",\"marker\":{\"colorbar\":{\"outlinewidth\":0,\"ticks\":\"\"}}}],\"histogram\":[{\"marker\":{\"pattern\":{\"fillmode\":\"overlay\",\"size\":10,\"solidity\":0.2}},\"type\":\"histogram\"}],\"scattergl\":[{\"type\":\"scattergl\",\"marker\":{\"colorbar\":{\"outlinewidth\":0,\"ticks\":\"\"}}}],\"scatter3d\":[{\"type\":\"scatter3d\",\"line\":{\"colorbar\":{\"outlinewidth\":0,\"ticks\":\"\"}},\"marker\":{\"colorbar\":{\"outlinewidth\":0,\"ticks\":\"\"}}}],\"scattermapbox\":[{\"type\":\"scattermapbox\",\"marker\":{\"colorbar\":{\"outlinewidth\":0,\"ticks\":\"\"}}}],\"scatterternary\":[{\"type\":\"scatterternary\",\"marker\":{\"colorbar\":{\"outlinewidth\":0,\"ticks\":\"\"}}}],\"scattercarpet\":[{\"type\":\"scattercarpet\",\"marker\":{\"colorbar\":{\"outlinewidth\":0,\"ticks\":\"\"}}}],\"carpet\":[{\"aaxis\":{\"endlinecolor\":\"#2a3f5f\",\"gridcolor\":\"white\",\"linecolor\":\"white\",\"minorgridcolor\":\"white\",\"startlinecolor\":\"#2a3f5f\"},\"baxis\":{\"endlinecolor\":\"#2a3f5f\",\"gridcolor\":\"white\",\"linecolor\":\"white\",\"minorgridcolor\":\"white\",\"startlinecolor\":\"#2a3f5f\"},\"type\":\"carpet\"}],\"table\":[{\"cells\":{\"fill\":{\"color\":\"#EBF0F8\"},\"line\":{\"color\":\"white\"}},\"header\":{\"fill\":{\"color\":\"#C8D4E3\"},\"line\":{\"color\":\"white\"}},\"type\":\"table\"}],\"barpolar\":[{\"marker\":{\"line\":{\"color\":\"#E5ECF6\",\"width\":0.5},\"pattern\":{\"fillmode\":\"overlay\",\"size\":10,\"solidity\":0.2}},\"type\":\"barpolar\"}],\"pie\":[{\"automargin\":true,\"type\":\"pie\"}]},\"layout\":{\"autotypenumbers\":\"strict\",\"colorway\":[\"#636efa\",\"#EF553B\",\"#00cc96\",\"#ab63fa\",\"#FFA15A\",\"#19d3f3\",\"#FF6692\",\"#B6E880\",\"#FF97FF\",\"#FECB52\"],\"font\":{\"color\":\"#2a3f5f\"},\"hovermode\":\"closest\",\"hoverlabel\":{\"align\":\"left\"},\"paper_bgcolor\":\"white\",\"plot_bgcolor\":\"#E5ECF6\",\"polar\":{\"bgcolor\":\"#E5ECF6\",\"angularaxis\":{\"gridcolor\":\"white\",\"linecolor\":\"white\",\"ticks\":\"\"},\"radialaxis\":{\"gridcolor\":\"white\",\"linecolor\":\"white\",\"ticks\":\"\"}},\"ternary\":{\"bgcolor\":\"#E5ECF6\",\"aaxis\":{\"gridcolor\":\"white\",\"linecolor\":\"white\",\"ticks\":\"\"},\"baxis\":{\"gridcolor\":\"white\",\"linecolor\":\"white\",\"ticks\":\"\"},\"caxis\":{\"gridcolor\":\"white\",\"linecolor\":\"white\",\"ticks\":\"\"}},\"coloraxis\":{\"colorbar\":{\"outlinewidth\":0,\"ticks\":\"\"}},\"colorscale\":{\"sequential\":[[0.0,\"#0d0887\"],[0.1111111111111111,\"#46039f\"],[0.2222222222222222,\"#7201a8\"],[0.3333333333333333,\"#9c179e\"],[0.4444444444444444,\"#bd3786\"],[0.5555555555555556,\"#d8576b\"],[0.6666666666666666,\"#ed7953\"],[0.7777777777777778,\"#fb9f3a\"],[0.8888888888888888,\"#fdca26\"],[1.0,\"#f0f921\"]],\"sequentialminus\":[[0.0,\"#0d0887\"],[0.1111111111111111,\"#46039f\"],[0.2222222222222222,\"#7201a8\"],[0.3333333333333333,\"#9c179e\"],[0.4444444444444444,\"#bd3786\"],[0.5555555555555556,\"#d8576b\"],[0.6666666666666666,\"#ed7953\"],[0.7777777777777778,\"#fb9f3a\"],[0.8888888888888888,\"#fdca26\"],[1.0,\"#f0f921\"]],\"diverging\":[[0,\"#8e0152\"],[0.1,\"#c51b7d\"],[0.2,\"#de77ae\"],[0.3,\"#f1b6da\"],[0.4,\"#fde0ef\"],[0.5,\"#f7f7f7\"],[0.6,\"#e6f5d0\"],[0.7,\"#b8e186\"],[0.8,\"#7fbc41\"],[0.9,\"#4d9221\"],[1,\"#276419\"]]},\"xaxis\":{\"gridcolor\":\"white\",\"linecolor\":\"white\",\"ticks\":\"\",\"title\":{\"standoff\":15},\"zerolinecolor\":\"white\",\"automargin\":true,\"zerolinewidth\":2},\"yaxis\":{\"gridcolor\":\"white\",\"linecolor\":\"white\",\"ticks\":\"\",\"title\":{\"standoff\":15},\"zerolinecolor\":\"white\",\"automargin\":true,\"zerolinewidth\":2},\"scene\":{\"xaxis\":{\"backgroundcolor\":\"#E5ECF6\",\"gridcolor\":\"white\",\"linecolor\":\"white\",\"showbackground\":true,\"ticks\":\"\",\"zerolinecolor\":\"white\",\"gridwidth\":2},\"yaxis\":{\"backgroundcolor\":\"#E5ECF6\",\"gridcolor\":\"white\",\"linecolor\":\"white\",\"showbackground\":true,\"ticks\":\"\",\"zerolinecolor\":\"white\",\"gridwidth\":2},\"zaxis\":{\"backgroundcolor\":\"#E5ECF6\",\"gridcolor\":\"white\",\"linecolor\":\"white\",\"showbackground\":true,\"ticks\":\"\",\"zerolinecolor\":\"white\",\"gridwidth\":2}},\"shapedefaults\":{\"line\":{\"color\":\"#2a3f5f\"}},\"annotationdefaults\":{\"arrowcolor\":\"#2a3f5f\",\"arrowhead\":0,\"arrowwidth\":1},\"geo\":{\"bgcolor\":\"white\",\"landcolor\":\"#E5ECF6\",\"subunitcolor\":\"white\",\"showland\":true,\"showlakes\":true,\"lakecolor\":\"white\"},\"title\":{\"x\":0.05},\"mapbox\":{\"style\":\"light\"}}},\"xaxis\":{\"anchor\":\"y\",\"domain\":[0.0,1.0],\"title\":{\"text\":\"Year\",\"font\":{\"size\":24}},\"tickfont\":{\"size\":20}},\"yaxis\":{\"anchor\":\"x\",\"domain\":[0.0,1.0],\"title\":{\"text\":\"Citations\",\"font\":{\"size\":24}},\"tickfont\":{\"size\":20},\"range\":[0,100],\"zeroline\":true,\"zerolinewidth\":2,\"zerolinecolor\":\"lightgray\"},\"legend\":{\"tracegroupgap\":0},\"margin\":{\"t\":60},\"boxmode\":\"group\",\"height\":400,\"width\":800,\"font\":{\"size\":20},\"plot_bgcolor\":\"white\",\"showlegend\":false},                        {\"responsive\": true}                    ).then(function(){\n",
       "                            \n",
       "var gd = document.getElementById('b075f96d-c73a-488d-aa2f-533c9896f91d');\n",
       "var x = new MutationObserver(function (mutations, observer) {{\n",
       "        var display = window.getComputedStyle(gd).display;\n",
       "        if (!display || display === 'none') {{\n",
       "            console.log([gd, 'removed!']);\n",
       "            Plotly.purge(gd);\n",
       "            observer.disconnect();\n",
       "        }}\n",
       "}});\n",
       "\n",
       "// Listen for the removal of the full notebook cells\n",
       "var notebookContainer = gd.closest('#notebook-container');\n",
       "if (notebookContainer) {{\n",
       "    x.observe(notebookContainer, {childList: true});\n",
       "}}\n",
       "\n",
       "// Listen for the clearing of the current output cell\n",
       "var outputEl = gd.closest('.output');\n",
       "if (outputEl) {{\n",
       "    x.observe(outputEl, {childList: true});\n",
       "}}\n",
       "\n",
       "                        })                };                });            </script>        </div>"
      ]
     },
     "metadata": {},
     "output_type": "display_data"
    }
   ],
   "source": [
    "import pandas as pd\n",
    "import plotly.express as px\n",
    "\n",
    "def plot_citation_boxplot_per_year(df, width=1000, height=600, save_path=None,\n",
    "                                   axis_title_font_size=14, axis_tick_font_size=10,\n",
    "                                   y_axis_cap=150, save_scale=3):\n",
    "    # Ensure 'year' is of type int\n",
    "    df['year'] = df['year'].astype(int)\n",
    "    \n",
    "    # Cap the citation count at y_axis_cap\n",
    "    df['capped_citation_count'] = df['citation_count'].clip(upper=y_axis_cap)\n",
    "    \n",
    "    # Get the first color from the Set2 palette\n",
    "    set2_color = px.colors.qualitative.Set2[2]\n",
    "    # set2_color = '#1a80bb'\n",
    "    # Create the box plot using Plotly Express\n",
    "    fig = px.box(df, x='year', y='capped_citation_count',\n",
    "                 labels={'year': 'Year', 'capped_citation_count': 'Citations'},\n",
    "                 width=width, height=height,\n",
    "                 color_discrete_sequence=[set2_color])  # Set color to the first Set2 color\n",
    "    \n",
    "    # Update the layout for better readability and customization\n",
    "    fig.update_layout(\n",
    "        font=dict(size=axis_tick_font_size),\n",
    "        xaxis=dict(\n",
    "            title=dict(font=dict(size=axis_title_font_size)),\n",
    "            tickfont=dict(size=axis_tick_font_size)\n",
    "        ),\n",
    "        yaxis=dict(\n",
    "            title=dict(font=dict(size=axis_title_font_size)),\n",
    "            tickfont=dict(size=axis_tick_font_size),\n",
    "            range=[0, y_axis_cap],\n",
    "            zeroline=True,\n",
    "            zerolinewidth=2,\n",
    "            zerolinecolor='lightgray'\n",
    "        ),\n",
    "        plot_bgcolor='white',\n",
    "        showlegend=False\n",
    "    )\n",
    "    \n",
    "    # Customize outlier points\n",
    "    fig.update_traces(\n",
    "        boxpoints='outliers',  # Show outliers\n",
    "        jitter=0.3,  # Add jitter to outlier points\n",
    "        pointpos=-1.8,  # Offset the outlier points\n",
    "        marker=dict(size=2, color=set2_color)  # Make outlier points smaller and use Set2 color\n",
    "    )\n",
    "    \n",
    "    # Show the figure\n",
    "    fig.show()\n",
    "    \n",
    "    # Save the figure if a save path is provided\n",
    "    if save_path:\n",
    "        fig.write_image(save_path, scale=save_scale)\n",
    "\n",
    "# Example usage\n",
    "# Assuming main_df is your DataFrame\n",
    "plot_citation_boxplot_per_year(\n",
    "    main_df,\n",
    "    width=800,\n",
    "    height=400,\n",
    "    save_path=\"figures/general/citation_boxplot_per_year_capped_high_res.png\",\n",
    "    axis_title_font_size=24,\n",
    "    axis_tick_font_size=20,\n",
    "    y_axis_cap=100\n",
    ")"
   ]
  },
  {
   "cell_type": "markdown",
   "metadata": {},
   "source": [
    "### Affiliation Classification and Plotting"
   ]
  },
  {
   "cell_type": "code",
   "execution_count": 7,
   "metadata": {},
   "outputs": [
    {
     "name": "stdout",
     "output_type": "stream",
     "text": [
      "\n",
      "Affiliation Classification Results:\n",
      "academic    58.888889\n",
      "mixed       36.858238\n",
      "industry     2.260536\n",
      "other        1.992337\n",
      "Name: affiliation_class, dtype: float64\n",
      "\n",
      "Updated dataframe saved as 'processed_data/topic_df_with_affiliation_classification.csv'\n",
      "\n",
      "Examples of classified entries:\n",
      "\n",
      "Venue: pubmed\n",
      "Title: d-StructMAn: Containerized structural annotation on the scale from genetic variants to whole proteomes\n",
      "Affiliation: Helmholtz Institute for Pharmaceutical Research Saarland (HIPS)/Helmholtz Centre for Infection Research (HZI), Saarbrucken 8: 66123, Germany.||Graduate School of Computer Science, Saarland University, Saarbrucken 5: 101990, Germany.||Helmholtz Institute for Pharmaceutical Research Saarland (HIPS)/Helmholtz Centre for Infection Research (HZI), Saarbrucken 8: 66123, Germany.||Graduate School of Computer Science, Saarland University, Saarbrucken 5: 101990, Germany.||Interdisciplinary Graduate School of Natural Product Research, Saarland University, Saarbrucken 6: 119991, Germany.||Helmholtz Institute for Pharmaceutical Research Saarland (HIPS)/Helmholtz Centre for Infection Research (HZI), Saarbrucken 8: 66123, Germany.||Graduate School of Computer Science, Saarland University, Saarbrucken 5: 101990, Germany.||Research Group Computational Biology, Max Planck Institute for Informatics, Saarbrucken 7: 66421, Germany.||National Medical Research Center for Therapy and Preventive Medicine of the Ministry of Healthcare of Russian Federation, Moscow, Russia.||Faculty of Bioengineering and Bioinformatics, Lomonosov Moscow State University, Moscow, Russia.||Helmholtz Institute for Pharmaceutical Research Saarland (HIPS)/Helmholtz Centre for Infection Research (HZI), Saarbrucken 8: 66123, Germany.||Medical Faculty, Saarland University, Homburg, Germany.||Center for Bioinformatics, Saarland Informatics Campus, Saarbrucken, Germany.\n",
      "Processed Emails: nan\n",
      "Authors: ['Alexander Gress', 'Sanjay K Srikakulam', 'Sebastian Keller', 'Vasily Ramensky', 'Olga V Kalinina']\n",
      "Classification: academic\n",
      "---\n",
      "Title: A Novel Algorithm for Breast Mass Classification in Digital Mammography Based on Feature Fusion\n",
      "Affiliation: School of Computer Science, Zhongyuan University of Technology, Zhengzhou 450007, China.||School of Information Engineering, Zhengzhou University, Zhengzhou 450001, China.||Collaborative Innovation Center for Internet Healthcare, Zhengzhou University, Zhengzhou 450052, China.||School of Information Engineering, Zhengzhou University, Zhengzhou 450001, China.||Collaborative Innovation Center for Internet Healthcare, Zhengzhou University, Zhengzhou 450052, China.||School of Information Engineering, Zhengzhou University, Zhengzhou 450001, China.||Collaborative Innovation Center for Internet Healthcare, Zhengzhou University, Zhengzhou 450052, China.||Collaborative Innovation Center for Internet Healthcare, Zhengzhou University, Zhengzhou 450052, China.||School of Software, Zhengzhou University, Zhengzhou 450002, China.||Hanwei IoT Institute, Zhengzhou University, Zhengzhou 450002, China.||Department of Radiology, People's Hospital of Zhengzhou University, Zhengzhou 450003, China.\n",
      "Processed Emails: nan\n",
      "Authors: ['Qian Zhang', 'Yamei Li', 'Guohua Zhao', 'Panpan Man', 'Yusong Lin', 'Meiyun Wang']\n",
      "Classification: academic\n",
      "---\n",
      "Title: Probabilistic Prognostic Estimates of Survival in Metastatic Cancer Patients (PPES-Met) Utilizing Free-Text Clinical Narratives\n",
      "Affiliation: Department of Biomedical Data Science, Stanford University, Stanford, CA, USA. imonb@stanford.edu.||Department of Radiation Oncology, Stanford University, Stanford, CA, USA.||Department of Biomedical Data Science, Stanford University, Stanford, CA, USA.||Department of Biomedical Data Science, Stanford University, Stanford, CA, USA.||Department of Radiation Oncology, Stanford University, Stanford, CA, USA.||Department of Radiation Oncology, Stanford University, Stanford, CA, USA.||Department of Biomedical Data Science, Stanford University, Stanford, CA, USA.||Biomedical Data Science, Radiology, and Medicine (BMIR) Stanford University, Stanford, CA, USA.\n",
      "Processed Emails: nan\n",
      "Authors: ['Imon Banerjee', 'Michael Francis Gensheimer', 'Douglas J. Wood', 'Solomon Henry', 'Sonya Aggarwal', 'Daniel T. Chang', 'Daniel L. Rubin', 'Michael Francis Gensheimer']\n",
      "Classification: academic\n",
      "---\n",
      "\n",
      "Venue: CHIL\n",
      "Title: Addressingwearablesleeptrackinginequity:anewdatasetandnovelmethodsforapopulationwithsleepdisorders\n",
      "Affiliation: nan\n",
      "Processed Emails: ke.wang064@duke.edu\n",
      "jerry.yang@duke.edu\n",
      "leeor.hershkovich@duke.edu\n",
      "hayoung.jeong@duke.edu\n",
      "bill.chen@duke.edu\n",
      "karnika.singh@duke.edu\n",
      "ali.roganizad@duke.edu\n",
      "mobashir.shandhi@duke.edu\n",
      "andrew.spector@duke.edu\n",
      "jessilyn.dunn@duke.edu\n",
      "Authors: Will Ke Wang ke.wang064@duke.edu, Jiamu Yang jerry.yang@duke.edu, Leeor Hershkovich leeor.hershkovich@duke.edu, Hayoung Jeong hayoung.jeong@duke.edu, Bill Chen bill.chen@duke.edu, Karnika Singh karnika.singh@duke.edu, Ali R Roghanizad ali.roganizad@duke.edu, Md Mobashir Hasan Shandhi mobashir.shandhi@duke.edu, Andrew R Spector andrew.spector@duke.edu, Jessilyn Dunn jessilyn.dunn@duke.edu, Duke University, United States of America\n",
      "Classification: academic\n",
      "---\n",
      "Title: Improvingthe Fairnessof Chest X-ray Classifiers\n",
      "Affiliation: nan\n",
      "Processed Emails: haoranz@mit.edu\n",
      "natalie.dullerud@mail.utoronto.edu\n",
      "karsten.roth@uni-tuebingen.de\n",
      "lauren.oakden-rayner@adelaide.edu.au\n",
      "spfohl@stanford.edu\n",
      "mghassem@mit.edu\n",
      "Authors: Haoran Zhang haoranz@mit.edu, Massachusetts Institute of Technology, Natalie Dullerud natalie.dullerud@mail.utoronto.edu, University of Toronto, Karsten Roth karsten.roth@uni-tuebingen.de, University of T¨ ubingen, Lauren Oakden-Rayner lauren.oakden-rayner@adelaide.edu.au, University of Adelaide, Stephen Pfohl spfohl@stanford.edu, Stanford University, Marzyeh Ghassemi mghassem@mit.edu, Massachusetts Institute of Technology\n",
      "Classification: academic\n",
      "---\n",
      "Title: Extracting Medical Entitiesfrom Social Media\n",
      "Affiliation: nan\n",
      "Processed Emails: sanja.scepanovic@nokia-bell-labs.com\n",
      "enrique.martin-lopez@nokia-bell-labs.com\n",
      "quercia@cantab.net\n",
      "khan.baykaner@nokia-bell-labs.com\n",
      "Authors: Sanja Šćepanović, Nokia Bell Labs, Cambridge, UK, sanja.scepanovic@nokia-bell-labs.comEnrique Martín-López, Nokia Bell Labs, Cambridge, UK, enrique.martin-lopez@nokia-bell-labs.com, Daniele Quercia, Nokia Bell Labs, Cambridge, UK, quercia@cantab.netKhan Baykaner, Nokia Bell Labs, Cambridge, UK, khan.baykaner@nokia-bell-labs.com\n",
      "Classification: industry\n",
      "---\n",
      "\n",
      "Venue: ML4H\n",
      "Title: Spectraldiscontinuitydesign: Interruptedtimeserieswithspectralmixturekernels\n",
      "Affiliation: nan\n",
      "Processed Emails: h.leeftink@student.ru.nl\n",
      "m.hinne@donders.ru.nl\n",
      "Authors: David Leeftink h.leeftink@student.ru.nl andMax Hinne m.hinne@donders.ru.nl, Radboud University, Donders Institute for Brain, Cognition and Behaviour, Nijmegen, The Nether-, lands, Editors: Emily Alsentzer, , Matthew B. A. McDermott, , Fabian Falck, Suproteem K. Sarkar,, Subhrajit Royz, Stephanie L. Hylandz\n",
      "Classification: academic\n",
      "---\n",
      "Title: Multi-modal Graph Learningover U M L S Knowledge Graphs\n",
      "Affiliation: nan\n",
      "Processed Emails: manuel.burger@inf.ethz.ch\n",
      "raetsch@inf.ethz.ch\n",
      "rita.kuznetsova@inf.ethz.ch\n",
      "Authors: Manuel Burger manuel.burger@inf.ethz.ch, Gunnar R¨ atsch raetsch@inf.ethz.ch, Rita Kuznetsova rita.kuznetsova@inf.ethz.ch, Department of Computer Science, ETH Z¨ urich, Switzerland\n",
      "Classification: academic\n",
      "---\n",
      "Title: Advancing Healthcarefor All\n",
      "Affiliation: nan\n",
      "Processed Emails: suproteemsarkar@g.harvard.edu\n",
      "subhrajitroy@google.com\n",
      "emilya@mit.edu\n",
      "mmd@mit.edu\n",
      "fabian.falck@stats.ox.ac.uk\n",
      "ioana.bica@eng.ox.ac.uk\n",
      "griffin.adams@columbia.edu\n",
      "spfohl@stanford.edu\n",
      "Authors: Suproteem K. Sarkar suproteemsarkar@g.harvard.edu, Harvard University, Subhrajit Roy subhrajitroy@google.com, Google Brain, Emily Alsentzer emilya@mit.edu, Massachusetts Institute of Technology, Harvard Medical School, Matthew B. A. McDermott mmd@mit.edu, Massachusetts Institute of Technology, Fabian Falck fabian.falck@stats.ox.ac.uk, University of Oxford, Ioana Bica ioana.bica@eng.ox.ac.uk, University of Oxford, Gri\u000en Adams griffin.adams@columbia.edu, Columbia University, Stephen Pfohl spfohl@stanford.edu, Stanford University\n",
      "Classification: mixed\n",
      "---\n",
      "\n",
      "Venue: MLHC\n",
      "Title: Contactless Oxygen Monitoringwith Radio Wavesand Gated Transformer Hao He∗†haohe@mit.edu Massachusetts Instituteof Technology Yuan Yuan∗†miayuan@mit.edu Ying- Cong Chen∗yingcong.ian.chen@gmail.com Hong Kong Universityof Scienceand Technology( Guangzhou\n",
      "Affiliation: nan\n",
      "Processed Emails: haohe@mit.edu\n",
      "miayuan@mit.edu\n",
      "yingcong.ian.chen@gmail.com\n",
      "pengcao@mit.edu\n",
      "dk@mit.edu\n",
      "Authors: Hao He∗†haohe@mit.edu, Massachusetts Institute of Technology, Yuan Yuan∗†miayuan@mit.edu, Massachusetts Institute of Technology, Ying-Cong Chen∗yingcong.ian.chen@gmail.com, Hong Kong University of Science and Technology (Guangzhou), Peng Cao pengcao@mit.edu, Massachusetts Institute of Technology, Dina Katabi dk@mit.edu, Massachusetts Institute of Technology\n",
      "Classification: mixed\n",
      "---\n",
      "Title: Phenotypingwith Prior Knowledgeusing Patient Similarity\n",
      "Affiliation: nan\n",
      "Processed Emails: asif.rahman@philips.com\n",
      "yale.chang@philips.com\n",
      "bryan.conroy@philips.com\n",
      "minnan.xu@philips.com\n",
      "Authors: Asif Rahman asif.rahman@philips.com, Philips Research North America, Cambridge, MA, USA, Yale Chang yale.chang@philips.com, Philips Research North America, Cambridge, MA, USA, Bryan Conroy bryan.conroy@philips.com, Philips Research North America, Cambridge, MA, USA, Minnan Xu-Wilson minnan.xu@philips.com, Philips Research North America, Cambridge, MA, USA\n",
      "Classification: industry\n",
      "---\n",
      "Title: Not So Blackand White: Confounders Mediate A I Prediction Of Race On Chest X- Rays\n",
      "Affiliation: nan\n",
      "Processed Emails: No email addresses found. We are not using code here.\n",
      "Authors: nan\n",
      "Classification: other\n",
      "---\n"
     ]
    }
   ],
   "source": [
    "import pandas as pd\n",
    "import re\n",
    "\n",
    "def categorize_emails(email_list):\n",
    "    industry_domains = ['.com', '.co', '.org', '.io']\n",
    "    academic_domains = ['.edu', '.ac', '.eth.ch', '.cispa.de', 'dkfz-heidelberg.de']\n",
    "    has_industry = False\n",
    "    has_academic = False\n",
    "    \n",
    "    if isinstance(email_list, str):\n",
    "        emails = [e.strip() for e in email_list.split('\\n')]\n",
    "    else:\n",
    "        emails = []\n",
    "    \n",
    "    for email in emails:\n",
    "        email_lower = email.lower()\n",
    "        if any(domain in email_lower for domain in industry_domains):\n",
    "            has_industry = True\n",
    "        if any(domain in email_lower for domain in academic_domains):\n",
    "            has_academic = True\n",
    "    \n",
    "    if has_industry and has_academic:\n",
    "        return 'mixed'\n",
    "    if has_industry:\n",
    "        return 'industry'\n",
    "    elif has_academic:\n",
    "        return 'academic'\n",
    "    else:\n",
    "        return 'other'\n",
    "\n",
    "def categorize_affiliations(affiliation):\n",
    "    if not isinstance(affiliation, str):\n",
    "        return 'other'\n",
    "    \n",
    "    affiliation_lower = affiliation.lower()\n",
    "    \n",
    "    # Keywords for industry and academic affiliations\n",
    "    industry_keywords = ['google', '.com','widex','axispoint', 'optum','ibm', 'iqvia', 'microsoft', 'apple', 'amazon', 'facebook', 'intel', 'nvidia', 'deargen', 'riken', 'inc', 'corporation', 'tencent', 'analytix', 'llc']\n",
    "    more_industry_keywords = ['google', 'ibm', 'iqvia', 'microsoft', 'apple', 'amazon', 'facebook', 'intel', 'nvidia', 'deargen', 'riken', \n",
    "                         'corporation', 'inc', 'llc', 'ltd', 'gmbh', 'company', 'biotech', 'analytics', 'corp', 'tno', 'leo innovation lab']\n",
    "    industry_keywords = list(set(industry_keywords + more_industry_keywords))\n",
    "    \n",
    "    academic_keywords = ['national', 'isi foundation','institute for health','amsterdam umc','university', 'iust','school','univ' , 'college', 'institute of technology', 'polytechnic', 'instituto superior tecnico', 'universit', 'hospital', 'mayo clinic', 'cancer center', 'NIH', '.ac.uk', 'universidad', '.edu', 'ethz.ch']\n",
    "    more_academic_keywords = ['university', 'school', 'college', 'institute of technology', 'polytechnic', 'instituto superior tecnico', \n",
    "                         'universit', 'hospital', 'medical center', 'health science', 'academia', 'faculty', 'department of', \n",
    "                         'school of medicine', 'research institute', 'national institute', 'cancer center', 'clinic', 'basque center for applied mathematics', 'association', 'fau erlangen-nurnberg']\n",
    "    academic_keywords = list(set(academic_keywords + more_academic_keywords))\n",
    "\n",
    "\n",
    "    has_industry = any(keyword in affiliation_lower for keyword in industry_keywords)\n",
    "    has_academic = any(keyword in affiliation_lower for keyword in academic_keywords)\n",
    "    \n",
    "    if has_industry and has_academic:\n",
    "        return 'mixed'\n",
    "    elif has_industry:\n",
    "        return 'industry'\n",
    "    elif has_academic:\n",
    "        return 'academic'\n",
    "    else:\n",
    "        return 'other'\n",
    "\n",
    "def classify_row(row):\n",
    "    if row['venue'] == 'pubmed':\n",
    "        return categorize_affiliations(row['affiliation'])\n",
    "    else:\n",
    "        email_category = categorize_emails(row['processed_emails'])\n",
    "        author_category = categorize_affiliations(row['authors'])\n",
    "        \n",
    "        if email_category == author_category:\n",
    "            return email_category\n",
    "        elif 'mixed' in [email_category, author_category]:\n",
    "            return 'mixed'\n",
    "        elif 'academic' in [email_category, author_category] and 'industry' in [email_category, author_category]:\n",
    "            return 'mixed'\n",
    "        elif email_category == 'other':\n",
    "            return author_category\n",
    "        elif author_category == 'other':\n",
    "            return email_category\n",
    "        else:\n",
    "            return 'mixed'\n",
    "\n",
    "# Load the dataframe\n",
    "topic_df = pd.read_csv(\"data/topic_df_with_affiliations_filtered_validated.csv\")\n",
    "\n",
    "# Apply classification\n",
    "topic_df['affiliation_class'] = topic_df.apply(classify_row, axis=1)\n",
    "\n",
    "# Print classification results\n",
    "print(\"\\nAffiliation Classification Results:\")\n",
    "print(topic_df['affiliation_class'].value_counts(normalize=True) * 100)\n",
    "\n",
    "# Save the updated dataframe\n",
    "output_file = \"data/topic_df_with_affiliation_classification.csv\"\n",
    "topic_df.to_csv(output_file, index=False)\n",
    "print(f\"\\nUpdated dataframe saved as '{output_file}'\")\n",
    "\n",
    "# Print some examples\n",
    "print(\"\\nExamples of classified entries:\")\n",
    "for venue in topic_df['venue'].unique():\n",
    "    print(f\"\\nVenue: {venue}\")\n",
    "    sample = topic_df[topic_df['venue'] == venue].sample(n=min(3, len(topic_df[topic_df['venue'] == venue])))\n",
    "    for _, row in sample.iterrows():\n",
    "        print(f\"Title: {row['title']}\")\n",
    "        print(f\"Affiliation: {row['affiliation']}\")\n",
    "        print(f\"Processed Emails: {row['processed_emails']}\")\n",
    "        print(f\"Authors: {row['authors']}\")\n",
    "        print(f\"Classification: {row['affiliation_class']}\")\n",
    "        print(\"---\")"
   ]
  },
  {
   "cell_type": "markdown",
   "metadata": {},
   "source": [
    "### Let's just accept that we can't clean all of them, and just ignore the 50 or so of the papers."
   ]
  },
  {
   "cell_type": "code",
   "execution_count": 8,
   "metadata": {},
   "outputs": [
    {
     "name": "stdout",
     "output_type": "stream",
     "text": [
      "Total number of papers classified as 'other': 52\n",
      "Percentage of papers classified as 'other': 1.99%\n",
      "\n",
      "Details of papers classified as 'other':\n",
      "\n",
      "Index: 2098\n",
      "Title: M Mi Da S- A E: Multi-modal Missing Dataaware Stacked Autoencoderfor Biomedical Abstract Screening\n",
      "Multi-Modal Missing Data-Aware Stacked Autoencoder for Biomedical Abstract Screening\n",
      "Venue: CHIL\n",
      "Affiliation: nan\n",
      "Processed Emails: No email addresses found. We are not using code here.\n",
      "Authors: nan\n",
      "--------------------------------------------------\n",
      "\n",
      "Index: 2160\n",
      "Title: Interpretable Missing Valuesin Healthcare Figure7: Impactoffather’seducationoninfantmor-talityrisk,. Appendix A. Testingfor M C A Rwith E B M: Case Study Insomecaseswehaveinformationaboutthemech-anismgeneratingmissingvaluesandthelikelihoodthatasimilarmechanismwillgeneratedatainthefuture. Asanexample,consider D Birth Cohort Linked Birth– Infant Death Data Files United States De-partmentof Healthand Human Services( U S H S)etal.. Thedatasetdescribespregnancyandbirthvariablesforalllivebirthsinthe U. S.togetherwithanindicationofaninfant’sdeathbeforethefirstbirthday. Thedatasetiscollectedusingtwocertifi-cates:1989 Revisionofthe S. Standard Certificateof Live Birth(unrevised)andtherevisionofthe Birth(revised). Asaresultofthedelayed,phasedtransitiontothe Certificate,thecohortsfromtoin-cludedataforreportingareasthatusethenewerrevisionalongwithdataforreportingareasthatstillusetheolder1989 Certificate(unrevised),withlateryearshavingalargerfractionofdatacorrespondingtotherevision. Valuesforvariablesthatarepresentonlyinthecertificatewillbemissingforareasusingtheearlier,1989certificate. In,10%ofrecordscomefromsuchareas,thefractionisdecliningyeartoyearandwecanexpectittobeevensmallerinsubsequentyears. Figure7showstheimpactoffather’seducationoninfantmortalityriskaccordingtoan Mmodeltrainedondata. Valuesfrom1to8corre-spondtodifferentlevelsofeducationalattainment,with1indicating8thgradeorlessand8adoctor-ateorprofessionaldegree. Theriskishighforlevels1-3,dropstojustbelowtheaverageriskforlevels3-4(somecollegeandassociatedegree)andevenfur- Figure8: Impactofsmokingbeforeandduringpreg-nancyoninfantmortalityrisk,.therfor A/ S, Sanddoctorate(levels6-8)2. Level9indicatesunwillingnesstosharethisinforma-tionand10correspondsto10%ofrecordswherethisvariablewasnotpresent(version1989). Level9isassociatedwithslightlyelevatedrisk;wemayguessthatfathersunwillingtosharearemorelikelytobelowerontheeducationscale. Level10isassociatedwithriskslightlybelowaverage,whichissurprisingatfirstglance. Unlikefor Level9,themechanismaccordingtowhichtheinformationiswithheldisin-dependentofthevalueofthevariableinquestion(namely,thegeographicalareausinganolderver-sionofthecertificate). However,ifthepopulationsusingthetwocertificateversionswerecomingfromthesamedistribution,wewouldexpectaveragerisk(0ontheshapefunction)forthisgroup. The Rtestfrom Section4.1.1indicatesthesegroupsaresta-tisticallydifferentfromeachother,suggestingsocial,demographicorotherdifferencesbetweenthesepop-ulations. Asimilarpictureemergeswhenwelookatinfantmortalityasafunctionofmothersmokingbeforeandduringpregnancy. Theriskishighestformotherswhosmokedduringpregnancy,slightlyelevatedforthosewhosmokedbeforepregnancyandlowestformotherswhoneversmoked. Riskformotherswhodidn’tsharethisinformation(‘omitted’)isclearlyel-evated. Thegroupforwhomthevalueismissing(older1989certificate,denoted‘notasked’)hasriskslightlylowerthanaverage(0). Again,riskdifferentfromaverageindicatesadistributionshiftwithre-specttotherestofthepopulation,andweseethat’omitted’isdifferentfrom’notasked’. Ifweweretotrainaninfantmortalityriskmodelondataanduseitforpredictionondatafromsubsequentyears,wecouldrunintotheproblemof2. Parents’educationisthebestproxywehaveinthedatasetforfamily’sincome.13 Healthcarevaluesmissingforanevenlowerfractionofallrecordsandpossiblycomingfromadistributionevenmoreshiftedwithrespecttothedistributionofthemajor-ityoftherecords. Ourmodelwouldlikelypredicttherisklessaccuratelyforthissegmentofthepopulation. B. Visualizingthe Effectof Imputation Asmentionedin Section5,theadvancedimputationmethodscansignificantlychangethelearnedshapefunctionsandsuchchangescansometimesbeprob-lematic. Tohelpvisualizetheeffectofimputationandidentifypotentialproblemsinadvance,wepro-posetoseparatethecomponentsofthemissinggroupandtheobservedgroupinthe Mshapefunctions. Toseparatethesetwocomponents,insteadofdirectlyimputingthemissingvalueswiththeoutputoftheimputationalgorithm,weaddalargeoffsettotheseimputedvaluessothattheimputedvaluesdonothaveoverlapwiththeobservedvalues. Forexample,inourexperiments,weaddmaxfeaturevalueplus1totheimputedvalues. Thiscanbeviewedasatricktosqueezethefeatureanditsmissingnessindicatorvariableintoonedimension. Training Msonsuchseparatedfeaturevalues,theshapefunctionwillbeaconcatenationofthetwocurvescorrespondingtotheobservedgroupandthemissinggroup. Also,becauseweknowtheoffsetweaddedtotheimputedvalue,wecansubtractitduringvisualization,andshowthetwocurvesonthesameplotandoriginalx-axis. Figure9showsthe Mshapefunctionsoftheimputedgroupandtheobservedgroupseparatedus-ingthemethodproposedabove. Figure9(a)showsthattheriskofthe R Fimputedgroupismuchlowerthantheriskoftheobservedgroupwhichcorrobo-rateswhatwefoundin Figure6(a). Similarly,theeffectsoftheimputedgroupin Figure9(b)alsodiffersignificantlyfromtheobservedgroup,whichexplainswhythereexistspikesinthe Fimputed Mshapefunctionin Figure6(b). Usinginterpretablemethodslike Msallowsonetounderstandtheconsequenceofdifferentimputationmethodsthatotherwisewouldbeinvisible.(a) Shapefunctionsfor P/ Fratio(b) Urea Figure9: Mshapefunctionswhentheeffectsofimputationgroup(imputedby Miss Forest,denotedas Fimputed)andobserved(nonmissing)groupsareseparated. Theplotssuggestshowthetwogroupsaredifferentintermsofpredictingthe I Umortalityrisk,andsuggestshow Forestimputationmightresultinproblematicmodels\n",
      "Interpretable Missing Values in Healthcare: Figure 7 - Impact of Father's Education on Infant Mortality Risk. Appendix A: Testing for MCAR with EBM: Case Study.\n",
      "Venue: CHIL\n",
      "Affiliation: nan\n",
      "Processed Emails: No email addresses found. We are not using code here.\n",
      "Authors: nan\n",
      "--------------------------------------------------\n",
      "\n",
      "Index: 2177\n",
      "Title: Neural Fine- Gray: Monotonicneuralnetworksforcompetingrisks Supplementarymaterials Appendix A. Experiments A.1. Datasetscharacteristics Table1presentsthetimesandobservedoutcomescorrespondingtothedifferentquantilesoftheuncensoredpopulationusedforevaluation,differentiatedbydatasets. Quantilesq0.25q0.50q0.75 P B C Time(years)3.194.957.45 Censoring0.00%0.00%11.54% Death12.82%23.72%32.69% Transplant0.64%3.21%7.69% Fram. Time(years)5.9012.5718.14 Censoring0.00%0.00%0.00% Death2.66%7.40%12.56% V D8.30%14.52%20.32% Synth. Time3.0011.0030.00 Censoring20.54%35.32%44.65% Cause15.28%12.43%18.96% Cause25.05%12.21%18.43% S E R Time(years)1.674.008.08 Censoring10.34%22.20%39.59% C4.53%9.32%13.37% D0.80%1.76%3.23% Table1: Observedoutcomesofinterestatthedifferentevaluationhorizons. A.2. Evaluationmetrics\n",
      "Neural Fine-Gray: Monotonic Neural Networks for Competing Risks\n",
      "Venue: CHIL\n",
      "Affiliation: nan\n",
      "Processed Emails: No email addresses found. We are not using code here.\n",
      "Authors: Time Dependent C-Index Time-dependent C-Index (Antolini et al., 2005) quantifies the model, discrimination by comparing the ordering of the predicted survival probability for risk rand the, observed survival times, i.e. it is an estimate of:, P(ˆFr(t|xi)>ˆFr(t|xj)|di=r, ti< tj, ti≤t), This probability is approximated and weighted by the inverse probability ω(ti) of censoring derived, from a Kaplan-Meier estimator., ©2023 .Time Dependent Brier Score Time dependent Brier score (Graf et al., 1999) measures the, model calibration for risk r, similarly corrected for censoring:, BSr(t) =1, nX, i\u0002, ω(ti) 1i,di=r∧ti≤t(1−ˆFr(t|xi))2+ω(t) 1ti>tˆFr(t|xi)2\u0003, with 1, the indicator function, ˆS(t|x), the predicted survival probability at time t., A.3. Time specific results, Tables 2, 3 and 4 present the performance evaluated at the dataset-specific 0.25, 0.5 and 0.75, quantiles of the uncensored population event times through respectively C-index, ROC-AUC, and\n",
      "--------------------------------------------------\n",
      "\n",
      "Index: 2184\n",
      "Title: Evaluating Model Performancein Medical Datasets Over Time Appendix A. Snapshotintothe Stateofproceedings,andtheﬁrst20papersthatcameupinthe Radiologymedicaljournalwhensearch-ingforthekeyword“machinelearning”andﬁlteringforpapersfromto(see R E A D M E.mdinhttps://github.com/acmi-lab/ Evaluation Time). Outof23papersintheproceedings,21didnottaketimeintoaccountintheirdatasplit,andtwowereunclearabouthowtheysplitdata,butitisunlikelythattheysplitbytime. Outofthe20papersreviewedat,onlyonepapersplitbytime. Outofthe20papersreviewedfrom Radiology,6didnottrainorevaluateanymachinelearningmodels,butoutoftheremaining14papers,13didnottaketimeintoaccountintheirdatasplit,andonedidnotspecifyhowdatawassplit. B. O T Python Package Figure6illustratestheworkﬂowofthe Pythonpackage. Eot Dataset Evaluator Experiment Configs(e.g.slidingwindow,etc.) Experimentpassasargumentpassasargumentrequestdataforsimulateddeploymenttimereturnrequestedsplitsofdata Testtime U C P C... Tableof Results Pre-processed Visualizationsoutputsvisualizationscripts Figure6: Pythonpackageworkﬂowdiagram. Theprimarytouchpointofthe Tpackageisthe Experimentobject. Usersprovideadataframefortheir(mostly)preprocesseddataset( Ttakescareofnormalizationbasedontherelevanttrainingset),theirdesiredexperimentconﬁguration(e.g.slidingwindow),andmodelclass(whichshouldsubclassthesimple Modelabstractclass)inordertocreatean Runningtherun_experiment()func-tionofthe Experimentreturnsadataframeofexperimentresultsthatcanthenbevisualized. Thediagramalsoprovidesinsightintosomeoftheinternalsofthe Experimentobject–thereisan Datasetobjectthathandlesdatasplits,andan Evaluatorobjectthatexecutesthemainevaluationloop.14 C. Additional S Data Details The Surveillance, Epidemiology,and End Results( R) Programcollectscancerincidencedatafrom\n",
      "Evaluating Model Performance in Medical Datasets Over Time: A Snapshot into the State of Proceedings and the First 20 Papers That Came Up in the Radiology Medical Journal When Searching for the Keyword \"Machine Learning\" and Filtering for Papers from To\n",
      "Venue: CHIL\n",
      "Affiliation: nan\n",
      "Processed Emails: No email addresses found. We are not using code here.\n",
      "Authors: nan\n",
      "--------------------------------------------------\n",
      "\n",
      "Index: 2401\n",
      "Title: The Medical Deconfounder: Assessing Treatment E\n",
      "The Medical Deconfounder: Assessing Treatment Effects\n",
      "Venue: MLHC\n",
      "Affiliation: nan\n",
      "Processed Emails: No email addresses found. We are not using code here.\n",
      "Authors: Linying Zhang \n",
      "--------------------------------------------------\n",
      "\n",
      "Index: 2413\n",
      "Title: Clinical Abstract Track Acomputationalapproachtoquantifymovementimpairmentafterstroke\n",
      "A Computational Approach to Quantify Movement Impairment After Stroke\n",
      "Venue: MLHC\n",
      "Affiliation: nan\n",
      "Processed Emails: No email addresses found. We are not using code here.\n",
      "Authors: nan\n",
      "--------------------------------------------------\n",
      "\n",
      "Index: 2414\n",
      "Title: Clinical Abstract Track Refiningmovementquantitationinstroke\n",
      "Refining Movement Quantitation in Stroke\n",
      "Venue: MLHC\n",
      "Affiliation: nan\n",
      "Processed Emails: No email addresses found. We are not using code here.\n",
      "Authors: nan\n",
      "--------------------------------------------------\n",
      "\n",
      "Index: 2415\n",
      "Title: Clinical Abstract Track Predicting I C Ulengthofstaywithacompetingriskdeeplearningsurvivalmodelframework\n",
      "Predicting ICU Length of Stay with a Competing Risk Deep Learning Survival Model Framework\n",
      "Venue: MLHC\n",
      "Affiliation: nan\n",
      "Processed Emails: No email addresses found. We are not using code here.\n",
      "Authors: nan\n",
      "--------------------------------------------------\n",
      "\n",
      "Index: 2454\n",
      "Title: Neurovascular Couplingin Patientswith Acute Ischemic Stroke\n",
      "Neurovascular Coupling in Patients with Acute Ischemic Stroke\n",
      "Venue: MLHC\n",
      "Affiliation: nan\n",
      "Processed Emails: No email addresses found. We are not using code here.\n",
      "Authors: nan\n",
      "--------------------------------------------------\n",
      "\n",
      "Index: 2455\n",
      "Title: Predictingantibioticresistancein Mycobacteriumtuberculosiswithgenomicmachinelearning\n",
      "Predicting Antibiotic Resistance in Mycobacterium Tuberculosis with Genomic Machine Learning\n",
      "Venue: MLHC\n",
      "Affiliation: nan\n",
      "Processed Emails: No email addresses found. We are not using code here.\n",
      "Authors: nan\n",
      "--------------------------------------------------\n",
      "\n",
      "Index: 2456\n",
      "Title: T I L E Developmentand Validationof Machine Learning Modelsto Predict Admissionfromthe Emergency Departmentto Inpatientand Intensive Care Units\n",
      "Development and Validation of Machine Learning Models to Predict Admission from the Emergency Department to Inpatient and Intensive Care Units\n",
      "Venue: MLHC\n",
      "Affiliation: nan\n",
      "Processed Emails: No email addresses found. We are not using code here.\n",
      "Authors: Alexander Fenn, ​, 1, ​, , Connor Davis, ​, 2, ​, , Neel Kapadia, ​, 3, ​, , Daniel Buckland, ​, 3, ​\n",
      "--------------------------------------------------\n",
      "\n",
      "Index: 2457\n",
      "Title: Developmentof Machine Learning Modelto Predict Riskof Inpatient Deterioration\n",
      "Development of Machine Learning Model to Predict Risk of Inpatient Deterioration\n",
      "Venue: MLHC\n",
      "Affiliation: nan\n",
      "Processed Emails: No email addresses found. We are not using code here.\n",
      "Authors: Stephanie Skove, BS, ​, 1, ​, , Harvey Shi, BS, ​, 1, ​, , Ziyuan Shen, MS, ​, 2, ​, , Michael Gao, MS, ​, 1, ​\n",
      "--------------------------------------------------\n",
      "\n",
      "Index: 2458\n",
      "Title: Predictionof Critical Pediatric Perioperative Adverse Eventsusingthe A P R I C O T Dataset\n",
      "Prediction of Critical Pediatric Perioperative Adverse Events Using the APRICOT Dataset\n",
      "Venue: MLHC\n",
      "Affiliation: nan\n",
      "Processed Emails: No email addresses found. We are not using code here.\n",
      "Authors: nan\n",
      "--------------------------------------------------\n",
      "\n",
      "Index: 2459\n",
      "Title: A Heart Rate Algorithmto Predict High Riskdren Presentingtothe Pediatric Emergency Department\n",
      "A Heart Rate Algorithm to Predict High-Risk Children Presenting to the Pediatric Emergency Department\n",
      "Venue: MLHC\n",
      "Affiliation: nan\n",
      "Processed Emails: No email addresses found. We are not using code here.\n",
      "Authors: nan\n",
      "--------------------------------------------------\n",
      "\n",
      "Index: 2460\n",
      "Title: Machine Learningto Automate Clinician Designed Empirical Manualfor Congenital Heart Disease Identificationin Large Claims Database\n",
      "Machine Learning to Automate Clinician-Designed Empirical Manual for Congenital Heart Disease Identification in Large Claims Database\n",
      "Venue: MLHC\n",
      "Affiliation: nan\n",
      "Processed Emails: No email addresses found. We are not using code here.\n",
      "Authors: Ariane J. Marelli, MD, MPH;, ​, 1, ​, Chao Li, MEng;, ​, 1, ​, Aihua Liu, PhD;, ​, 1, ​, Hanh Nguyen, MD;, ​, 1, ​\n",
      "--------------------------------------------------\n",
      "\n",
      "Index: 2461\n",
      "Title: Deep Learning Airway Structure Identificationfor Video Intubation\n",
      "Deep Learning Airway Structure Identification for Video Intubation\n",
      "Venue: MLHC\n",
      "Affiliation: nan\n",
      "Processed Emails: No email addresses found. We are not using code here.\n",
      "Authors: nan\n",
      "--------------------------------------------------\n",
      "\n",
      "Index: 2462\n",
      "Title: Denoisingstimulated Ramanhistologyusingweaksupervisiontoimprovelabel-freeopticalmicroscopyofhumanbraintumors\n",
      "Denoising Stimulated Raman Histology Using Weak Supervision to Improve Label-Free Optical Microscopy of Human Brain Tumors\n",
      "Venue: MLHC\n",
      "Affiliation: nan\n",
      "Processed Emails: No email addresses found. We are not using code here.\n",
      "Authors: Esteban Urias, MHS, ​, 1, ​, , Christopher Freudiger, PhD, ​, 2, ​, , Daniel Orringer, MD, ​, 3, ​, Honglak Lee, PhD, ​, 4, ​\n",
      "--------------------------------------------------\n",
      "\n",
      "Index: 2463\n",
      "Title: Theuseofnaturallanguageprocessingtoimproveidentificationofpatientswithperipheralarterydisease\n",
      "The Use of Natural Language Processing to Improve Identification of Patients with Peripheral Artery Disease\n",
      "Venue: MLHC\n",
      "Affiliation: nan\n",
      "Processed Emails: No email addresses found. We are not using code here.\n",
      "Authors: nan\n",
      "--------------------------------------------------\n",
      "\n",
      "Index: 2481\n",
      "Title: Hierarchical Information Criterionfor Variable Abstraction\n",
      "Hierarchical Information Criterion for Variable Abstraction\n",
      "Venue: MLHC\n",
      "Affiliation: nan\n",
      "Processed Emails: No email addresses found. We are not using code here.\n",
      "Authors: nan\n",
      "--------------------------------------------------\n",
      "\n",
      "Index: 2531\n",
      "Title: Amachinelearningapproachtodiagnoseblooddiseases\n",
      "A Machine Learning Approach to Diagnose Blood Diseases\n",
      "Venue: MLHC\n",
      "Affiliation: nan\n",
      "Processed Emails: No email addresses found. We are not using code here.\n",
      "Authors: nan\n",
      "--------------------------------------------------\n",
      "\n",
      "Index: 2532\n",
      "Title: Alogisticregression-basedmodeltopredict I C Umortality:problemsandsolutions\n",
      "A Logistic Regression-Based Model to Predict ICU Mortality: Problems and Solutions\n",
      "Venue: MLHC\n",
      "Affiliation: nan\n",
      "Processed Emails: No email addresses found. We are not using code here.\n",
      "Authors: nan\n",
      "--------------------------------------------------\n",
      "\n",
      "Index: 2533\n",
      "Title: Learningfromfailure: Explainingclinical M Lmodelpredictionerrors\n",
      "Learning from Failure: Explaining Clinical Machine Learning Model Prediction Errors\n",
      "Venue: MLHC\n",
      "Affiliation: nan\n",
      "Processed Emails: No email addresses found. We are not using code here.\n",
      "Authors: nan\n",
      "--------------------------------------------------\n",
      "\n",
      "Index: 2534\n",
      "Title: Structured Understandingof Assessmentand Plansin Clinical Documentation\n",
      "Structured Understanding of Assessment and Plans in Clinical Documentation\n",
      "Venue: MLHC\n",
      "Affiliation: nan\n",
      "Processed Emails: No email addresses found. We are not using code here.\n",
      "Authors: nan\n",
      "--------------------------------------------------\n",
      "\n",
      "Index: 2535\n",
      "Title: Py M S M: Pythonpackagefor Competing Risksand Multi-statemodelsfor Survival Data\n",
      "PyMSM: Python Package for Competing Risks and Multi-State Models for Survival Data\n",
      "Venue: MLHC\n",
      "Affiliation: nan\n",
      "Processed Emails: No email addresses found. We are not using code here.\n",
      "Authors: nan\n",
      "--------------------------------------------------\n",
      "\n",
      "Index: 2536\n",
      "Title: Py D T S: A Python Packagefor Discrete- Time Survival Analysiswith Competing Risks\n",
      "PyDTS: A Python Package for Discrete-Time Survival Analysis with Competing Risks\n",
      "Venue: MLHC\n",
      "Affiliation: nan\n",
      "Processed Emails: No email addresses found. We are not using code here.\n",
      "Authors: nan\n",
      "--------------------------------------------------\n",
      "\n",
      "Index: 2537\n",
      "Title: Utilizingamachinelearningmortalitymodeltoincreaseseriousillnessconversationsinhospitalizedpatients: Aclusterrandomizedcontrolledtrial\n",
      "Utilizing a Machine Learning Mortality Model to Increase Serious Illness Conversations in Hospitalized Patients: A Cluster Randomized Controlled Trial\n",
      "Venue: MLHC\n",
      "Affiliation: nan\n",
      "Processed Emails: No email addresses found. We are not using code here.\n",
      "Authors: nan\n",
      "--------------------------------------------------\n",
      "\n",
      "Index: 2538\n",
      "Title: Cycl Ops: Aunifiedframeworkfordataextractionandrigorousevaluationof M Lmodelsforclinicaluse-cases\n",
      "Cycl Ops: A Unified Framework for Data Extraction and Rigorous Evaluation of Machine Learning Models for Clinical Use Cases\n",
      "Venue: MLHC\n",
      "Affiliation: nan\n",
      "Processed Emails: No email addresses found. We are not using code here.\n",
      "Authors: nan\n",
      "--------------------------------------------------\n",
      "\n",
      "Index: 2539\n",
      "Title: Developmentandvalidationofaconvolutionalneuralnetworktoidentifyregionsofinterestinlumpectomymarginsusingopticalcoherencetomography\n",
      "Development and Validation of a Convolutional Neural Network to Identify Regions of Interest in Lumpectomy Margins Using Optical Coherence Tomography\n",
      "Venue: MLHC\n",
      "Affiliation: nan\n",
      "Processed Emails: No email addresses found. We are not using code here.\n",
      "Authors: nan\n",
      "--------------------------------------------------\n",
      "\n",
      "Index: 2540\n",
      "Title: A Geriatric- Specific Morbidityand Mortality Risk Stratification Tool\n",
      "A Geriatric-Specific Morbidity and Mortality Risk Stratification Tool\n",
      "Venue: MLHC\n",
      "Affiliation: nan\n",
      "Processed Emails: No email addresses found. We are not using code here.\n",
      "Authors: nan\n",
      "--------------------------------------------------\n",
      "\n",
      "Index: 2541\n",
      "Title: Creatinganevidencestandardsframeworkforartificialintelligenceenableddigitalhealthtechnologies\n",
      "Creating an Evidence Standards Framework for Artificial Intelligence-Enabled Digital Health Technologies\n",
      "Venue: MLHC\n",
      "Affiliation: nan\n",
      "Processed Emails: No email addresses found. We are not using code here.\n",
      "Authors: nan\n",
      "--------------------------------------------------\n",
      "\n",
      "Index: 2542\n",
      "Title: Amachinelearning-basedapproachtoclassifyingaprovider’sdescriptionofchestpain\n",
      "A Machine Learning-Based Approach to Classifying a Provider's Description of Chest Pain\n",
      "Venue: MLHC\n",
      "Affiliation: nan\n",
      "Processed Emails: No email addresses found. We are not using code here.\n",
      "Authors: nan\n",
      "--------------------------------------------------\n",
      "\n",
      "Index: 2543\n",
      "Title: E H Rphenotypingby Natural Language Processingimprovesdetectionofpatientsatriskforpreeclampsia\n",
      "EHR Phenotyping by Natural Language Processing Improves Detection of Patients at Risk for Preeclampsia\n",
      "Venue: MLHC\n",
      "Affiliation: nan\n",
      "Processed Emails: No email addresses found. We are not using code here.\n",
      "Authors: nan\n",
      "--------------------------------------------------\n",
      "\n",
      "Index: 2544\n",
      "Title: Transparentand Distributed A I Prediction Modeling: Case Studyon Pediatric Covid\n",
      "Transparent and Distributed AI Prediction Modeling: Case Study on Pediatric COVID\n",
      "Venue: MLHC\n",
      "Affiliation: nan\n",
      "Processed Emails: No email addresses found. We are not using code here.\n",
      "Authors: nan\n",
      "--------------------------------------------------\n",
      "\n",
      "Index: 2545\n",
      "Title: Predictivemodelsforclopidogreloutcomesusingprescriptionrecordsanddiagnosiscodes\n",
      "Predictive Models for Clopidogrel Outcomes Using Prescription Records and Diagnosis Codes\n",
      "Venue: MLHC\n",
      "Affiliation: nan\n",
      "Processed Emails: No email addresses found. We are not using code here.\n",
      "Authors: nan\n",
      "--------------------------------------------------\n",
      "\n",
      "Index: 2591\n",
      "Title: Useofmachinelearningtechniquesforphenotypingischemicstrokeinsteadoftherule-basedmethods: Anationwidepopulation-basedstudy\n",
      "Use of Machine Learning Techniques for Phenotyping Ischemic Stroke Instead of the Rule-Based Methods: A Nation-Wide Population-Based Study\n",
      "Venue: MLHC\n",
      "Affiliation: nan\n",
      "Processed Emails: No email addresses found. We are not using code here.\n",
      "Authors: nan\n",
      "--------------------------------------------------\n",
      "\n",
      "Index: 2592\n",
      "Title: Identifying Time Trajectoriesin Risk Factors Documentedin Clinical Notesand Predicting Hospitalizationsand Emergency Department Visitsduring Home Health Care\n",
      "Identifying Time Trajectories in Risk Factors Documented in Clinical Notes and Predicting Hospitalizations and Emergency Department Visits during Home Health Care\n",
      "Venue: MLHC\n",
      "Affiliation: nan\n",
      "Processed Emails: No email addresses found. We are not using code here.\n",
      "Authors: nan\n",
      "--------------------------------------------------\n",
      "\n",
      "Index: 2593\n",
      "Title: Developmentofadatasetandprospectiveevaluationofamodeltoidentifyhighqualitypapersontheclinicalimpactofpharmacistinterventions\n",
      "Development of a Dataset and Prospective Evaluation of a Model to Identify High-Quality Papers on the Clinical Impact of Pharmacist Interventions\n",
      "Venue: MLHC\n",
      "Affiliation: nan\n",
      "Processed Emails: No email addresses found. We are not using code here.\n",
      "Authors: nan\n",
      "--------------------------------------------------\n",
      "\n",
      "Index: 2594\n",
      "Title: Dosocialdeterminantsofhealthdocumentedinclinicalnotesimprovehospitalpredictioninhomehealthcare\n",
      "Social Determinants of Health Documented in Clinical Notes Improve Hospital Prediction in Home Health Care\n",
      "Venue: MLHC\n",
      "Affiliation: nan\n",
      "Processed Emails: No email addresses found. We are not using code here.\n",
      "Authors: nan\n",
      "--------------------------------------------------\n",
      "\n",
      "Index: 2595\n",
      "Title: Naturallanguageprocessingforstrokediagnosticimagingcharacterization\n",
      "Natural Language Processing for Stroke Diagnostic Imaging Characterization\n",
      "Venue: MLHC\n",
      "Affiliation: nan\n",
      "Processed Emails: No email addresses found. We are not using code here.\n",
      "Authors: nan\n",
      "--------------------------------------------------\n",
      "\n",
      "Index: 2596\n",
      "Title: Developinga Patient Similarity Networkfor Predicting Post-stroke Urinary Tract Infection Riskin Hospitalized Immobile Patients\n",
      "Developing a Patient Similarity Network for Predicting Post-Stroke Urinary Tract Infection Risk in Hospitalized Immobile Patients\n",
      "Venue: MLHC\n",
      "Affiliation: nan\n",
      "Processed Emails: No email addresses found. We are not using code here.\n",
      "Authors: nan\n",
      "--------------------------------------------------\n",
      "\n",
      "Index: 2597\n",
      "Title: Developmentofamachinelearning-basedclinicaldecisionsupportsystemtopredictclinicaldeteriorationinpatientsvisitingtheemergencydepartment\n",
      "Development of a Machine Learning-Based Clinical Decision Support System to Predict Clinical Deterioration in Patients Visiting the Emergency Department\n",
      "Venue: MLHC\n",
      "Affiliation: nan\n",
      "Processed Emails: No email addresses found. We are not using code here.\n",
      "Authors: nan\n",
      "--------------------------------------------------\n",
      "\n",
      "Index: 2598\n",
      "Title: Faster R- C N Detectionof Fracturesin Pediatric Upper Extremity Radiographs\n",
      "Faster R-CNN Detection of Fractures in Pediatric Upper Extremity Radiographs\n",
      "Venue: MLHC\n",
      "Affiliation: nan\n",
      "Processed Emails: No email addresses found. We are not using code here.\n",
      "Authors: nan\n",
      "--------------------------------------------------\n",
      "\n",
      "Index: 2599\n",
      "Title: Improving Clinical Early Warning Systemsby Learning Physiological Trajectories\n",
      "Improving Clinical Early Warning Systems by Learning Physiological Trajectories\n",
      "Venue: MLHC\n",
      "Affiliation: nan\n",
      "Processed Emails: No email addresses found. We are not using code here.\n",
      "Authors: nan\n",
      "--------------------------------------------------\n",
      "\n",
      "Index: 2600\n",
      "Title: Natural Language Processingfor Automated Extractionof Breast Cancer Informationforthe Registry Adhari Abdullah Alzaabi, M D, Ph D1and Abdulrahman A Al Abdulsalam, D21 Collegeof Health Scienceand Medicine, Sultan Qaboos University2 Departmentof Computer Science, University Background. Nationalcancerregistriesrelyonmanualabstractionoffree-textclinicalrecordstocollect\n",
      "Natural Language Processing for Automated Extraction of Breast Cancer Information for the Registry. National Cancer Registries Rely on Manual Abstraction of Free-Text Clinical Records to Collect\n",
      "Venue: MLHC\n",
      "Affiliation: nan\n",
      "Processed Emails: No email addresses found. We are not using code here.\n",
      "Authors: nan\n",
      "--------------------------------------------------\n",
      "\n",
      "Index: 2601\n",
      "Title: Expanding Composite Disease Labels Improves E C G Deep Learning Model Performancefor Structural Heart Detection\n",
      "Expanding Composite Disease Labels Improves ECG Deep Learning Model Performance for Structural Heart Detection\n",
      "Venue: MLHC\n",
      "Affiliation: nan\n",
      "Processed Emails: No email addresses found. We are not using code here.\n",
      "Authors: nan\n",
      "--------------------------------------------------\n",
      "\n",
      "Index: 2602\n",
      "Title: Using Natural Language Processingondrugindicationstopredictworkingsourcesofinfection\n",
      "Using Natural Language Processing to Predict Workings of Sources of Infection\n",
      "Venue: MLHC\n",
      "Affiliation: nan\n",
      "Processed Emails: No email addresses found. We are not using code here.\n",
      "Authors: nan\n",
      "--------------------------------------------------\n",
      "\n",
      "Index: 2603\n",
      "Title: Enhancing Deep Learningin Detecting Acute Myocardial Infarctionvia Anatomically Informed12- Lead E C G\n",
      "Enhancing Deep Learning in Detecting Acute Myocardial Infarction via Anatomically Informed 12-Lead ECG\n",
      "Venue: MLHC\n",
      "Affiliation: nan\n",
      "Processed Emails: No email addresses found. We are not using code here.\n",
      "Authors: nan\n",
      "--------------------------------------------------\n",
      "\n",
      "Index: 2604\n",
      "Title: Reviewofchronicobstructivepulmonacydiseaseoperationaldefinitionmodelusingmachinelearningmodel\n",
      "Review of Chronic Obstructive Pulmonary Disease Operational Definition Model Using Machine Learning Model\n",
      "Venue: MLHC\n",
      "Affiliation: nan\n",
      "Processed Emails: No email addresses found. We are not using code here.\n",
      "Authors: nan\n",
      "--------------------------------------------------\n",
      "\n",
      "Index: 2606\n",
      "Title: Developmentofa Machine Learning Classification Modelfor I C U Admission Following Resuscitationata Level Trauma Center\n",
      "Development of a Machine Learning Classification Model for ICU Admission Following Resuscitation at a Level Trauma Center\n",
      "Venue: MLHC\n",
      "Affiliation: nan\n",
      "Processed Emails: No email addresses found. We are not using code here.\n",
      "Authors: nan\n",
      "--------------------------------------------------\n",
      "\n",
      "Index: 2607\n",
      "Title: Antihypertensivedrugrepurposingfordementiaprevention:targettrialemulationsintwolarge-scaleelectronichealthrecordsystems\n",
      "Antihypertensive Drug Repurposing for Dementia Prevention: Target Trial Emulations in Two Large-Scale Electronic Health Record Systems\n",
      "Venue: MLHC\n",
      "Affiliation: nan\n",
      "Processed Emails: No email addresses found. We are not using code here.\n",
      "Authors: nan\n",
      "--------------------------------------------------\n",
      "\n",
      "Index: 2608\n",
      "Title: Not So Blackand White: Confounders Mediate A I Prediction Of Race On Chest X- Rays\n",
      "Not So Black and White: Confounders Mediate AI Prediction of Race on Chest X-Rays\n",
      "Venue: MLHC\n",
      "Affiliation: nan\n",
      "Processed Emails: No email addresses found. We are not using code here.\n",
      "Authors: nan\n",
      "--------------------------------------------------\n",
      "\n",
      "Index: 2609\n",
      "Title: What G P T? Assessing Medical Student Useof Language Models During Clinical Clerkships\n",
      "Assessing Medical Students' Use of Language Models During Clinical Clerkships\n",
      "Venue: MLHC\n",
      "Affiliation: nan\n",
      "Processed Emails: No email addresses found. We are not using code here.\n",
      "Authors: nan\n",
      "--------------------------------------------------\n"
     ]
    }
   ],
   "source": [
    "def print_other_papers(df):\n",
    "    other_papers = df[df['affiliation_class'] == 'other']\n",
    "    \n",
    "    print(f\"Total number of papers classified as 'other': {len(other_papers)}\")\n",
    "    print(f\"Percentage of papers classified as 'other': {len(other_papers) / len(df) * 100:.2f}%\")\n",
    "    print(\"\\nDetails of papers classified as 'other':\")\n",
    "    \n",
    "    for idx, row in other_papers.iterrows():\n",
    "        print(f\"\\nIndex: {idx}\")\n",
    "        print(f\"Title: {row['title']}\")\n",
    "        if row['venue'] != 'pubmed':\n",
    "            print(row['cleaned_title'])\n",
    "        print(f\"Venue: {row['venue']}\")\n",
    "        print(f\"Affiliation: {row['affiliation']}\")\n",
    "        print(f\"Processed Emails: {row['processed_emails']}\")\n",
    "        print(f\"Authors: {row['authors']}\")\n",
    "        print(\"-\" * 50)\n",
    "\n",
    "# Load the dataframe\n",
    "# topic_df = pd.read_csv(\"processed_data/topic_df_with_affiliation_classification.csv\")\n",
    "\n",
    "# Call the function to print 'other' papers\n",
    "print_other_papers(topic_df)"
   ]
  },
  {
   "cell_type": "code",
   "execution_count": 47,
   "metadata": {},
   "outputs": [
    {
     "data": {
      "application/vnd.plotly.v1+json": {
       "config": {
        "plotlyServerURL": "https://plot.ly"
       },
       "data": [
        {
         "customdata": [
          [
           60
          ],
          [
           38
          ],
          [
           2
          ]
         ],
         "domain": {
          "x": [
           0,
           1
          ],
          "y": [
           0,
           1
          ]
         },
         "hovertemplate": "<b>%{label}</b><br>Number of Papers: %{value}<br>Percentage: %{text}<extra></extra>",
         "labels": [
          "Academic",
          "Mixed",
          "Industry"
         ],
         "legendgroup": "",
         "name": "",
         "showlegend": true,
         "text": [
          "60%",
          "38%",
          "2%"
         ],
         "textfont": {
          "size": 28
         },
         "textinfo": "text",
         "textposition": "inside",
         "type": "pie",
         "values": [
          1537,
          962,
          59
         ]
        }
       ],
       "layout": {
        "height": 400,
        "legend": {
         "font": {
          "size": 24
         },
         "orientation": "h",
         "tracegroupgap": 0,
         "x": 1,
         "xanchor": "right",
         "y": 1.02,
         "yanchor": "bottom"
        },
        "margin": {
         "t": 80
        },
        "piecolorway": [
         "rgb(252,141,98)",
         "rgb(255,179,150)",
         "rgb(141,160,203)",
         "rgb(103,122,165)"
        ],
        "template": {
         "data": {
          "bar": [
           {
            "error_x": {
             "color": "#2a3f5f"
            },
            "error_y": {
             "color": "#2a3f5f"
            },
            "marker": {
             "line": {
              "color": "#E5ECF6",
              "width": 0.5
             },
             "pattern": {
              "fillmode": "overlay",
              "size": 10,
              "solidity": 0.2
             }
            },
            "type": "bar"
           }
          ],
          "barpolar": [
           {
            "marker": {
             "line": {
              "color": "#E5ECF6",
              "width": 0.5
             },
             "pattern": {
              "fillmode": "overlay",
              "size": 10,
              "solidity": 0.2
             }
            },
            "type": "barpolar"
           }
          ],
          "carpet": [
           {
            "aaxis": {
             "endlinecolor": "#2a3f5f",
             "gridcolor": "white",
             "linecolor": "white",
             "minorgridcolor": "white",
             "startlinecolor": "#2a3f5f"
            },
            "baxis": {
             "endlinecolor": "#2a3f5f",
             "gridcolor": "white",
             "linecolor": "white",
             "minorgridcolor": "white",
             "startlinecolor": "#2a3f5f"
            },
            "type": "carpet"
           }
          ],
          "choropleth": [
           {
            "colorbar": {
             "outlinewidth": 0,
             "ticks": ""
            },
            "type": "choropleth"
           }
          ],
          "contour": [
           {
            "colorbar": {
             "outlinewidth": 0,
             "ticks": ""
            },
            "colorscale": [
             [
              0,
              "#0d0887"
             ],
             [
              0.1111111111111111,
              "#46039f"
             ],
             [
              0.2222222222222222,
              "#7201a8"
             ],
             [
              0.3333333333333333,
              "#9c179e"
             ],
             [
              0.4444444444444444,
              "#bd3786"
             ],
             [
              0.5555555555555556,
              "#d8576b"
             ],
             [
              0.6666666666666666,
              "#ed7953"
             ],
             [
              0.7777777777777778,
              "#fb9f3a"
             ],
             [
              0.8888888888888888,
              "#fdca26"
             ],
             [
              1,
              "#f0f921"
             ]
            ],
            "type": "contour"
           }
          ],
          "contourcarpet": [
           {
            "colorbar": {
             "outlinewidth": 0,
             "ticks": ""
            },
            "type": "contourcarpet"
           }
          ],
          "heatmap": [
           {
            "colorbar": {
             "outlinewidth": 0,
             "ticks": ""
            },
            "colorscale": [
             [
              0,
              "#0d0887"
             ],
             [
              0.1111111111111111,
              "#46039f"
             ],
             [
              0.2222222222222222,
              "#7201a8"
             ],
             [
              0.3333333333333333,
              "#9c179e"
             ],
             [
              0.4444444444444444,
              "#bd3786"
             ],
             [
              0.5555555555555556,
              "#d8576b"
             ],
             [
              0.6666666666666666,
              "#ed7953"
             ],
             [
              0.7777777777777778,
              "#fb9f3a"
             ],
             [
              0.8888888888888888,
              "#fdca26"
             ],
             [
              1,
              "#f0f921"
             ]
            ],
            "type": "heatmap"
           }
          ],
          "heatmapgl": [
           {
            "colorbar": {
             "outlinewidth": 0,
             "ticks": ""
            },
            "colorscale": [
             [
              0,
              "#0d0887"
             ],
             [
              0.1111111111111111,
              "#46039f"
             ],
             [
              0.2222222222222222,
              "#7201a8"
             ],
             [
              0.3333333333333333,
              "#9c179e"
             ],
             [
              0.4444444444444444,
              "#bd3786"
             ],
             [
              0.5555555555555556,
              "#d8576b"
             ],
             [
              0.6666666666666666,
              "#ed7953"
             ],
             [
              0.7777777777777778,
              "#fb9f3a"
             ],
             [
              0.8888888888888888,
              "#fdca26"
             ],
             [
              1,
              "#f0f921"
             ]
            ],
            "type": "heatmapgl"
           }
          ],
          "histogram": [
           {
            "marker": {
             "pattern": {
              "fillmode": "overlay",
              "size": 10,
              "solidity": 0.2
             }
            },
            "type": "histogram"
           }
          ],
          "histogram2d": [
           {
            "colorbar": {
             "outlinewidth": 0,
             "ticks": ""
            },
            "colorscale": [
             [
              0,
              "#0d0887"
             ],
             [
              0.1111111111111111,
              "#46039f"
             ],
             [
              0.2222222222222222,
              "#7201a8"
             ],
             [
              0.3333333333333333,
              "#9c179e"
             ],
             [
              0.4444444444444444,
              "#bd3786"
             ],
             [
              0.5555555555555556,
              "#d8576b"
             ],
             [
              0.6666666666666666,
              "#ed7953"
             ],
             [
              0.7777777777777778,
              "#fb9f3a"
             ],
             [
              0.8888888888888888,
              "#fdca26"
             ],
             [
              1,
              "#f0f921"
             ]
            ],
            "type": "histogram2d"
           }
          ],
          "histogram2dcontour": [
           {
            "colorbar": {
             "outlinewidth": 0,
             "ticks": ""
            },
            "colorscale": [
             [
              0,
              "#0d0887"
             ],
             [
              0.1111111111111111,
              "#46039f"
             ],
             [
              0.2222222222222222,
              "#7201a8"
             ],
             [
              0.3333333333333333,
              "#9c179e"
             ],
             [
              0.4444444444444444,
              "#bd3786"
             ],
             [
              0.5555555555555556,
              "#d8576b"
             ],
             [
              0.6666666666666666,
              "#ed7953"
             ],
             [
              0.7777777777777778,
              "#fb9f3a"
             ],
             [
              0.8888888888888888,
              "#fdca26"
             ],
             [
              1,
              "#f0f921"
             ]
            ],
            "type": "histogram2dcontour"
           }
          ],
          "mesh3d": [
           {
            "colorbar": {
             "outlinewidth": 0,
             "ticks": ""
            },
            "type": "mesh3d"
           }
          ],
          "parcoords": [
           {
            "line": {
             "colorbar": {
              "outlinewidth": 0,
              "ticks": ""
             }
            },
            "type": "parcoords"
           }
          ],
          "pie": [
           {
            "automargin": true,
            "type": "pie"
           }
          ],
          "scatter": [
           {
            "fillpattern": {
             "fillmode": "overlay",
             "size": 10,
             "solidity": 0.2
            },
            "type": "scatter"
           }
          ],
          "scatter3d": [
           {
            "line": {
             "colorbar": {
              "outlinewidth": 0,
              "ticks": ""
             }
            },
            "marker": {
             "colorbar": {
              "outlinewidth": 0,
              "ticks": ""
             }
            },
            "type": "scatter3d"
           }
          ],
          "scattercarpet": [
           {
            "marker": {
             "colorbar": {
              "outlinewidth": 0,
              "ticks": ""
             }
            },
            "type": "scattercarpet"
           }
          ],
          "scattergeo": [
           {
            "marker": {
             "colorbar": {
              "outlinewidth": 0,
              "ticks": ""
             }
            },
            "type": "scattergeo"
           }
          ],
          "scattergl": [
           {
            "marker": {
             "colorbar": {
              "outlinewidth": 0,
              "ticks": ""
             }
            },
            "type": "scattergl"
           }
          ],
          "scattermapbox": [
           {
            "marker": {
             "colorbar": {
              "outlinewidth": 0,
              "ticks": ""
             }
            },
            "type": "scattermapbox"
           }
          ],
          "scatterpolar": [
           {
            "marker": {
             "colorbar": {
              "outlinewidth": 0,
              "ticks": ""
             }
            },
            "type": "scatterpolar"
           }
          ],
          "scatterpolargl": [
           {
            "marker": {
             "colorbar": {
              "outlinewidth": 0,
              "ticks": ""
             }
            },
            "type": "scatterpolargl"
           }
          ],
          "scatterternary": [
           {
            "marker": {
             "colorbar": {
              "outlinewidth": 0,
              "ticks": ""
             }
            },
            "type": "scatterternary"
           }
          ],
          "surface": [
           {
            "colorbar": {
             "outlinewidth": 0,
             "ticks": ""
            },
            "colorscale": [
             [
              0,
              "#0d0887"
             ],
             [
              0.1111111111111111,
              "#46039f"
             ],
             [
              0.2222222222222222,
              "#7201a8"
             ],
             [
              0.3333333333333333,
              "#9c179e"
             ],
             [
              0.4444444444444444,
              "#bd3786"
             ],
             [
              0.5555555555555556,
              "#d8576b"
             ],
             [
              0.6666666666666666,
              "#ed7953"
             ],
             [
              0.7777777777777778,
              "#fb9f3a"
             ],
             [
              0.8888888888888888,
              "#fdca26"
             ],
             [
              1,
              "#f0f921"
             ]
            ],
            "type": "surface"
           }
          ],
          "table": [
           {
            "cells": {
             "fill": {
              "color": "#EBF0F8"
             },
             "line": {
              "color": "white"
             }
            },
            "header": {
             "fill": {
              "color": "#C8D4E3"
             },
             "line": {
              "color": "white"
             }
            },
            "type": "table"
           }
          ]
         },
         "layout": {
          "annotationdefaults": {
           "arrowcolor": "#2a3f5f",
           "arrowhead": 0,
           "arrowwidth": 1
          },
          "autotypenumbers": "strict",
          "coloraxis": {
           "colorbar": {
            "outlinewidth": 0,
            "ticks": ""
           }
          },
          "colorscale": {
           "diverging": [
            [
             0,
             "#8e0152"
            ],
            [
             0.1,
             "#c51b7d"
            ],
            [
             0.2,
             "#de77ae"
            ],
            [
             0.3,
             "#f1b6da"
            ],
            [
             0.4,
             "#fde0ef"
            ],
            [
             0.5,
             "#f7f7f7"
            ],
            [
             0.6,
             "#e6f5d0"
            ],
            [
             0.7,
             "#b8e186"
            ],
            [
             0.8,
             "#7fbc41"
            ],
            [
             0.9,
             "#4d9221"
            ],
            [
             1,
             "#276419"
            ]
           ],
           "sequential": [
            [
             0,
             "#0d0887"
            ],
            [
             0.1111111111111111,
             "#46039f"
            ],
            [
             0.2222222222222222,
             "#7201a8"
            ],
            [
             0.3333333333333333,
             "#9c179e"
            ],
            [
             0.4444444444444444,
             "#bd3786"
            ],
            [
             0.5555555555555556,
             "#d8576b"
            ],
            [
             0.6666666666666666,
             "#ed7953"
            ],
            [
             0.7777777777777778,
             "#fb9f3a"
            ],
            [
             0.8888888888888888,
             "#fdca26"
            ],
            [
             1,
             "#f0f921"
            ]
           ],
           "sequentialminus": [
            [
             0,
             "#0d0887"
            ],
            [
             0.1111111111111111,
             "#46039f"
            ],
            [
             0.2222222222222222,
             "#7201a8"
            ],
            [
             0.3333333333333333,
             "#9c179e"
            ],
            [
             0.4444444444444444,
             "#bd3786"
            ],
            [
             0.5555555555555556,
             "#d8576b"
            ],
            [
             0.6666666666666666,
             "#ed7953"
            ],
            [
             0.7777777777777778,
             "#fb9f3a"
            ],
            [
             0.8888888888888888,
             "#fdca26"
            ],
            [
             1,
             "#f0f921"
            ]
           ]
          },
          "colorway": [
           "#636efa",
           "#EF553B",
           "#00cc96",
           "#ab63fa",
           "#FFA15A",
           "#19d3f3",
           "#FF6692",
           "#B6E880",
           "#FF97FF",
           "#FECB52"
          ],
          "font": {
           "color": "#2a3f5f"
          },
          "geo": {
           "bgcolor": "white",
           "lakecolor": "white",
           "landcolor": "#E5ECF6",
           "showlakes": true,
           "showland": true,
           "subunitcolor": "white"
          },
          "hoverlabel": {
           "align": "left"
          },
          "hovermode": "closest",
          "mapbox": {
           "style": "light"
          },
          "paper_bgcolor": "white",
          "plot_bgcolor": "#E5ECF6",
          "polar": {
           "angularaxis": {
            "gridcolor": "white",
            "linecolor": "white",
            "ticks": ""
           },
           "bgcolor": "#E5ECF6",
           "radialaxis": {
            "gridcolor": "white",
            "linecolor": "white",
            "ticks": ""
           }
          },
          "scene": {
           "xaxis": {
            "backgroundcolor": "#E5ECF6",
            "gridcolor": "white",
            "gridwidth": 2,
            "linecolor": "white",
            "showbackground": true,
            "ticks": "",
            "zerolinecolor": "white"
           },
           "yaxis": {
            "backgroundcolor": "#E5ECF6",
            "gridcolor": "white",
            "gridwidth": 2,
            "linecolor": "white",
            "showbackground": true,
            "ticks": "",
            "zerolinecolor": "white"
           },
           "zaxis": {
            "backgroundcolor": "#E5ECF6",
            "gridcolor": "white",
            "gridwidth": 2,
            "linecolor": "white",
            "showbackground": true,
            "ticks": "",
            "zerolinecolor": "white"
           }
          },
          "shapedefaults": {
           "line": {
            "color": "#2a3f5f"
           }
          },
          "ternary": {
           "aaxis": {
            "gridcolor": "white",
            "linecolor": "white",
            "ticks": ""
           },
           "baxis": {
            "gridcolor": "white",
            "linecolor": "white",
            "ticks": ""
           },
           "bgcolor": "#E5ECF6",
           "caxis": {
            "gridcolor": "white",
            "linecolor": "white",
            "ticks": ""
           }
          },
          "title": {
           "x": 0.05
          },
          "xaxis": {
           "automargin": true,
           "gridcolor": "white",
           "linecolor": "white",
           "ticks": "",
           "title": {
            "standoff": 15
           },
           "zerolinecolor": "white",
           "zerolinewidth": 2
          },
          "yaxis": {
           "automargin": true,
           "gridcolor": "white",
           "linecolor": "white",
           "ticks": "",
           "title": {
            "standoff": 15
           },
           "zerolinecolor": "white",
           "zerolinewidth": 2
          }
         }
        },
        "width": 600
       }
      },
      "text/html": [
       "<div>                            <div id=\"dc5fe671-0eaf-4e70-ba2a-d3f6122617f1\" class=\"plotly-graph-div\" style=\"height:400px; width:600px;\"></div>            <script type=\"text/javascript\">                require([\"plotly\"], function(Plotly) {                    window.PLOTLYENV=window.PLOTLYENV || {};                                    if (document.getElementById(\"dc5fe671-0eaf-4e70-ba2a-d3f6122617f1\")) {                    Plotly.newPlot(                        \"dc5fe671-0eaf-4e70-ba2a-d3f6122617f1\",                        [{\"customdata\":[[60],[38],[2]],\"domain\":{\"x\":[0.0,1.0],\"y\":[0.0,1.0]},\"hovertemplate\":\"\\u003cb\\u003e%{label}\\u003c\\u002fb\\u003e\\u003cbr\\u003eNumber of Papers: %{value}\\u003cbr\\u003ePercentage: %{text}\\u003cextra\\u003e\\u003c\\u002fextra\\u003e\",\"labels\":[\"Academic\",\"Mixed\",\"Industry\"],\"legendgroup\":\"\",\"name\":\"\",\"showlegend\":true,\"values\":[1537,962,59],\"type\":\"pie\",\"textfont\":{\"size\":28},\"text\":[\"60%\",\"38%\",\"2%\"],\"textinfo\":\"text\",\"textposition\":\"inside\"}],                        {\"template\":{\"data\":{\"histogram2dcontour\":[{\"type\":\"histogram2dcontour\",\"colorbar\":{\"outlinewidth\":0,\"ticks\":\"\"},\"colorscale\":[[0.0,\"#0d0887\"],[0.1111111111111111,\"#46039f\"],[0.2222222222222222,\"#7201a8\"],[0.3333333333333333,\"#9c179e\"],[0.4444444444444444,\"#bd3786\"],[0.5555555555555556,\"#d8576b\"],[0.6666666666666666,\"#ed7953\"],[0.7777777777777778,\"#fb9f3a\"],[0.8888888888888888,\"#fdca26\"],[1.0,\"#f0f921\"]]}],\"choropleth\":[{\"type\":\"choropleth\",\"colorbar\":{\"outlinewidth\":0,\"ticks\":\"\"}}],\"histogram2d\":[{\"type\":\"histogram2d\",\"colorbar\":{\"outlinewidth\":0,\"ticks\":\"\"},\"colorscale\":[[0.0,\"#0d0887\"],[0.1111111111111111,\"#46039f\"],[0.2222222222222222,\"#7201a8\"],[0.3333333333333333,\"#9c179e\"],[0.4444444444444444,\"#bd3786\"],[0.5555555555555556,\"#d8576b\"],[0.6666666666666666,\"#ed7953\"],[0.7777777777777778,\"#fb9f3a\"],[0.8888888888888888,\"#fdca26\"],[1.0,\"#f0f921\"]]}],\"heatmap\":[{\"type\":\"heatmap\",\"colorbar\":{\"outlinewidth\":0,\"ticks\":\"\"},\"colorscale\":[[0.0,\"#0d0887\"],[0.1111111111111111,\"#46039f\"],[0.2222222222222222,\"#7201a8\"],[0.3333333333333333,\"#9c179e\"],[0.4444444444444444,\"#bd3786\"],[0.5555555555555556,\"#d8576b\"],[0.6666666666666666,\"#ed7953\"],[0.7777777777777778,\"#fb9f3a\"],[0.8888888888888888,\"#fdca26\"],[1.0,\"#f0f921\"]]}],\"heatmapgl\":[{\"type\":\"heatmapgl\",\"colorbar\":{\"outlinewidth\":0,\"ticks\":\"\"},\"colorscale\":[[0.0,\"#0d0887\"],[0.1111111111111111,\"#46039f\"],[0.2222222222222222,\"#7201a8\"],[0.3333333333333333,\"#9c179e\"],[0.4444444444444444,\"#bd3786\"],[0.5555555555555556,\"#d8576b\"],[0.6666666666666666,\"#ed7953\"],[0.7777777777777778,\"#fb9f3a\"],[0.8888888888888888,\"#fdca26\"],[1.0,\"#f0f921\"]]}],\"contourcarpet\":[{\"type\":\"contourcarpet\",\"colorbar\":{\"outlinewidth\":0,\"ticks\":\"\"}}],\"contour\":[{\"type\":\"contour\",\"colorbar\":{\"outlinewidth\":0,\"ticks\":\"\"},\"colorscale\":[[0.0,\"#0d0887\"],[0.1111111111111111,\"#46039f\"],[0.2222222222222222,\"#7201a8\"],[0.3333333333333333,\"#9c179e\"],[0.4444444444444444,\"#bd3786\"],[0.5555555555555556,\"#d8576b\"],[0.6666666666666666,\"#ed7953\"],[0.7777777777777778,\"#fb9f3a\"],[0.8888888888888888,\"#fdca26\"],[1.0,\"#f0f921\"]]}],\"surface\":[{\"type\":\"surface\",\"colorbar\":{\"outlinewidth\":0,\"ticks\":\"\"},\"colorscale\":[[0.0,\"#0d0887\"],[0.1111111111111111,\"#46039f\"],[0.2222222222222222,\"#7201a8\"],[0.3333333333333333,\"#9c179e\"],[0.4444444444444444,\"#bd3786\"],[0.5555555555555556,\"#d8576b\"],[0.6666666666666666,\"#ed7953\"],[0.7777777777777778,\"#fb9f3a\"],[0.8888888888888888,\"#fdca26\"],[1.0,\"#f0f921\"]]}],\"mesh3d\":[{\"type\":\"mesh3d\",\"colorbar\":{\"outlinewidth\":0,\"ticks\":\"\"}}],\"scatter\":[{\"fillpattern\":{\"fillmode\":\"overlay\",\"size\":10,\"solidity\":0.2},\"type\":\"scatter\"}],\"parcoords\":[{\"type\":\"parcoords\",\"line\":{\"colorbar\":{\"outlinewidth\":0,\"ticks\":\"\"}}}],\"scatterpolargl\":[{\"type\":\"scatterpolargl\",\"marker\":{\"colorbar\":{\"outlinewidth\":0,\"ticks\":\"\"}}}],\"bar\":[{\"error_x\":{\"color\":\"#2a3f5f\"},\"error_y\":{\"color\":\"#2a3f5f\"},\"marker\":{\"line\":{\"color\":\"#E5ECF6\",\"width\":0.5},\"pattern\":{\"fillmode\":\"overlay\",\"size\":10,\"solidity\":0.2}},\"type\":\"bar\"}],\"scattergeo\":[{\"type\":\"scattergeo\",\"marker\":{\"colorbar\":{\"outlinewidth\":0,\"ticks\":\"\"}}}],\"scatterpolar\":[{\"type\":\"scatterpolar\",\"marker\":{\"colorbar\":{\"outlinewidth\":0,\"ticks\":\"\"}}}],\"histogram\":[{\"marker\":{\"pattern\":{\"fillmode\":\"overlay\",\"size\":10,\"solidity\":0.2}},\"type\":\"histogram\"}],\"scattergl\":[{\"type\":\"scattergl\",\"marker\":{\"colorbar\":{\"outlinewidth\":0,\"ticks\":\"\"}}}],\"scatter3d\":[{\"type\":\"scatter3d\",\"line\":{\"colorbar\":{\"outlinewidth\":0,\"ticks\":\"\"}},\"marker\":{\"colorbar\":{\"outlinewidth\":0,\"ticks\":\"\"}}}],\"scattermapbox\":[{\"type\":\"scattermapbox\",\"marker\":{\"colorbar\":{\"outlinewidth\":0,\"ticks\":\"\"}}}],\"scatterternary\":[{\"type\":\"scatterternary\",\"marker\":{\"colorbar\":{\"outlinewidth\":0,\"ticks\":\"\"}}}],\"scattercarpet\":[{\"type\":\"scattercarpet\",\"marker\":{\"colorbar\":{\"outlinewidth\":0,\"ticks\":\"\"}}}],\"carpet\":[{\"aaxis\":{\"endlinecolor\":\"#2a3f5f\",\"gridcolor\":\"white\",\"linecolor\":\"white\",\"minorgridcolor\":\"white\",\"startlinecolor\":\"#2a3f5f\"},\"baxis\":{\"endlinecolor\":\"#2a3f5f\",\"gridcolor\":\"white\",\"linecolor\":\"white\",\"minorgridcolor\":\"white\",\"startlinecolor\":\"#2a3f5f\"},\"type\":\"carpet\"}],\"table\":[{\"cells\":{\"fill\":{\"color\":\"#EBF0F8\"},\"line\":{\"color\":\"white\"}},\"header\":{\"fill\":{\"color\":\"#C8D4E3\"},\"line\":{\"color\":\"white\"}},\"type\":\"table\"}],\"barpolar\":[{\"marker\":{\"line\":{\"color\":\"#E5ECF6\",\"width\":0.5},\"pattern\":{\"fillmode\":\"overlay\",\"size\":10,\"solidity\":0.2}},\"type\":\"barpolar\"}],\"pie\":[{\"automargin\":true,\"type\":\"pie\"}]},\"layout\":{\"autotypenumbers\":\"strict\",\"colorway\":[\"#636efa\",\"#EF553B\",\"#00cc96\",\"#ab63fa\",\"#FFA15A\",\"#19d3f3\",\"#FF6692\",\"#B6E880\",\"#FF97FF\",\"#FECB52\"],\"font\":{\"color\":\"#2a3f5f\"},\"hovermode\":\"closest\",\"hoverlabel\":{\"align\":\"left\"},\"paper_bgcolor\":\"white\",\"plot_bgcolor\":\"#E5ECF6\",\"polar\":{\"bgcolor\":\"#E5ECF6\",\"angularaxis\":{\"gridcolor\":\"white\",\"linecolor\":\"white\",\"ticks\":\"\"},\"radialaxis\":{\"gridcolor\":\"white\",\"linecolor\":\"white\",\"ticks\":\"\"}},\"ternary\":{\"bgcolor\":\"#E5ECF6\",\"aaxis\":{\"gridcolor\":\"white\",\"linecolor\":\"white\",\"ticks\":\"\"},\"baxis\":{\"gridcolor\":\"white\",\"linecolor\":\"white\",\"ticks\":\"\"},\"caxis\":{\"gridcolor\":\"white\",\"linecolor\":\"white\",\"ticks\":\"\"}},\"coloraxis\":{\"colorbar\":{\"outlinewidth\":0,\"ticks\":\"\"}},\"colorscale\":{\"sequential\":[[0.0,\"#0d0887\"],[0.1111111111111111,\"#46039f\"],[0.2222222222222222,\"#7201a8\"],[0.3333333333333333,\"#9c179e\"],[0.4444444444444444,\"#bd3786\"],[0.5555555555555556,\"#d8576b\"],[0.6666666666666666,\"#ed7953\"],[0.7777777777777778,\"#fb9f3a\"],[0.8888888888888888,\"#fdca26\"],[1.0,\"#f0f921\"]],\"sequentialminus\":[[0.0,\"#0d0887\"],[0.1111111111111111,\"#46039f\"],[0.2222222222222222,\"#7201a8\"],[0.3333333333333333,\"#9c179e\"],[0.4444444444444444,\"#bd3786\"],[0.5555555555555556,\"#d8576b\"],[0.6666666666666666,\"#ed7953\"],[0.7777777777777778,\"#fb9f3a\"],[0.8888888888888888,\"#fdca26\"],[1.0,\"#f0f921\"]],\"diverging\":[[0,\"#8e0152\"],[0.1,\"#c51b7d\"],[0.2,\"#de77ae\"],[0.3,\"#f1b6da\"],[0.4,\"#fde0ef\"],[0.5,\"#f7f7f7\"],[0.6,\"#e6f5d0\"],[0.7,\"#b8e186\"],[0.8,\"#7fbc41\"],[0.9,\"#4d9221\"],[1,\"#276419\"]]},\"xaxis\":{\"gridcolor\":\"white\",\"linecolor\":\"white\",\"ticks\":\"\",\"title\":{\"standoff\":15},\"zerolinecolor\":\"white\",\"automargin\":true,\"zerolinewidth\":2},\"yaxis\":{\"gridcolor\":\"white\",\"linecolor\":\"white\",\"ticks\":\"\",\"title\":{\"standoff\":15},\"zerolinecolor\":\"white\",\"automargin\":true,\"zerolinewidth\":2},\"scene\":{\"xaxis\":{\"backgroundcolor\":\"#E5ECF6\",\"gridcolor\":\"white\",\"linecolor\":\"white\",\"showbackground\":true,\"ticks\":\"\",\"zerolinecolor\":\"white\",\"gridwidth\":2},\"yaxis\":{\"backgroundcolor\":\"#E5ECF6\",\"gridcolor\":\"white\",\"linecolor\":\"white\",\"showbackground\":true,\"ticks\":\"\",\"zerolinecolor\":\"white\",\"gridwidth\":2},\"zaxis\":{\"backgroundcolor\":\"#E5ECF6\",\"gridcolor\":\"white\",\"linecolor\":\"white\",\"showbackground\":true,\"ticks\":\"\",\"zerolinecolor\":\"white\",\"gridwidth\":2}},\"shapedefaults\":{\"line\":{\"color\":\"#2a3f5f\"}},\"annotationdefaults\":{\"arrowcolor\":\"#2a3f5f\",\"arrowhead\":0,\"arrowwidth\":1},\"geo\":{\"bgcolor\":\"white\",\"landcolor\":\"#E5ECF6\",\"subunitcolor\":\"white\",\"showland\":true,\"showlakes\":true,\"lakecolor\":\"white\"},\"title\":{\"x\":0.05},\"mapbox\":{\"style\":\"light\"}}},\"legend\":{\"tracegroupgap\":0,\"font\":{\"size\":24},\"orientation\":\"h\",\"yanchor\":\"bottom\",\"y\":1.02,\"xanchor\":\"right\",\"x\":1.0},\"margin\":{\"t\":80},\"piecolorway\":[\"rgb(252,141,98)\",\"rgb(255,179,150)\",\"rgb(141,160,203)\",\"rgb(103,122,165)\"],\"height\":400,\"width\":600},                        {\"responsive\": true}                    ).then(function(){\n",
       "                            \n",
       "var gd = document.getElementById('dc5fe671-0eaf-4e70-ba2a-d3f6122617f1');\n",
       "var x = new MutationObserver(function (mutations, observer) {{\n",
       "        var display = window.getComputedStyle(gd).display;\n",
       "        if (!display || display === 'none') {{\n",
       "            console.log([gd, 'removed!']);\n",
       "            Plotly.purge(gd);\n",
       "            observer.disconnect();\n",
       "        }}\n",
       "}});\n",
       "\n",
       "// Listen for the removal of the full notebook cells\n",
       "var notebookContainer = gd.closest('#notebook-container');\n",
       "if (notebookContainer) {{\n",
       "    x.observe(notebookContainer, {childList: true});\n",
       "}}\n",
       "\n",
       "// Listen for the clearing of the current output cell\n",
       "var outputEl = gd.closest('.output');\n",
       "if (outputEl) {{\n",
       "    x.observe(outputEl, {childList: true});\n",
       "}}\n",
       "\n",
       "                        })                };                });            </script>        </div>"
      ]
     },
     "metadata": {},
     "output_type": "display_data"
    },
    {
     "name": "stdout",
     "output_type": "stream",
     "text": [
      "Pie chart saved as 'figures/general/affiliation_distribution_pie_chart_capitalized_with_whole_percentages.png'\n",
      "Academic: 1537 (60%)\n",
      "Mixed: 962 (38%)\n",
      "Industry: 59 (2%)\n",
      "\n",
      "Total papers (excluding 'Other'): 2558\n"
     ]
    }
   ],
   "source": [
    "import pandas as pd\n",
    "import plotly.express as px\n",
    "import plotly.graph_objects as go\n",
    "\n",
    "def create_affiliation_pie_chart(df, column_name='affiliation_class', exclude_category='other',\n",
    "                                 width=800, height=600, text_size=12, legend_font_size=10,\n",
    "                                 save_path=None, save_scale=3):\n",
    "    \"\"\"\n",
    "    Create an interactive pie chart of affiliations using Plotly Express.\n",
    "    Parameters:\n",
    "    df (pandas.DataFrame): The input DataFrame containing the affiliation data.\n",
    "    column_name (str): The name of the column containing affiliation categories.\n",
    "    exclude_category (str): The category to exclude from the pie chart.\n",
    "    width (int): Width of the figure in pixels.\n",
    "    height (int): Height of the figure in pixels.\n",
    "    text_size (int): Size of the text displayed on the pie slices.\n",
    "    legend_font_size (int): Size of the font in the legend.\n",
    "    save_path (str): The path to save the figure. If None, the figure is not saved.\n",
    "    save_scale (int): The scale factor for saved image resolution.\n",
    "    Returns:\n",
    "    plotly.graph_objs._figure.Figure: The created figure object.\n",
    "    \"\"\"\n",
    "    # Filter out the excluded category and calculate the counts\n",
    "    affiliation_counts = df[df[column_name] != exclude_category][column_name].value_counts().reset_index()\n",
    "    affiliation_counts.columns = ['Affiliation', 'Count']\n",
    "    \n",
    "    # Capitalize the affiliation categories\n",
    "    affiliation_counts['Affiliation'] = affiliation_counts['Affiliation'].str.capitalize()\n",
    "    \n",
    "    # Calculate percentages and round to whole numbers\n",
    "    total = affiliation_counts['Count'].sum()\n",
    "    affiliation_counts['Percentage'] = (affiliation_counts['Count'] / total * 100).round().astype(int)\n",
    "    \n",
    "    # Create custom text for labels\n",
    "    affiliation_counts['Label'] = affiliation_counts['Percentage'].astype(str) + '%'\n",
    "    \n",
    "\n",
    "    # color_discrete_sequence = px.colors.sequential.Reds[3:6]\n",
    "    # color_discrete_sequence = [\"#aa0000\", \"#c46666\", \"#d8a6a6\"] # reds\n",
    "    color_discrete_sequence = px.colors.qualitative.Set2[:len(affiliation_counts)]\n",
    "    color_palette = [\n",
    "        'rgb(252,141,98)',   # Orange\n",
    "        'rgb(255,179,150)',  # Lighter Orange (new color)\n",
    "        'rgb(141,160,203)',  # Grayish-blue\n",
    "        'rgb(103,122,165)',  # Darker Grayish-Blue\n",
    "        # 'rgb(28,144,153)'    # Deeper Teal (accent color)\n",
    "    ]\n",
    "    \n",
    "    # color_palette = color_palette[::-1]\n",
    "    color_discrete_sequence = color_palette\n",
    "    # color_discrete_sequence = ['#2066a8', '#3594cc', '#8cc5e3'] # blues\n",
    "    # color_discrete_sequence = px.colors.sequential.Oranges[3:6]\n",
    "    # color_discrete_sequence = ['#1a80bb', '#ea801c', '#b8b8b8']\n",
    "    # Create an interactive pie chart\n",
    "    fig = px.pie(affiliation_counts,\n",
    "                 values='Count',\n",
    "                 names='Affiliation',\n",
    "                 hover_data=['Percentage'],\n",
    "                 labels={'Count':'Number of Papers'},\n",
    "                 color_discrete_sequence=color_discrete_sequence,\n",
    "                 width=width,\n",
    "                 height=height)\n",
    "    \n",
    "    # Update traces to show whole number percentage on slices and keep hover template\n",
    "    fig.update_traces(textposition='inside', textinfo='text',\n",
    "                      text=affiliation_counts['Label'],\n",
    "                      textfont_size=text_size,\n",
    "                      hovertemplate=\"<b>%{label}</b><br>\" +\n",
    "                                    \"Number of Papers: %{value}<br>\" +\n",
    "                                    \"Percentage: %{text}<extra></extra>\")\n",
    "    \n",
    "    # Move legend to the top and set font size\n",
    "    fig.update_layout(\n",
    "        legend=dict(\n",
    "            orientation=\"h\",\n",
    "            yanchor=\"bottom\",\n",
    "            y=1.02,\n",
    "            xanchor=\"right\",\n",
    "            x=1.0,\n",
    "            font=dict(size=legend_font_size)\n",
    "        ),\n",
    "        margin=dict(t=80), # Increase top margin to accommodate legend\n",
    "    )\n",
    "    \n",
    "    # Show the figure\n",
    "    fig.show()\n",
    "    \n",
    "    # Save the figure if a save path is provided\n",
    "    if save_path:\n",
    "        fig.write_image(save_path, scale=save_scale)\n",
    "        print(f\"Pie chart saved as '{save_path}'\")\n",
    "    \n",
    "    # Print the counts and percentages\n",
    "    for _, row in affiliation_counts.iterrows():\n",
    "        print(f\"{row['Affiliation']}: {row['Count']} ({row['Percentage']}%)\")\n",
    "    print(f\"\\nTotal papers (excluding '{exclude_category.capitalize()}'): {total}\")\n",
    "    \n",
    "    return fig\n",
    "\n",
    "# Create the pie chart\n",
    "fig = create_affiliation_pie_chart(\n",
    "    main_df,\n",
    "    width=600,\n",
    "    height=400,\n",
    "    text_size=28,  # Specify the desired text size for pie slices\n",
    "    legend_font_size=24,  # Specify the desired font size for the legend\n",
    "    save_path=\"figures/general/affiliation_distribution_pie_chart_capitalized_with_whole_percentages.png\",\n",
    "    save_scale=3\n",
    ")"
   ]
  },
  {
   "cell_type": "code",
   "execution_count": 10,
   "metadata": {},
   "outputs": [
    {
     "data": {
      "text/plain": [
       "Index(['year', 'paper_id', 'title', 'cleaned_title', 'authors', 'abstract',\n",
       "       'citation_count', 'code', 'ai', 'venue', 'processed_emails',\n",
       "       'mimic_count', 'eicu_count', 'uk_biobank_count', 'chest_x-ray14_count',\n",
       "       'adni_count', 'physionet_count', 'oasis_count', 'tcga_count',\n",
       "       'gdc_count', 'seer_count', 'tuh_eeg_corpus_count',\n",
       "       'tuh_abnormal_eeg_corpus_count', 'tuh_eeg_artifact_corpus_count',\n",
       "       'tuh_eeg_epilepsy_corpus_count', 'tuh_eeg_events_corpus_count',\n",
       "       'tuh_eeg_seizure_corpus_count', 'tuh_eeg_slowing_corpus_count', 'topic',\n",
       "       'affiliation', 'affiliation_class'],\n",
       "      dtype='object')"
      ]
     },
     "execution_count": 10,
     "metadata": {},
     "output_type": "execute_result"
    }
   ],
   "source": [
    "topic_df.columns"
   ]
  },
  {
   "cell_type": "code",
   "execution_count": 8,
   "metadata": {},
   "outputs": [
    {
     "data": {
      "application/vnd.plotly.v1+json": {
       "config": {
        "plotlyServerURL": "https://plot.ly"
       },
       "data": [
        {
         "hovertemplate": "%{label}: %{text}<extra></extra>",
         "labels": [
          "Code",
          "No Code"
         ],
         "marker": {
          "colors": [
           "rgb(141,160,203)",
           "rgb(252,141,98)"
          ]
         },
         "text": [
          "26%",
          "74%"
         ],
         "textfont": {
          "size": 28
         },
         "textinfo": "text",
         "textposition": "inside",
         "type": "pie",
         "values": [
          26,
          74
         ]
        }
       ],
       "layout": {
        "height": 400,
        "legend": {
         "font": {
          "size": 24
         },
         "orientation": "h",
         "x": 0.5,
         "xanchor": "center",
         "y": 1.02,
         "yanchor": "bottom"
        },
        "margin": {
         "b": 20,
         "l": 20,
         "r": 20,
         "t": 80
        },
        "template": {
         "data": {
          "bar": [
           {
            "error_x": {
             "color": "#2a3f5f"
            },
            "error_y": {
             "color": "#2a3f5f"
            },
            "marker": {
             "line": {
              "color": "#E5ECF6",
              "width": 0.5
             },
             "pattern": {
              "fillmode": "overlay",
              "size": 10,
              "solidity": 0.2
             }
            },
            "type": "bar"
           }
          ],
          "barpolar": [
           {
            "marker": {
             "line": {
              "color": "#E5ECF6",
              "width": 0.5
             },
             "pattern": {
              "fillmode": "overlay",
              "size": 10,
              "solidity": 0.2
             }
            },
            "type": "barpolar"
           }
          ],
          "carpet": [
           {
            "aaxis": {
             "endlinecolor": "#2a3f5f",
             "gridcolor": "white",
             "linecolor": "white",
             "minorgridcolor": "white",
             "startlinecolor": "#2a3f5f"
            },
            "baxis": {
             "endlinecolor": "#2a3f5f",
             "gridcolor": "white",
             "linecolor": "white",
             "minorgridcolor": "white",
             "startlinecolor": "#2a3f5f"
            },
            "type": "carpet"
           }
          ],
          "choropleth": [
           {
            "colorbar": {
             "outlinewidth": 0,
             "ticks": ""
            },
            "type": "choropleth"
           }
          ],
          "contour": [
           {
            "colorbar": {
             "outlinewidth": 0,
             "ticks": ""
            },
            "colorscale": [
             [
              0,
              "#0d0887"
             ],
             [
              0.1111111111111111,
              "#46039f"
             ],
             [
              0.2222222222222222,
              "#7201a8"
             ],
             [
              0.3333333333333333,
              "#9c179e"
             ],
             [
              0.4444444444444444,
              "#bd3786"
             ],
             [
              0.5555555555555556,
              "#d8576b"
             ],
             [
              0.6666666666666666,
              "#ed7953"
             ],
             [
              0.7777777777777778,
              "#fb9f3a"
             ],
             [
              0.8888888888888888,
              "#fdca26"
             ],
             [
              1,
              "#f0f921"
             ]
            ],
            "type": "contour"
           }
          ],
          "contourcarpet": [
           {
            "colorbar": {
             "outlinewidth": 0,
             "ticks": ""
            },
            "type": "contourcarpet"
           }
          ],
          "heatmap": [
           {
            "colorbar": {
             "outlinewidth": 0,
             "ticks": ""
            },
            "colorscale": [
             [
              0,
              "#0d0887"
             ],
             [
              0.1111111111111111,
              "#46039f"
             ],
             [
              0.2222222222222222,
              "#7201a8"
             ],
             [
              0.3333333333333333,
              "#9c179e"
             ],
             [
              0.4444444444444444,
              "#bd3786"
             ],
             [
              0.5555555555555556,
              "#d8576b"
             ],
             [
              0.6666666666666666,
              "#ed7953"
             ],
             [
              0.7777777777777778,
              "#fb9f3a"
             ],
             [
              0.8888888888888888,
              "#fdca26"
             ],
             [
              1,
              "#f0f921"
             ]
            ],
            "type": "heatmap"
           }
          ],
          "heatmapgl": [
           {
            "colorbar": {
             "outlinewidth": 0,
             "ticks": ""
            },
            "colorscale": [
             [
              0,
              "#0d0887"
             ],
             [
              0.1111111111111111,
              "#46039f"
             ],
             [
              0.2222222222222222,
              "#7201a8"
             ],
             [
              0.3333333333333333,
              "#9c179e"
             ],
             [
              0.4444444444444444,
              "#bd3786"
             ],
             [
              0.5555555555555556,
              "#d8576b"
             ],
             [
              0.6666666666666666,
              "#ed7953"
             ],
             [
              0.7777777777777778,
              "#fb9f3a"
             ],
             [
              0.8888888888888888,
              "#fdca26"
             ],
             [
              1,
              "#f0f921"
             ]
            ],
            "type": "heatmapgl"
           }
          ],
          "histogram": [
           {
            "marker": {
             "pattern": {
              "fillmode": "overlay",
              "size": 10,
              "solidity": 0.2
             }
            },
            "type": "histogram"
           }
          ],
          "histogram2d": [
           {
            "colorbar": {
             "outlinewidth": 0,
             "ticks": ""
            },
            "colorscale": [
             [
              0,
              "#0d0887"
             ],
             [
              0.1111111111111111,
              "#46039f"
             ],
             [
              0.2222222222222222,
              "#7201a8"
             ],
             [
              0.3333333333333333,
              "#9c179e"
             ],
             [
              0.4444444444444444,
              "#bd3786"
             ],
             [
              0.5555555555555556,
              "#d8576b"
             ],
             [
              0.6666666666666666,
              "#ed7953"
             ],
             [
              0.7777777777777778,
              "#fb9f3a"
             ],
             [
              0.8888888888888888,
              "#fdca26"
             ],
             [
              1,
              "#f0f921"
             ]
            ],
            "type": "histogram2d"
           }
          ],
          "histogram2dcontour": [
           {
            "colorbar": {
             "outlinewidth": 0,
             "ticks": ""
            },
            "colorscale": [
             [
              0,
              "#0d0887"
             ],
             [
              0.1111111111111111,
              "#46039f"
             ],
             [
              0.2222222222222222,
              "#7201a8"
             ],
             [
              0.3333333333333333,
              "#9c179e"
             ],
             [
              0.4444444444444444,
              "#bd3786"
             ],
             [
              0.5555555555555556,
              "#d8576b"
             ],
             [
              0.6666666666666666,
              "#ed7953"
             ],
             [
              0.7777777777777778,
              "#fb9f3a"
             ],
             [
              0.8888888888888888,
              "#fdca26"
             ],
             [
              1,
              "#f0f921"
             ]
            ],
            "type": "histogram2dcontour"
           }
          ],
          "mesh3d": [
           {
            "colorbar": {
             "outlinewidth": 0,
             "ticks": ""
            },
            "type": "mesh3d"
           }
          ],
          "parcoords": [
           {
            "line": {
             "colorbar": {
              "outlinewidth": 0,
              "ticks": ""
             }
            },
            "type": "parcoords"
           }
          ],
          "pie": [
           {
            "automargin": true,
            "type": "pie"
           }
          ],
          "scatter": [
           {
            "fillpattern": {
             "fillmode": "overlay",
             "size": 10,
             "solidity": 0.2
            },
            "type": "scatter"
           }
          ],
          "scatter3d": [
           {
            "line": {
             "colorbar": {
              "outlinewidth": 0,
              "ticks": ""
             }
            },
            "marker": {
             "colorbar": {
              "outlinewidth": 0,
              "ticks": ""
             }
            },
            "type": "scatter3d"
           }
          ],
          "scattercarpet": [
           {
            "marker": {
             "colorbar": {
              "outlinewidth": 0,
              "ticks": ""
             }
            },
            "type": "scattercarpet"
           }
          ],
          "scattergeo": [
           {
            "marker": {
             "colorbar": {
              "outlinewidth": 0,
              "ticks": ""
             }
            },
            "type": "scattergeo"
           }
          ],
          "scattergl": [
           {
            "marker": {
             "colorbar": {
              "outlinewidth": 0,
              "ticks": ""
             }
            },
            "type": "scattergl"
           }
          ],
          "scattermapbox": [
           {
            "marker": {
             "colorbar": {
              "outlinewidth": 0,
              "ticks": ""
             }
            },
            "type": "scattermapbox"
           }
          ],
          "scatterpolar": [
           {
            "marker": {
             "colorbar": {
              "outlinewidth": 0,
              "ticks": ""
             }
            },
            "type": "scatterpolar"
           }
          ],
          "scatterpolargl": [
           {
            "marker": {
             "colorbar": {
              "outlinewidth": 0,
              "ticks": ""
             }
            },
            "type": "scatterpolargl"
           }
          ],
          "scatterternary": [
           {
            "marker": {
             "colorbar": {
              "outlinewidth": 0,
              "ticks": ""
             }
            },
            "type": "scatterternary"
           }
          ],
          "surface": [
           {
            "colorbar": {
             "outlinewidth": 0,
             "ticks": ""
            },
            "colorscale": [
             [
              0,
              "#0d0887"
             ],
             [
              0.1111111111111111,
              "#46039f"
             ],
             [
              0.2222222222222222,
              "#7201a8"
             ],
             [
              0.3333333333333333,
              "#9c179e"
             ],
             [
              0.4444444444444444,
              "#bd3786"
             ],
             [
              0.5555555555555556,
              "#d8576b"
             ],
             [
              0.6666666666666666,
              "#ed7953"
             ],
             [
              0.7777777777777778,
              "#fb9f3a"
             ],
             [
              0.8888888888888888,
              "#fdca26"
             ],
             [
              1,
              "#f0f921"
             ]
            ],
            "type": "surface"
           }
          ],
          "table": [
           {
            "cells": {
             "fill": {
              "color": "#EBF0F8"
             },
             "line": {
              "color": "white"
             }
            },
            "header": {
             "fill": {
              "color": "#C8D4E3"
             },
             "line": {
              "color": "white"
             }
            },
            "type": "table"
           }
          ]
         },
         "layout": {
          "annotationdefaults": {
           "arrowcolor": "#2a3f5f",
           "arrowhead": 0,
           "arrowwidth": 1
          },
          "autotypenumbers": "strict",
          "coloraxis": {
           "colorbar": {
            "outlinewidth": 0,
            "ticks": ""
           }
          },
          "colorscale": {
           "diverging": [
            [
             0,
             "#8e0152"
            ],
            [
             0.1,
             "#c51b7d"
            ],
            [
             0.2,
             "#de77ae"
            ],
            [
             0.3,
             "#f1b6da"
            ],
            [
             0.4,
             "#fde0ef"
            ],
            [
             0.5,
             "#f7f7f7"
            ],
            [
             0.6,
             "#e6f5d0"
            ],
            [
             0.7,
             "#b8e186"
            ],
            [
             0.8,
             "#7fbc41"
            ],
            [
             0.9,
             "#4d9221"
            ],
            [
             1,
             "#276419"
            ]
           ],
           "sequential": [
            [
             0,
             "#0d0887"
            ],
            [
             0.1111111111111111,
             "#46039f"
            ],
            [
             0.2222222222222222,
             "#7201a8"
            ],
            [
             0.3333333333333333,
             "#9c179e"
            ],
            [
             0.4444444444444444,
             "#bd3786"
            ],
            [
             0.5555555555555556,
             "#d8576b"
            ],
            [
             0.6666666666666666,
             "#ed7953"
            ],
            [
             0.7777777777777778,
             "#fb9f3a"
            ],
            [
             0.8888888888888888,
             "#fdca26"
            ],
            [
             1,
             "#f0f921"
            ]
           ],
           "sequentialminus": [
            [
             0,
             "#0d0887"
            ],
            [
             0.1111111111111111,
             "#46039f"
            ],
            [
             0.2222222222222222,
             "#7201a8"
            ],
            [
             0.3333333333333333,
             "#9c179e"
            ],
            [
             0.4444444444444444,
             "#bd3786"
            ],
            [
             0.5555555555555556,
             "#d8576b"
            ],
            [
             0.6666666666666666,
             "#ed7953"
            ],
            [
             0.7777777777777778,
             "#fb9f3a"
            ],
            [
             0.8888888888888888,
             "#fdca26"
            ],
            [
             1,
             "#f0f921"
            ]
           ]
          },
          "colorway": [
           "#636efa",
           "#EF553B",
           "#00cc96",
           "#ab63fa",
           "#FFA15A",
           "#19d3f3",
           "#FF6692",
           "#B6E880",
           "#FF97FF",
           "#FECB52"
          ],
          "font": {
           "color": "#2a3f5f"
          },
          "geo": {
           "bgcolor": "white",
           "lakecolor": "white",
           "landcolor": "#E5ECF6",
           "showlakes": true,
           "showland": true,
           "subunitcolor": "white"
          },
          "hoverlabel": {
           "align": "left"
          },
          "hovermode": "closest",
          "mapbox": {
           "style": "light"
          },
          "paper_bgcolor": "white",
          "plot_bgcolor": "#E5ECF6",
          "polar": {
           "angularaxis": {
            "gridcolor": "white",
            "linecolor": "white",
            "ticks": ""
           },
           "bgcolor": "#E5ECF6",
           "radialaxis": {
            "gridcolor": "white",
            "linecolor": "white",
            "ticks": ""
           }
          },
          "scene": {
           "xaxis": {
            "backgroundcolor": "#E5ECF6",
            "gridcolor": "white",
            "gridwidth": 2,
            "linecolor": "white",
            "showbackground": true,
            "ticks": "",
            "zerolinecolor": "white"
           },
           "yaxis": {
            "backgroundcolor": "#E5ECF6",
            "gridcolor": "white",
            "gridwidth": 2,
            "linecolor": "white",
            "showbackground": true,
            "ticks": "",
            "zerolinecolor": "white"
           },
           "zaxis": {
            "backgroundcolor": "#E5ECF6",
            "gridcolor": "white",
            "gridwidth": 2,
            "linecolor": "white",
            "showbackground": true,
            "ticks": "",
            "zerolinecolor": "white"
           }
          },
          "shapedefaults": {
           "line": {
            "color": "#2a3f5f"
           }
          },
          "ternary": {
           "aaxis": {
            "gridcolor": "white",
            "linecolor": "white",
            "ticks": ""
           },
           "baxis": {
            "gridcolor": "white",
            "linecolor": "white",
            "ticks": ""
           },
           "bgcolor": "#E5ECF6",
           "caxis": {
            "gridcolor": "white",
            "linecolor": "white",
            "ticks": ""
           }
          },
          "title": {
           "x": 0.05
          },
          "xaxis": {
           "automargin": true,
           "gridcolor": "white",
           "linecolor": "white",
           "ticks": "",
           "title": {
            "standoff": 15
           },
           "zerolinecolor": "white",
           "zerolinewidth": 2
          },
          "yaxis": {
           "automargin": true,
           "gridcolor": "white",
           "linecolor": "white",
           "ticks": "",
           "title": {
            "standoff": 15
           },
           "zerolinecolor": "white",
           "zerolinewidth": 2
          }
         }
        },
        "width": 600
       }
      },
      "text/html": [
       "<div>                            <div id=\"e1fac83e-ee73-4290-bd68-c1e718b85baa\" class=\"plotly-graph-div\" style=\"height:400px; width:600px;\"></div>            <script type=\"text/javascript\">                require([\"plotly\"], function(Plotly) {                    window.PLOTLYENV=window.PLOTLYENV || {};                                    if (document.getElementById(\"e1fac83e-ee73-4290-bd68-c1e718b85baa\")) {                    Plotly.newPlot(                        \"e1fac83e-ee73-4290-bd68-c1e718b85baa\",                        [{\"hovertemplate\":\"%{label}: %{text}\\u003cextra\\u003e\\u003c\\u002fextra\\u003e\",\"labels\":[\"Code\",\"No Code\"],\"marker\":{\"colors\":[\"rgb(141,160,203)\",\"rgb(252,141,98)\"]},\"text\":[\"26%\",\"74%\"],\"textfont\":{\"size\":28},\"textposition\":\"inside\",\"values\":[26,74],\"type\":\"pie\",\"textinfo\":\"text\"}],                        {\"template\":{\"data\":{\"histogram2dcontour\":[{\"type\":\"histogram2dcontour\",\"colorbar\":{\"outlinewidth\":0,\"ticks\":\"\"},\"colorscale\":[[0.0,\"#0d0887\"],[0.1111111111111111,\"#46039f\"],[0.2222222222222222,\"#7201a8\"],[0.3333333333333333,\"#9c179e\"],[0.4444444444444444,\"#bd3786\"],[0.5555555555555556,\"#d8576b\"],[0.6666666666666666,\"#ed7953\"],[0.7777777777777778,\"#fb9f3a\"],[0.8888888888888888,\"#fdca26\"],[1.0,\"#f0f921\"]]}],\"choropleth\":[{\"type\":\"choropleth\",\"colorbar\":{\"outlinewidth\":0,\"ticks\":\"\"}}],\"histogram2d\":[{\"type\":\"histogram2d\",\"colorbar\":{\"outlinewidth\":0,\"ticks\":\"\"},\"colorscale\":[[0.0,\"#0d0887\"],[0.1111111111111111,\"#46039f\"],[0.2222222222222222,\"#7201a8\"],[0.3333333333333333,\"#9c179e\"],[0.4444444444444444,\"#bd3786\"],[0.5555555555555556,\"#d8576b\"],[0.6666666666666666,\"#ed7953\"],[0.7777777777777778,\"#fb9f3a\"],[0.8888888888888888,\"#fdca26\"],[1.0,\"#f0f921\"]]}],\"heatmap\":[{\"type\":\"heatmap\",\"colorbar\":{\"outlinewidth\":0,\"ticks\":\"\"},\"colorscale\":[[0.0,\"#0d0887\"],[0.1111111111111111,\"#46039f\"],[0.2222222222222222,\"#7201a8\"],[0.3333333333333333,\"#9c179e\"],[0.4444444444444444,\"#bd3786\"],[0.5555555555555556,\"#d8576b\"],[0.6666666666666666,\"#ed7953\"],[0.7777777777777778,\"#fb9f3a\"],[0.8888888888888888,\"#fdca26\"],[1.0,\"#f0f921\"]]}],\"heatmapgl\":[{\"type\":\"heatmapgl\",\"colorbar\":{\"outlinewidth\":0,\"ticks\":\"\"},\"colorscale\":[[0.0,\"#0d0887\"],[0.1111111111111111,\"#46039f\"],[0.2222222222222222,\"#7201a8\"],[0.3333333333333333,\"#9c179e\"],[0.4444444444444444,\"#bd3786\"],[0.5555555555555556,\"#d8576b\"],[0.6666666666666666,\"#ed7953\"],[0.7777777777777778,\"#fb9f3a\"],[0.8888888888888888,\"#fdca26\"],[1.0,\"#f0f921\"]]}],\"contourcarpet\":[{\"type\":\"contourcarpet\",\"colorbar\":{\"outlinewidth\":0,\"ticks\":\"\"}}],\"contour\":[{\"type\":\"contour\",\"colorbar\":{\"outlinewidth\":0,\"ticks\":\"\"},\"colorscale\":[[0.0,\"#0d0887\"],[0.1111111111111111,\"#46039f\"],[0.2222222222222222,\"#7201a8\"],[0.3333333333333333,\"#9c179e\"],[0.4444444444444444,\"#bd3786\"],[0.5555555555555556,\"#d8576b\"],[0.6666666666666666,\"#ed7953\"],[0.7777777777777778,\"#fb9f3a\"],[0.8888888888888888,\"#fdca26\"],[1.0,\"#f0f921\"]]}],\"surface\":[{\"type\":\"surface\",\"colorbar\":{\"outlinewidth\":0,\"ticks\":\"\"},\"colorscale\":[[0.0,\"#0d0887\"],[0.1111111111111111,\"#46039f\"],[0.2222222222222222,\"#7201a8\"],[0.3333333333333333,\"#9c179e\"],[0.4444444444444444,\"#bd3786\"],[0.5555555555555556,\"#d8576b\"],[0.6666666666666666,\"#ed7953\"],[0.7777777777777778,\"#fb9f3a\"],[0.8888888888888888,\"#fdca26\"],[1.0,\"#f0f921\"]]}],\"mesh3d\":[{\"type\":\"mesh3d\",\"colorbar\":{\"outlinewidth\":0,\"ticks\":\"\"}}],\"scatter\":[{\"fillpattern\":{\"fillmode\":\"overlay\",\"size\":10,\"solidity\":0.2},\"type\":\"scatter\"}],\"parcoords\":[{\"type\":\"parcoords\",\"line\":{\"colorbar\":{\"outlinewidth\":0,\"ticks\":\"\"}}}],\"scatterpolargl\":[{\"type\":\"scatterpolargl\",\"marker\":{\"colorbar\":{\"outlinewidth\":0,\"ticks\":\"\"}}}],\"bar\":[{\"error_x\":{\"color\":\"#2a3f5f\"},\"error_y\":{\"color\":\"#2a3f5f\"},\"marker\":{\"line\":{\"color\":\"#E5ECF6\",\"width\":0.5},\"pattern\":{\"fillmode\":\"overlay\",\"size\":10,\"solidity\":0.2}},\"type\":\"bar\"}],\"scattergeo\":[{\"type\":\"scattergeo\",\"marker\":{\"colorbar\":{\"outlinewidth\":0,\"ticks\":\"\"}}}],\"scatterpolar\":[{\"type\":\"scatterpolar\",\"marker\":{\"colorbar\":{\"outlinewidth\":0,\"ticks\":\"\"}}}],\"histogram\":[{\"marker\":{\"pattern\":{\"fillmode\":\"overlay\",\"size\":10,\"solidity\":0.2}},\"type\":\"histogram\"}],\"scattergl\":[{\"type\":\"scattergl\",\"marker\":{\"colorbar\":{\"outlinewidth\":0,\"ticks\":\"\"}}}],\"scatter3d\":[{\"type\":\"scatter3d\",\"line\":{\"colorbar\":{\"outlinewidth\":0,\"ticks\":\"\"}},\"marker\":{\"colorbar\":{\"outlinewidth\":0,\"ticks\":\"\"}}}],\"scattermapbox\":[{\"type\":\"scattermapbox\",\"marker\":{\"colorbar\":{\"outlinewidth\":0,\"ticks\":\"\"}}}],\"scatterternary\":[{\"type\":\"scatterternary\",\"marker\":{\"colorbar\":{\"outlinewidth\":0,\"ticks\":\"\"}}}],\"scattercarpet\":[{\"type\":\"scattercarpet\",\"marker\":{\"colorbar\":{\"outlinewidth\":0,\"ticks\":\"\"}}}],\"carpet\":[{\"aaxis\":{\"endlinecolor\":\"#2a3f5f\",\"gridcolor\":\"white\",\"linecolor\":\"white\",\"minorgridcolor\":\"white\",\"startlinecolor\":\"#2a3f5f\"},\"baxis\":{\"endlinecolor\":\"#2a3f5f\",\"gridcolor\":\"white\",\"linecolor\":\"white\",\"minorgridcolor\":\"white\",\"startlinecolor\":\"#2a3f5f\"},\"type\":\"carpet\"}],\"table\":[{\"cells\":{\"fill\":{\"color\":\"#EBF0F8\"},\"line\":{\"color\":\"white\"}},\"header\":{\"fill\":{\"color\":\"#C8D4E3\"},\"line\":{\"color\":\"white\"}},\"type\":\"table\"}],\"barpolar\":[{\"marker\":{\"line\":{\"color\":\"#E5ECF6\",\"width\":0.5},\"pattern\":{\"fillmode\":\"overlay\",\"size\":10,\"solidity\":0.2}},\"type\":\"barpolar\"}],\"pie\":[{\"automargin\":true,\"type\":\"pie\"}]},\"layout\":{\"autotypenumbers\":\"strict\",\"colorway\":[\"#636efa\",\"#EF553B\",\"#00cc96\",\"#ab63fa\",\"#FFA15A\",\"#19d3f3\",\"#FF6692\",\"#B6E880\",\"#FF97FF\",\"#FECB52\"],\"font\":{\"color\":\"#2a3f5f\"},\"hovermode\":\"closest\",\"hoverlabel\":{\"align\":\"left\"},\"paper_bgcolor\":\"white\",\"plot_bgcolor\":\"#E5ECF6\",\"polar\":{\"bgcolor\":\"#E5ECF6\",\"angularaxis\":{\"gridcolor\":\"white\",\"linecolor\":\"white\",\"ticks\":\"\"},\"radialaxis\":{\"gridcolor\":\"white\",\"linecolor\":\"white\",\"ticks\":\"\"}},\"ternary\":{\"bgcolor\":\"#E5ECF6\",\"aaxis\":{\"gridcolor\":\"white\",\"linecolor\":\"white\",\"ticks\":\"\"},\"baxis\":{\"gridcolor\":\"white\",\"linecolor\":\"white\",\"ticks\":\"\"},\"caxis\":{\"gridcolor\":\"white\",\"linecolor\":\"white\",\"ticks\":\"\"}},\"coloraxis\":{\"colorbar\":{\"outlinewidth\":0,\"ticks\":\"\"}},\"colorscale\":{\"sequential\":[[0.0,\"#0d0887\"],[0.1111111111111111,\"#46039f\"],[0.2222222222222222,\"#7201a8\"],[0.3333333333333333,\"#9c179e\"],[0.4444444444444444,\"#bd3786\"],[0.5555555555555556,\"#d8576b\"],[0.6666666666666666,\"#ed7953\"],[0.7777777777777778,\"#fb9f3a\"],[0.8888888888888888,\"#fdca26\"],[1.0,\"#f0f921\"]],\"sequentialminus\":[[0.0,\"#0d0887\"],[0.1111111111111111,\"#46039f\"],[0.2222222222222222,\"#7201a8\"],[0.3333333333333333,\"#9c179e\"],[0.4444444444444444,\"#bd3786\"],[0.5555555555555556,\"#d8576b\"],[0.6666666666666666,\"#ed7953\"],[0.7777777777777778,\"#fb9f3a\"],[0.8888888888888888,\"#fdca26\"],[1.0,\"#f0f921\"]],\"diverging\":[[0,\"#8e0152\"],[0.1,\"#c51b7d\"],[0.2,\"#de77ae\"],[0.3,\"#f1b6da\"],[0.4,\"#fde0ef\"],[0.5,\"#f7f7f7\"],[0.6,\"#e6f5d0\"],[0.7,\"#b8e186\"],[0.8,\"#7fbc41\"],[0.9,\"#4d9221\"],[1,\"#276419\"]]},\"xaxis\":{\"gridcolor\":\"white\",\"linecolor\":\"white\",\"ticks\":\"\",\"title\":{\"standoff\":15},\"zerolinecolor\":\"white\",\"automargin\":true,\"zerolinewidth\":2},\"yaxis\":{\"gridcolor\":\"white\",\"linecolor\":\"white\",\"ticks\":\"\",\"title\":{\"standoff\":15},\"zerolinecolor\":\"white\",\"automargin\":true,\"zerolinewidth\":2},\"scene\":{\"xaxis\":{\"backgroundcolor\":\"#E5ECF6\",\"gridcolor\":\"white\",\"linecolor\":\"white\",\"showbackground\":true,\"ticks\":\"\",\"zerolinecolor\":\"white\",\"gridwidth\":2},\"yaxis\":{\"backgroundcolor\":\"#E5ECF6\",\"gridcolor\":\"white\",\"linecolor\":\"white\",\"showbackground\":true,\"ticks\":\"\",\"zerolinecolor\":\"white\",\"gridwidth\":2},\"zaxis\":{\"backgroundcolor\":\"#E5ECF6\",\"gridcolor\":\"white\",\"linecolor\":\"white\",\"showbackground\":true,\"ticks\":\"\",\"zerolinecolor\":\"white\",\"gridwidth\":2}},\"shapedefaults\":{\"line\":{\"color\":\"#2a3f5f\"}},\"annotationdefaults\":{\"arrowcolor\":\"#2a3f5f\",\"arrowhead\":0,\"arrowwidth\":1},\"geo\":{\"bgcolor\":\"white\",\"landcolor\":\"#E5ECF6\",\"subunitcolor\":\"white\",\"showland\":true,\"showlakes\":true,\"lakecolor\":\"white\"},\"title\":{\"x\":0.05},\"mapbox\":{\"style\":\"light\"}}},\"legend\":{\"font\":{\"size\":24},\"orientation\":\"h\",\"yanchor\":\"bottom\",\"y\":1.02,\"xanchor\":\"center\",\"x\":0.5},\"margin\":{\"t\":80,\"b\":20,\"l\":20,\"r\":20},\"width\":600,\"height\":400},                        {\"responsive\": true}                    ).then(function(){\n",
       "                            \n",
       "var gd = document.getElementById('e1fac83e-ee73-4290-bd68-c1e718b85baa');\n",
       "var x = new MutationObserver(function (mutations, observer) {{\n",
       "        var display = window.getComputedStyle(gd).display;\n",
       "        if (!display || display === 'none') {{\n",
       "            console.log([gd, 'removed!']);\n",
       "            Plotly.purge(gd);\n",
       "            observer.disconnect();\n",
       "        }}\n",
       "}});\n",
       "\n",
       "// Listen for the removal of the full notebook cells\n",
       "var notebookContainer = gd.closest('#notebook-container');\n",
       "if (notebookContainer) {{\n",
       "    x.observe(notebookContainer, {childList: true});\n",
       "}}\n",
       "\n",
       "// Listen for the clearing of the current output cell\n",
       "var outputEl = gd.closest('.output');\n",
       "if (outputEl) {{\n",
       "    x.observe(outputEl, {childList: true});\n",
       "}}\n",
       "\n",
       "                        })                };                });            </script>        </div>"
      ]
     },
     "metadata": {},
     "output_type": "display_data"
    },
    {
     "name": "stdout",
     "output_type": "stream",
     "text": [
      "Pie chart saved as 'figures/code_vs_nocode_overall_piechart.png'\n",
      "Code: 26%\n",
      "No Code: 74%\n"
     ]
    }
   ],
   "source": [
    "import plotly.graph_objects as go\n",
    "\n",
    "def plot_code_vs_nocode_overall(df, width=600, height=400, text_size=14, legend_font_size=12, save_path=None, save_scale=3):\n",
    "    # Calculate percentages\n",
    "    total = len(df)\n",
    "    code_percentage = round((df['code'] > 0).sum() / total * 100)\n",
    "    nocode_percentage = 100 - code_percentage\n",
    "\n",
    "    # Create custom text for labels\n",
    "    labels = ['Code', 'No Code']\n",
    "    values = [code_percentage, nocode_percentage]\n",
    "    custom_text = [f'{v}%' for v in values]\n",
    "\n",
    "    color_scheme = px.colors.qualitative.Set2[1:3]  # Use the first two colors from the Set2 palette\n",
    "    color_scheme = ['#ea801c', '#1a80bb']\n",
    "    color_map = {'Private Data': color_scheme[0], 'Public Data': color_scheme[1]}\n",
    "    color_scheme = [\n",
    "    'rgb(252,141,98)',   # Orange\n",
    "    # 'rgb(255,179,150)',  # Lighter Orange (new color)\n",
    "    'rgb(141,160,203)',  # Grayish-blue\n",
    "    # 'rgb(103,122,165)',  # Darker Grayish-Blue\n",
    "        # 'rgb(28,144,153)'    # Deeper Teal (accent color)\n",
    "    ]\n",
    "    # Create the pie chart\n",
    "    fig = go.Figure(data=[go.Pie(labels=labels,\n",
    "                                 values=values,\n",
    "                                 marker_colors=[color_scheme[1], color_scheme[0]],\n",
    "                                 text=custom_text,\n",
    "                                 textposition='inside',\n",
    "                                 textfont_size=text_size,\n",
    "                                 hovertemplate=\"%{label}: %{text}<extra></extra>\")])\n",
    "\n",
    "    fig.update_traces(textinfo='text')\n",
    "\n",
    "    fig.update_layout(\n",
    "        width=width,\n",
    "        height=height,\n",
    "        legend=dict(\n",
    "            orientation=\"h\",\n",
    "            yanchor=\"bottom\",\n",
    "            y=1.02,\n",
    "            xanchor=\"center\",\n",
    "            x=0.5,\n",
    "            font=dict(size=legend_font_size)\n",
    "        ),\n",
    "        margin=dict(t=80, b=20, l=20, r=20)\n",
    "    )\n",
    "\n",
    "    fig.show()\n",
    "    \n",
    "    if save_path:\n",
    "        fig.write_image(save_path, scale=save_scale)\n",
    "        print(f\"Pie chart saved as '{save_path}'\")\n",
    "\n",
    "    # Print the percentages\n",
    "    print(f\"Code: {code_percentage}%\")\n",
    "    print(f\"No Code: {nocode_percentage}%\")\n",
    "\n",
    "# Usage:\n",
    "# plot_code_vs_nocode_overall(your_dataframe, text_size=14, legend_font_size=12, save_path=\"code_vs_nocode_overall_piechart.png\")\n",
    "\n",
    "# Usage:\n",
    "# plot_code_vs_nocode_overall(your_dataframe, text_size=14, legend_font_size=12, save_path=\"code_vs_nocode_overall_piechart.png\")\n",
    "\n",
    "# Usage:\n",
    "plot_code_vs_nocode_overall(main_df, text_size=28, legend_font_size=24, save_path=\"figures/code_vs_nocode_overall_piechart.png\")"
   ]
  },
  {
   "cell_type": "code",
   "execution_count": 9,
   "metadata": {},
   "outputs": [
    {
     "data": {
      "application/vnd.plotly.v1+json": {
       "config": {
        "plotlyServerURL": "https://plot.ly"
       },
       "data": [
        {
         "hovertemplate": "%{label}: %{text}<extra></extra>",
         "labels": [
          "Public Data",
          "Private Data"
         ],
         "marker": {
          "colors": [
           "rgb(141,160,203)",
           "rgb(252,141,98)"
          ]
         },
         "text": [
          "26%",
          "74%"
         ],
         "textfont": {
          "size": 28
         },
         "textinfo": "text",
         "textposition": "inside",
         "type": "pie",
         "values": [
          26,
          74
         ]
        }
       ],
       "layout": {
        "height": 400,
        "legend": {
         "font": {
          "size": 24
         },
         "orientation": "h",
         "x": 0.5,
         "xanchor": "center",
         "y": 1.02,
         "yanchor": "bottom"
        },
        "margin": {
         "b": 20,
         "l": 20,
         "r": 20,
         "t": 80
        },
        "template": {
         "data": {
          "bar": [
           {
            "error_x": {
             "color": "#2a3f5f"
            },
            "error_y": {
             "color": "#2a3f5f"
            },
            "marker": {
             "line": {
              "color": "#E5ECF6",
              "width": 0.5
             },
             "pattern": {
              "fillmode": "overlay",
              "size": 10,
              "solidity": 0.2
             }
            },
            "type": "bar"
           }
          ],
          "barpolar": [
           {
            "marker": {
             "line": {
              "color": "#E5ECF6",
              "width": 0.5
             },
             "pattern": {
              "fillmode": "overlay",
              "size": 10,
              "solidity": 0.2
             }
            },
            "type": "barpolar"
           }
          ],
          "carpet": [
           {
            "aaxis": {
             "endlinecolor": "#2a3f5f",
             "gridcolor": "white",
             "linecolor": "white",
             "minorgridcolor": "white",
             "startlinecolor": "#2a3f5f"
            },
            "baxis": {
             "endlinecolor": "#2a3f5f",
             "gridcolor": "white",
             "linecolor": "white",
             "minorgridcolor": "white",
             "startlinecolor": "#2a3f5f"
            },
            "type": "carpet"
           }
          ],
          "choropleth": [
           {
            "colorbar": {
             "outlinewidth": 0,
             "ticks": ""
            },
            "type": "choropleth"
           }
          ],
          "contour": [
           {
            "colorbar": {
             "outlinewidth": 0,
             "ticks": ""
            },
            "colorscale": [
             [
              0,
              "#0d0887"
             ],
             [
              0.1111111111111111,
              "#46039f"
             ],
             [
              0.2222222222222222,
              "#7201a8"
             ],
             [
              0.3333333333333333,
              "#9c179e"
             ],
             [
              0.4444444444444444,
              "#bd3786"
             ],
             [
              0.5555555555555556,
              "#d8576b"
             ],
             [
              0.6666666666666666,
              "#ed7953"
             ],
             [
              0.7777777777777778,
              "#fb9f3a"
             ],
             [
              0.8888888888888888,
              "#fdca26"
             ],
             [
              1,
              "#f0f921"
             ]
            ],
            "type": "contour"
           }
          ],
          "contourcarpet": [
           {
            "colorbar": {
             "outlinewidth": 0,
             "ticks": ""
            },
            "type": "contourcarpet"
           }
          ],
          "heatmap": [
           {
            "colorbar": {
             "outlinewidth": 0,
             "ticks": ""
            },
            "colorscale": [
             [
              0,
              "#0d0887"
             ],
             [
              0.1111111111111111,
              "#46039f"
             ],
             [
              0.2222222222222222,
              "#7201a8"
             ],
             [
              0.3333333333333333,
              "#9c179e"
             ],
             [
              0.4444444444444444,
              "#bd3786"
             ],
             [
              0.5555555555555556,
              "#d8576b"
             ],
             [
              0.6666666666666666,
              "#ed7953"
             ],
             [
              0.7777777777777778,
              "#fb9f3a"
             ],
             [
              0.8888888888888888,
              "#fdca26"
             ],
             [
              1,
              "#f0f921"
             ]
            ],
            "type": "heatmap"
           }
          ],
          "heatmapgl": [
           {
            "colorbar": {
             "outlinewidth": 0,
             "ticks": ""
            },
            "colorscale": [
             [
              0,
              "#0d0887"
             ],
             [
              0.1111111111111111,
              "#46039f"
             ],
             [
              0.2222222222222222,
              "#7201a8"
             ],
             [
              0.3333333333333333,
              "#9c179e"
             ],
             [
              0.4444444444444444,
              "#bd3786"
             ],
             [
              0.5555555555555556,
              "#d8576b"
             ],
             [
              0.6666666666666666,
              "#ed7953"
             ],
             [
              0.7777777777777778,
              "#fb9f3a"
             ],
             [
              0.8888888888888888,
              "#fdca26"
             ],
             [
              1,
              "#f0f921"
             ]
            ],
            "type": "heatmapgl"
           }
          ],
          "histogram": [
           {
            "marker": {
             "pattern": {
              "fillmode": "overlay",
              "size": 10,
              "solidity": 0.2
             }
            },
            "type": "histogram"
           }
          ],
          "histogram2d": [
           {
            "colorbar": {
             "outlinewidth": 0,
             "ticks": ""
            },
            "colorscale": [
             [
              0,
              "#0d0887"
             ],
             [
              0.1111111111111111,
              "#46039f"
             ],
             [
              0.2222222222222222,
              "#7201a8"
             ],
             [
              0.3333333333333333,
              "#9c179e"
             ],
             [
              0.4444444444444444,
              "#bd3786"
             ],
             [
              0.5555555555555556,
              "#d8576b"
             ],
             [
              0.6666666666666666,
              "#ed7953"
             ],
             [
              0.7777777777777778,
              "#fb9f3a"
             ],
             [
              0.8888888888888888,
              "#fdca26"
             ],
             [
              1,
              "#f0f921"
             ]
            ],
            "type": "histogram2d"
           }
          ],
          "histogram2dcontour": [
           {
            "colorbar": {
             "outlinewidth": 0,
             "ticks": ""
            },
            "colorscale": [
             [
              0,
              "#0d0887"
             ],
             [
              0.1111111111111111,
              "#46039f"
             ],
             [
              0.2222222222222222,
              "#7201a8"
             ],
             [
              0.3333333333333333,
              "#9c179e"
             ],
             [
              0.4444444444444444,
              "#bd3786"
             ],
             [
              0.5555555555555556,
              "#d8576b"
             ],
             [
              0.6666666666666666,
              "#ed7953"
             ],
             [
              0.7777777777777778,
              "#fb9f3a"
             ],
             [
              0.8888888888888888,
              "#fdca26"
             ],
             [
              1,
              "#f0f921"
             ]
            ],
            "type": "histogram2dcontour"
           }
          ],
          "mesh3d": [
           {
            "colorbar": {
             "outlinewidth": 0,
             "ticks": ""
            },
            "type": "mesh3d"
           }
          ],
          "parcoords": [
           {
            "line": {
             "colorbar": {
              "outlinewidth": 0,
              "ticks": ""
             }
            },
            "type": "parcoords"
           }
          ],
          "pie": [
           {
            "automargin": true,
            "type": "pie"
           }
          ],
          "scatter": [
           {
            "fillpattern": {
             "fillmode": "overlay",
             "size": 10,
             "solidity": 0.2
            },
            "type": "scatter"
           }
          ],
          "scatter3d": [
           {
            "line": {
             "colorbar": {
              "outlinewidth": 0,
              "ticks": ""
             }
            },
            "marker": {
             "colorbar": {
              "outlinewidth": 0,
              "ticks": ""
             }
            },
            "type": "scatter3d"
           }
          ],
          "scattercarpet": [
           {
            "marker": {
             "colorbar": {
              "outlinewidth": 0,
              "ticks": ""
             }
            },
            "type": "scattercarpet"
           }
          ],
          "scattergeo": [
           {
            "marker": {
             "colorbar": {
              "outlinewidth": 0,
              "ticks": ""
             }
            },
            "type": "scattergeo"
           }
          ],
          "scattergl": [
           {
            "marker": {
             "colorbar": {
              "outlinewidth": 0,
              "ticks": ""
             }
            },
            "type": "scattergl"
           }
          ],
          "scattermapbox": [
           {
            "marker": {
             "colorbar": {
              "outlinewidth": 0,
              "ticks": ""
             }
            },
            "type": "scattermapbox"
           }
          ],
          "scatterpolar": [
           {
            "marker": {
             "colorbar": {
              "outlinewidth": 0,
              "ticks": ""
             }
            },
            "type": "scatterpolar"
           }
          ],
          "scatterpolargl": [
           {
            "marker": {
             "colorbar": {
              "outlinewidth": 0,
              "ticks": ""
             }
            },
            "type": "scatterpolargl"
           }
          ],
          "scatterternary": [
           {
            "marker": {
             "colorbar": {
              "outlinewidth": 0,
              "ticks": ""
             }
            },
            "type": "scatterternary"
           }
          ],
          "surface": [
           {
            "colorbar": {
             "outlinewidth": 0,
             "ticks": ""
            },
            "colorscale": [
             [
              0,
              "#0d0887"
             ],
             [
              0.1111111111111111,
              "#46039f"
             ],
             [
              0.2222222222222222,
              "#7201a8"
             ],
             [
              0.3333333333333333,
              "#9c179e"
             ],
             [
              0.4444444444444444,
              "#bd3786"
             ],
             [
              0.5555555555555556,
              "#d8576b"
             ],
             [
              0.6666666666666666,
              "#ed7953"
             ],
             [
              0.7777777777777778,
              "#fb9f3a"
             ],
             [
              0.8888888888888888,
              "#fdca26"
             ],
             [
              1,
              "#f0f921"
             ]
            ],
            "type": "surface"
           }
          ],
          "table": [
           {
            "cells": {
             "fill": {
              "color": "#EBF0F8"
             },
             "line": {
              "color": "white"
             }
            },
            "header": {
             "fill": {
              "color": "#C8D4E3"
             },
             "line": {
              "color": "white"
             }
            },
            "type": "table"
           }
          ]
         },
         "layout": {
          "annotationdefaults": {
           "arrowcolor": "#2a3f5f",
           "arrowhead": 0,
           "arrowwidth": 1
          },
          "autotypenumbers": "strict",
          "coloraxis": {
           "colorbar": {
            "outlinewidth": 0,
            "ticks": ""
           }
          },
          "colorscale": {
           "diverging": [
            [
             0,
             "#8e0152"
            ],
            [
             0.1,
             "#c51b7d"
            ],
            [
             0.2,
             "#de77ae"
            ],
            [
             0.3,
             "#f1b6da"
            ],
            [
             0.4,
             "#fde0ef"
            ],
            [
             0.5,
             "#f7f7f7"
            ],
            [
             0.6,
             "#e6f5d0"
            ],
            [
             0.7,
             "#b8e186"
            ],
            [
             0.8,
             "#7fbc41"
            ],
            [
             0.9,
             "#4d9221"
            ],
            [
             1,
             "#276419"
            ]
           ],
           "sequential": [
            [
             0,
             "#0d0887"
            ],
            [
             0.1111111111111111,
             "#46039f"
            ],
            [
             0.2222222222222222,
             "#7201a8"
            ],
            [
             0.3333333333333333,
             "#9c179e"
            ],
            [
             0.4444444444444444,
             "#bd3786"
            ],
            [
             0.5555555555555556,
             "#d8576b"
            ],
            [
             0.6666666666666666,
             "#ed7953"
            ],
            [
             0.7777777777777778,
             "#fb9f3a"
            ],
            [
             0.8888888888888888,
             "#fdca26"
            ],
            [
             1,
             "#f0f921"
            ]
           ],
           "sequentialminus": [
            [
             0,
             "#0d0887"
            ],
            [
             0.1111111111111111,
             "#46039f"
            ],
            [
             0.2222222222222222,
             "#7201a8"
            ],
            [
             0.3333333333333333,
             "#9c179e"
            ],
            [
             0.4444444444444444,
             "#bd3786"
            ],
            [
             0.5555555555555556,
             "#d8576b"
            ],
            [
             0.6666666666666666,
             "#ed7953"
            ],
            [
             0.7777777777777778,
             "#fb9f3a"
            ],
            [
             0.8888888888888888,
             "#fdca26"
            ],
            [
             1,
             "#f0f921"
            ]
           ]
          },
          "colorway": [
           "#636efa",
           "#EF553B",
           "#00cc96",
           "#ab63fa",
           "#FFA15A",
           "#19d3f3",
           "#FF6692",
           "#B6E880",
           "#FF97FF",
           "#FECB52"
          ],
          "font": {
           "color": "#2a3f5f"
          },
          "geo": {
           "bgcolor": "white",
           "lakecolor": "white",
           "landcolor": "#E5ECF6",
           "showlakes": true,
           "showland": true,
           "subunitcolor": "white"
          },
          "hoverlabel": {
           "align": "left"
          },
          "hovermode": "closest",
          "mapbox": {
           "style": "light"
          },
          "paper_bgcolor": "white",
          "plot_bgcolor": "#E5ECF6",
          "polar": {
           "angularaxis": {
            "gridcolor": "white",
            "linecolor": "white",
            "ticks": ""
           },
           "bgcolor": "#E5ECF6",
           "radialaxis": {
            "gridcolor": "white",
            "linecolor": "white",
            "ticks": ""
           }
          },
          "scene": {
           "xaxis": {
            "backgroundcolor": "#E5ECF6",
            "gridcolor": "white",
            "gridwidth": 2,
            "linecolor": "white",
            "showbackground": true,
            "ticks": "",
            "zerolinecolor": "white"
           },
           "yaxis": {
            "backgroundcolor": "#E5ECF6",
            "gridcolor": "white",
            "gridwidth": 2,
            "linecolor": "white",
            "showbackground": true,
            "ticks": "",
            "zerolinecolor": "white"
           },
           "zaxis": {
            "backgroundcolor": "#E5ECF6",
            "gridcolor": "white",
            "gridwidth": 2,
            "linecolor": "white",
            "showbackground": true,
            "ticks": "",
            "zerolinecolor": "white"
           }
          },
          "shapedefaults": {
           "line": {
            "color": "#2a3f5f"
           }
          },
          "ternary": {
           "aaxis": {
            "gridcolor": "white",
            "linecolor": "white",
            "ticks": ""
           },
           "baxis": {
            "gridcolor": "white",
            "linecolor": "white",
            "ticks": ""
           },
           "bgcolor": "#E5ECF6",
           "caxis": {
            "gridcolor": "white",
            "linecolor": "white",
            "ticks": ""
           }
          },
          "title": {
           "x": 0.05
          },
          "xaxis": {
           "automargin": true,
           "gridcolor": "white",
           "linecolor": "white",
           "ticks": "",
           "title": {
            "standoff": 15
           },
           "zerolinecolor": "white",
           "zerolinewidth": 2
          },
          "yaxis": {
           "automargin": true,
           "gridcolor": "white",
           "linecolor": "white",
           "ticks": "",
           "title": {
            "standoff": 15
           },
           "zerolinecolor": "white",
           "zerolinewidth": 2
          }
         }
        },
        "width": 600
       }
      },
      "text/html": [
       "<div>                            <div id=\"bd2e40a0-dc5a-4428-8151-1579e51b1c52\" class=\"plotly-graph-div\" style=\"height:400px; width:600px;\"></div>            <script type=\"text/javascript\">                require([\"plotly\"], function(Plotly) {                    window.PLOTLYENV=window.PLOTLYENV || {};                                    if (document.getElementById(\"bd2e40a0-dc5a-4428-8151-1579e51b1c52\")) {                    Plotly.newPlot(                        \"bd2e40a0-dc5a-4428-8151-1579e51b1c52\",                        [{\"hovertemplate\":\"%{label}: %{text}\\u003cextra\\u003e\\u003c\\u002fextra\\u003e\",\"labels\":[\"Public Data\",\"Private Data\"],\"marker\":{\"colors\":[\"rgb(141,160,203)\",\"rgb(252,141,98)\"]},\"text\":[\"26%\",\"74%\"],\"textfont\":{\"size\":28},\"textposition\":\"inside\",\"values\":[26,74],\"type\":\"pie\",\"textinfo\":\"text\"}],                        {\"template\":{\"data\":{\"histogram2dcontour\":[{\"type\":\"histogram2dcontour\",\"colorbar\":{\"outlinewidth\":0,\"ticks\":\"\"},\"colorscale\":[[0.0,\"#0d0887\"],[0.1111111111111111,\"#46039f\"],[0.2222222222222222,\"#7201a8\"],[0.3333333333333333,\"#9c179e\"],[0.4444444444444444,\"#bd3786\"],[0.5555555555555556,\"#d8576b\"],[0.6666666666666666,\"#ed7953\"],[0.7777777777777778,\"#fb9f3a\"],[0.8888888888888888,\"#fdca26\"],[1.0,\"#f0f921\"]]}],\"choropleth\":[{\"type\":\"choropleth\",\"colorbar\":{\"outlinewidth\":0,\"ticks\":\"\"}}],\"histogram2d\":[{\"type\":\"histogram2d\",\"colorbar\":{\"outlinewidth\":0,\"ticks\":\"\"},\"colorscale\":[[0.0,\"#0d0887\"],[0.1111111111111111,\"#46039f\"],[0.2222222222222222,\"#7201a8\"],[0.3333333333333333,\"#9c179e\"],[0.4444444444444444,\"#bd3786\"],[0.5555555555555556,\"#d8576b\"],[0.6666666666666666,\"#ed7953\"],[0.7777777777777778,\"#fb9f3a\"],[0.8888888888888888,\"#fdca26\"],[1.0,\"#f0f921\"]]}],\"heatmap\":[{\"type\":\"heatmap\",\"colorbar\":{\"outlinewidth\":0,\"ticks\":\"\"},\"colorscale\":[[0.0,\"#0d0887\"],[0.1111111111111111,\"#46039f\"],[0.2222222222222222,\"#7201a8\"],[0.3333333333333333,\"#9c179e\"],[0.4444444444444444,\"#bd3786\"],[0.5555555555555556,\"#d8576b\"],[0.6666666666666666,\"#ed7953\"],[0.7777777777777778,\"#fb9f3a\"],[0.8888888888888888,\"#fdca26\"],[1.0,\"#f0f921\"]]}],\"heatmapgl\":[{\"type\":\"heatmapgl\",\"colorbar\":{\"outlinewidth\":0,\"ticks\":\"\"},\"colorscale\":[[0.0,\"#0d0887\"],[0.1111111111111111,\"#46039f\"],[0.2222222222222222,\"#7201a8\"],[0.3333333333333333,\"#9c179e\"],[0.4444444444444444,\"#bd3786\"],[0.5555555555555556,\"#d8576b\"],[0.6666666666666666,\"#ed7953\"],[0.7777777777777778,\"#fb9f3a\"],[0.8888888888888888,\"#fdca26\"],[1.0,\"#f0f921\"]]}],\"contourcarpet\":[{\"type\":\"contourcarpet\",\"colorbar\":{\"outlinewidth\":0,\"ticks\":\"\"}}],\"contour\":[{\"type\":\"contour\",\"colorbar\":{\"outlinewidth\":0,\"ticks\":\"\"},\"colorscale\":[[0.0,\"#0d0887\"],[0.1111111111111111,\"#46039f\"],[0.2222222222222222,\"#7201a8\"],[0.3333333333333333,\"#9c179e\"],[0.4444444444444444,\"#bd3786\"],[0.5555555555555556,\"#d8576b\"],[0.6666666666666666,\"#ed7953\"],[0.7777777777777778,\"#fb9f3a\"],[0.8888888888888888,\"#fdca26\"],[1.0,\"#f0f921\"]]}],\"surface\":[{\"type\":\"surface\",\"colorbar\":{\"outlinewidth\":0,\"ticks\":\"\"},\"colorscale\":[[0.0,\"#0d0887\"],[0.1111111111111111,\"#46039f\"],[0.2222222222222222,\"#7201a8\"],[0.3333333333333333,\"#9c179e\"],[0.4444444444444444,\"#bd3786\"],[0.5555555555555556,\"#d8576b\"],[0.6666666666666666,\"#ed7953\"],[0.7777777777777778,\"#fb9f3a\"],[0.8888888888888888,\"#fdca26\"],[1.0,\"#f0f921\"]]}],\"mesh3d\":[{\"type\":\"mesh3d\",\"colorbar\":{\"outlinewidth\":0,\"ticks\":\"\"}}],\"scatter\":[{\"fillpattern\":{\"fillmode\":\"overlay\",\"size\":10,\"solidity\":0.2},\"type\":\"scatter\"}],\"parcoords\":[{\"type\":\"parcoords\",\"line\":{\"colorbar\":{\"outlinewidth\":0,\"ticks\":\"\"}}}],\"scatterpolargl\":[{\"type\":\"scatterpolargl\",\"marker\":{\"colorbar\":{\"outlinewidth\":0,\"ticks\":\"\"}}}],\"bar\":[{\"error_x\":{\"color\":\"#2a3f5f\"},\"error_y\":{\"color\":\"#2a3f5f\"},\"marker\":{\"line\":{\"color\":\"#E5ECF6\",\"width\":0.5},\"pattern\":{\"fillmode\":\"overlay\",\"size\":10,\"solidity\":0.2}},\"type\":\"bar\"}],\"scattergeo\":[{\"type\":\"scattergeo\",\"marker\":{\"colorbar\":{\"outlinewidth\":0,\"ticks\":\"\"}}}],\"scatterpolar\":[{\"type\":\"scatterpolar\",\"marker\":{\"colorbar\":{\"outlinewidth\":0,\"ticks\":\"\"}}}],\"histogram\":[{\"marker\":{\"pattern\":{\"fillmode\":\"overlay\",\"size\":10,\"solidity\":0.2}},\"type\":\"histogram\"}],\"scattergl\":[{\"type\":\"scattergl\",\"marker\":{\"colorbar\":{\"outlinewidth\":0,\"ticks\":\"\"}}}],\"scatter3d\":[{\"type\":\"scatter3d\",\"line\":{\"colorbar\":{\"outlinewidth\":0,\"ticks\":\"\"}},\"marker\":{\"colorbar\":{\"outlinewidth\":0,\"ticks\":\"\"}}}],\"scattermapbox\":[{\"type\":\"scattermapbox\",\"marker\":{\"colorbar\":{\"outlinewidth\":0,\"ticks\":\"\"}}}],\"scatterternary\":[{\"type\":\"scatterternary\",\"marker\":{\"colorbar\":{\"outlinewidth\":0,\"ticks\":\"\"}}}],\"scattercarpet\":[{\"type\":\"scattercarpet\",\"marker\":{\"colorbar\":{\"outlinewidth\":0,\"ticks\":\"\"}}}],\"carpet\":[{\"aaxis\":{\"endlinecolor\":\"#2a3f5f\",\"gridcolor\":\"white\",\"linecolor\":\"white\",\"minorgridcolor\":\"white\",\"startlinecolor\":\"#2a3f5f\"},\"baxis\":{\"endlinecolor\":\"#2a3f5f\",\"gridcolor\":\"white\",\"linecolor\":\"white\",\"minorgridcolor\":\"white\",\"startlinecolor\":\"#2a3f5f\"},\"type\":\"carpet\"}],\"table\":[{\"cells\":{\"fill\":{\"color\":\"#EBF0F8\"},\"line\":{\"color\":\"white\"}},\"header\":{\"fill\":{\"color\":\"#C8D4E3\"},\"line\":{\"color\":\"white\"}},\"type\":\"table\"}],\"barpolar\":[{\"marker\":{\"line\":{\"color\":\"#E5ECF6\",\"width\":0.5},\"pattern\":{\"fillmode\":\"overlay\",\"size\":10,\"solidity\":0.2}},\"type\":\"barpolar\"}],\"pie\":[{\"automargin\":true,\"type\":\"pie\"}]},\"layout\":{\"autotypenumbers\":\"strict\",\"colorway\":[\"#636efa\",\"#EF553B\",\"#00cc96\",\"#ab63fa\",\"#FFA15A\",\"#19d3f3\",\"#FF6692\",\"#B6E880\",\"#FF97FF\",\"#FECB52\"],\"font\":{\"color\":\"#2a3f5f\"},\"hovermode\":\"closest\",\"hoverlabel\":{\"align\":\"left\"},\"paper_bgcolor\":\"white\",\"plot_bgcolor\":\"#E5ECF6\",\"polar\":{\"bgcolor\":\"#E5ECF6\",\"angularaxis\":{\"gridcolor\":\"white\",\"linecolor\":\"white\",\"ticks\":\"\"},\"radialaxis\":{\"gridcolor\":\"white\",\"linecolor\":\"white\",\"ticks\":\"\"}},\"ternary\":{\"bgcolor\":\"#E5ECF6\",\"aaxis\":{\"gridcolor\":\"white\",\"linecolor\":\"white\",\"ticks\":\"\"},\"baxis\":{\"gridcolor\":\"white\",\"linecolor\":\"white\",\"ticks\":\"\"},\"caxis\":{\"gridcolor\":\"white\",\"linecolor\":\"white\",\"ticks\":\"\"}},\"coloraxis\":{\"colorbar\":{\"outlinewidth\":0,\"ticks\":\"\"}},\"colorscale\":{\"sequential\":[[0.0,\"#0d0887\"],[0.1111111111111111,\"#46039f\"],[0.2222222222222222,\"#7201a8\"],[0.3333333333333333,\"#9c179e\"],[0.4444444444444444,\"#bd3786\"],[0.5555555555555556,\"#d8576b\"],[0.6666666666666666,\"#ed7953\"],[0.7777777777777778,\"#fb9f3a\"],[0.8888888888888888,\"#fdca26\"],[1.0,\"#f0f921\"]],\"sequentialminus\":[[0.0,\"#0d0887\"],[0.1111111111111111,\"#46039f\"],[0.2222222222222222,\"#7201a8\"],[0.3333333333333333,\"#9c179e\"],[0.4444444444444444,\"#bd3786\"],[0.5555555555555556,\"#d8576b\"],[0.6666666666666666,\"#ed7953\"],[0.7777777777777778,\"#fb9f3a\"],[0.8888888888888888,\"#fdca26\"],[1.0,\"#f0f921\"]],\"diverging\":[[0,\"#8e0152\"],[0.1,\"#c51b7d\"],[0.2,\"#de77ae\"],[0.3,\"#f1b6da\"],[0.4,\"#fde0ef\"],[0.5,\"#f7f7f7\"],[0.6,\"#e6f5d0\"],[0.7,\"#b8e186\"],[0.8,\"#7fbc41\"],[0.9,\"#4d9221\"],[1,\"#276419\"]]},\"xaxis\":{\"gridcolor\":\"white\",\"linecolor\":\"white\",\"ticks\":\"\",\"title\":{\"standoff\":15},\"zerolinecolor\":\"white\",\"automargin\":true,\"zerolinewidth\":2},\"yaxis\":{\"gridcolor\":\"white\",\"linecolor\":\"white\",\"ticks\":\"\",\"title\":{\"standoff\":15},\"zerolinecolor\":\"white\",\"automargin\":true,\"zerolinewidth\":2},\"scene\":{\"xaxis\":{\"backgroundcolor\":\"#E5ECF6\",\"gridcolor\":\"white\",\"linecolor\":\"white\",\"showbackground\":true,\"ticks\":\"\",\"zerolinecolor\":\"white\",\"gridwidth\":2},\"yaxis\":{\"backgroundcolor\":\"#E5ECF6\",\"gridcolor\":\"white\",\"linecolor\":\"white\",\"showbackground\":true,\"ticks\":\"\",\"zerolinecolor\":\"white\",\"gridwidth\":2},\"zaxis\":{\"backgroundcolor\":\"#E5ECF6\",\"gridcolor\":\"white\",\"linecolor\":\"white\",\"showbackground\":true,\"ticks\":\"\",\"zerolinecolor\":\"white\",\"gridwidth\":2}},\"shapedefaults\":{\"line\":{\"color\":\"#2a3f5f\"}},\"annotationdefaults\":{\"arrowcolor\":\"#2a3f5f\",\"arrowhead\":0,\"arrowwidth\":1},\"geo\":{\"bgcolor\":\"white\",\"landcolor\":\"#E5ECF6\",\"subunitcolor\":\"white\",\"showland\":true,\"showlakes\":true,\"lakecolor\":\"white\"},\"title\":{\"x\":0.05},\"mapbox\":{\"style\":\"light\"}}},\"legend\":{\"font\":{\"size\":24},\"orientation\":\"h\",\"yanchor\":\"bottom\",\"y\":1.02,\"xanchor\":\"center\",\"x\":0.5},\"margin\":{\"t\":80,\"b\":20,\"l\":20,\"r\":20},\"width\":600,\"height\":400},                        {\"responsive\": true}                    ).then(function(){\n",
       "                            \n",
       "var gd = document.getElementById('bd2e40a0-dc5a-4428-8151-1579e51b1c52');\n",
       "var x = new MutationObserver(function (mutations, observer) {{\n",
       "        var display = window.getComputedStyle(gd).display;\n",
       "        if (!display || display === 'none') {{\n",
       "            console.log([gd, 'removed!']);\n",
       "            Plotly.purge(gd);\n",
       "            observer.disconnect();\n",
       "        }}\n",
       "}});\n",
       "\n",
       "// Listen for the removal of the full notebook cells\n",
       "var notebookContainer = gd.closest('#notebook-container');\n",
       "if (notebookContainer) {{\n",
       "    x.observe(notebookContainer, {childList: true});\n",
       "}}\n",
       "\n",
       "// Listen for the clearing of the current output cell\n",
       "var outputEl = gd.closest('.output');\n",
       "if (outputEl) {{\n",
       "    x.observe(outputEl, {childList: true});\n",
       "}}\n",
       "\n",
       "                        })                };                });            </script>        </div>"
      ]
     },
     "metadata": {},
     "output_type": "display_data"
    },
    {
     "name": "stdout",
     "output_type": "stream",
     "text": [
      "Pie chart saved as 'figures/public_vs_private_overall_piechart.png'\n",
      "Public Data: 26%\n",
      "Private Data: 74%\n"
     ]
    }
   ],
   "source": [
    "import plotly.graph_objects as go\n",
    "\n",
    "def plot_public_vs_private_overall(df, width=600, height=400, text_size=14, legend_font_size=12, save_path=None, save_scale=3):\n",
    "    # List of public dataset columns\n",
    "    public_datasets = [\n",
    "        'mimic_count', 'eicu_count', 'uk_biobank_count', 'chest_x-ray14_count',\n",
    "        'adni_count', 'physionet_count', 'oasis_count', 'tcga_count', 'gdc_count',\n",
    "        'seer_count', 'tuh_eeg_corpus_count', 'tuh_abnormal_eeg_corpus_count',\n",
    "        'tuh_eeg_artifact_corpus_count', 'tuh_eeg_epilepsy_corpus_count',\n",
    "        'tuh_eeg_events_corpus_count', 'tuh_eeg_seizure_corpus_count',\n",
    "        'tuh_eeg_slowing_corpus_count', 'paper_with_code_data_count'\n",
    "    ]\n",
    "\n",
    "    # Calculate if any public dataset was used\n",
    "    df['public_data_used'] = df[public_datasets].any(axis=1)\n",
    "\n",
    "    # Calculate percentages\n",
    "    total = len(df)\n",
    "    public_percentage = round(df['public_data_used'].sum() / total * 100)\n",
    "    private_percentage = 100 - public_percentage\n",
    "\n",
    "    # Create custom text for labels\n",
    "    labels = ['Public Data', 'Private Data']\n",
    "    values = [public_percentage, private_percentage]\n",
    "    custom_text = [f'{v}%' for v in values]\n",
    "\n",
    "    color_scheme = px.colors.qualitative.Set2[1:3]  # Use the first two colors from the Set2 palette\n",
    "    # color_scheme = ['#1a80bb', '#ea801c']\n",
    "    # color_scheme = ['#ea801c', '#1a80bb']\n",
    "    color_scheme = [\n",
    "    'rgb(252,141,98)',   # Orange\n",
    "    # 'rgb(255,179,150)',  # Lighter Orange (new color)\n",
    "    'rgb(141,160,203)',  # Grayish-blue\n",
    "    # 'rgb(103,122,165)',  # Darker Grayish-Blue\n",
    "        # 'rgb(28,144,153)'    # Deeper Teal (accent color)\n",
    "    ]\n",
    "    color_map = {'Private Data': color_scheme[0], 'Public Data': color_scheme[1]}\n",
    "    # Create the pie chart\n",
    "    fig = go.Figure(data=[go.Pie(labels=labels,\n",
    "                                 values=values,\n",
    "                                 marker_colors=[color_scheme[1], color_scheme[0]],\n",
    "                                 text=custom_text,\n",
    "                                 textposition='inside',\n",
    "                                 textfont_size=text_size,\n",
    "                                 hovertemplate=\"%{label}: %{text}<extra></extra>\")])\n",
    "\n",
    "    fig.update_traces(textinfo='text')\n",
    "\n",
    "    fig.update_layout(\n",
    "        width=width,\n",
    "        height=height,\n",
    "        legend=dict(\n",
    "            orientation=\"h\",\n",
    "            yanchor=\"bottom\",\n",
    "            y=1.02,\n",
    "            xanchor=\"center\",\n",
    "            x=0.5,\n",
    "            font=dict(size=legend_font_size)\n",
    "        ),\n",
    "        margin=dict(t=80, b=20, l=20, r=20)\n",
    "    )\n",
    "\n",
    "    fig.show()\n",
    "    \n",
    "    if save_path:\n",
    "        fig.write_image(save_path, scale=save_scale)\n",
    "        print(f\"Pie chart saved as '{save_path}'\")\n",
    "    # Print the percentages\n",
    "    print(f\"Public Data: {public_percentage}%\")\n",
    "    print(f\"Private Data: {private_percentage}%\")\n",
    "\n",
    "# Usage:\n",
    "# plot_public_vs_private_overall(your_dataframe, text_size=14, legend_font_size=12, save_path=\"public_vs_private_overall_piechart.png\")\n",
    "\n",
    "# Usage:\n",
    "# plot_public_vs_private_overall(your_dataframe, text_size=14, legend_font_size=12, save_path=\"public_vs_private_overall_piechart.png\")\n",
    "# Usage\n",
    "plot_public_vs_private_overall(main_df, text_size=28, legend_font_size=24, save_path=\"figures/public_vs_private_overall_piechart.png\")"
   ]
  },
  {
   "cell_type": "code",
   "execution_count": 52,
   "metadata": {},
   "outputs": [
    {
     "data": {
      "application/vnd.plotly.v1+json": {
       "config": {
        "plotlyServerURL": "https://plot.ly"
       },
       "data": [
        {
         "hovertemplate": "%{label}: %{text}<extra></extra>",
         "labels": [
          "E.H.R",
          "Clinical Images",
          "Biomedicine",
          "Biosignals"
         ],
         "marker": {
          "colors": [
           "rgb(103,122,165)",
           "rgb(141,160,203)",
           "rgb(255,179,150)",
           "rgb(252,141,98)"
          ]
         },
         "text": [
          "63%",
          "16%",
          "12%",
          "8%"
         ],
         "textfont": {
          "size": 38
         },
         "textinfo": "text",
         "textposition": "inside",
         "type": "pie",
         "values": [
          1655,
          428,
          322,
          205
         ]
        }
       ],
       "layout": {
        "height": 600,
        "legend": {
         "font": {
          "size": 32
         },
         "orientation": "h",
         "x": 0.5,
         "xanchor": "center",
         "y": 1.02,
         "yanchor": "bottom"
        },
        "margin": {
         "b": 20,
         "l": 20,
         "r": 20,
         "t": 80
        },
        "template": {
         "data": {
          "bar": [
           {
            "error_x": {
             "color": "#2a3f5f"
            },
            "error_y": {
             "color": "#2a3f5f"
            },
            "marker": {
             "line": {
              "color": "#E5ECF6",
              "width": 0.5
             },
             "pattern": {
              "fillmode": "overlay",
              "size": 10,
              "solidity": 0.2
             }
            },
            "type": "bar"
           }
          ],
          "barpolar": [
           {
            "marker": {
             "line": {
              "color": "#E5ECF6",
              "width": 0.5
             },
             "pattern": {
              "fillmode": "overlay",
              "size": 10,
              "solidity": 0.2
             }
            },
            "type": "barpolar"
           }
          ],
          "carpet": [
           {
            "aaxis": {
             "endlinecolor": "#2a3f5f",
             "gridcolor": "white",
             "linecolor": "white",
             "minorgridcolor": "white",
             "startlinecolor": "#2a3f5f"
            },
            "baxis": {
             "endlinecolor": "#2a3f5f",
             "gridcolor": "white",
             "linecolor": "white",
             "minorgridcolor": "white",
             "startlinecolor": "#2a3f5f"
            },
            "type": "carpet"
           }
          ],
          "choropleth": [
           {
            "colorbar": {
             "outlinewidth": 0,
             "ticks": ""
            },
            "type": "choropleth"
           }
          ],
          "contour": [
           {
            "colorbar": {
             "outlinewidth": 0,
             "ticks": ""
            },
            "colorscale": [
             [
              0,
              "#0d0887"
             ],
             [
              0.1111111111111111,
              "#46039f"
             ],
             [
              0.2222222222222222,
              "#7201a8"
             ],
             [
              0.3333333333333333,
              "#9c179e"
             ],
             [
              0.4444444444444444,
              "#bd3786"
             ],
             [
              0.5555555555555556,
              "#d8576b"
             ],
             [
              0.6666666666666666,
              "#ed7953"
             ],
             [
              0.7777777777777778,
              "#fb9f3a"
             ],
             [
              0.8888888888888888,
              "#fdca26"
             ],
             [
              1,
              "#f0f921"
             ]
            ],
            "type": "contour"
           }
          ],
          "contourcarpet": [
           {
            "colorbar": {
             "outlinewidth": 0,
             "ticks": ""
            },
            "type": "contourcarpet"
           }
          ],
          "heatmap": [
           {
            "colorbar": {
             "outlinewidth": 0,
             "ticks": ""
            },
            "colorscale": [
             [
              0,
              "#0d0887"
             ],
             [
              0.1111111111111111,
              "#46039f"
             ],
             [
              0.2222222222222222,
              "#7201a8"
             ],
             [
              0.3333333333333333,
              "#9c179e"
             ],
             [
              0.4444444444444444,
              "#bd3786"
             ],
             [
              0.5555555555555556,
              "#d8576b"
             ],
             [
              0.6666666666666666,
              "#ed7953"
             ],
             [
              0.7777777777777778,
              "#fb9f3a"
             ],
             [
              0.8888888888888888,
              "#fdca26"
             ],
             [
              1,
              "#f0f921"
             ]
            ],
            "type": "heatmap"
           }
          ],
          "heatmapgl": [
           {
            "colorbar": {
             "outlinewidth": 0,
             "ticks": ""
            },
            "colorscale": [
             [
              0,
              "#0d0887"
             ],
             [
              0.1111111111111111,
              "#46039f"
             ],
             [
              0.2222222222222222,
              "#7201a8"
             ],
             [
              0.3333333333333333,
              "#9c179e"
             ],
             [
              0.4444444444444444,
              "#bd3786"
             ],
             [
              0.5555555555555556,
              "#d8576b"
             ],
             [
              0.6666666666666666,
              "#ed7953"
             ],
             [
              0.7777777777777778,
              "#fb9f3a"
             ],
             [
              0.8888888888888888,
              "#fdca26"
             ],
             [
              1,
              "#f0f921"
             ]
            ],
            "type": "heatmapgl"
           }
          ],
          "histogram": [
           {
            "marker": {
             "pattern": {
              "fillmode": "overlay",
              "size": 10,
              "solidity": 0.2
             }
            },
            "type": "histogram"
           }
          ],
          "histogram2d": [
           {
            "colorbar": {
             "outlinewidth": 0,
             "ticks": ""
            },
            "colorscale": [
             [
              0,
              "#0d0887"
             ],
             [
              0.1111111111111111,
              "#46039f"
             ],
             [
              0.2222222222222222,
              "#7201a8"
             ],
             [
              0.3333333333333333,
              "#9c179e"
             ],
             [
              0.4444444444444444,
              "#bd3786"
             ],
             [
              0.5555555555555556,
              "#d8576b"
             ],
             [
              0.6666666666666666,
              "#ed7953"
             ],
             [
              0.7777777777777778,
              "#fb9f3a"
             ],
             [
              0.8888888888888888,
              "#fdca26"
             ],
             [
              1,
              "#f0f921"
             ]
            ],
            "type": "histogram2d"
           }
          ],
          "histogram2dcontour": [
           {
            "colorbar": {
             "outlinewidth": 0,
             "ticks": ""
            },
            "colorscale": [
             [
              0,
              "#0d0887"
             ],
             [
              0.1111111111111111,
              "#46039f"
             ],
             [
              0.2222222222222222,
              "#7201a8"
             ],
             [
              0.3333333333333333,
              "#9c179e"
             ],
             [
              0.4444444444444444,
              "#bd3786"
             ],
             [
              0.5555555555555556,
              "#d8576b"
             ],
             [
              0.6666666666666666,
              "#ed7953"
             ],
             [
              0.7777777777777778,
              "#fb9f3a"
             ],
             [
              0.8888888888888888,
              "#fdca26"
             ],
             [
              1,
              "#f0f921"
             ]
            ],
            "type": "histogram2dcontour"
           }
          ],
          "mesh3d": [
           {
            "colorbar": {
             "outlinewidth": 0,
             "ticks": ""
            },
            "type": "mesh3d"
           }
          ],
          "parcoords": [
           {
            "line": {
             "colorbar": {
              "outlinewidth": 0,
              "ticks": ""
             }
            },
            "type": "parcoords"
           }
          ],
          "pie": [
           {
            "automargin": true,
            "type": "pie"
           }
          ],
          "scatter": [
           {
            "fillpattern": {
             "fillmode": "overlay",
             "size": 10,
             "solidity": 0.2
            },
            "type": "scatter"
           }
          ],
          "scatter3d": [
           {
            "line": {
             "colorbar": {
              "outlinewidth": 0,
              "ticks": ""
             }
            },
            "marker": {
             "colorbar": {
              "outlinewidth": 0,
              "ticks": ""
             }
            },
            "type": "scatter3d"
           }
          ],
          "scattercarpet": [
           {
            "marker": {
             "colorbar": {
              "outlinewidth": 0,
              "ticks": ""
             }
            },
            "type": "scattercarpet"
           }
          ],
          "scattergeo": [
           {
            "marker": {
             "colorbar": {
              "outlinewidth": 0,
              "ticks": ""
             }
            },
            "type": "scattergeo"
           }
          ],
          "scattergl": [
           {
            "marker": {
             "colorbar": {
              "outlinewidth": 0,
              "ticks": ""
             }
            },
            "type": "scattergl"
           }
          ],
          "scattermapbox": [
           {
            "marker": {
             "colorbar": {
              "outlinewidth": 0,
              "ticks": ""
             }
            },
            "type": "scattermapbox"
           }
          ],
          "scatterpolar": [
           {
            "marker": {
             "colorbar": {
              "outlinewidth": 0,
              "ticks": ""
             }
            },
            "type": "scatterpolar"
           }
          ],
          "scatterpolargl": [
           {
            "marker": {
             "colorbar": {
              "outlinewidth": 0,
              "ticks": ""
             }
            },
            "type": "scatterpolargl"
           }
          ],
          "scatterternary": [
           {
            "marker": {
             "colorbar": {
              "outlinewidth": 0,
              "ticks": ""
             }
            },
            "type": "scatterternary"
           }
          ],
          "surface": [
           {
            "colorbar": {
             "outlinewidth": 0,
             "ticks": ""
            },
            "colorscale": [
             [
              0,
              "#0d0887"
             ],
             [
              0.1111111111111111,
              "#46039f"
             ],
             [
              0.2222222222222222,
              "#7201a8"
             ],
             [
              0.3333333333333333,
              "#9c179e"
             ],
             [
              0.4444444444444444,
              "#bd3786"
             ],
             [
              0.5555555555555556,
              "#d8576b"
             ],
             [
              0.6666666666666666,
              "#ed7953"
             ],
             [
              0.7777777777777778,
              "#fb9f3a"
             ],
             [
              0.8888888888888888,
              "#fdca26"
             ],
             [
              1,
              "#f0f921"
             ]
            ],
            "type": "surface"
           }
          ],
          "table": [
           {
            "cells": {
             "fill": {
              "color": "#EBF0F8"
             },
             "line": {
              "color": "white"
             }
            },
            "header": {
             "fill": {
              "color": "#C8D4E3"
             },
             "line": {
              "color": "white"
             }
            },
            "type": "table"
           }
          ]
         },
         "layout": {
          "annotationdefaults": {
           "arrowcolor": "#2a3f5f",
           "arrowhead": 0,
           "arrowwidth": 1
          },
          "autotypenumbers": "strict",
          "coloraxis": {
           "colorbar": {
            "outlinewidth": 0,
            "ticks": ""
           }
          },
          "colorscale": {
           "diverging": [
            [
             0,
             "#8e0152"
            ],
            [
             0.1,
             "#c51b7d"
            ],
            [
             0.2,
             "#de77ae"
            ],
            [
             0.3,
             "#f1b6da"
            ],
            [
             0.4,
             "#fde0ef"
            ],
            [
             0.5,
             "#f7f7f7"
            ],
            [
             0.6,
             "#e6f5d0"
            ],
            [
             0.7,
             "#b8e186"
            ],
            [
             0.8,
             "#7fbc41"
            ],
            [
             0.9,
             "#4d9221"
            ],
            [
             1,
             "#276419"
            ]
           ],
           "sequential": [
            [
             0,
             "#0d0887"
            ],
            [
             0.1111111111111111,
             "#46039f"
            ],
            [
             0.2222222222222222,
             "#7201a8"
            ],
            [
             0.3333333333333333,
             "#9c179e"
            ],
            [
             0.4444444444444444,
             "#bd3786"
            ],
            [
             0.5555555555555556,
             "#d8576b"
            ],
            [
             0.6666666666666666,
             "#ed7953"
            ],
            [
             0.7777777777777778,
             "#fb9f3a"
            ],
            [
             0.8888888888888888,
             "#fdca26"
            ],
            [
             1,
             "#f0f921"
            ]
           ],
           "sequentialminus": [
            [
             0,
             "#0d0887"
            ],
            [
             0.1111111111111111,
             "#46039f"
            ],
            [
             0.2222222222222222,
             "#7201a8"
            ],
            [
             0.3333333333333333,
             "#9c179e"
            ],
            [
             0.4444444444444444,
             "#bd3786"
            ],
            [
             0.5555555555555556,
             "#d8576b"
            ],
            [
             0.6666666666666666,
             "#ed7953"
            ],
            [
             0.7777777777777778,
             "#fb9f3a"
            ],
            [
             0.8888888888888888,
             "#fdca26"
            ],
            [
             1,
             "#f0f921"
            ]
           ]
          },
          "colorway": [
           "#636efa",
           "#EF553B",
           "#00cc96",
           "#ab63fa",
           "#FFA15A",
           "#19d3f3",
           "#FF6692",
           "#B6E880",
           "#FF97FF",
           "#FECB52"
          ],
          "font": {
           "color": "#2a3f5f"
          },
          "geo": {
           "bgcolor": "white",
           "lakecolor": "white",
           "landcolor": "#E5ECF6",
           "showlakes": true,
           "showland": true,
           "subunitcolor": "white"
          },
          "hoverlabel": {
           "align": "left"
          },
          "hovermode": "closest",
          "mapbox": {
           "style": "light"
          },
          "paper_bgcolor": "white",
          "plot_bgcolor": "#E5ECF6",
          "polar": {
           "angularaxis": {
            "gridcolor": "white",
            "linecolor": "white",
            "ticks": ""
           },
           "bgcolor": "#E5ECF6",
           "radialaxis": {
            "gridcolor": "white",
            "linecolor": "white",
            "ticks": ""
           }
          },
          "scene": {
           "xaxis": {
            "backgroundcolor": "#E5ECF6",
            "gridcolor": "white",
            "gridwidth": 2,
            "linecolor": "white",
            "showbackground": true,
            "ticks": "",
            "zerolinecolor": "white"
           },
           "yaxis": {
            "backgroundcolor": "#E5ECF6",
            "gridcolor": "white",
            "gridwidth": 2,
            "linecolor": "white",
            "showbackground": true,
            "ticks": "",
            "zerolinecolor": "white"
           },
           "zaxis": {
            "backgroundcolor": "#E5ECF6",
            "gridcolor": "white",
            "gridwidth": 2,
            "linecolor": "white",
            "showbackground": true,
            "ticks": "",
            "zerolinecolor": "white"
           }
          },
          "shapedefaults": {
           "line": {
            "color": "#2a3f5f"
           }
          },
          "ternary": {
           "aaxis": {
            "gridcolor": "white",
            "linecolor": "white",
            "ticks": ""
           },
           "baxis": {
            "gridcolor": "white",
            "linecolor": "white",
            "ticks": ""
           },
           "bgcolor": "#E5ECF6",
           "caxis": {
            "gridcolor": "white",
            "linecolor": "white",
            "ticks": ""
           }
          },
          "title": {
           "x": 0.05
          },
          "xaxis": {
           "automargin": true,
           "gridcolor": "white",
           "linecolor": "white",
           "ticks": "",
           "title": {
            "standoff": 15
           },
           "zerolinecolor": "white",
           "zerolinewidth": 2
          },
          "yaxis": {
           "automargin": true,
           "gridcolor": "white",
           "linecolor": "white",
           "ticks": "",
           "title": {
            "standoff": 15
           },
           "zerolinecolor": "white",
           "zerolinewidth": 2
          }
         }
        },
        "width": 800
       }
      },
      "text/html": [
       "<div>                            <div id=\"8a2ee0e3-9882-4cfd-9aa9-746e285dc942\" class=\"plotly-graph-div\" style=\"height:600px; width:800px;\"></div>            <script type=\"text/javascript\">                require([\"plotly\"], function(Plotly) {                    window.PLOTLYENV=window.PLOTLYENV || {};                                    if (document.getElementById(\"8a2ee0e3-9882-4cfd-9aa9-746e285dc942\")) {                    Plotly.newPlot(                        \"8a2ee0e3-9882-4cfd-9aa9-746e285dc942\",                        [{\"hovertemplate\":\"%{label}: %{text}\\u003cextra\\u003e\\u003c\\u002fextra\\u003e\",\"labels\":[\"E.H.R\",\"Clinical Images\",\"Biomedicine\",\"Biosignals\"],\"marker\":{\"colors\":[\"rgb(103,122,165)\",\"rgb(141,160,203)\",\"rgb(255,179,150)\",\"rgb(252,141,98)\"]},\"text\":[\"63%\",\"16%\",\"12%\",\"8%\"],\"textfont\":{\"size\":38},\"textposition\":\"inside\",\"values\":[1655,428,322,205],\"type\":\"pie\",\"textinfo\":\"text\"}],                        {\"template\":{\"data\":{\"histogram2dcontour\":[{\"type\":\"histogram2dcontour\",\"colorbar\":{\"outlinewidth\":0,\"ticks\":\"\"},\"colorscale\":[[0.0,\"#0d0887\"],[0.1111111111111111,\"#46039f\"],[0.2222222222222222,\"#7201a8\"],[0.3333333333333333,\"#9c179e\"],[0.4444444444444444,\"#bd3786\"],[0.5555555555555556,\"#d8576b\"],[0.6666666666666666,\"#ed7953\"],[0.7777777777777778,\"#fb9f3a\"],[0.8888888888888888,\"#fdca26\"],[1.0,\"#f0f921\"]]}],\"choropleth\":[{\"type\":\"choropleth\",\"colorbar\":{\"outlinewidth\":0,\"ticks\":\"\"}}],\"histogram2d\":[{\"type\":\"histogram2d\",\"colorbar\":{\"outlinewidth\":0,\"ticks\":\"\"},\"colorscale\":[[0.0,\"#0d0887\"],[0.1111111111111111,\"#46039f\"],[0.2222222222222222,\"#7201a8\"],[0.3333333333333333,\"#9c179e\"],[0.4444444444444444,\"#bd3786\"],[0.5555555555555556,\"#d8576b\"],[0.6666666666666666,\"#ed7953\"],[0.7777777777777778,\"#fb9f3a\"],[0.8888888888888888,\"#fdca26\"],[1.0,\"#f0f921\"]]}],\"heatmap\":[{\"type\":\"heatmap\",\"colorbar\":{\"outlinewidth\":0,\"ticks\":\"\"},\"colorscale\":[[0.0,\"#0d0887\"],[0.1111111111111111,\"#46039f\"],[0.2222222222222222,\"#7201a8\"],[0.3333333333333333,\"#9c179e\"],[0.4444444444444444,\"#bd3786\"],[0.5555555555555556,\"#d8576b\"],[0.6666666666666666,\"#ed7953\"],[0.7777777777777778,\"#fb9f3a\"],[0.8888888888888888,\"#fdca26\"],[1.0,\"#f0f921\"]]}],\"heatmapgl\":[{\"type\":\"heatmapgl\",\"colorbar\":{\"outlinewidth\":0,\"ticks\":\"\"},\"colorscale\":[[0.0,\"#0d0887\"],[0.1111111111111111,\"#46039f\"],[0.2222222222222222,\"#7201a8\"],[0.3333333333333333,\"#9c179e\"],[0.4444444444444444,\"#bd3786\"],[0.5555555555555556,\"#d8576b\"],[0.6666666666666666,\"#ed7953\"],[0.7777777777777778,\"#fb9f3a\"],[0.8888888888888888,\"#fdca26\"],[1.0,\"#f0f921\"]]}],\"contourcarpet\":[{\"type\":\"contourcarpet\",\"colorbar\":{\"outlinewidth\":0,\"ticks\":\"\"}}],\"contour\":[{\"type\":\"contour\",\"colorbar\":{\"outlinewidth\":0,\"ticks\":\"\"},\"colorscale\":[[0.0,\"#0d0887\"],[0.1111111111111111,\"#46039f\"],[0.2222222222222222,\"#7201a8\"],[0.3333333333333333,\"#9c179e\"],[0.4444444444444444,\"#bd3786\"],[0.5555555555555556,\"#d8576b\"],[0.6666666666666666,\"#ed7953\"],[0.7777777777777778,\"#fb9f3a\"],[0.8888888888888888,\"#fdca26\"],[1.0,\"#f0f921\"]]}],\"surface\":[{\"type\":\"surface\",\"colorbar\":{\"outlinewidth\":0,\"ticks\":\"\"},\"colorscale\":[[0.0,\"#0d0887\"],[0.1111111111111111,\"#46039f\"],[0.2222222222222222,\"#7201a8\"],[0.3333333333333333,\"#9c179e\"],[0.4444444444444444,\"#bd3786\"],[0.5555555555555556,\"#d8576b\"],[0.6666666666666666,\"#ed7953\"],[0.7777777777777778,\"#fb9f3a\"],[0.8888888888888888,\"#fdca26\"],[1.0,\"#f0f921\"]]}],\"mesh3d\":[{\"type\":\"mesh3d\",\"colorbar\":{\"outlinewidth\":0,\"ticks\":\"\"}}],\"scatter\":[{\"fillpattern\":{\"fillmode\":\"overlay\",\"size\":10,\"solidity\":0.2},\"type\":\"scatter\"}],\"parcoords\":[{\"type\":\"parcoords\",\"line\":{\"colorbar\":{\"outlinewidth\":0,\"ticks\":\"\"}}}],\"scatterpolargl\":[{\"type\":\"scatterpolargl\",\"marker\":{\"colorbar\":{\"outlinewidth\":0,\"ticks\":\"\"}}}],\"bar\":[{\"error_x\":{\"color\":\"#2a3f5f\"},\"error_y\":{\"color\":\"#2a3f5f\"},\"marker\":{\"line\":{\"color\":\"#E5ECF6\",\"width\":0.5},\"pattern\":{\"fillmode\":\"overlay\",\"size\":10,\"solidity\":0.2}},\"type\":\"bar\"}],\"scattergeo\":[{\"type\":\"scattergeo\",\"marker\":{\"colorbar\":{\"outlinewidth\":0,\"ticks\":\"\"}}}],\"scatterpolar\":[{\"type\":\"scatterpolar\",\"marker\":{\"colorbar\":{\"outlinewidth\":0,\"ticks\":\"\"}}}],\"histogram\":[{\"marker\":{\"pattern\":{\"fillmode\":\"overlay\",\"size\":10,\"solidity\":0.2}},\"type\":\"histogram\"}],\"scattergl\":[{\"type\":\"scattergl\",\"marker\":{\"colorbar\":{\"outlinewidth\":0,\"ticks\":\"\"}}}],\"scatter3d\":[{\"type\":\"scatter3d\",\"line\":{\"colorbar\":{\"outlinewidth\":0,\"ticks\":\"\"}},\"marker\":{\"colorbar\":{\"outlinewidth\":0,\"ticks\":\"\"}}}],\"scattermapbox\":[{\"type\":\"scattermapbox\",\"marker\":{\"colorbar\":{\"outlinewidth\":0,\"ticks\":\"\"}}}],\"scatterternary\":[{\"type\":\"scatterternary\",\"marker\":{\"colorbar\":{\"outlinewidth\":0,\"ticks\":\"\"}}}],\"scattercarpet\":[{\"type\":\"scattercarpet\",\"marker\":{\"colorbar\":{\"outlinewidth\":0,\"ticks\":\"\"}}}],\"carpet\":[{\"aaxis\":{\"endlinecolor\":\"#2a3f5f\",\"gridcolor\":\"white\",\"linecolor\":\"white\",\"minorgridcolor\":\"white\",\"startlinecolor\":\"#2a3f5f\"},\"baxis\":{\"endlinecolor\":\"#2a3f5f\",\"gridcolor\":\"white\",\"linecolor\":\"white\",\"minorgridcolor\":\"white\",\"startlinecolor\":\"#2a3f5f\"},\"type\":\"carpet\"}],\"table\":[{\"cells\":{\"fill\":{\"color\":\"#EBF0F8\"},\"line\":{\"color\":\"white\"}},\"header\":{\"fill\":{\"color\":\"#C8D4E3\"},\"line\":{\"color\":\"white\"}},\"type\":\"table\"}],\"barpolar\":[{\"marker\":{\"line\":{\"color\":\"#E5ECF6\",\"width\":0.5},\"pattern\":{\"fillmode\":\"overlay\",\"size\":10,\"solidity\":0.2}},\"type\":\"barpolar\"}],\"pie\":[{\"automargin\":true,\"type\":\"pie\"}]},\"layout\":{\"autotypenumbers\":\"strict\",\"colorway\":[\"#636efa\",\"#EF553B\",\"#00cc96\",\"#ab63fa\",\"#FFA15A\",\"#19d3f3\",\"#FF6692\",\"#B6E880\",\"#FF97FF\",\"#FECB52\"],\"font\":{\"color\":\"#2a3f5f\"},\"hovermode\":\"closest\",\"hoverlabel\":{\"align\":\"left\"},\"paper_bgcolor\":\"white\",\"plot_bgcolor\":\"#E5ECF6\",\"polar\":{\"bgcolor\":\"#E5ECF6\",\"angularaxis\":{\"gridcolor\":\"white\",\"linecolor\":\"white\",\"ticks\":\"\"},\"radialaxis\":{\"gridcolor\":\"white\",\"linecolor\":\"white\",\"ticks\":\"\"}},\"ternary\":{\"bgcolor\":\"#E5ECF6\",\"aaxis\":{\"gridcolor\":\"white\",\"linecolor\":\"white\",\"ticks\":\"\"},\"baxis\":{\"gridcolor\":\"white\",\"linecolor\":\"white\",\"ticks\":\"\"},\"caxis\":{\"gridcolor\":\"white\",\"linecolor\":\"white\",\"ticks\":\"\"}},\"coloraxis\":{\"colorbar\":{\"outlinewidth\":0,\"ticks\":\"\"}},\"colorscale\":{\"sequential\":[[0.0,\"#0d0887\"],[0.1111111111111111,\"#46039f\"],[0.2222222222222222,\"#7201a8\"],[0.3333333333333333,\"#9c179e\"],[0.4444444444444444,\"#bd3786\"],[0.5555555555555556,\"#d8576b\"],[0.6666666666666666,\"#ed7953\"],[0.7777777777777778,\"#fb9f3a\"],[0.8888888888888888,\"#fdca26\"],[1.0,\"#f0f921\"]],\"sequentialminus\":[[0.0,\"#0d0887\"],[0.1111111111111111,\"#46039f\"],[0.2222222222222222,\"#7201a8\"],[0.3333333333333333,\"#9c179e\"],[0.4444444444444444,\"#bd3786\"],[0.5555555555555556,\"#d8576b\"],[0.6666666666666666,\"#ed7953\"],[0.7777777777777778,\"#fb9f3a\"],[0.8888888888888888,\"#fdca26\"],[1.0,\"#f0f921\"]],\"diverging\":[[0,\"#8e0152\"],[0.1,\"#c51b7d\"],[0.2,\"#de77ae\"],[0.3,\"#f1b6da\"],[0.4,\"#fde0ef\"],[0.5,\"#f7f7f7\"],[0.6,\"#e6f5d0\"],[0.7,\"#b8e186\"],[0.8,\"#7fbc41\"],[0.9,\"#4d9221\"],[1,\"#276419\"]]},\"xaxis\":{\"gridcolor\":\"white\",\"linecolor\":\"white\",\"ticks\":\"\",\"title\":{\"standoff\":15},\"zerolinecolor\":\"white\",\"automargin\":true,\"zerolinewidth\":2},\"yaxis\":{\"gridcolor\":\"white\",\"linecolor\":\"white\",\"ticks\":\"\",\"title\":{\"standoff\":15},\"zerolinecolor\":\"white\",\"automargin\":true,\"zerolinewidth\":2},\"scene\":{\"xaxis\":{\"backgroundcolor\":\"#E5ECF6\",\"gridcolor\":\"white\",\"linecolor\":\"white\",\"showbackground\":true,\"ticks\":\"\",\"zerolinecolor\":\"white\",\"gridwidth\":2},\"yaxis\":{\"backgroundcolor\":\"#E5ECF6\",\"gridcolor\":\"white\",\"linecolor\":\"white\",\"showbackground\":true,\"ticks\":\"\",\"zerolinecolor\":\"white\",\"gridwidth\":2},\"zaxis\":{\"backgroundcolor\":\"#E5ECF6\",\"gridcolor\":\"white\",\"linecolor\":\"white\",\"showbackground\":true,\"ticks\":\"\",\"zerolinecolor\":\"white\",\"gridwidth\":2}},\"shapedefaults\":{\"line\":{\"color\":\"#2a3f5f\"}},\"annotationdefaults\":{\"arrowcolor\":\"#2a3f5f\",\"arrowhead\":0,\"arrowwidth\":1},\"geo\":{\"bgcolor\":\"white\",\"landcolor\":\"#E5ECF6\",\"subunitcolor\":\"white\",\"showland\":true,\"showlakes\":true,\"lakecolor\":\"white\"},\"title\":{\"x\":0.05},\"mapbox\":{\"style\":\"light\"}}},\"legend\":{\"font\":{\"size\":32},\"orientation\":\"h\",\"yanchor\":\"bottom\",\"y\":1.02,\"xanchor\":\"center\",\"x\":0.5},\"margin\":{\"t\":80,\"b\":20,\"l\":20,\"r\":20},\"width\":800,\"height\":600},                        {\"responsive\": true}                    ).then(function(){\n",
       "                            \n",
       "var gd = document.getElementById('8a2ee0e3-9882-4cfd-9aa9-746e285dc942');\n",
       "var x = new MutationObserver(function (mutations, observer) {{\n",
       "        var display = window.getComputedStyle(gd).display;\n",
       "        if (!display || display === 'none') {{\n",
       "            console.log([gd, 'removed!']);\n",
       "            Plotly.purge(gd);\n",
       "            observer.disconnect();\n",
       "        }}\n",
       "}});\n",
       "\n",
       "// Listen for the removal of the full notebook cells\n",
       "var notebookContainer = gd.closest('#notebook-container');\n",
       "if (notebookContainer) {{\n",
       "    x.observe(notebookContainer, {childList: true});\n",
       "}}\n",
       "\n",
       "// Listen for the clearing of the current output cell\n",
       "var outputEl = gd.closest('.output');\n",
       "if (outputEl) {{\n",
       "    x.observe(outputEl, {childList: true});\n",
       "}}\n",
       "\n",
       "                        })                };                });            </script>        </div>"
      ]
     },
     "metadata": {},
     "output_type": "display_data"
    },
    {
     "name": "stdout",
     "output_type": "stream",
     "text": [
      "Pie chart saved as 'figures/general/topic_distribution_piechart.png'\n",
      "E.H.R: 63%\n",
      "Clinical Images: 16%\n",
      "Biomedicine: 12%\n",
      "Biosignals: 8%\n"
     ]
    }
   ],
   "source": [
    "import plotly.graph_objects as go\n",
    "from collections import Counter\n",
    "import plotly.express as px\n",
    "\n",
    "def plot_topic_distribution(df, width=800, height=600, text_size=14, legend_font_size=12, save_path=None, save_scale=3):\n",
    "    # Calculate topic distribution\n",
    "    topic_counts = Counter(df['topic'])\n",
    "    total = len(df)\n",
    "    \n",
    "    # Sort topics by count (descending order)\n",
    "    sorted_topics = sorted(topic_counts.items(), key=lambda x: x[1], reverse=True)\n",
    "    \n",
    "    # Separate labels and values\n",
    "    labels = [topic for topic, _ in sorted_topics]\n",
    "    values = [count for _, count in sorted_topics]\n",
    "    \n",
    "    # Calculate percentages\n",
    "    percentages = [count / total * 100 for count in values]\n",
    "    \n",
    "    # Create custom text for labels\n",
    "    custom_text = [f'{p:.0f}%' for p in percentages]\n",
    "    \n",
    "    # Get Set2 color palette\n",
    "    # set2_colors = px.colors.sequential.RdBu[5:]\n",
    "    # set2_colors = ['#0d7d87', '#c31e23', '#99c6cc', '#ff5a5e']\n",
    "    # set2_colors = px.colors.qualitative.Set2[:len(labels)]\n",
    "    set2_colors = [\"#2066a8\", \"#3594cc\", \"#8cc5e3\"]\n",
    "    set2_colors = px.colors.sequential.Blues[3:7]\n",
    "    set2_colors = px.colors.sequential.Teal_r[3:7]\n",
    "    color_palette = [\n",
    "    'rgb(252,141,98)',   # Orange\n",
    "    'rgb(255,179,150)',  # Lighter Orange (new color)\n",
    "    'rgb(141,160,203)',  # Grayish-blue\n",
    "    'rgb(103,122,165)',  # Darker Grayish-Blue\n",
    "        # 'rgb(28,144,153)'    # Deeper Teal (accent color)\n",
    "    ]\n",
    "        \n",
    "    color_palette = color_palette[::-1]\n",
    "    set2_colors = color_palette\n",
    "    # Create the pie chart with Set2 colors\n",
    "    fig = go.Figure(data=[go.Pie(\n",
    "        labels=labels,\n",
    "        values=values,\n",
    "        text=custom_text,\n",
    "        textposition='inside',\n",
    "        textfont_size=text_size,\n",
    "        hovertemplate=\"%{label}: %{text}<extra></extra>\",\n",
    "        marker=dict(colors=set2_colors[:len(labels)])  # Use Set2 colors\n",
    "    )])\n",
    "    \n",
    "    fig.update_traces(textinfo='text')\n",
    "    fig.update_layout(\n",
    "        width=width,\n",
    "        height=height,\n",
    "        legend=dict(\n",
    "            orientation=\"h\",\n",
    "            yanchor=\"bottom\",\n",
    "            y=1.02,\n",
    "            xanchor=\"center\",\n",
    "            x=0.5,\n",
    "            font=dict(size=legend_font_size)\n",
    "        ),\n",
    "        margin=dict(t=80, b=20, l=20, r=20)\n",
    "    )\n",
    "    \n",
    "    fig.show()\n",
    "    \n",
    "    if save_path:\n",
    "        fig.write_image(save_path, scale=save_scale)\n",
    "        print(f\"Pie chart saved as '{save_path}'\")\n",
    "    \n",
    "    # Print the percentages\n",
    "    for topic, percentage in zip(labels, percentages):\n",
    "        print(f\"{topic}: {percentage:.0f}%\")\n",
    "\n",
    "# Usage:\n",
    "plot_topic_distribution(main_df, text_size=38, legend_font_size=32, save_path=\"figures/general/topic_distribution_piechart.png\")"
   ]
  }
 ],
 "metadata": {
  "language_info": {
   "name": "python"
  }
 },
 "nbformat": 4,
 "nbformat_minor": 2
}
